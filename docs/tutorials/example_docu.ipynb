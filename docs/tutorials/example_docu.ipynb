{
 "cells": [
  {
   "cell_type": "markdown",
   "metadata": {},
   "source": [
    "## RA2CE Feature: adaptation measures"
   ]
  },
  {
   "cell_type": "markdown",
   "metadata": {},
   "source": []
  },
  {
   "cell_type": "markdown",
   "metadata": {},
   "source": [
    "# Single Link Redundancy Tutorial\n",
    "\n",
    "🚗 **What happens if one road is blocked?**\n",
    "\n",
    "In this tutorial, you will learn how to run a **single link redundancy analysis**\n",
    "with RA2CE. This type of analysis checks what happens if *one road segment*\n",
    "(also called a *link*) becomes unavailable:\n",
    "\n",
    "- Is there another way to get around?\n",
    "- How much longer is the detour compared to the original route?\n",
    "- Which roads have **no backup options at all**?\n",
    "\n",
    "> **Note:** This example does **not** require hazard maps, but you do need a prepared network.  \n",
    "> If you are new to networks in RA2CE, first go through the [network tutorial](network.ipynb).\n",
    "\n",
    "![Basic principle of the single link redundancy analysis](/_resources/criticality_schema.png)\n"
   ]
  },
  {
   "cell_type": "code",
   "execution_count": null,
   "metadata": {},
   "outputs": [],
   "source": [
    "from pathlib import Path\n",
    "import geopandas as gpd\n",
    "\n",
    "from ra2ce.analysis.analysis_config_data.analysis_config_data import AnalysisSectionLosses, AnalysisConfigData\n",
    "from ra2ce.analysis.analysis_config_data.enums.analysis_losses_enum import AnalysisLossesEnum\n",
    "from ra2ce.analysis.analysis_config_data.enums.weighing_enum import WeighingEnum\n",
    "from ra2ce.network.network_config_data.network_config_data import NetworkSection, NetworkConfigData\n",
    "from ra2ce.network.network_config_data.enums.source_enum import SourceEnum\n",
    "from ra2ce.ra2ce_handler import Ra2ceHandler\n",
    "\n",
    "root_dir = Path(r'')\n",
    "network_path = root_dir / \"network\"\n"
   ]
  },
  {
   "cell_type": "markdown",
   "metadata": {},
   "source": [
    "We define the {class}`ra2ce.analysis.analysis_config_data.analysis_config_data.AnalysisSectionLosses`."
   ]
  },
  {
   "cell_type": "markdown",
   "metadata": {},
   "source": []
  },
  {
   "cell_type": "markdown",
   "metadata": {},
   "source": [
    "test 2: We define the [AnalysisSectionLosses](../api/ra2ce.analysis.analysis_config_data.html#ra2ce.analysis.analysis_config_data.analysis_config_data.AnalysisSectionLosses) class from the RA2CE API."
   ]
  },
  {
   "cell_type": "markdown",
   "metadata": {},
   "source": [
    "Test 3: We define the [AnalysisSectionLosses](../api/ra2ce.analysis.analysis_config_data.html#ra2ce.analysis.analysis_config_data.analysis_config_data.AnalysisSectionLosses){.api-ref} class.\n"
   ]
  },
  {
   "cell_type": "markdown",
   "metadata": {},
   "source": [
    "test 4: We define <span class=\"xref py py-class docutils literal notranslate\"><a href=\"../api/ra2ce.analysis.analysis_config_data.html#ra2ce.analysis.analysis_config_data.analysis_config_data.AnalysisSectionLosses\">AnalysisSectionLosses</a></span>.\n",
    "\n",
    "\n",
    "test 5: We define We define the <a class=\"api-ref\" href=\"../api/ra2ce.analysis.analysis_config_data.html#ra2ce.analysis.analysis_config_data.analysis_config_data.AnalysisSectionLosses\">AnalysisSectionLosses</a> class.\n"
   ]
  }
 ],
 "metadata": {
  "kernelspec": {
   "display_name": "ra2ce_env",
   "language": "python",
   "name": "python3"
  },
  "language_info": {
   "codemirror_mode": {
    "name": "ipython",
    "version": 3
   },
   "file_extension": ".py",
   "mimetype": "text/x-python",
   "name": "python",
   "nbconvert_exporter": "python",
   "pygments_lexer": "ipython3",
   "version": "3.11.13"
  }
 },
 "nbformat": 4,
 "nbformat_minor": 2
}
