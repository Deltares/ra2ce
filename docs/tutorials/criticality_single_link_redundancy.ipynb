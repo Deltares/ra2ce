{
 "cells": [
  {
   "cell_type": "markdown",
   "id": "0875d8ca",
   "metadata": {},
   "source": [
    "# Single Link Redundancy Tutorial"
   ]
  },
  {
   "cell_type": "markdown",
   "id": "74529aa4",
   "metadata": {},
   "source": [
    "## 🚗 What happens if one road is blocked?\n",
    "\n",
    "In this tutorial, you will learn how to run a **single link redundancy analysis** with RA2CE. This type of analysis checks what happens if *one road segment* (also called a *link*) becomes unavailable:\n",
    "\n",
    "- Is there another way to get around?\n",
    "- How much longer is the detour compared to the original route?\n",
    "- Which roads have **no backup options at all**?\n",
    "\n",
    "> **Note**: This example does **not** require hazard maps, but you do need a prepared network. If you are new to networks in RA2CE, first go through the `network` tutorial.\n",
    "\n",
    "![Basic principle of the single link redundancy analysis](/_resources/criticality_schema.png)\n",
    "\n",
    "The redundancy of each link is expressed in the total distance (weighing) for the alternative route (weighing = distance). Below is a complete Python example demonstrating how to run a single link redundancy analysis with RA2CE."
   ]
  },
  {
   "cell_type": "markdown",
   "id": "c5ac3816",
   "metadata": {},
   "source": [
    "## Step 1: Import Libraries and Set Paths\n",
    "\n",
    "We start by importing the required libraries and defining the root directory and network path."
   ]
  },
  {
   "cell_type": "code",
   "execution_count": null,
   "id": "180a1ba9",
   "metadata": {},
   "outputs": [],
   "source": [
    "from pathlib import Path\n",
    "import geopandas as gpd\n",
    "\n",
    "from ra2ce.analysis.analysis_config_data.analysis_config_data import AnalysisSectionLosses, AnalysisConfigData\n",
    "from ra2ce.analysis.analysis_config_data.enums.analysis_losses_enum import AnalysisLossesEnum\n",
    "from ra2ce.analysis.analysis_config_data.enums.weighing_enum import WeighingEnum\n",
    "from ra2ce.network.network_config_data.network_config_data import NetworkSection, NetworkConfigData\n",
    "from ra2ce.network.network_config_data.enums.source_enum import SourceEnum\n",
    "from ra2ce.ra2ce_handler import Ra2ceHandler\n",
    "\n",
    "root_dir = Path(r'')\n",
    "network_path = root_dir / \"network\"\n"
   ]
  },
  {
   "cell_type": "markdown",
   "id": "71052422",
   "metadata": {},
   "source": [
    "## Step 2: Define Network and Analysis Configuration"
   ]
  },
  {
   "cell_type": "code",
   "execution_count": null,
   "id": "6c1c6143",
   "metadata": {},
   "outputs": [],
   "source": [
    "# Define the network section\n",
    "network_section = NetworkSection(\n",
    "    source=SourceEnum.SHAPEFILE,\n",
    "    primary_file=[network_path.joinpath(\"base_shapefile.shp\")],\n",
    "    file_id=\"ID\",\n",
    "    save_gpkg=True\n",
    ")\n",
    "\n",
    "# Build the full configuration\n",
    "network_config_data = NetworkConfigData(\n",
    "    root_path=root_dir,\n",
    "    static_path=root_dir.joinpath('static'),\n",
    "    output_path=root_dir.joinpath('static/output_graph'),\n",
    "    network=network_section,\n",
    ")"
   ]
  },
  {
   "cell_type": "markdown",
   "id": "ede5df12",
   "metadata": {},
   "source": [
    "Next, we define the [AnalysisSectionLosses](../api/ra2ce.analysis.analysis_config_data.html#ra2ce.analysis.analysis_config_data.analysis_config_data.AnalysisSectionLosses){.api-ref} and [AnalysisConfigData](../api/ra2ce.analysis.analysis_config_data.html#ra2ce.analysis.analysis_config_data.analysis_config_data.AnalysisConfigData){.api-ref}  sections of the configuration. We select the analysis type as [AnalysisLossesEnum.SINGLE_LINK_REDUNDANCY](../api/ra2ce.analysis.analysis_config_data.enums.html#module-ra2ce.analysis.analysis_config_data.enums.analysis_losses_enum){.api-ref} and the weighing method as [WeighingEnum.LENGTH](../api/ra2ce.analysis.analysis_config_data.enums.html#module-ra2ce.analysis.analysis_config_data.enums.weighing_enum){.api-ref}. We also specify that we want to save the results in both CSV and GPKG formats.\n",
    "\n",
    "\n",
    "Try: \n",
    "\n",
    "[AnalysisLossesEnum.SINGLE_LINK_REDUNDANCY](../api/ra2ce.analysis.analysis_config_data.enums.html#module-ra2ce.analysis.analysis_config_data.enums.analysis_losses_enum){.api-ref}"
   ]
  },
  {
   "cell_type": "code",
   "execution_count": null,
   "id": "fabde810",
   "metadata": {},
   "outputs": [],
   "source": [
    "analyse_section = AnalysisSectionLosses(\n",
    "    name=\"tutorial_single_link_redundancy\",\n",
    "    analysis=AnalysisLossesEnum.SINGLE_LINK_REDUNDANCY,\n",
    "    weighing=WeighingEnum.LENGTH,\n",
    "    save_csv=True,\n",
    "    save_gpkg=True,\n",
    ")\n",
    "\n",
    "analysis_config_data = AnalysisConfigData(\n",
    "    root_path=root_dir,\n",
    "    output_path=root_dir.joinpath(\"output\"),\n",
    "    static_path=root_dir.joinpath('static'),\n",
    "    analyses=[analyse_section],\n",
    ")"
   ]
  },
  {
   "cell_type": "markdown",
   "id": "06a7b9fa",
   "metadata": {},
   "source": [
    "Running the `Ra2ceHandler.configure` method from the `Ra2ceHandler` will generate both the base network and the overlaid network, and will store these results in the `static/output_graph` folder."
   ]
  },
  {
   "cell_type": "code",
   "execution_count": null,
   "id": "8e7639e5",
   "metadata": {},
   "outputs": [],
   "source": [
    "handler = Ra2ceHandler.from_config(network=network_config_data, analysis=analysis_config_data)\n",
    "handler.configure()\n",
    "handler.run_analysis()"
   ]
  },
  {
   "cell_type": "markdown",
   "id": "0d2ca746",
   "metadata": {},
   "source": [
    "## Step 3: Inspect results\n",
    "\n",
    "The results are stored in the folder `output` within the root directory. The results include a CSV file and a GPKG file containing the redundancy analysis results for each link in the network."
   ]
  },
  {
   "cell_type": "code",
   "execution_count": null,
   "id": "6d27a78a",
   "metadata": {},
   "outputs": [],
   "source": [
    "analysis_output_folder = root_dir.joinpath(\"output\", \"single_link_redundancy\")\n",
    "redundancy_gdf = gpd.read_file(analysis_output_folder/\"tutorial_single_link_redundancy.gpkg\")\n",
    "redundancy_gdf.head()"
   ]
  },
  {
   "cell_type": "markdown",
   "id": "48353558",
   "metadata": {},
   "source": [
    "### Detour Availability\n",
    "\n",
    "RA2CE marks whether each road segment has a detour:\n",
    "\n",
    "- `0` = no detour available (critical!)\n",
    "- `1` = detour available\n",
    "\n",
    "This is stored in the `detour` column."
   ]
  },
  {
   "cell_type": "code",
   "execution_count": null,
   "id": "e9ba7dfe",
   "metadata": {},
   "outputs": [],
   "source": [
    "import matplotlib.pyplot as plt\n",
    "\n",
    "fig, ax = plt.subplots(figsize=(10, 10))\n",
    "redundancy_gdf.plot(column='detour', ax=ax, legend=False, cmap='viridis')\n",
    "plt.title('Single Link Redundancy Analysis Results')\n",
    "plt.xlabel('Longitude')\n",
    "plt.ylabel('Latitude')\n",
    "plt.grid(True)\n",
    "plt.show()"
   ]
  },
  {
   "cell_type": "markdown",
   "id": "c22439c0",
   "metadata": {},
   "source": [
    "![Criticality results: detour attribute](/_resources/figures/criticality_detour.png)"
   ]
  },
  {
   "cell_type": "markdown",
   "id": "7eb2c54f",
   "metadata": {},
   "source": [
    "### Alternative route distance\n",
    "\n",
    "We can now check the lengths of the alternative distance for each link in the network with the attribute `alt_dist`. The alternative distance refers to the length of the detour for when the link itself is not available."
   ]
  },
  {
   "cell_type": "code",
   "execution_count": null,
   "id": "5cec036c",
   "metadata": {},
   "outputs": [],
   "source": [
    "fig, ax = plt.subplots(figsize=(10, 10))\n",
    "redundancy_gdf.plot(column='alt_length', ax=ax, legend=False, cmap='viridis')\n",
    "plt.title('Single Link Redundancy Analysis Results')\n",
    "plt.xlabel('Longitude')\n",
    "plt.ylabel('Latitude')\n",
    "plt.grid(True)\n",
    "plt.show()"
   ]
  },
  {
   "cell_type": "markdown",
   "id": "55bf4ec7",
   "metadata": {},
   "source": [
    "![Criticality results: alternative distance in meters.](/_resources/figures/criticality_alt_length.png)\n",
    "\n",
    "It should be noted that there are cases where the original distance can be longer than the alternative distance. In the example below, from A (818) to B (828) the alternative distance between nodes 818 and 828 (road 1621) is shorter than the length of road nr. 1622. Therefore, the `diff_dist` attribute contains a negative value. The original link is longer than the alternative route! This is purely relevant from a network inspection point of view. In reality, most people will take road 1621 to get from A to B (if that road segment is available).\n",
    "\n",
    "![Negative distance case](/_resources/criticality_neg.png)"
   ]
  }
 ],
 "metadata": {
  "language_info": {
   "name": "python"
  }
 },
 "nbformat": 4,
 "nbformat_minor": 5
}
