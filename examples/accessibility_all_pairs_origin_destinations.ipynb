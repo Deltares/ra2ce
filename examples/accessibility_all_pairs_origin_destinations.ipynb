{
 "cells": [
  {
   "cell_type": "markdown",
   "metadata": {},
   "source": [
    "# Defined Origin–Destination Pairs Tutorial\n",
    "This tutorial demonstrates how to run a **Defined Origin–Destination (OD) analysis** with RA2CE.\n",
    "You explicitly provide origins and destinations, and RA2CE calculates shortest or quickest routes between them.\n",
    "\n",
    "If you are not yet familiar with preparing origins and destinations shapefiles, see the \n",
    "[Origins and Destinations Data Preparation](../tutorials/accessibility.prepare_data_origin_destinations.html) tutorial."
   ]
  },
  {
   "cell_type": "markdown",
   "metadata": {},
   "source": [
    "## Step 1: Import Libraries and Set Paths"
   ]
  },
  {
   "cell_type": "code",
   "execution_count": 1,
   "metadata": {},
   "outputs": [
    {
     "name": "stderr",
     "output_type": "stream",
     "text": [
      "c:\\Users\\hauth\\miniforge3\\envs\\ra2ce_env\\Lib\\site-packages\\tqdm\\auto.py:21: TqdmWarning: IProgress not found. Please update jupyter and ipywidgets. See https://ipywidgets.readthedocs.io/en/stable/user_install.html\n",
      "  from .autonotebook import tqdm as notebook_tqdm\n"
     ]
    }
   ],
   "source": [
    "from pathlib import Path\n",
    "\n",
    "from ra2ce.analysis.analysis_config_data.analysis_config_data import AnalysisSectionLosses, AnalysisConfigData\n",
    "from ra2ce.analysis.analysis_config_data.enums.analysis_losses_enum import AnalysisLossesEnum\n",
    "from ra2ce.analysis.analysis_config_data.enums.weighing_enum import WeighingEnum\n",
    "from ra2ce.network import RoadTypeEnum\n",
    "from ra2ce.network.network_config_data.enums.aggregate_wl_enum import AggregateWlEnum\n",
    "from ra2ce.network.network_config_data.enums.network_type_enum import NetworkTypeEnum\n",
    "from ra2ce.network.network_config_data.enums.source_enum import SourceEnum\n",
    "from ra2ce.network.network_config_data.network_config_data import (\n",
    "    NetworkSection, NetworkConfigData, OriginsDestinationsSection, HazardSection, CleanupSection\n",
    ")\n",
    "from ra2ce.ra2ce_handler import Ra2ceHandler\n",
    "\n",
    "# Specify the path to your RA2CE project folder and input data\n",
    "root_dir = Path(\"data\", \"pairs_origins_destinations\")\n",
    "network_path = root_dir.joinpath('static', 'network')"
   ]
  },
  {
   "cell_type": "markdown",
   "metadata": {},
   "source": [
    "## Step 2: Define Network with Origins & Destinations\n",
    "Define the network configuration, in this case downloaded from OSM and clipped to a region polygon. Only specific road types are included."
   ]
  },
  {
   "cell_type": "code",
   "execution_count": 2,
   "metadata": {},
   "outputs": [],
   "source": [
    "network_section = NetworkSection(\n",
    "    source=SourceEnum.OSM_DOWNLOAD,\n",
    "    polygon=network_path.joinpath(\"region_polygon.geojson\"),\n",
    "    network_type=NetworkTypeEnum.DRIVE,\n",
    "    road_types=[\n",
    "        RoadTypeEnum.MOTORWAY,\n",
    "        RoadTypeEnum.MOTORWAY_LINK,\n",
    "        RoadTypeEnum.PRIMARY,\n",
    "        RoadTypeEnum.PRIMARY_LINK,\n",
    "        RoadTypeEnum.SECONDARY,\n",
    "        RoadTypeEnum.SECONDARY_LINK,\n",
    "        RoadTypeEnum.TERTIARY,\n",
    "        RoadTypeEnum.TERTIARY_LINK,\n",
    "        RoadTypeEnum.RESIDENTIAL,\n",
    "    ],\n",
    "    save_gpkg=True\n",
    ")"
   ]
  },
  {
   "cell_type": "markdown",
   "metadata": {},
   "source": [
    "Define origins and destinations shapefiles using [OriginsDestinationsSection](../api/ra2ce.network.network_config_data.html#ra2ce.network.network_config_data.network_config_data.OriginsDestinationsSection){.api-ref}. Specify the shortcut names and attributes in the shapefiles."
   ]
  },
  {
   "cell_type": "code",
   "execution_count": 4,
   "metadata": {},
   "outputs": [],
   "source": [
    "origin_destination_section = OriginsDestinationsSection(\n",
    "    origins=network_path.joinpath(\"origins.shp\"),\n",
    "    destinations=network_path.joinpath(\"destinations.shp\"),\n",
    "    origins_names=\"A\",\n",
    "    destinations_names=\"B\",\n",
    "    origin_count=\"POPULATION\",\n",
    ")"
   ]
  },
  {
   "cell_type": "code",
   "execution_count": 5,
   "metadata": {},
   "outputs": [],
   "source": [
    "network_config_data = NetworkConfigData(\n",
    "    root_path=root_dir,\n",
    "    static_path=root_dir.joinpath('static'),\n",
    "    network=network_section,\n",
    "    origins_destinations=origin_destination_section,\n",
    ")"
   ]
  },
  {
   "cell_type": "markdown",
   "metadata": {},
   "source": [
    "## Step 3: Define the Analysis\n",
    "Specify the analysis type as [AnalysisLossesEnum.OPTIMAL_ROUTE_ORIGIN_DESTINATION](../api/ra2ce.analysis.analysis_config_data.enums.html#module-ra2ce.analysis.analysis_config_data.enums.analysis_losses_enum){.api-ref}, which calculates optimal routes for the OD pairs."
   ]
  },
  {
   "cell_type": "code",
   "execution_count": 6,
   "metadata": {},
   "outputs": [],
   "source": [
    "analyse_section = AnalysisSectionLosses(\n",
    "    name=\"origin_destination_without_hazard\",\n",
    "    analysis=AnalysisLossesEnum.OPTIMAL_ROUTE_ORIGIN_DESTINATION,\n",
    "    weighing=WeighingEnum.LENGTH,\n",
    "    calculate_route_without_disruption=True,\n",
    "    save_csv=True,\n",
    "    save_gpkg=True,\n",
    ")\n",
    "\n",
    "analysis_config_data = AnalysisConfigData(\n",
    "    output_path=root_dir.joinpath(\"output\"),\n",
    "    static_path=root_dir.joinpath('static'),\n",
    "    analyses=[analyse_section],\n",
    ")"
   ]
  },
  {
   "cell_type": "markdown",
   "metadata": {},
   "source": [
    "## Step 4: Run the Analysis\n",
    "Use [Ra2ceHandler](../api/ra2ce.handler.html#ra2ce.ra2ce_handler.Ra2ceHandler){.api-ref} to configure and run the analysis."
   ]
  },
  {
   "cell_type": "code",
   "execution_count": 7,
   "metadata": {},
   "outputs": [
    {
     "name": "stderr",
     "output_type": "stream",
     "text": [
      "c:\\Users\\hauth\\miniforge3\\envs\\ra2ce_env\\Lib\\site-packages\\osmnx\\simplification.py:513: UserWarning: Geometry is in a geographic CRS. Results from 'buffer' are likely incorrect. Use 'GeoSeries.to_crs()' to re-project geometries to a projected CRS before this operation.\n",
      "\n",
      "  merged = convert.graph_to_gdfs(G, edges=False)[\"geometry\"].buffer(tolerance).unary_union\n",
      "c:\\Users\\hauth\\miniforge3\\envs\\ra2ce_env\\Lib\\site-packages\\osmnx\\simplification.py:560: UserWarning: Geometry is in a geographic CRS. Results from 'centroid' are likely incorrect. Use 'GeoSeries.to_crs()' to re-project geometries to a projected CRS before this operation.\n",
      "\n",
      "  centroids = node_clusters.centroid\n",
      "100%|██████████| 4182/4182 [00:00<00:00, 256955.88it/s]\n",
      "2025-10-01 05:03:11 PM - [avg_speed_calculator.py:175] - root - WARNING - No valid file found with average speeds data\\pairs_origins_destinations\\static\\output_graph\\avg_speed.csv, calculating and saving them instead.\n",
      "2025-10-01 05:03:11 PM - [avg_speed_calculator.py:150] - root - WARNING - Default speed have been assigned to road type [<RoadTypeEnum.SECONDARY_LINK: 8>]. Please check the average speed CSV, enter the right average speed for this road type and run RA2CE again.\n",
      "2025-10-01 05:03:11 PM - [avg_speed_calculator.py:150] - root - WARNING - Default speed have been assigned to road type [<RoadTypeEnum.SECONDARY: 7>]. Please check the average speed CSV, enter the right average speed for this road type and run RA2CE again.\n",
      "c:\\Users\\hauth\\miniforge3\\envs\\ra2ce_env\\Lib\\site-packages\\pyogrio\\raw.py:137: RuntimeWarning: driver ESRI Shapefile does not support open option CRS\n",
      "  result = ogr_read(\n",
      "c:\\Users\\hauth\\miniforge3\\envs\\ra2ce_env\\Lib\\site-packages\\geopandas\\geodataframe.py:1528: SettingWithCopyWarning: \n",
      "A value is trying to be set on a copy of a slice from a DataFrame.\n",
      "Try using .loc[row_indexer,col_indexer] = value instead\n",
      "\n",
      "See the caveats in the documentation: https://pandas.pydata.org/pandas-docs/stable/user_guide/indexing.html#returning-a-view-versus-a-copy\n",
      "  super().__setitem__(key, value)\n",
      "c:\\Users\\hauth\\miniforge3\\envs\\ra2ce_env\\Lib\\site-packages\\geopandas\\geodataframe.py:1528: SettingWithCopyWarning: \n",
      "A value is trying to be set on a copy of a slice from a DataFrame.\n",
      "Try using .loc[row_indexer,col_indexer] = value instead\n",
      "\n",
      "See the caveats in the documentation: https://pandas.pydata.org/pandas-docs/stable/user_guide/indexing.html#returning-a-view-versus-a-copy\n",
      "  super().__setitem__(key, value)\n",
      "c:\\Users\\hauth\\miniforge3\\envs\\ra2ce_env\\Lib\\site-packages\\pyogrio\\raw.py:137: RuntimeWarning: driver ESRI Shapefile does not support open option CRS\n",
      "  result = ogr_read(\n",
      "Adding Origin-Destination nodes to graph: 117it [00:00, 704.84it/s]\n",
      "Finding optimal routes.: 100%|██████████| 770/770 [00:08<00:00, 92.63it/s] \n"
     ]
    },
    {
     "data": {
      "text/plain": [
       "[AnalysisResultWrapper(results_collection=[AnalysisResult(analysis_result=          o_node       d_node origin destination  \\\n",
       " 0    12233733592   5632424987    A_0         B_0   \n",
       " 1    12233733592  12233733648    A_0         B_1   \n",
       " 2    12233733592   1934244652    A_0         B_2   \n",
       " 3    12233733592  12233733649    A_0         B_3   \n",
       " 4    12233733592  12233733650    A_0         B_4   \n",
       " ..           ...          ...    ...         ...   \n",
       " 681  12233733647   1934244652  A_109         B_2   \n",
       " 682  12233733647  12233733649  A_109         B_3   \n",
       " 683  12233733647  12233733650  A_109         B_4   \n",
       " 684  12233733647  12233733651  A_109         B_5   \n",
       " 685  12233733647  12233733651  A_109         B_6   \n",
       " \n",
       "                                               opt_path    length  \\\n",
       " 0    [12233733592, 1833347000, 9743549768, 19347726...  5247.890   \n",
       " 1    [12233733592, 1833347000, 9743549768, 19347726...  5274.890   \n",
       " 2    [12233733592, 1833347000, 9743549768, 19347726...  2541.245   \n",
       " 3    [12233733592, 1833347000, 9743549768, 19347726...  5085.470   \n",
       " 4    [12233733592, 1833347000, 9743549768, 19347726...  5984.805   \n",
       " ..                                                 ...       ...   \n",
       " 681  [12233733647, 567929948, 2612440844, 122337336...  4612.024   \n",
       " 682  [12233733647, 567929948, 2612440844, 122337336...  2803.936   \n",
       " 683  [12233733647, 567929948, 2612440844, 122337336...  1439.067   \n",
       " 684  [12233733647, 567929948, 2612440844, 122337336...  1431.956   \n",
       " 685  [12233733647, 567929948, 2612440844, 122337336...  1431.956   \n",
       " \n",
       "                                              match_ids  \\\n",
       " 0    [638, 636, 3957, 1210, 2879, 2875, 1212, 2882,...   \n",
       " 1    [638, 636, 3957, 1210, 2879, 2875, 1212, 2882,...   \n",
       " 2    [638, 636, 3957, 1210, 2879, 2875, 1212, 2882,...   \n",
       " 3    [638, 636, 3957, 1210, 2879, 2875, 1212, 2882,...   \n",
       " 4    [638, 636, 3957, 1210, 2879, 2875, 1212, 2882,...   \n",
       " ..                                                 ...   \n",
       " 681  [1892, 1909, 2355, 2355, 2353, 42, 141, 142, 3...   \n",
       " 682  [1892, 1909, 2355, 2355, 2353, 42, 141, 142, 3...   \n",
       " 683  [1892, 1909, 2355, 2355, 2353, 2363, 2362, 632...   \n",
       " 684  [1892, 1909, 2355, 2355, 2353, 2363, 2362, 632...   \n",
       " 685  [1892, 1909, 2355, 2355, 2353, 2363, 2362, 632...   \n",
       " \n",
       "                                               geometry  \n",
       " 0    MULTILINESTRING ((34.83705 -19.82667, 34.83719...  \n",
       " 1    MULTILINESTRING ((34.83705 -19.82667, 34.83719...  \n",
       " 2    MULTILINESTRING ((34.83705 -19.82667, 34.83719...  \n",
       " 3    MULTILINESTRING ((34.83705 -19.82667, 34.83719...  \n",
       " 4    MULTILINESTRING ((34.83705 -19.82667, 34.83719...  \n",
       " ..                                                 ...  \n",
       " 681  MULTILINESTRING ((34.88683 -19.85013, 34.88491...  \n",
       " 682  MULTILINESTRING ((34.88683 -19.85013, 34.88491...  \n",
       " 683  MULTILINESTRING ((34.88683 -19.85013, 34.88491...  \n",
       " 684  MULTILINESTRING ((34.88683 -19.85013, 34.88491...  \n",
       " 685  MULTILINESTRING ((34.88683 -19.85013, 34.88491...  \n",
       " \n",
       " [686 rows x 8 columns], analysis_config=AnalysisSectionLosses(name='origin_destination_without_hazard', save_gpkg=True, save_csv=True, analysis=<AnalysisLossesEnum.OPTIMAL_ROUTE_ORIGIN_DESTINATION: 3>, weighing=<WeighingEnum.LENGTH: 1>, production_loss_per_capita_per_hour=nan, traffic_period=<TrafficPeriodEnum.DAY: 1>, hours_per_traffic_period=0, trip_purposes=[<TripPurposeEnum.NONE: 0>], resilience_curves_file=None, traffic_intensities_file=None, values_of_time_file=None, threshold=0.0, threshold_destinations=nan, equity_weight='', calculate_route_without_disruption=True, buffer_meters=nan, category_field_name='', save_traffic=False, event_type=<EventTypeEnum.NONE: 0>, risk_calculation_mode=<RiskCalculationModeEnum.NONE: 0>, risk_calculation_year=0), output_path=WindowsPath('data/pairs_origins_destinations/output'), _custom_name='')])]"
      ]
     },
     "execution_count": 7,
     "metadata": {},
     "output_type": "execute_result"
    }
   ],
   "source": [
    "handler = Ra2ceHandler.from_config(\n",
    "    network=network_config_data,\n",
    "    analysis=analysis_config_data\n",
    ")\n",
    "handler.configure()\n",
    "handler.run_analysis()"
   ]
  },
  {
   "cell_type": "markdown",
   "metadata": {},
   "source": [
    "## Step 5: Inspect Results\n",
    "Results are stored in the `output` folder and include both CSV and GeoPackage (GPKG) files. You can open the GPKG in GIS software or load it in Python using GeoPandas."
   ]
  },
  {
   "cell_type": "code",
   "execution_count": null,
   "metadata": {},
   "outputs": [],
   "source": [
    "import geopandas as gpd\n",
    "\n",
    "results_gpkg = root_dir.joinpath(\n",
    "    \"output\", \n",
    "    \"optimal_route_origin_destination\",  \n",
    "    \"origin_destination_without_hazard.gpkg\"\n",
    ")\n",
    "gdf = gpd.read_file(results_gpkg)\n",
    "gdf.head()"
   ]
  },
  {
   "cell_type": "markdown",
   "metadata": {},
   "source": [
    "![Accessability of population to health centers]( /_resources/Beira_OD_no_hazard.png )\n",
    "All shortest routes from a chosen origin (red circle) to all possible destinations (green stars)."
   ]
  }
 ],
 "metadata": {
  "kernelspec": {
   "display_name": "ra2ce_env",
   "language": "python",
   "name": "python3"
  },
  "language_info": {
   "codemirror_mode": {
    "name": "ipython",
    "version": 3
   },
   "file_extension": ".py",
   "mimetype": "text/x-python",
   "name": "python",
   "nbconvert_exporter": "python",
   "pygments_lexer": "ipython3",
   "version": "3.11.13"
  }
 },
 "nbformat": 4,
 "nbformat_minor": 5
}
