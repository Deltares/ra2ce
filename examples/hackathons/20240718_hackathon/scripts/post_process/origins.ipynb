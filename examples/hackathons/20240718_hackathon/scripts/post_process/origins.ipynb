{
 "cells": [
  {
   "cell_type": "code",
   "execution_count": 20,
   "metadata": {},
   "outputs": [],
   "source": [
    "from pathlib import Path\n",
    "import geopandas as gpd\n",
    "import folium\n",
    "\n",
    "import warnings\n",
    "warnings.simplefilter(action='ignore', category=FutureWarning)\n",
    "\n",
    "import pandas\n",
    "# from IPython.display import display\n",
    "\n"
   ]
  },
  {
   "cell_type": "code",
   "execution_count": 44,
   "metadata": {},
   "outputs": [],
   "source": [
    "path_results = Path(r'P:\\moonshot2-casestudy\\RA2CE_HACKATHON_JULY\\results')\n",
    "event = \"TC_0631\"\n",
    "category = \"clinic\"\n",
    "\n",
    "path_dir = path_results.joinpath(event)\n",
    "assert path_dir.exists\n",
    "\n",
    "path_no_hazard_OD_result = path_dir.joinpath(\"origin_closest_destination_optimal_routes_without_hazard.gpkg\")\n",
    "path_with_hazard_OD_result = path_dir.joinpath(\"origin_closest_destination_optimal_routes_with_hazard.gpkg\")\n",
    "path_origins = path_dir.joinpath(\"origin_closest_destination_origins.gpkg\")\n",
    "path_destinations = path_dir.joinpath(\"origin_closest_destination_destinations.gpkg\")\n",
    "assert path_no_hazard_OD_result.exists()"
   ]
  },
  {
   "cell_type": "code",
   "execution_count": 45,
   "metadata": {},
   "outputs": [],
   "source": [
    "# Open the gdf\n",
    "optimal_routes_no_hazard_gdf = gpd.read_file(path_no_hazard_OD_result)\n",
    "optimal_routes_with_hazard_gdf = gpd.read_file(path_with_hazard_OD_result)\n",
    "origins_gdf = gpd.read_file(path_origins)\n",
    "destinations_gdf = gpd.read_file(path_destinations)\n",
    "\n",
    "\n",
    "\n",
    "# Get the all the unique origins:\n",
    "origins = optimal_routes_no_hazard_gdf[\"origin\"].unique()\n",
    "\n",
    "\n",
    "# keep only ctaegory hospital\n",
    "destinations_gdf = destinations_gdf[destinations_gdf[\"category\"] == category]\n",
    "optimal_routes_with_hazard_gdf = optimal_routes_with_hazard_gdf[optimal_routes_with_hazard_gdf[\"category\"] == category]\n",
    "optimal_routes_no_hazard_gdf = optimal_routes_no_hazard_gdf[optimal_routes_no_hazard_gdf[\"category\"] == category]\n"
   ]
  },
  {
   "cell_type": "code",
   "execution_count": 46,
   "metadata": {},
   "outputs": [],
   "source": [
    "# clean destination gdf to account for combined destinations \"B_5,B_6\"\n",
    "temp_gdf = gpd.GeoDataFrame()\n",
    "for dest in destinations:\n",
    "    if \",\" in dest:\n",
    "        dests = dest.split(\",\")\n",
    "        temp_gdf = temp_gdf.append(destinations_gdf[destinations_gdf[\"d_id\"] == dests[0]])\n",
    "        # rename the destination id to the combined destination id\n",
    "        temp_gdf.loc[temp_gdf[\"d_id\"] == dests[0], \"d_id\"] = dest\n",
    "        \n",
    "    else:\n",
    "        temp_gdf = temp_gdf.append(destinations_gdf[destinations_gdf[\"d_id\"] == dest])\n",
    "\n",
    "destinations_gdf = temp_gdf"
   ]
  },
  {
   "cell_type": "code",
   "execution_count": 63,
   "metadata": {},
   "outputs": [
    {
     "name": "stdout",
     "output_type": "stream",
     "text": [
      "[10527.857, 35097.0, 24654.571000000004, 3583.0, 8294.0, 1503.0, 14465.0, 35374.812, 142843.41899999997, 52898.69699999999, 12856.386, 17677.0, 10297.0, 1535.0, 16364.0, 12238.0, 3717.0, 205.0, 12143.0, 9368.0, 3519.0, 16684.0, 1305.0, 4146.902, 156.0, 4300.0, 5266.0, 5284.0, 5209.0, 8426.0, 660.0, 24470.0, 58429.996000000036, 25967.54, 33533.0, 37615.259, 22357.0, 1955.0, 164934.949, 87960.41900000001, 9516.204, 59963.33399999999, 63061.6, 42219.0, 9932.0, 1121.0, 4401.9439999999995, 1083.0, 1558.0, 5920.0, 1695.0, 14450.517, 8737.0, 27785.0, 34692.0, 56437.0, 16390.175000000003, 15458.0, 26737.0, 173132.4420000001, 11173.0, 10444.399000000001, 11259.0, 12880.0, 152.0, 15736.0, 2351.0, 18850.0, 8640.508999999998, 8822.0, 10960.0, 6815.0, 13373.0, 38234.0, 7094.0, 18184.0, 29368.0, 19776.0, 2875.0, 58055.0, 28413.049999999992, 13506.0, 180053.7790000001, 17474.981000000003, 210797.15400000004, 19438.0, 35271.0, 21081.786, 18580.0, 641.0, 7434.0, 6816.6, 3097.0, 56429.0, 6116.0, 55866.64, 27989.0, 7315.0, 14396.0, 5949.0, 28939.0, 2037.0, 15993.0, 6908.0, 17755.249, 1027.0, 29448.0, 77094.68999999999, 2607.763, 69922.42699999994, 80225.82699999998, 93676.43599999997, 34173.73600000001, 6335.0, 171497.328, 118863.326, 21914.0, 27898.868, 9864.0, 17814.0, 22042.0, 7489.223, 12098.0, 6654.0, 5843.0, 8918.0, 8883.0, 1382.0, 9541.0, 15014.0, 7416.128000000001, 2038.0, 3096.0, 6574.0, 2447.0, 1737.0, 32307.0, 2107.0, 8228.348999999998, 17975.0, 3533.0, 5561.0, 27386.0, 9886.947, 19263.0, 4325.485000000001, 4242.0, 28380.324, 25278.981999999996, 46502.0, 41737.81499999998, 31246.344999999994, nan, nan, nan, nan]\n",
      "[10527.857, 35097.0, 24654.571000000004, 3583.0, 8294.0, 1503.0, 14465.0, 35374.812, 142843.41899999997, 52898.69699999999, 12856.386, 17677.0, 10297.0, 1535.0, 16364.0, 12238.0, 3717.0, 205.0, 12143.0, 9368.0, 3519.0, 16684.0, 1305.0, 4146.902, 156.0, 4300.0, 5266.0, 5284.0, 5209.0, 8426.0, 660.0, 24470.0, 58429.996000000036, 25967.54, 33533.0, 37615.259, 22357.0, 1955.0, 164934.949, 87960.41900000001, 9516.204, 59963.33399999999, 63061.6, 42219.0, 9932.0, 1121.0, 4401.9439999999995, 1083.0, 1558.0, 5920.0, 1695.0, 14450.517, 8737.0, 27785.0, 34692.0, 56437.0, 16390.175000000003, 15458.0, 26737.0, 173132.4420000001, 11173.0, 10444.399000000001, 11259.0, 12880.0, 152.0, 15736.0, 2351.0, 18850.0, 8640.508999999998, 8822.0, 10960.0, 6815.0, 13373.0, 38234.0, 7094.0, 18184.0, 29368.0, 19776.0, 2875.0, 58055.0, 28413.049999999992, 13506.0, 180053.7790000001, 17474.981000000003, 210797.15400000004, 19438.0, 35271.0, 21081.786, 18580.0, 641.0, 7434.0, 6816.6, 3097.0, 56429.0, 6116.0, 55866.64, 27989.0, 7315.0, 14396.0, 5949.0, 28939.0, 2037.0, 15993.0, 6908.0, 17755.249, 1027.0, 29448.0, 77094.68999999999, 2607.763, 69922.42699999994, 80225.82699999998, 93676.43599999997, 34173.73600000001, 6335.0, 171497.328, 118863.326, 21914.0, 111424.0, 9864.0, 17814.0, 22042.0, 7489.223, 12098.0, 6654.0, 5843.0, 8918.0, 8883.0, 1382.0, 9541.0, 15014.0, 7416.128000000001, 2038.0, 3096.0, 6574.0, 2447.0, 1737.0, 32307.0, 2107.0, 8228.348999999998, 17975.0, 3533.0, 5561.0, 27386.0, 9886.947, 19263.0, 4325.485000000001, 4242.0, 28380.324, 25278.981999999996, 46502.0, 41737.81499999998, 31246.344999999994, nan, nan, nan, nan]\n",
      "[ 0.        0.        0.        0.        0.        0.        0.\n",
      "  0.        0.        0.        0.        0.        0.        0.\n",
      "  0.        0.        0.        0.        0.        0.        0.\n",
      "  0.        0.        0.        0.        0.        0.        0.\n",
      "  0.        0.        0.        0.        0.        0.        0.\n",
      "  0.        0.        0.        0.        0.        0.        0.\n",
      "  0.        0.        0.        0.        0.        0.        0.\n",
      "  0.        0.        0.        0.        0.        0.        0.\n",
      "  0.        0.        0.        0.        0.        0.        0.\n",
      "  0.        0.        0.        0.        0.        0.        0.\n",
      "  0.        0.        0.        0.        0.        0.        0.\n",
      "  0.        0.        0.        0.        0.        0.        0.\n",
      "  0.        0.        0.        0.        0.        0.        0.\n",
      "  0.        0.        0.        0.        0.        0.        0.\n",
      "  0.        0.        0.        0.        0.        0.        0.\n",
      "  0.        0.        0.        0.        0.        0.        0.\n",
      "  0.        0.        0.        0.        0.       83.525132  0.\n",
      "  0.        0.        0.        0.        0.        0.        0.\n",
      "  0.        0.        0.        0.        0.        0.        0.\n",
      "  0.        0.        0.        0.        0.        0.        0.\n",
      "  0.        0.        0.        0.        0.        0.        0.\n",
      "  0.        0.        0.        0.        0.             nan       nan\n",
      "       nan       nan]\n"
     ]
    }
   ],
   "source": [
    "from numpy import array\n",
    "lengths_no_hazard = []\n",
    "lengths_with_hazard = []\n",
    "differences = []\n",
    "for origin in origins:\n",
    "    \n",
    "    optimal_routes_per_destination_no_hazard_gdf = optimal_routes_no_hazard_gdf[optimal_routes_no_hazard_gdf['origin'] == origin] # filter on destination B4\n",
    "    optimal_routes_per_destination_with_hazard_gdf = optimal_routes_with_hazard_gdf[optimal_routes_with_hazard_gdf['origin'] == origin] # filter on destination B4\n",
    "    \n",
    "    \n",
    "    lengths_no_hazard.append(optimal_routes_per_destination_no_hazard_gdf[\"lengthNorm\"].max())\n",
    "    lengths_with_hazard.append(optimal_routes_per_destination_with_hazard_gdf[\"lengthDisr\"].max())\n",
    "    \n",
    "    if origin == \"B_121\":\n",
    "        print(lengths_no_hazard[-1])\n",
    "        print(lengths_with_hazard[-1])\n",
    "\n",
    "differences = (array(lengths_with_hazard) - array(lengths_no_hazard)) / 1000  # conversion in km\n",
    "    \n",
    "    \n",
    "print(lengths_no_hazard)    \n",
    "print(lengths_with_hazard)\n",
    "print(differences)\n",
    "# origins[\"length_no_hazard\"] = lengths_no_hazard\n",
    "# origins[\"length_with_hazard\"] = lengths_with_hazard\n",
    "# origins[\"difference\"] = differences\n",
    "\n",
    "\n",
    "    \n"
   ]
  },
  {
   "cell_type": "code",
   "execution_count": null,
   "metadata": {},
   "outputs": [],
   "source": []
  }
 ],
 "metadata": {
  "kernelspec": {
   "display_name": "ra2ce_env",
   "language": "python",
   "name": "python3"
  },
  "language_info": {
   "codemirror_mode": {
    "name": "ipython",
    "version": 3
   },
   "file_extension": ".py",
   "mimetype": "text/x-python",
   "name": "python",
   "nbconvert_exporter": "python",
   "pygments_lexer": "ipython3",
   "version": "3.10.13"
  }
 },
 "nbformat": 4,
 "nbformat_minor": 2
}
