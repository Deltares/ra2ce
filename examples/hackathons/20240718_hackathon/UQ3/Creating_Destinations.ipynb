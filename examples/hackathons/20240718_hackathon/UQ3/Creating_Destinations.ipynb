{
 "cells": [
  {
   "cell_type": "markdown",
   "metadata": {},
   "source": [
    "# Setting up an accessibility analysis Mozambique: Creating Destinations"
   ]
  },
  {
   "cell_type": "markdown",
   "metadata": {},
   "source": [
    "### Downloading a Destinations from a polygon   "
   ]
  },
  {
   "cell_type": "code",
   "execution_count": 1,
   "metadata": {},
   "outputs": [],
   "source": [
    "from pathlib import Path\n",
    "import geopandas as gpd\n",
    "import folium \n",
    "from shapely.geometry import LineString, Polygon, box\n",
    "import rasterio\n",
    "import matplotlib.pyplot as plt"
   ]
  },
  {
   "cell_type": "code",
   "execution_count": 2,
   "metadata": {},
   "outputs": [],
   "source": [
    "import ra2ce.network.networks_utils as nut\n",
    "from ra2ce.network.network_config_data.enums.network_type_enum import NetworkTypeEnum\n",
    "from ra2ce.network.network_config_data.enums.road_type_enum import RoadTypeEnum\n",
    "from ra2ce.network.network_config_data.network_config_data import (NetworkConfigData,NetworkSection,)\n",
    "from ra2ce.network.network_wrappers.osm_network_wrapper.osm_network_wrapper import (OsmNetworkWrapper,)\n",
    "from ra2ce.network.exporters.geodataframe_network_exporter import GeoDataFrameNetworkExporter\n",
    "from ra2ce.network.exporters.multi_graph_network_exporter import MultiGraphNetworkExporter\n"
   ]
  },
  {
   "cell_type": "code",
   "execution_count": 36,
   "metadata": {},
   "outputs": [],
   "source": [
    "root_dir = Path(r'P:\\moonshot2-casestudy\\RA2CE_HACKATHON_JULY\\Automating_Destinations_and_buffer_creation')\n",
    "Extent = root_dir/\"Buffer_Polygons\"/\"buffer_polygon_OD.geojson\"\n",
    "Output_Destinations = root_dir.joinpath('static','network')\n",
    "assert root_dir.exists()"
   ]
  },
  {
   "cell_type": "markdown",
   "metadata": {},
   "source": [
    "### Determine the extent of the flood maps to download Destination"
   ]
  },
  {
   "cell_type": "code",
   "execution_count": 6,
   "metadata": {},
   "outputs": [
    {
     "data": {
      "text/html": [
       "<div style=\"width:100%;\"><div style=\"position:relative;width:100%;height:0;padding-bottom:60%;\"><span style=\"color:#565656\">Make this Notebook Trusted to load map: File -> Trust Notebook</span><iframe srcdoc=\"&lt;!DOCTYPE html&gt;\n",
       "&lt;html&gt;\n",
       "&lt;head&gt;\n",
       "    \n",
       "    &lt;meta http-equiv=&quot;content-type&quot; content=&quot;text/html; charset=UTF-8&quot; /&gt;\n",
       "    \n",
       "        &lt;script&gt;\n",
       "            L_NO_TOUCH = false;\n",
       "            L_DISABLE_3D = false;\n",
       "        &lt;/script&gt;\n",
       "    \n",
       "    &lt;style&gt;html, body {width: 100%;height: 100%;margin: 0;padding: 0;}&lt;/style&gt;\n",
       "    &lt;style&gt;#map {position:absolute;top:0;bottom:0;right:0;left:0;}&lt;/style&gt;\n",
       "    &lt;script src=&quot;https://cdn.jsdelivr.net/npm/leaflet@1.9.3/dist/leaflet.js&quot;&gt;&lt;/script&gt;\n",
       "    &lt;script src=&quot;https://code.jquery.com/jquery-3.7.1.min.js&quot;&gt;&lt;/script&gt;\n",
       "    &lt;script src=&quot;https://cdn.jsdelivr.net/npm/bootstrap@5.2.2/dist/js/bootstrap.bundle.min.js&quot;&gt;&lt;/script&gt;\n",
       "    &lt;script src=&quot;https://cdnjs.cloudflare.com/ajax/libs/Leaflet.awesome-markers/2.0.2/leaflet.awesome-markers.js&quot;&gt;&lt;/script&gt;\n",
       "    &lt;link rel=&quot;stylesheet&quot; href=&quot;https://cdn.jsdelivr.net/npm/leaflet@1.9.3/dist/leaflet.css&quot;/&gt;\n",
       "    &lt;link rel=&quot;stylesheet&quot; href=&quot;https://cdn.jsdelivr.net/npm/bootstrap@5.2.2/dist/css/bootstrap.min.css&quot;/&gt;\n",
       "    &lt;link rel=&quot;stylesheet&quot; href=&quot;https://netdna.bootstrapcdn.com/bootstrap/3.0.0/css/bootstrap.min.css&quot;/&gt;\n",
       "    &lt;link rel=&quot;stylesheet&quot; href=&quot;https://cdn.jsdelivr.net/npm/@fortawesome/fontawesome-free@6.2.0/css/all.min.css&quot;/&gt;\n",
       "    &lt;link rel=&quot;stylesheet&quot; href=&quot;https://cdnjs.cloudflare.com/ajax/libs/Leaflet.awesome-markers/2.0.2/leaflet.awesome-markers.css&quot;/&gt;\n",
       "    &lt;link rel=&quot;stylesheet&quot; href=&quot;https://cdn.jsdelivr.net/gh/python-visualization/folium/folium/templates/leaflet.awesome.rotate.min.css&quot;/&gt;\n",
       "    \n",
       "            &lt;meta name=&quot;viewport&quot; content=&quot;width=device-width,\n",
       "                initial-scale=1.0, maximum-scale=1.0, user-scalable=no&quot; /&gt;\n",
       "            &lt;style&gt;\n",
       "                #map_b4bcb445470ee680fbc3cac4e01acb89 {\n",
       "                    position: relative;\n",
       "                    width: 100.0%;\n",
       "                    height: 100.0%;\n",
       "                    left: 0.0%;\n",
       "                    top: 0.0%;\n",
       "                }\n",
       "                .leaflet-container { font-size: 1rem; }\n",
       "            &lt;/style&gt;\n",
       "        \n",
       "    \n",
       "                    &lt;style&gt;\n",
       "                        .foliumtooltip {\n",
       "                            \n",
       "                        }\n",
       "                       .foliumtooltip table{\n",
       "                            margin: auto;\n",
       "                        }\n",
       "                        .foliumtooltip tr{\n",
       "                            text-align: left;\n",
       "                        }\n",
       "                        .foliumtooltip th{\n",
       "                            padding: 2px; padding-right: 8px;\n",
       "                        }\n",
       "                    &lt;/style&gt;\n",
       "            \n",
       "&lt;/head&gt;\n",
       "&lt;body&gt;\n",
       "    \n",
       "    \n",
       "            &lt;div class=&quot;folium-map&quot; id=&quot;map_b4bcb445470ee680fbc3cac4e01acb89&quot; &gt;&lt;/div&gt;\n",
       "        \n",
       "&lt;/body&gt;\n",
       "&lt;script&gt;\n",
       "    \n",
       "    \n",
       "            var map_b4bcb445470ee680fbc3cac4e01acb89 = L.map(\n",
       "                &quot;map_b4bcb445470ee680fbc3cac4e01acb89&quot;,\n",
       "                {\n",
       "                    center: [-18.276998328907908, 35.75717958327736],\n",
       "                    crs: L.CRS.EPSG3857,\n",
       "                    zoom: 10,\n",
       "                    zoomControl: true,\n",
       "                    preferCanvas: false,\n",
       "                }\n",
       "            );\n",
       "            L.control.scale().addTo(map_b4bcb445470ee680fbc3cac4e01acb89);\n",
       "\n",
       "            \n",
       "\n",
       "        \n",
       "    \n",
       "            var tile_layer_3264aacf05c1b3b5e042b27dce4e2861 = L.tileLayer(\n",
       "                &quot;https://{s}.tile.openstreetmap.org/{z}/{x}/{y}.png&quot;,\n",
       "                {&quot;attribution&quot;: &quot;Data by \\u0026copy; \\u003ca target=\\&quot;_blank\\&quot; href=\\&quot;http://openstreetmap.org\\&quot;\\u003eOpenStreetMap\\u003c/a\\u003e, under \\u003ca target=\\&quot;_blank\\&quot; href=\\&quot;http://www.openstreetmap.org/copyright\\&quot;\\u003eODbL\\u003c/a\\u003e.&quot;, &quot;detectRetina&quot;: false, &quot;maxNativeZoom&quot;: 18, &quot;maxZoom&quot;: 18, &quot;minZoom&quot;: 0, &quot;noWrap&quot;: false, &quot;opacity&quot;: 1, &quot;subdomains&quot;: &quot;abc&quot;, &quot;tms&quot;: false}\n",
       "            );\n",
       "        \n",
       "    \n",
       "                tile_layer_3264aacf05c1b3b5e042b27dce4e2861.addTo(map_b4bcb445470ee680fbc3cac4e01acb89);\n",
       "    \n",
       "            map_b4bcb445470ee680fbc3cac4e01acb89.fitBounds(\n",
       "                [[-21.684747806909044, 32.037755909801895], [-14.869248850906768, 39.47660325675283]],\n",
       "                {}\n",
       "            );\n",
       "        \n",
       "    \n",
       "        function geo_json_3ed7d71b9eb6e6575a3c33d7a04d3855_styler(feature) {\n",
       "            switch(feature.id) {\n",
       "                default:\n",
       "                    return {&quot;fillOpacity&quot;: 0.5, &quot;weight&quot;: 2};\n",
       "            }\n",
       "        }\n",
       "        function geo_json_3ed7d71b9eb6e6575a3c33d7a04d3855_highlighter(feature) {\n",
       "            switch(feature.id) {\n",
       "                default:\n",
       "                    return {&quot;fillOpacity&quot;: 0.75};\n",
       "            }\n",
       "        }\n",
       "        function geo_json_3ed7d71b9eb6e6575a3c33d7a04d3855_pointToLayer(feature, latlng) {\n",
       "            var opts = {&quot;bubblingMouseEvents&quot;: true, &quot;color&quot;: &quot;#3388ff&quot;, &quot;dashArray&quot;: null, &quot;dashOffset&quot;: null, &quot;fill&quot;: true, &quot;fillColor&quot;: &quot;#3388ff&quot;, &quot;fillOpacity&quot;: 0.2, &quot;fillRule&quot;: &quot;evenodd&quot;, &quot;lineCap&quot;: &quot;round&quot;, &quot;lineJoin&quot;: &quot;round&quot;, &quot;opacity&quot;: 1.0, &quot;radius&quot;: 2, &quot;stroke&quot;: true, &quot;weight&quot;: 3};\n",
       "            \n",
       "            let style = geo_json_3ed7d71b9eb6e6575a3c33d7a04d3855_styler(feature)\n",
       "            Object.assign(opts, style)\n",
       "            \n",
       "            return new L.CircleMarker(latlng, opts)\n",
       "        }\n",
       "\n",
       "        function geo_json_3ed7d71b9eb6e6575a3c33d7a04d3855_onEachFeature(feature, layer) {\n",
       "            layer.on({\n",
       "                mouseout: function(e) {\n",
       "                    if(typeof e.target.setStyle === &quot;function&quot;){\n",
       "                        geo_json_3ed7d71b9eb6e6575a3c33d7a04d3855.resetStyle(e.target);\n",
       "                    }\n",
       "                },\n",
       "                mouseover: function(e) {\n",
       "                    if(typeof e.target.setStyle === &quot;function&quot;){\n",
       "                        const highlightStyle = geo_json_3ed7d71b9eb6e6575a3c33d7a04d3855_highlighter(e.target.feature)\n",
       "                        e.target.setStyle(highlightStyle);\n",
       "                    }\n",
       "                },\n",
       "            });\n",
       "        };\n",
       "        var geo_json_3ed7d71b9eb6e6575a3c33d7a04d3855 = L.geoJson(null, {\n",
       "                onEachFeature: geo_json_3ed7d71b9eb6e6575a3c33d7a04d3855_onEachFeature,\n",
       "            \n",
       "                style: geo_json_3ed7d71b9eb6e6575a3c33d7a04d3855_styler,\n",
       "                pointToLayer: geo_json_3ed7d71b9eb6e6575a3c33d7a04d3855_pointToLayer,\n",
       "        });\n",
       "\n",
       "        function geo_json_3ed7d71b9eb6e6575a3c33d7a04d3855_add (data) {\n",
       "            geo_json_3ed7d71b9eb6e6575a3c33d7a04d3855\n",
       "                .addData(data);\n",
       "        }\n",
       "            geo_json_3ed7d71b9eb6e6575a3c33d7a04d3855_add({&quot;bbox&quot;: [32.037755909801895, -21.684747806909044, 39.47660325675283, -14.869248850906768], &quot;features&quot;: [{&quot;bbox&quot;: [32.037755909801895, -21.684747806909044, 39.47660325675283, -14.869248850906768], &quot;geometry&quot;: {&quot;coordinates&quot;: [[[39.138473831891424, -21.684747806909044], [32.3758853346633, -21.684747806909044], [32.24648880577371, -21.659009237016903], [32.13679172542509, -21.585711991285844], [32.063494479694036, -21.476014910937234], [32.037755909801895, -21.346618382047637], [32.037755909801895, -15.207378275768175], [32.063494479694036, -15.077981746878578], [32.13679172542509, -14.968284666529968], [32.24648880577371, -14.894987420798909], [32.3758853346633, -14.869248850906768], [39.138473831891424, -14.869248850906768], [39.26787036078102, -14.894987420798909], [39.377567441129635, -14.968284666529968], [39.45086468686069, -15.077981746878578], [39.47660325675283, -15.207378275768175], [39.47660325675283, -21.346618382047637], [39.45086468686069, -21.476014910937234], [39.377567441129635, -21.585711991285844], [39.26787036078102, -21.659009237016903], [39.138473831891424, -21.684747806909044]]], &quot;type&quot;: &quot;Polygon&quot;}, &quot;id&quot;: &quot;0&quot;, &quot;properties&quot;: {}, &quot;type&quot;: &quot;Feature&quot;}], &quot;type&quot;: &quot;FeatureCollection&quot;});\n",
       "\n",
       "        \n",
       "    \n",
       "    geo_json_3ed7d71b9eb6e6575a3c33d7a04d3855.bindTooltip(\n",
       "    function(layer){\n",
       "    let div = L.DomUtil.create(&#x27;div&#x27;);\n",
       "    \n",
       "    return div\n",
       "    }\n",
       "    ,{&quot;className&quot;: &quot;foliumtooltip&quot;, &quot;sticky&quot;: true});\n",
       "                     \n",
       "    \n",
       "                geo_json_3ed7d71b9eb6e6575a3c33d7a04d3855.addTo(map_b4bcb445470ee680fbc3cac4e01acb89);\n",
       "&lt;/script&gt;\n",
       "&lt;/html&gt;\" style=\"position:absolute;width:100%;height:100%;left:0;top:0;border:none !important;\" allowfullscreen webkitallowfullscreen mozallowfullscreen></iframe></div></div>"
      ],
      "text/plain": [
       "<folium.folium.Map at 0x1893de00670>"
      ]
     },
     "execution_count": 6,
     "metadata": {},
     "output_type": "execute_result"
    }
   ],
   "source": [
    "# Read the GeoJSON file\n",
    "gdf = gpd.read_file(Extent)\n",
    "gdf.explore()\n"
   ]
  },
  {
   "cell_type": "code",
   "execution_count": 19,
   "metadata": {},
   "outputs": [
    {
     "name": "stdout",
     "output_type": "stream",
     "text": [
      "POLYGON ((39.138473831891424 -21.684747806909044, 32.3758853346633 -21.684747806909044, 32.24648880577371 -21.659009237016903, 32.13679172542509 -21.585711991285844, 32.063494479694036 -21.476014910937234, 32.037755909801895 -21.346618382047637, 32.037755909801895 -15.207378275768175, 32.063494479694036 -15.077981746878578, 32.13679172542509 -14.968284666529968, 32.24648880577371 -14.894987420798909, 32.3758853346633 -14.869248850906768, 39.138473831891424 -14.869248850906768, 39.26787036078102 -14.894987420798909, 39.377567441129635 -14.968284666529968, 39.45086468686069 -15.077981746878578, 39.47660325675283 -15.207378275768175, 39.47660325675283 -21.346618382047637, 39.45086468686069 -21.476014910937234, 39.377567441129635 -21.585711991285844, 39.26787036078102 -21.659009237016903, 39.138473831891424 -21.684747806909044))\n"
     ]
    }
   ],
   "source": [
    "import geopandas as gpd\n",
    "from shapely.geometry import shape\n",
    "\n",
    "OD_polygon = shape(gdf.geometry.iloc[0])\n",
    "print(OD_polygon)"
   ]
  },
  {
   "cell_type": "markdown",
   "metadata": {},
   "source": [
    "### Downloading destinations data"
   ]
  },
  {
   "cell_type": "code",
   "execution_count": 20,
   "metadata": {},
   "outputs": [],
   "source": [
    "import osmnx \n",
    "import pandas as pd"
   ]
  },
  {
   "cell_type": "code",
   "execution_count": 21,
   "metadata": {},
   "outputs": [],
   "source": [
    "tags_basic_needs = {'amenity':['hospital','clinic','doctors','pharmacy']}  \n",
    "features = osmnx.features_from_polygon(polygon=OD_polygon, tags=tags_basic_needs)\n"
   ]
  },
  {
   "cell_type": "code",
   "execution_count": 33,
   "metadata": {},
   "outputs": [
    {
     "name": "stderr",
     "output_type": "stream",
     "text": [
      "C:\\Users\\gunaratn\\AppData\\Local\\Temp\\ipykernel_6776\\409382263.py:2: SettingWithCopyWarning: \n",
      "A value is trying to be set on a copy of a slice from a DataFrame\n",
      "\n",
      "See the caveats in the documentation: https://pandas.pydata.org/pandas-docs/stable/user_guide/indexing.html#returning-a-view-versus-a-copy\n",
      "  Destinations.rename(columns={\"amenity\": \"category\"}, inplace=True)\n",
      "c:\\Users\\gunaratn\\AppData\\Local\\miniconda3\\envs\\ra2ce_env\\lib\\site-packages\\geopandas\\geodataframe.py:1543: SettingWithCopyWarning: \n",
      "A value is trying to be set on a copy of a slice from a DataFrame.\n",
      "Try using .loc[row_indexer,col_indexer] = value instead\n",
      "\n",
      "See the caveats in the documentation: https://pandas.pydata.org/pandas-docs/stable/user_guide/indexing.html#returning-a-view-versus-a-copy\n",
      "  super().__setitem__(key, value)\n"
     ]
    }
   ],
   "source": [
    "features['ID'] = range(len(features))\n",
    "Destinations = features[[\"ID\",\"amenity\",\"name\",\"geometry\"]]\n",
    "Destinations.rename(columns={\"amenity\": \"category\"}, inplace=True)\n",
    "Destinations[\"geometry\"] = Destinations.geometry.apply(lambda geom: geom.representative_point())"
   ]
  },
  {
   "cell_type": "code",
   "execution_count": null,
   "metadata": {},
   "outputs": [],
   "source": [
    "#Add location\n",
    "Destinations_clip = Destinations.clip(gdf_adm3)"
   ]
  },
  {
   "cell_type": "code",
   "execution_count": 37,
   "metadata": {},
   "outputs": [
    {
     "name": "stderr",
     "output_type": "stream",
     "text": [
      "C:\\Users\\gunaratn\\AppData\\Local\\Temp\\ipykernel_6776\\2529720483.py:1: UserWarning: Column names longer than 10 characters will be truncated when saved to ESRI Shapefile.\n",
      "  Destinations.to_file(Output_Destinations/\"Destinations.shp\", driver='ESRI Shapefile')\n"
     ]
    }
   ],
   "source": [
    "Destinations.to_file(Output_Destinations/\"Destinations.shp\", driver='ESRI Shapefile')"
   ]
  }
 ],
 "metadata": {
  "kernelspec": {
   "display_name": "ra2ce_env",
   "language": "python",
   "name": "python3"
  },
  "language_info": {
   "codemirror_mode": {
    "name": "ipython",
    "version": 3
   },
   "file_extension": ".py",
   "mimetype": "text/x-python",
   "name": "python",
   "nbconvert_exporter": "python",
   "pygments_lexer": "ipython3",
   "version": "3.10.13"
  }
 },
 "nbformat": 4,
 "nbformat_minor": 2
}
