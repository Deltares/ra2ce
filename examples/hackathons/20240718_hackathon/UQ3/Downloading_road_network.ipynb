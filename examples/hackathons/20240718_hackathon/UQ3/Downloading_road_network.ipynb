{
 "cells": [
  {
   "cell_type": "markdown",
   "metadata": {},
   "source": [
    "# Setting up an accessibility analysis Mozambique : Downloading the Road network"
   ]
  },
  {
   "cell_type": "code",
   "execution_count": null,
   "metadata": {},
   "outputs": [],
   "source": [
    "from pathlib import Path\n",
    "import geopandas as gpd\n",
    "import folium \n",
    "from shapely.geometry import LineString, Polygon, box\n",
    "import rasterio\n",
    "import matplotlib.pyplot as plt\n",
    "from shapely.geometry import shape"
   ]
  },
  {
   "cell_type": "code",
   "execution_count": null,
   "metadata": {},
   "outputs": [],
   "source": [
    "import ra2ce.network.networks_utils as nut\n",
    "from ra2ce.network.network_config_data.enums.network_type_enum import NetworkTypeEnum\n",
    "from ra2ce.network.network_config_data.enums.road_type_enum import RoadTypeEnum\n",
    "from ra2ce.network.network_config_data.network_config_data import (NetworkConfigData,NetworkSection,)\n",
    "from ra2ce.network.network_wrappers.osm_network_wrapper.osm_network_wrapper import (OsmNetworkWrapper,)\n",
    "from ra2ce.network.exporters.geodataframe_network_exporter import GeoDataFrameNetworkExporter\n",
    "from ra2ce.network.exporters.multi_graph_network_exporter import MultiGraphNetworkExporter\n"
   ]
  },
  {
   "cell_type": "code",
   "execution_count": null,
   "metadata": {},
   "outputs": [],
   "source": [
    "root_dir = Path(r'P:\\moonshot2-casestudy\\RA2CE_HACKATHON_JULY\\Automating_Destinations_and_buffer_creation')\n",
    "Extent = root_dir/\"Buffer_Polygons\"/\"buffer_polygon_network.geojson\"\n",
    "Output_Destinations = root_dir.joinpath('static','network')\n",
    "assert root_dir.exists()"
   ]
  },
  {
   "cell_type": "code",
   "execution_count": null,
   "metadata": {},
   "outputs": [],
   "source": [
    "gdf = gpd.read_file(Extent)\n",
    "gdf.explore()"
   ]
  },
  {
   "cell_type": "code",
   "execution_count": null,
   "metadata": {},
   "outputs": [],
   "source": [
    "network_polygon = shape(gdf.geometry.iloc[0])\n",
    "print(network_polygon)"
   ]
  },
  {
   "cell_type": "code",
   "execution_count": null,
   "metadata": {},
   "outputs": [],
   "source": [
    "#First we define which roads we will want to download from OSM to create a network with\n",
    "_network_section = NetworkSection(\n",
    "    network_type=NetworkTypeEnum.DRIVE,\n",
    "    road_types=[RoadTypeEnum.MOTORWAY,RoadTypeEnum.MOTORWAY_LINK,RoadTypeEnum.PRIMARY, RoadTypeEnum.PRIMARY_LINK,RoadTypeEnum.TRUNK, RoadTypeEnum.SECONDARY,RoadTypeEnum.SECONDARY_LINK, RoadTypeEnum.TERTIARY, RoadTypeEnum.TERTIARY_LINK], \n",
    ")\n",
    "\n",
    "_network_config_data = NetworkConfigData(\n",
    "    root_path= root_dir,\n",
    "    output_path= root_dir/\"output\",\n",
    "    network=_network_section,\n",
    "    )\n",
    "\n",
    "_network_config_data = NetworkConfigData(network=_network_section, static_path=root_dir.joinpath('static'))\n",
    "_graph,_gdf = OsmNetworkWrapper.get_network_from_polygon(_network_config_data, network_polygon)"
   ]
  },
  {
   "cell_type": "code",
   "execution_count": null,
   "metadata": {},
   "outputs": [],
   "source": [
    "# Export the graph\n",
    "_exporter = MultiGraphNetworkExporter(basename='base_graph', export_types=['gpkg', 'pickle'])\n",
    "_exporter.export(export_path=root_dir.joinpath('static','output_graph'), export_data=_graph)\n",
    "\n",
    "# Export the network\n",
    "_exporter = GeoDataFrameNetworkExporter(basename='base_network', export_types=['gpkg', 'pickle'])\n",
    "_exporter.export(export_path=root_dir.joinpath('static','output_graph'), export_data=_gdf)"
   ]
  }
 ],
 "metadata": {
  "kernelspec": {
   "display_name": "ra2ce_env",
   "language": "python",
   "name": "python3"
  },
  "language_info": {
   "codemirror_mode": {
    "name": "ipython",
    "version": 3
   },
   "file_extension": ".py",
   "mimetype": "text/x-python",
   "name": "python",
   "nbconvert_exporter": "python",
   "pygments_lexer": "ipython3",
   "version": "3.10.13"
  }
 },
 "nbformat": 4,
 "nbformat_minor": 2
}
