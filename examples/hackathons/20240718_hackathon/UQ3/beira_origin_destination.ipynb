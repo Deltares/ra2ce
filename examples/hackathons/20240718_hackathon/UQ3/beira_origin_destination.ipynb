{
    "cells": [
        {
            "attachments": {},
            "cell_type": "markdown",
            "id": "e0bf8629",
            "metadata": {},
            "source": [
                "# RA2CE feature: Origin-destination analysis"
            ]
        },
        {
            "cell_type": "code",
            "execution_count": 24,
            "id": "e67d001f",
            "metadata": {},
            "outputs": [],
            "source": [
                "import shutil\n",
                "from pathlib import Path\n",
                "\n",
                "from ra2ce.network.network_config_data.enums.aggregate_wl_enum import AggregateWlEnum\n",
                "from ra2ce.network.network_config_data.enums.source_enum import SourceEnum\n",
                "from ra2ce.network.network_config_data.network_config_data import (\n",
                "    HazardSection,\n",
                "    NetworkConfigData,\n",
                "    NetworkSection,\n",
                ")\n",
                "\n",
                "from ra2ce.analysis.analysis_config_data.analysis_config_data import AnalysisConfigData\n",
                "from ra2ce.ra2ce_handler import Ra2ceHandler"
            ]
        },
        {
            "cell_type": "code",
            "execution_count": 17,
            "id": "737dfbc2",
            "metadata": {},
            "outputs": [
                {
                    "name": "stdout",
                    "output_type": "stream",
                    "text": [
                        "beira_data\\static\n"
                    ]
                }
            ],
            "source": [
                "_root_dir = Path(r\".\\beira_data\")\n",
                "_static_path = _root_dir.joinpath(\"static\")\n",
                "_output_path = _root_dir.joinpath(\"output\")\n",
                "\n"
            ]
        },
        {
            "cell_type": "code",
            "execution_count": 41,
            "id": "0d6562dd",
            "metadata": {},
            "outputs": [],
            "source": [
                "from ra2ce.network.network_config_data.enums.road_type_enum import RoadTypeEnum\n",
                "from ra2ce.network.network_config_data.network_config_data import OriginsDestinationsSection\n",
                "\n",
                "\n",
                "\n",
                "polygon_file = _root_dir.joinpath(\"static\", \"network\", \"region_polygon.geojson\")\n",
                "assert polygon_file.exists()\n",
                "\n",
                "_network_section = NetworkSection(\n",
                "    source=SourceEnum.OSM_DOWNLOAD,  # Used to specify the shapefile name of the (road) network to do the analysis with, when creating a network from a shapefile.\n",
                "    polygon=polygon_file,\n",
                "    save_gpkg=True,\n",
                "    road_types=[RoadTypeEnum.RESIDENTIAL, RoadTypeEnum.TERTIARY, RoadTypeEnum.UNCLASSIFIED, RoadTypeEnum.SECONDARY, RoadTypeEnum.PRIMARY, RoadTypeEnum.TRUNK, RoadTypeEnum.MOTORWAY],\n",
                ")\n",
                "\n",
                "_origin_destination_section = OriginsDestinationsSection(\n",
                "    origins=_static_path.joinpath(\"network\", \"origins.shp\"),\n",
                "    destinations=_static_path.joinpath(\"network\", \"destinations.shp\"),\n",
                "    origins_names=\"A\",\n",
                "    destinations_names=\"B\",\n",
                "    id_name_origin_destination=\"OBJECTID\",\n",
                "    origin_count=\"POPULATION\",\n",
                "    origin_out_fraction=1,\n",
                "    category=\"category\",\n",
                ")\n",
                "\n",
                "\n",
                "_network_config_data = NetworkConfigData(\n",
                "    root_path=_root_dir,\n",
                "    static_path=_static_path,\n",
                "    output_path=_output_path,\n",
                "    network=_network_section,\n",
                "    origins_destinations=_origin_destination_section,\n",
                ")\n",
                "\n"
            ]
        },
        {
            "cell_type": "code",
            "execution_count": 45,
            "id": "1f974eed",
            "metadata": {},
            "outputs": [],
            "source": [
                "from ra2ce.analysis.analysis_config_data.analysis_config_data import AnalysisSectionBase, AnalysisSectionLosses, ProjectSection\n",
                "from ra2ce.analysis.analysis_config_data.enums.analysis_damages_enum import AnalysisDamagesEnum\n",
                "from ra2ce.analysis.analysis_config_data.enums.analysis_losses_enum import AnalysisLossesEnum\n",
                "from ra2ce.analysis.analysis_config_data.enums.damage_curve_enum import DamageCurveEnum\n",
                "from ra2ce.analysis.analysis_config_data.enums.event_type_enum import EventTypeEnum\n",
                "from ra2ce.analysis.analysis_config_data.enums.weighing_enum import WeighingEnum\n",
                "from ra2ce.analysis.losses.multi_link_origin_closest_destination import MultiLinkOriginClosestDestination\n",
                "\n",
                "\n",
                "_od_section = AnalysisSectionLosses(\n",
                "    name='OS_damage',\n",
                "    analysis=AnalysisLossesEnum.MULTI_LINK_ORIGIN_CLOSEST_DESTINATION,\n",
                "    aggregate_wl= AggregateWlEnum.MAX,\n",
                "    threshold=0.5,\n",
                "    weighing=WeighingEnum.LENGTH,\n",
                "    calculate_route_without_disruption=True,\n",
                "    save_gpkg=True,\n",
                "    save_csv=True,\n",
                ")\n",
                "\n",
                "_analysis_config_data = AnalysisConfigData(\n",
                "    project=ProjectSection(name='Beira'),\n",
                "    analyses=[_od_section],\n",
                "    output_path=_output_path,\n",
                "    root_path=_root_dir,\n",
                "    static_path=_static_path,\n",
                "    \n",
                ")\n"
            ]
        },
        {
            "cell_type": "code",
            "execution_count": 47,
            "id": "85807136",
            "metadata": {},
            "outputs": [
                {
                    "ename": "AttributeError",
                    "evalue": "'NoneType' object has no attribute 'joinpath'",
                    "output_type": "error",
                    "traceback": [
                        "\u001b[1;31m---------------------------------------------------------------------------\u001b[0m",
                        "\u001b[1;31mAttributeError\u001b[0m                            Traceback (most recent call last)",
                        "Cell \u001b[1;32mIn[47], line 4\u001b[0m\n\u001b[0;32m      2\u001b[0m _handler \u001b[38;5;241m=\u001b[39m Ra2ceHandler\u001b[38;5;241m.\u001b[39mfrom_config(_network_config_data, _analysis_config_data)\n\u001b[0;32m      3\u001b[0m _handler\u001b[38;5;241m.\u001b[39mconfigure()\n\u001b[1;32m----> 4\u001b[0m \u001b[43m_handler\u001b[49m\u001b[38;5;241;43m.\u001b[39;49m\u001b[43mrun_analysis\u001b[49m\u001b[43m(\u001b[49m\u001b[43m)\u001b[49m\n",
                        "File \u001b[1;32m~\\bitbucket\\ra2ce\\ra2ce\\ra2ce_handler.py:179\u001b[0m, in \u001b[0;36mRa2ceHandler.run_analysis\u001b[1;34m(self)\u001b[0m\n\u001b[0;32m    176\u001b[0m     \u001b[38;5;28;01mraise\u001b[39;00m \u001b[38;5;167;01mValueError\u001b[39;00m(_error)\n\u001b[0;32m    178\u001b[0m _runner \u001b[38;5;241m=\u001b[39m AnalysisRunnerFactory\u001b[38;5;241m.\u001b[39mget_runner(\u001b[38;5;28mself\u001b[39m\u001b[38;5;241m.\u001b[39minput_config)\n\u001b[1;32m--> 179\u001b[0m \u001b[38;5;28;01mreturn\u001b[39;00m \u001b[43m_runner\u001b[49m\u001b[38;5;241;43m.\u001b[39;49m\u001b[43mrun\u001b[49m\u001b[43m(\u001b[49m\u001b[38;5;28;43mself\u001b[39;49m\u001b[38;5;241;43m.\u001b[39;49m\u001b[43minput_config\u001b[49m\u001b[38;5;241;43m.\u001b[39;49m\u001b[43manalysis_config\u001b[49m\u001b[43m)\u001b[49m\n",
                        "File \u001b[1;32m~\\bitbucket\\ra2ce\\ra2ce\\runners\\losses_analysis_runner.py:60\u001b[0m, in \u001b[0;36mLossesAnalysisRunner.run\u001b[1;34m(self, analysis_config)\u001b[0m\n\u001b[0;32m     54\u001b[0m logging\u001b[38;5;241m.\u001b[39minfo(\n\u001b[0;32m     55\u001b[0m     \u001b[38;5;124m\"\u001b[39m\u001b[38;5;124m----------------------------- Started analyzing \u001b[39m\u001b[38;5;124m'\u001b[39m\u001b[38;5;132;01m%s\u001b[39;00m\u001b[38;5;124m'\u001b[39m\u001b[38;5;124m  -----------------------------\u001b[39m\u001b[38;5;124m\"\u001b[39m,\n\u001b[0;32m     56\u001b[0m     analysis\u001b[38;5;241m.\u001b[39manalysis\u001b[38;5;241m.\u001b[39mname,\n\u001b[0;32m     57\u001b[0m )\n\u001b[0;32m     58\u001b[0m starttime \u001b[38;5;241m=\u001b[39m time\u001b[38;5;241m.\u001b[39mtime()\n\u001b[1;32m---> 60\u001b[0m _result \u001b[38;5;241m=\u001b[39m \u001b[43manalysis\u001b[49m\u001b[38;5;241;43m.\u001b[39;49m\u001b[43mexecute\u001b[49m\u001b[43m(\u001b[49m\u001b[43m)\u001b[49m\n\u001b[0;32m     61\u001b[0m _result_wrapper \u001b[38;5;241m=\u001b[39m AnalysisResultWrapper(\n\u001b[0;32m     62\u001b[0m     analysis_result\u001b[38;5;241m=\u001b[39m_result, analysis\u001b[38;5;241m=\u001b[39manalysis\n\u001b[0;32m     63\u001b[0m )\n\u001b[0;32m     65\u001b[0m _results\u001b[38;5;241m.\u001b[39mappend(_result_wrapper)\n",
                        "File \u001b[1;32m~\\bitbucket\\ra2ce\\ra2ce\\analysis\\losses\\multi_link_origin_closest_destination.py:99\u001b[0m, in \u001b[0;36mMultiLinkOriginClosestDestination.execute\u001b[1;34m(self)\u001b[0m\n\u001b[0;32m     92\u001b[0m analyzer \u001b[38;5;241m=\u001b[39m OriginClosestDestination(\u001b[38;5;28mself\u001b[39m\u001b[38;5;241m.\u001b[39m_analysis_input)\n\u001b[0;32m     94\u001b[0m \u001b[38;5;28;01mif\u001b[39;00m \u001b[38;5;28mself\u001b[39m\u001b[38;5;241m.\u001b[39manalysis\u001b[38;5;241m.\u001b[39mcalculate_route_without_disruption:\n\u001b[0;32m     95\u001b[0m     (\n\u001b[0;32m     96\u001b[0m         base_graph,\n\u001b[0;32m     97\u001b[0m         opt_routes_without_hazard,\n\u001b[0;32m     98\u001b[0m         destinations,\n\u001b[1;32m---> 99\u001b[0m     ) \u001b[38;5;241m=\u001b[39m \u001b[43manalyzer\u001b[49m\u001b[38;5;241;43m.\u001b[39;49m\u001b[43moptimal_route_origin_closest_destination\u001b[49m\u001b[43m(\u001b[49m\u001b[43m)\u001b[49m\n\u001b[0;32m    101\u001b[0m     \u001b[38;5;28;01mif\u001b[39;00m \u001b[38;5;28mself\u001b[39m\u001b[38;5;241m.\u001b[39mgraph_file_hazard\u001b[38;5;241m.\u001b[39mfile \u001b[38;5;129;01mis\u001b[39;00m \u001b[38;5;28;01mNone\u001b[39;00m:\n\u001b[0;32m    102\u001b[0m         origins \u001b[38;5;241m=\u001b[39m analyzer\u001b[38;5;241m.\u001b[39mload_origins()\n",
                        "File \u001b[1;32m~\\bitbucket\\ra2ce\\ra2ce\\analysis\\losses\\origin_closest_destination.py:90\u001b[0m, in \u001b[0;36mOriginClosestDestination.optimal_route_origin_closest_destination\u001b[1;34m(self)\u001b[0m\n\u001b[0;32m     87\u001b[0m graph \u001b[38;5;241m=\u001b[39m \u001b[38;5;28mself\u001b[39m\u001b[38;5;241m.\u001b[39mgraph_file\u001b[38;5;241m.\u001b[39mget_graph()\n\u001b[0;32m     89\u001b[0m \u001b[38;5;66;03m# Load the origins and destinations\u001b[39;00m\n\u001b[1;32m---> 90\u001b[0m origins \u001b[38;5;241m=\u001b[39m \u001b[38;5;28;43mself\u001b[39;49m\u001b[38;5;241;43m.\u001b[39;49m\u001b[43mload_origins\u001b[49m\u001b[43m(\u001b[49m\u001b[43m)\u001b[49m\n\u001b[0;32m     91\u001b[0m destinations \u001b[38;5;241m=\u001b[39m \u001b[38;5;28mself\u001b[39m\u001b[38;5;241m.\u001b[39mload_destinations()\n\u001b[0;32m     93\u001b[0m \u001b[38;5;66;03m# Create a copy of the graph to save all the results in\u001b[39;00m\n",
                        "File \u001b[1;32m~\\bitbucket\\ra2ce\\ra2ce\\analysis\\losses\\origin_closest_destination.py:816\u001b[0m, in \u001b[0;36mOriginClosestDestination.load_origins\u001b[1;34m(self)\u001b[0m\n\u001b[0;32m    815\u001b[0m \u001b[38;5;28;01mdef\u001b[39;00m \u001b[38;5;21mload_origins\u001b[39m(\u001b[38;5;28mself\u001b[39m) \u001b[38;5;241m-\u001b[39m\u001b[38;5;241m>\u001b[39m gpd\u001b[38;5;241m.\u001b[39mGeoDataFrame:\n\u001b[1;32m--> 816\u001b[0m     od_path \u001b[38;5;241m=\u001b[39m \u001b[38;5;28;43mself\u001b[39;49m\u001b[38;5;241;43m.\u001b[39;49m\u001b[43mstatic_path\u001b[49m\u001b[38;5;241;43m.\u001b[39;49m\u001b[43mjoinpath\u001b[49m(\n\u001b[0;32m    817\u001b[0m         \u001b[38;5;124m\"\u001b[39m\u001b[38;5;124moutput_graph\u001b[39m\u001b[38;5;124m\"\u001b[39m, \u001b[38;5;124m\"\u001b[39m\u001b[38;5;124morigin_destination_table.feather\u001b[39m\u001b[38;5;124m\"\u001b[39m\n\u001b[0;32m    818\u001b[0m     )\n\u001b[0;32m    819\u001b[0m     od \u001b[38;5;241m=\u001b[39m gpd\u001b[38;5;241m.\u001b[39mread_feather(od_path)\n\u001b[0;32m    820\u001b[0m     origin \u001b[38;5;241m=\u001b[39m od\u001b[38;5;241m.\u001b[39mloc[od[\u001b[38;5;124m\"\u001b[39m\u001b[38;5;124mo_id\u001b[39m\u001b[38;5;124m\"\u001b[39m]\u001b[38;5;241m.\u001b[39mnotna()]\n",
                        "\u001b[1;31mAttributeError\u001b[0m: 'NoneType' object has no attribute 'joinpath'"
                    ]
                }
            ],
            "source": [
                "# Run analysis\n",
                "_handler = Ra2ceHandler.from_config(_network_config_data, _analysis_config_data)\n",
                "_handler.configure()\n",
                "_handler.run_analysis()"
            ]
        },
        {
            "attachments": {},
            "cell_type": "markdown",
            "id": "6630c8bf",
            "metadata": {},
            "source": [
                "## Origin closest destination analyses"
            ]
        },
        {
            "attachments": {},
            "cell_type": "markdown",
            "id": "d82b418a",
            "metadata": {},
            "source": [
                "## Origin closest destination without hazard"
            ]
        },
        {
            "attachments": {},
            "cell_type": "markdown",
            "id": "8148969f",
            "metadata": {},
            "source": [
                "Firstly, define the folder in which the data exist:"
            ]
        },
        {
            "cell_type": "code",
            "execution_count": null,
            "id": "7d4f53e4",
            "metadata": {},
            "outputs": [],
            "source": [
                "# specify the path to the folder holding the RA2CE folder and input data\n",
                "root_dir = Path (\"data\", \"origin_destination_analysis_without_hazard\")"
            ]
        },
        {
            "cell_type": "code",
            "execution_count": null,
            "id": "abf4b5e2",
            "metadata": {},
            "outputs": [],
            "source": [
                "origins_inspection = root_dir/\"static\"/\"network\"/\"origins.shp\"\n",
                "origins_gdf = gpd.read_file(origins_inspection, driver = \"SHP\")\n",
                "origins_gdf.head()\n",
                "origins_gdf.explore(column = \"POPULATION\", cmap = \"viridis_r\", tiles=\"CartoDB dark_matter\")"
            ]
        },
        {
            "cell_type": "code",
            "execution_count": null,
            "id": "f2976b34",
            "metadata": {},
            "outputs": [],
            "source": [
                "destinations_inspection = root_dir/\"static\"/\"network\"/\"destinations.shp\"\n",
                "destinations_gdf = gpd.read_file(destinations_inspection, driver = \"SHP\")\n",
                "destinations_gdf.explore(column = \"category\", cmap = ['Blue', 'Green'], tiles=\"CartoDB dark_matter\")"
            ]
        },
        {
            "cell_type": "code",
            "execution_count": null,
            "id": "df9200a3",
            "metadata": {},
            "outputs": [],
            "source": [
                "origins_gdf.head()"
            ]
        },
        {
            "cell_type": "code",
            "execution_count": null,
            "id": "b38c8ca3",
            "metadata": {},
            "outputs": [],
            "source": [
                "destinations_gdf.head()"
            ]
        },
        {
            "attachments": {},
            "cell_type": "markdown",
            "id": "789cbb2d",
            "metadata": {},
            "source": [
                "### Specifying the .ini files"
            ]
        },
        {
            "attachments": {},
            "cell_type": "markdown",
            "id": "40fb11e7",
            "metadata": {},
            "source": [
                "Now, to tell RA2CE how to use the origins and destinations, the user needs to specify the file names in the network.ini.\n",
                "\n",
                "*Notice how you can keep the [network] parameters the same as in the RA2CE Basics example. RA2CE will automatically use the graph you have already created. Or, if you want to create a new graph, it can run both processes consecutively.*"
            ]
        },
        {
            "attachments": {},
            "cell_type": "markdown",
            "id": "dc6f86a2",
            "metadata": {},
            "source": [
                "**Network.ini content**\n",
                "<br>\n",
                "<br>\n",
                "> [project]<br>\n",
                "name = beira<br>\n",
                "<br>\n",
                "[network]<br>\n",
                "**directed = False<br>\n",
                "source = OSM download<br>\n",
                "primary_file = None<br>\n",
                "diversion_file = None<br>\n",
                "file_id = rfid_c<br>\n",
                "polygon = region_polygon.geojson<br>\n",
                "network_type = drive<br>\n",
                "road_types = motorway,motorway_link,primary,primary_link,secondary,secondary_link,tertiary,tertiary_link,residential<br>\n",
                "save_gpkg = True**<br>\n",
                "<br>\n",
                "[origins_destinations]<br>\n",
                "**origins = origins.shp<br>\n",
                "destinations = destinations.shp<br>\n",
                "origins_names = A<br>\n",
                "destinations_names = B<br>\n",
                "id_name_origin_destination = OBJECTID<br>\n",
                "origin_count = POPULATION<br>\n",
                "origin_out_fraction = 1<br>\n",
                "category = category**<br>\n",
                "<br>\n",
                "*[hazard]<br>\n",
                "hazard_map = None<br>\n",
                "hazard_id = None<br>\n",
                "hazard_field_name = None<br>\n",
                "aggregate_wl = None<br>\n",
                "hazard_crs = None<br>\n",
                "<br>\n",
                "[cleanup]<br>\n",
                "snapping_threshold = None<br>\n",
                "segmentation_length = None<br>\n",
                "merge_lines = True<br>\n",
                "merge_on_id = False<br>\n",
                "cut_at_intersections = False<br>*"
            ]
        },
        {
            "attachments": {},
            "cell_type": "markdown",
            "id": "fbb43999",
            "metadata": {},
            "source": [
                "We now need to update our analysis initialisation files using the preferred OD-analysis (there are multiple). For now we will consider the **optimal_route_origin_closest_destination** analysis. This analysis finds from each origin location, the closest destination per category. Another analysis that RA2CE offers is an OD analysis which tries to find routes from all origins to all destinations, but we won't run that one in this example. All types of losses analyses can be found [here](https://deltares.github.io/ra2ce/analysis_module/analysis_module.html#indirect-losses-network-criticality).\n",
                "\n",
                "Navigate to the folder on your local machine with which you want to perform the analysis, and change the analysis.ini accordingly. Weighing defines the criterium based on which the optimal routes will be defined. It accepts *time* as well."
            ]
        },
        {
            "attachments": {},
            "cell_type": "markdown",
            "id": "75db7bc1",
            "metadata": {},
            "source": [
                "**Analysis.ini content**\n",
                "<br>\n",
                "<br>\n",
                "> [project] <br>\n",
                "name = beira <br>\n",
                "<br>\n",
                "[analysis1]<br>\n",
                "name = multilink origin closest destination without hazard<br>\n",
                "analysis = multi_link_origin_closest_destination<br>\n",
                "aggregate_wl = None<br>\n",
                "threshold = None<br>\n",
                "weighing = distance<br>\n",
                "calculate_route_without_disruption = True<br>\n",
                "save_gpkg = True<br>\n",
                "save_csv = True<br>\n",
                "<br>"
            ]
        },
        {
            "attachments": {},
            "cell_type": "markdown",
            "id": "3a57528f",
            "metadata": {},
            "source": [
                "Set the paths to the initialization files and check if the files exist."
            ]
        },
        {
            "cell_type": "code",
            "execution_count": null,
            "id": "de8393a2",
            "metadata": {},
            "outputs": [],
            "source": [
                "\n",
                "_network_ini_name = \"network.ini\" #set the name for the network.ini\n",
                "_analysis_ini_name = \"analysis.ini\" #set the name for the analysis.ini\n",
                "\n",
                "network_ini = root_dir / _network_ini_name\n",
                "assert network_ini.is_file()\n",
                "\n",
                "analysis_ini = root_dir / _analysis_ini_name\n",
                "assert analysis_ini.is_file()"
            ]
        },
        {
            "attachments": {},
            "cell_type": "markdown",
            "id": "8bc05216",
            "metadata": {},
            "source": [
                "Run RA2CE. Notice the information RA2CE gives you. Education locations are referred to as D1 (destination 1) and hospital locations as D2 (destination 2)."
            ]
        },
        {
            "cell_type": "code",
            "execution_count": null,
            "id": "89acf590",
            "metadata": {},
            "outputs": [],
            "source": [
                "handler = Ra2ceHandler(network=network_ini, analysis=analysis_ini)\n",
                "handler.configure()\n",
                "handler.run_analysis()"
            ]
        },
        {
            "attachments": {},
            "cell_type": "markdown",
            "id": "97e562c5",
            "metadata": {},
            "source": [
                "## Origin closest destination with hazard"
            ]
        },
        {
            "attachments": {},
            "cell_type": "markdown",
            "id": "88d5abdc",
            "metadata": {},
            "source": [
                "Firstly, define the folder in which the data exist:"
            ]
        },
        {
            "cell_type": "code",
            "execution_count": null,
            "id": "830e9148",
            "metadata": {},
            "outputs": [],
            "source": [
                "# specify the path to the folder holding the RA2CE folder and input data\n",
                "root_dir = Path (\".\\\\data\\\\origin_destination_analysis_with_hazard\")"
            ]
        },
        {
            "attachments": {},
            "cell_type": "markdown",
            "id": "5601a063",
            "metadata": {},
            "source": [
                "Secondly, we need a flood map! We have an example flood map in our example folder. Let's inspect it.\n",
                "\n",
                "*Note: the flood map needs to be in **.tif** format*"
            ]
        },
        {
            "cell_type": "code",
            "execution_count": null,
            "id": "01d3d84d",
            "metadata": {},
            "outputs": [],
            "source": [
                "hazard_folder = root_dir / \"static\" / \"hazard\" # find the hazard folder where you locate your floo dmap\n",
                "hazard_map = hazard_folder / \"max_flood_depth.tif\" # set the location of the hazard map\n",
                "\n",
                "# Open the TIF file using rasterio\n",
                "with rasterio.open(hazard_map) as src:\n",
                "    # Read the TIF file as a numpy array\n",
                "    tif_array = src.read(1)  # Change the band index (1) if necessary\n",
                "\n",
                "plt.figure(figsize=(10, 10))\n",
                "plt.imshow(tif_array, cmap='Blues')  # Change the colormap if desired\n",
                "plt.colorbar(label='Pixel Values')\n",
                "plt.title('Flood map')\n",
                "plt.show()\n"
            ]
        },
        {
            "attachments": {},
            "cell_type": "markdown",
            "id": "80f9cc77",
            "metadata": {},
            "source": [
                "To use the flood map with RA2CE, we need to fill in the **[hazard]** section in the network.ini. \n",
                "\n",
                "Specify the flood map name in the **hazard_map** parameter in network.ini. RA2CE expects the flood map to be located in the *hazard* folder. The **aggregate_wl** parameter in analysis.ini can be set to either 'max', 'min' or 'mean' to take the maximum, minimum or mean water depth per road segment when the exposure of the roads to a certain hazard (map) is determined.<br>\n",
                "\n",
                "Set the right CRS for the flood map in the **hazard_crs** parameter. This CRS can be different from the origins, destinations and road network. RA2CE will reproject the network to the CRS of the flood map and will reproject the road back to the original CRS when the CRS differs."
            ]
        },
        {
            "attachments": {},
            "cell_type": "markdown",
            "id": "91f52105",
            "metadata": {},
            "source": [
                "You can run a RA2CE analysis with only the hazard overlay on the roads. The results can be found in the output_graph folder. The data with *'\\*_hazard'*, contains the result of the overlay with the hazard. Here, we will load the data from the example graph folder. \n",
                "\n",
                "*If you want to practice with this, create a new project folder where you specify the hazard map and perform the hazard analysis with RA2CE*\n",
                "\n",
                "Notice the column **EV1_ma**. This refers to the hazard. This column holds the water depth of the road segment. 'EV1' stands for 'Event 1' (you can run multiple flood maps, the column results will be called EV1, EV2, EV3, etc.). '_ma' refers to maximum flood depth, which is the parameter specified in the network.ini. We always use the maximum water depth for the OD analysis because a vehicle can only use a road segment when it can drive through the largest water depth on that road segment."
            ]
        },
        {
            "attachments": {},
            "cell_type": "markdown",
            "id": "70b7e1ca",
            "metadata": {},
            "source": [
                "### Specifying the .ini files"
            ]
        },
        {
            "attachments": {},
            "cell_type": "markdown",
            "id": "4ac9d1bb",
            "metadata": {},
            "source": [
                "Now, to tell RA2CE how to use the origins and destinations, the user needs to specify the file names in the network.ini.\n",
                "\n",
                "*Notice how you can keep the [network] parameters the same as in the RA2CE Basics example. RA2CE will automatically use the graph you have already created. Or, if you want to create a new graph, it can run both processes consecutively.*"
            ]
        },
        {
            "attachments": {},
            "cell_type": "markdown",
            "id": "becbb696",
            "metadata": {},
            "source": [
                "**Network.ini content**\n",
                "<br>\n",
                "<br>\n",
                "> [project]<br>\n",
                "name = beira<br>\n",
                "<br>\n",
                "[network]<br>\n",
                "**directed = False<br>\n",
                "source = OSM download<br>\n",
                "primary_file = None<br>\n",
                "diversion_file = None<br>\n",
                "file_id = rfid_c<br>\n",
                "polygon = region_polygon.geojson<br>\n",
                "network_type = drive<br>\n",
                "road_types = motorway,motorway_link,primary,primary_link,secondary,secondary_link,tertiary,tertiary_link,residential<br>\n",
                "save_gpkg = True**<br>\n",
                "<br>\n",
                "[origins_destinations]<br>\n",
                "**origins = origins.shp<br>\n",
                "destinations = destinations.shp<br>\n",
                "origins_names = A<br>\n",
                "destinations_names = B<br>\n",
                "id_name_origin_destination = OBJECTID<br>\n",
                "origin_count = POPULATION<br>\n",
                "origin_out_fraction = 1<br>\n",
                "category = category**<br>\n",
                "<br>\n",
                "[hazard]<br>\n",
                "**hazard_map = max_flood_depth.tif<br>\n",
                "hazard_id = None<br>\n",
                "hazard_field_name = waterdepth<br>\n",
                "aggregate_wl = max<br>\n",
                "hazard_crs = EPSG:32736**<br>\n",
                "<br>\n",
                "*[cleanup]<br>\n",
                "snapping_threshold = None<br>\n",
                "segmentation_length = None<br>\n",
                "merge_lines = True<br>\n",
                "merge_on_id = False<br>\n",
                "cut_at_intersections = False<br>*"
            ]
        },
        {
            "attachments": {},
            "cell_type": "markdown",
            "id": "d68820ae",
            "metadata": {},
            "source": [
                "We now need to update our analysis initialisation files using the preferred OD-analysis (there are multiple). For now we will consider the **optimal_route_origin_closest_destination** analysis. This analysis finds from each origin location, the closest accessible non-flooded destination per category. Another analysis that RA2CE offers is an OD analysis which tries to find routes from all origins to all destinations, but we won't run that one in this example. All types of losses analyses can be found [here](https://deltares.github.io/ra2ce/analysis_module/analysis_module.html#indirect-losses-network-criticality).\n",
                "\n",
                "Navigate to the folder on your local machine with which you want to perform the analysis, and change the analysis.ini accordingly.\n",
                "\n",
                "With the **aggregate_wl** parameter, the user can choose which type of aggregation of the water level on the road segment (max, mean, min) the analysis should consider. The **threshold** is the hazard intensity which determines road disruption, in this case it is set to 0.5, which relates to 0.5 m of water depth on the road segment. Weighing defines the criterium based on which the optimal routes will be defined. It accepts *time* as well. The analysis considers **distance** as measure for finding the optimal routes. With the parameter **calculate_route_without_disruption** set to True, RA2CE will calculate the routes with hazard disruption *and without*. Finally, with the parameters **save_gpkg** and **save_csv** the user can choose to save or not save resulting output shapefiles/gpkg (we are in a transition from shp to gpkg)/csvs."
            ]
        },
        {
            "attachments": {},
            "cell_type": "markdown",
            "id": "938a0454",
            "metadata": {},
            "source": [
                "**Analysis.ini content**\n",
                "<br>\n",
                "<br>\n",
                "> [project] <br>\n",
                "name = beira <br>\n",
                "<br>\n",
                "[analysis1]<br>\n",
                "name = multi_link origin closest destination<br>\n",
                "analysis = multi_link_origin_closest_destination<br>\n",
                "aggregate_wl = max<br>\n",
                "threshold = 0.5<br>\n",
                "weighing = distance<br>\n",
                "calculate_route_without_disruption = True<br>\n",
                "save_gpkg = True<br>\n",
                "save_csv = True<br>\n",
                "<br>"
            ]
        },
        {
            "attachments": {},
            "cell_type": "markdown",
            "id": "650e0797",
            "metadata": {},
            "source": [
                "Set the paths to the initialization files and check if the files exist."
            ]
        },
        {
            "cell_type": "code",
            "execution_count": null,
            "id": "5a017a29",
            "metadata": {},
            "outputs": [],
            "source": [
                "\n",
                "_network_ini_name = \"network.ini\" #set the name for the network.ini\n",
                "_analysis_ini_name = \"analysis.ini\" #set the name for the analysis.ini\n",
                "\n",
                "network_ini = root_dir / _network_ini_name\n",
                "assert network_ini.is_file()\n",
                "\n",
                "analysis_ini = root_dir / _analysis_ini_name\n",
                "assert analysis_ini.is_file()"
            ]
        },
        {
            "attachments": {},
            "cell_type": "markdown",
            "id": "b4815d9b",
            "metadata": {},
            "source": [
                "Run RA2CE. Notice the information RA2CE gives you. Education locations are referred to as D1 (destination 1) and hospital locations as D2 (destination 2)."
            ]
        },
        {
            "cell_type": "code",
            "execution_count": null,
            "id": "fdd2b259",
            "metadata": {
                "scrolled": true
            },
            "outputs": [],
            "source": [
                "handler = Ra2ceHandler(network=network_ini, analysis=analysis_ini)\n",
                "handler.configure()\n",
                "handler.run_analysis()"
            ]
        },
        {
            "attachments": {},
            "cell_type": "markdown",
            "id": "a29bba14",
            "metadata": {},
            "source": [
                "## Inspecting results\n",
                "Let's do some output exploration!"
            ]
        },
        {
            "cell_type": "code",
            "execution_count": null,
            "id": "7f460c43",
            "metadata": {},
            "outputs": [],
            "source": [
                "analysis_output_path = root_dir / \"output\" / \"multi_link_origin_closest_destination\"\n",
                "gdf = gpd.read_file(analysis_output_path / 'multi_link_origin_closest_destination_destinations.gpkg')\n",
                "gdf.head() #show the origins"
            ]
        },
        {
            "attachments": {},
            "cell_type": "markdown",
            "id": "75d9cee7",
            "metadata": {},
            "source": [
                "Notice the different columns. Especially the columns 'EV1_ma_PD1' and 'EV1_ma_PD2' are of interest. They refer to 'EV1' (event 1), maximum water depth (ma) and Destination 1 (education) or 2 (hospital)."
            ]
        },
        {
            "attachments": {},
            "cell_type": "markdown",
            "id": "82c0c2e2",
            "metadata": {},
            "source": [
                "Below, we visualise which origins have access to their closest destination, given the disruption of the road network because of the flood. \n",
                "\n",
                "*Note: below we visualize the access to education (D1).*"
            ]
        },
        {
            "cell_type": "code",
            "execution_count": null,
            "id": "e3ac9a08",
            "metadata": {},
            "outputs": [],
            "source": [
                "gdf_education = gdf[gdf['category']=='education']\n",
                "gdf_education['access_PD1'] = gdf_education.apply(lambda row: '1' if row['EV1_ma_PD1'] > 0 else '0', axis=1)\n",
                "gdf_education.explore(column='access_PD1', cmap=['red', 'green'], tiles=\"CartoDB dark_matter\")"
            ]
        },
        {
            "attachments": {},
            "cell_type": "markdown",
            "id": "830bd48d",
            "metadata": {},
            "source": [
                "We can also check the access to the hospitals:"
            ]
        },
        {
            "cell_type": "code",
            "execution_count": null,
            "id": "6fb0b346",
            "metadata": {},
            "outputs": [],
            "source": [
                "gdf_hospital = gdf[gdf['category']=='hospital']\n",
                "gdf_hospital['access_PD2'] = gdf_hospital.apply(lambda row: '1' if row['EV1_ma_PD2'] > 0 else '0', axis=1)\n",
                "gdf_hospital.explore(column='access_PD2', cmap=['red', 'green'], tiles=\"CartoDB dark_matter\")"
            ]
        },
        {
            "attachments": {},
            "cell_type": "markdown",
            "id": "060dc7e8",
            "metadata": {},
            "source": [
                "What RA2CE also provides are optimal routes to a destination. In this case, since we use the origin **closest** destination analysis, the routes will be centered around the destination. For every origin that still has access, RA2CE computes the optimal route to that closest destination. \n",
                "\n",
                "If we want to visualize this in a way that shows the routes clearly, it requires some filtering. You for example need to filter the destination of interest. You can do this here or in a GIS software. The optimal routes are shown with a colour scheme which represents the temporal difference between the optimal routes with and without the hazard. "
            ]
        },
        {
            "cell_type": "code",
            "execution_count": null,
            "id": "d5292506",
            "metadata": {},
            "outputs": [],
            "source": [
                "origin_gdf = gpd.read_file(analysis_output_path / 'multi_link_origin_closest_destination_origins.gpkg') # read in the origins\n",
                "destinations_gdf = gpd.read_file(analysis_output_path / 'multi_link_origin_closest_destination_destinations.gpkg') # read in the destination\n",
                "optimal_routes_with_hazard_gdf = gpd.read_file(analysis_output_path / 'multi_link_origin_closest_destination_optimal_routes_with_hazard.gpkg') # read in the optimal routes given the hazard"
            ]
        },
        {
            "cell_type": "code",
            "execution_count": null,
            "id": "c618977e",
            "metadata": {},
            "outputs": [],
            "source": [
                "b_4_gdf = destinations_gdf[destinations_gdf['d_id']=='B_4'] # filter on destination B4\n",
                "optimal_routes_b_4_with_hazard_gdf = optimal_routes_with_hazard_gdf[optimal_routes_with_hazard_gdf['destination'] == 'B_4'] # filter on destination B4\n",
                "origins_with_optimal_route_b_4 = origin_gdf[origin_gdf['o_id'].isin(optimal_routes_b_4_with_hazard_gdf['origin'])] # both the origins and the destinations file hold destination information\n",
                "\n",
                "optimal_routes_b_4_with_harard_map = optimal_routes_b_4_with_hazard_gdf.explore(column='difference', tiles=\"CartoDB dark_matter\")\n",
                "b_4_map = b_4_gdf.explore(m=optimal_routes_b_4_with_harard_map, color='blue', marker_kwds={'radius':10}, tiles=\"CartoDB dark_matter\")\n",
                "origins_with_optimal_route_b_4.explore(m=b_4_map, color='green', marker_kwds={'radius':5}, tiles=\"CartoDB dark_matter\")"
            ]
        },
        {
            "attachments": {},
            "cell_type": "markdown",
            "id": "bc5619ff",
            "metadata": {},
            "source": [
                "Now lets visualise the optimal routes for the same destination for the situation before the occurance of the hazard. What are the differences with the after disaster situation?"
            ]
        },
        {
            "cell_type": "code",
            "execution_count": null,
            "id": "b9a93876",
            "metadata": {},
            "outputs": [],
            "source": [
                "optimal_routes_without_hazard_gdf = gpd.read_file(analysis_output_path / 'multi_link_origin_closest_destination_optimal_routes_without_hazard.gpkg') # read in the optimal routes given the hazard\n",
                "\n",
                "optimal_routes_b_4_without_hazard_gdf = optimal_routes_without_hazard_gdf[optimal_routes_without_hazard_gdf['destination'] == 'B_4'] # filter on destination B4\n",
                "origins_without_optimal_route_b_4 = origin_gdf[origin_gdf['o_id'].isin(optimal_routes_b_4_without_hazard_gdf['origin'])] # both the origins and the destinations file hold destination information\n",
                "\n",
                "optimal_routes_b_4_without_harard_map = optimal_routes_b_4_without_hazard_gdf.explore(color='white', tiles=\"CartoDB dark_matter\")\n",
                "b_4_map = b_4_gdf.explore(m=optimal_routes_b_4_without_harard_map, color='blue', marker_kwds={'radius':10}, tiles=\"CartoDB dark_matter\")\n",
                "origins_without_optimal_route_b_4.explore(m=b_4_map, color='green', marker_kwds={'radius':5}, tiles=\"CartoDB dark_matter\")"
            ]
        },
        {
            "attachments": {},
            "cell_type": "markdown",
            "id": "b9ea6062",
            "metadata": {},
            "source": [
                "Notice how some origins have access but are not directly on a road. This is becasuse RA2CE makes an assumption where the origins will 'enter' the road, by projecting the origin on the nearest road vertice. "
            ]
        },
        {
            "attachments": {},
            "cell_type": "markdown",
            "id": "85820c4c",
            "metadata": {},
            "source": [
                "It is also interesting to see how many people are cut-off from their nearest education location or hospital. We first show the the number of people that does not have access to any education location."
            ]
        },
        {
            "cell_type": "code",
            "execution_count": null,
            "id": "029f2702",
            "metadata": {},
            "outputs": [],
            "source": [
                "origins_gdf = gpd.read_file(analysis_output_path / 'multi_link_origin_closest_destination_origins.gpkg')\n",
                "no_access_gdf = origins_gdf[origins_gdf['EV1_ma_AD1']=='no access']\n",
                "no_access_gdf.explore(column='POPULATION', cmap='cool', marker_kwds={'radius':5}, tiles=\"CartoDB dark_matter\")"
            ]
        },
        {
            "attachments": {},
            "cell_type": "markdown",
            "id": "ab1d478d",
            "metadata": {},
            "source": [
                "And now the same for the hospitals:"
            ]
        },
        {
            "cell_type": "code",
            "execution_count": null,
            "id": "031e0629",
            "metadata": {},
            "outputs": [],
            "source": [
                "origins_gdf = gpd.read_file(analysis_output_path / 'multi_link_origin_closest_destination_origins.gpkg')\n",
                "no_access_gdf = origins_gdf[origins_gdf['EV1_ma_AD2']=='no access']\n",
                "\n",
                "no_access_gdf.explore(column='POPULATION', cmap='cool', marker_kwds={'radius':5}, tiles=\"CartoDB dark_matter\")"
            ]
        },
        {
            "attachments": {},
            "cell_type": "markdown",
            "id": "4bc47b72",
            "metadata": {},
            "source": [
                "These two maps almost look the same, are they? Are there just as many people isolated from any education location as from any hospital location? Let's check it in the results."
            ]
        },
        {
            "cell_type": "code",
            "execution_count": null,
            "id": "4368f83b",
            "metadata": {},
            "outputs": [],
            "source": [
                "origins_gdf = gpd.read_file(analysis_output_path / 'multi_link_origin_closest_destination_origins.gpkg')\n",
                "any_d1_d2_access = origins_gdf[(origins_gdf['EV1_ma_AD1']=='access') | (origins_gdf['EV1_ma_AD2']=='access')]\n",
                "any_d1_d2_no_access = origins_gdf[(origins_gdf['EV1_ma_AD1']=='no access') | (origins_gdf['EV1_ma_AD2']=='no access')]\n",
                "d1_d2_access = origins_gdf[(origins_gdf['EV1_ma_AD1']=='access') & (origins_gdf['EV1_ma_AD2']=='access')]\n",
                "d1_d2_no_access = origins_gdf[(origins_gdf['EV1_ma_AD1']=='no access') & (origins_gdf['EV1_ma_AD2']=='no access')]\n",
                "\n",
                "print(f\"How many population points have access to any educational or healthcare location? {any_d1_d2_access.shape[0]}\")\n",
                "print(f\"How many population points have no access to either any educational or healthcare location? {any_d1_d2_no_access.shape[0]}\")\n",
                "print(f\"How many population points have access to any educational and healthcare location? {d1_d2_access.shape[0]}\")\n",
                "print(f\"How many population points have no access to any educational and healthcare location? {d1_d2_no_access.shape[0]}\")"
            ]
        },
        {
            "attachments": {},
            "cell_type": "markdown",
            "id": "8c149685",
            "metadata": {},
            "source": [
                "Indeed, as we already saw in the maps all locations have either access to an education location ánd to a hospital or no access to either."
            ]
        }
    ],
    "metadata": {
        "kernelspec": {
            "display_name": "Python 3 (ipykernel)",
            "language": "python",
            "name": "python3"
        },
        "language_info": {
            "codemirror_mode": {
                "name": "ipython",
                "version": 3
            },
            "file_extension": ".py",
            "mimetype": "text/x-python",
            "name": "python",
            "nbconvert_exporter": "python",
            "pygments_lexer": "ipython3",
            "version": "3.10.13"
        }
    },
    "nbformat": 4,
    "nbformat_minor": 5
}
