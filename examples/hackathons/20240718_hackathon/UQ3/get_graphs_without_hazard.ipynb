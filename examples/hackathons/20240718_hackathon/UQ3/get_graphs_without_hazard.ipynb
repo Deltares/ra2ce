{
    "cells": [
        {
            "attachments": {},
            "cell_type": "markdown",
            "id": "e0bf8629",
            "metadata": {},
            "source": [
                "# RA2CE feature: Origin-destination analysis"
            ]
        },
        {
            "cell_type": "code",
            "execution_count": 4,
            "id": "e67d001f",
            "metadata": {},
            "outputs": [],
            "source": [
                "from pathlib import Path\n",
                "from ra2ce.network.network_config_data.enums.source_enum import SourceEnum\n",
                "from ra2ce.network.network_config_data.network_config_data import (\n",
                "    HazardSection,\n",
                "    NetworkConfigData,\n",
                "    NetworkSection,\n",
                ")\n",
                "from ra2ce.network.network_config_data.network_config_data import OriginsDestinationsSection\n",
                "from ra2ce.ra2ce_handler import Ra2ceHandler\n",
                "from ra2ce.network.network_config_data.enums.road_type_enum import RoadTypeEnum"
            ]
        },
        {
            "cell_type": "code",
            "execution_count": 5,
            "id": "737dfbc2",
            "metadata": {},
            "outputs": [],
            "source": [
                "_root_dir = Path(r'.\\get_graphs_without_hazard')\n",
                "_static_path = _root_dir.joinpath(\"static\")\n",
                "_output_path = _root_dir.joinpath(\"output\")\n",
                "_origin_path = _static_path.joinpath(\"network\", \"origins.shp\")\n",
                "_destination_path =_static_path.joinpath(\"network\", \"destinations.shp\")"
            ]
        },
        {
            "cell_type": "code",
            "execution_count": 6,
            "id": "0d6562dd",
            "metadata": {},
            "outputs": [],
            "source": [
                "network_polygon_file = _root_dir.joinpath(\"static\", \"network\", \"network_polygon.geojson\")\n",
                "assert network_polygon_file.exists()\n",
                "\n",
                "_network_section = NetworkSection(\n",
                "    source=SourceEnum.OSM_DOWNLOAD,  # Used to specify the shapefile name of the (road) network to do the analysis with, when creating a network from a shapefile.\n",
                "    polygon=network_polygon_file,\n",
                "    save_gpkg=True,\n",
                "    road_types=[\n",
                "        RoadTypeEnum.RESIDENTIAL, \n",
                "        RoadTypeEnum.TERTIARY, \n",
                "        RoadTypeEnum.UNCLASSIFIED, \n",
                "        RoadTypeEnum.SECONDARY, \n",
                "        RoadTypeEnum.PRIMARY, \n",
                "        RoadTypeEnum.TRUNK, \n",
                "        RoadTypeEnum.MOTORWAY\n",
                "        ],\n",
                ")\n",
                "\n",
                "_origin_destination_section = OriginsDestinationsSection(\n",
                "    origins=_origin_path,\n",
                "    destinations=_destination_path,\n",
                "    origins_names=\"A\",\n",
                "    destinations_names=\"B\",\n",
                "    id_name_origin_destination=\"OBJECTID\",\n",
                "    origin_count=\"POPULATION\",\n",
                "    origin_out_fraction=1,\n",
                "    category=\"category\",\n",
                ")\n",
                "\n",
                "\n",
                "_network_config_data = NetworkConfigData(\n",
                "    root_path=_root_dir,\n",
                "    static_path=_static_path,\n",
                "    output_path=_output_path,\n",
                "    network=_network_section,\n",
                "    origins_destinations=_origin_destination_section,\n",
                ")\n",
                "\n"
            ]
        },
        {
            "cell_type": "code",
            "execution_count": 8,
            "id": "85807136",
            "metadata": {},
            "outputs": [
                {
                    "name": "stderr",
                    "output_type": "stream",
                    "text": [
                        "c:\\repos\\ra2ce\\.env\\lib\\site-packages\\osmnx\\simplification.py:454: UserWarning: Geometry is in a geographic CRS. Results from 'buffer' are likely incorrect. Use 'GeoSeries.to_crs()' to re-project geometries to a projected CRS before this operation.\n",
                        "\n",
                        "  merged = utils_graph.graph_to_gdfs(G, edges=False)[\"geometry\"].buffer(tolerance).unary_union\n",
                        "c:\\repos\\ra2ce\\.env\\lib\\site-packages\\osmnx\\simplification.py:501: UserWarning: Geometry is in a geographic CRS. Results from 'centroid' are likely incorrect. Use 'GeoSeries.to_crs()' to re-project geometries to a projected CRS before this operation.\n",
                        "\n",
                        "  centroids = node_clusters.centroid\n",
                        "100%|██████████| 4607/4607 [00:00<00:00, 422133.45it/s]\n",
                        "2024-07-18 02:09:27 PM - [avg_speed_calculator.py:170] - root - WARNING - No valid file found with average speeds get_graphs_without_hazard\\static\\output_graph\\avg_speed.csv, calculating and saving them instead.\n",
                        "2024-07-18 02:09:27 PM - [avg_speed_calculator.py:170] - root - WARNING - No valid file found with average speeds get_graphs_without_hazard\\static\\output_graph\\avg_speed.csv, calculating and saving them instead.\n",
                        "2024-07-18 02:09:27 PM - [avg_speed_calculator.py:145] - root - WARNING - Default speed have been assigned to road type [<RoadTypeEnum.TRUNK: 3>]. Please check the average speed CSV, enter the right average speed for this road type and run RA2CE again.\n",
                        "2024-07-18 02:09:27 PM - [avg_speed_calculator.py:145] - root - WARNING - Default speed have been assigned to road type [<RoadTypeEnum.TRUNK: 3>]. Please check the average speed CSV, enter the right average speed for this road type and run RA2CE again.\n",
                        "2024-07-18 02:09:27 PM - [avg_speed_calculator.py:145] - root - WARNING - Default speed have been assigned to road type [<RoadTypeEnum.SECONDARY: 7>]. Please check the average speed CSV, enter the right average speed for this road type and run RA2CE again.\n",
                        "2024-07-18 02:09:27 PM - [avg_speed_calculator.py:145] - root - WARNING - Default speed have been assigned to road type [<RoadTypeEnum.SECONDARY: 7>]. Please check the average speed CSV, enter the right average speed for this road type and run RA2CE again.\n",
                        "c:\\repos\\ra2ce\\.env\\lib\\site-packages\\pyogrio\\raw.py:137: RuntimeWarning: driver ESRI Shapefile does not support open option CRS\n",
                        "  result = ogr_read(\n",
                        "c:\\repos\\ra2ce\\.env\\lib\\site-packages\\pyogrio\\raw.py:137: RuntimeWarning: driver ESRI Shapefile does not support open option CRS\n",
                        "  result = ogr_read(\n",
                        "Adding Origin-Destination nodes to graph: 117it [00:00, 1124.61it/s]\n"
                    ]
                }
            ],
            "source": [
                "# Run analysis\n",
                "_handler = Ra2ceHandler.from_config(_network_config_data, None)\n",
                "_handler.configure()"
            ]
        }
    ],
    "metadata": {
        "kernelspec": {
            "display_name": "Python 3 (ipykernel)",
            "language": "python",
            "name": "python3"
        },
        "language_info": {
            "codemirror_mode": {
                "name": "ipython",
                "version": 3
            },
            "file_extension": ".py",
            "mimetype": "text/x-python",
            "name": "python",
            "nbconvert_exporter": "python",
            "pygments_lexer": "ipython3",
            "version": "3.10.13"
        }
    },
    "nbformat": 4,
    "nbformat_minor": 5
}
