{
    "cells": [
        {
            "attachments": {},
            "cell_type": "markdown",
            "id": "e0bf8629",
            "metadata": {},
            "source": [
                "This notebook reads the origin and destination shapefiles, as well as teh network_polygon to generate base_graph, base_network, and od_base_graph. This happens once."
            ]
        },
        {
            "cell_type": "code",
            "execution_count": null,
            "id": "e67d001f",
            "metadata": {},
            "outputs": [],
            "source": [
                "from pathlib import Path\n",
                "from ra2ce.network.network_config_data.enums.source_enum import SourceEnum\n",
                "from ra2ce.network.network_config_data.network_config_data import (\n",
                "    HazardSection,\n",
                "    NetworkConfigData,\n",
                "    NetworkSection,\n",
                ")\n",
                "from ra2ce.network.network_config_data.network_config_data import OriginsDestinationsSection\n",
                "from ra2ce.ra2ce_handler import Ra2ceHandler\n",
                "from ra2ce.network.network_config_data.enums.road_type_enum import RoadTypeEnum"
            ]
        },
        {
            "cell_type": "code",
            "execution_count": null,
            "id": "737dfbc2",
            "metadata": {},
            "outputs": [],
            "source": [
                "_root_dir = Path(r'.\\exposure_and_od_analysis')\n",
                "_static_path = _root_dir.joinpath(\"static\")\n",
                "_output_path = _root_dir.joinpath(\"output\")\n",
                "_origin_path = _static_path.joinpath(\"network\", \"origins.shp\")\n",
                "_destination_path =_static_path.joinpath(\"network\", \"destinations.shp\")"
            ]
        },
        {
            "cell_type": "code",
            "execution_count": null,
            "id": "0d6562dd",
            "metadata": {},
            "outputs": [],
            "source": [
                "network_polygon_file = _root_dir.joinpath(\"static\", \"network\", \"network_polygon.geojson\")\n",
                "assert network_polygon_file.exists()\n",
                "\n",
                "_network_section = NetworkSection(\n",
                "    source=SourceEnum.OSM_DOWNLOAD,  # Used to specify the shapefile name of the (road) network to do the analysis with, when creating a network from a shapefile.\n",
                "    polygon=network_polygon_file,\n",
                "    save_gpkg=True,\n",
                "    road_types=[\n",
                "        RoadTypeEnum.RESIDENTIAL, \n",
                "        RoadTypeEnum.TERTIARY, \n",
                "        RoadTypeEnum.UNCLASSIFIED, \n",
                "        RoadTypeEnum.SECONDARY, \n",
                "        RoadTypeEnum.PRIMARY, \n",
                "        RoadTypeEnum.TRUNK, \n",
                "        RoadTypeEnum.MOTORWAY\n",
                "        ],\n",
                ")\n",
                "\n",
                "_origin_destination_section = OriginsDestinationsSection(\n",
                "    origins=_origin_path,\n",
                "    destinations=_destination_path,\n",
                "    origins_names=\"A\",\n",
                "    destinations_names=\"B\",\n",
                "    id_name_origin_destination=\"OBJECTID\",\n",
                "    origin_count=\"POPULATION\",\n",
                "    origin_out_fraction=1,\n",
                "    category=\"category\",\n",
                ")\n",
                "\n",
                "\n",
                "_network_config_data = NetworkConfigData(\n",
                "    root_path=_root_dir,\n",
                "    static_path=_static_path,\n",
                "    output_path=_output_path,\n",
                "    network=_network_section,\n",
                "    origins_destinations=_origin_destination_section,\n",
                ")\n",
                "\n"
            ]
        },
        {
            "cell_type": "code",
            "execution_count": null,
            "id": "85807136",
            "metadata": {},
            "outputs": [],
            "source": [
                "# Run analysis\n",
                "_handler = Ra2ceHandler.from_config(_network_config_data, None)\n",
                "_handler.configure()"
            ]
        }
    ],
    "metadata": {
        "kernelspec": {
            "display_name": "Python 3 (ipykernel)",
            "language": "python",
            "name": "python3"
        },
        "language_info": {
            "codemirror_mode": {
                "name": "ipython",
                "version": 3
            },
            "file_extension": ".py",
            "mimetype": "text/x-python",
            "name": "python",
            "nbconvert_exporter": "python",
            "pygments_lexer": "ipython3",
            "version": "3.10.13"
        }
    },
    "nbformat": 4,
    "nbformat_minor": 5
}
