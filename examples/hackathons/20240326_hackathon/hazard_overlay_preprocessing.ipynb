{
 "cells": [
  {
   "cell_type": "markdown",
   "metadata": {},
   "source": [
    "# Introduction\n",
    "This notebook is created during the hackathon on East Africa (March 2024).\n",
    "It downloads an OSM network based on the combined extent of the various regions that are provided as input folders, containing a file `gis\\region.geojson`.\n",
    "\n",
    "## General imports"
   ]
  },
  {
   "cell_type": "code",
   "execution_count": 1,
   "metadata": {},
   "outputs": [],
   "source": [
    "import geopandas as gpd\n",
    "import pandas as pd\n",
    "from pathlib import Path\n",
    "from shapely import geometry, Polygon\n",
    "from osgeo import gdal, osr\n",
    "from shutil import copyfile"
   ]
  },
  {
   "cell_type": "markdown",
   "metadata": {},
   "source": [
    "## RA2CE imports and constants"
   ]
  },
  {
   "cell_type": "code",
   "execution_count": 2,
   "metadata": {},
   "outputs": [],
   "source": [
    "from ra2ce.network.network_config_data.enums.network_type_enum import NetworkTypeEnum\n",
    "from ra2ce.network.network_config_data.enums.road_type_enum import RoadTypeEnum\n",
    "from ra2ce.network.network_config_data.network_config_data import NetworkConfigData, NetworkSection\n",
    "from ra2ce.network.network_wrappers.osm_network_wrapper.osm_network_wrapper import OsmNetworkWrapper\n",
    "from ra2ce.network.exporters.geodataframe_network_exporter import GeoDataFrameNetworkExporter\n",
    "from ra2ce.network.exporters.multi_graph_network_exporter import MultiGraphNetworkExporter\n",
    "\n",
    "INPUT_FOLDER = Path('P:\\moonshot2-casestudy\\SFINCS\\models')\n",
    "INPUT_FLOODMAP_FOLDER = 'floodmaps_wgs84'\n",
    "OUTPUT_FOLDER = Path('P:\\moonshot2-casestudy\\RA2CE')\n",
    "OUTPUT_FLOODMAP_FOLDER = 'floodmaps'"
   ]
  },
  {
   "cell_type": "markdown",
   "metadata": {},
   "source": [
    "## Determine the polygon of the total extent of the regions\n",
    "The extent of each region is read from file `region.geojson` and appended in a GeoDataFrame.\n",
    "From this GeoDataFrame a Polygon is extracted."
   ]
  },
  {
   "cell_type": "code",
   "execution_count": null,
   "metadata": {},
   "outputs": [],
   "source": [
    "# Loop over region folders and concatenate the extents\n",
    "_combined_gdf = gpd.GeoDataFrame()\n",
    "for _region in [f for f in INPUT_FOLDER.iterdir() if f.is_dir()]:\n",
    "    _extent_file = _region.joinpath('gis', 'region.geojson')\n",
    "    assert _extent_file.is_file()\n",
    "    _gdf = gpd.read_file(_extent_file)\n",
    "    _combined_gdf = pd.concat([_combined_gdf, _gdf.to_crs(4326)], ignore_index=True)\n",
    "\n",
    "# Extract polygon of the total extent spanning the concatenated regions\n",
    "_total_extent = _combined_gdf.total_bounds\n",
    "_polygon = Polygon(geometry.box(*_total_extent))\n",
    "\n",
    "# Write polygon (not required)\n",
    "_polygon_file = INPUT_FOLDER.joinpath('polygon.geojson')\n",
    "_polygon_gdf = gpd.GeoDataFrame(index=[0], geometry=[_polygon], crs='epsg:4326')\n",
    "_polygon_gdf.to_file(_polygon_file, driver='GeoJSON')\n",
    "\n",
    "# Write the combined extent to a new file (not required)\n",
    "_combined_extent_file = INPUT_FOLDER.joinpath('combined_extent.geojson')\n",
    "_combined_geojson = _combined_gdf.to_json()\n",
    "with open(_combined_extent_file, 'w') as f:\n",
    "    f.write(_combined_geojson)\n",
    "\n"
   ]
  },
  {
   "cell_type": "markdown",
   "metadata": {},
   "source": [
    "## Create network\n",
    "The network is downloaded from OSM based on the given polygon."
   ]
  },
  {
   "cell_type": "code",
   "execution_count": null,
   "metadata": {},
   "outputs": [],
   "source": [
    "# Read network from polygon\n",
    "_road_type_list = [RoadTypeEnum.MOTORWAY, RoadTypeEnum.MOTORWAY_LINK, RoadTypeEnum.TRUNK, RoadTypeEnum.TRUNK_LINK, RoadTypeEnum.PRIMARY, RoadTypeEnum.PRIMARY_LINK, RoadTypeEnum.SECONDARY, RoadTypeEnum.SECONDARY_LINK, RoadTypeEnum.TERTIARY, RoadTypeEnum.TERTIARY_LINK]\n",
    "_network_section = NetworkSection(network_type=NetworkTypeEnum.DRIVE, road_types=_road_type_list, save_gpkg=True)\n",
    "_config_data = NetworkConfigData(network=_network_section, static_path=OUTPUT_FOLDER.joinpath('static'))\n",
    "_network_wrapper = OsmNetworkWrapper.with_polygon(_config_data, _polygon)\n"
   ]
  },
  {
   "cell_type": "markdown",
   "metadata": {},
   "source": [
    "## Export the network to file"
   ]
  },
  {
   "cell_type": "code",
   "execution_count": null,
   "metadata": {},
   "outputs": [],
   "source": [
    "[_graph, _gdf] = _network_wrapper.get_network()\n",
    "\n",
    "# Export the graph\n",
    "_exporter = MultiGraphNetworkExporter(basename='base_graph', export_types=['gpkg', 'pickle'])\n",
    "_exporter.export(export_path=Path(OUTPUT_FOLDER).joinpath('static', 'output_graph'), export_data=_graph)\n",
    "\n",
    "# Export the network\n",
    "_exporter = GeoDataFrameNetworkExporter(basename='base_network', export_types=['gpkg', 'pickle'])\n",
    "_exporter.export(export_path=Path(OUTPUT_FOLDER).joinpath('static', 'output_graph'), export_data=_gdf)\n"
   ]
  },
  {
   "cell_type": "markdown",
   "metadata": {},
   "source": [
    "## Prepare floodmaps"
   ]
  },
  {
   "cell_type": "code",
   "execution_count": null,
   "metadata": {},
   "outputs": [],
   "source": [
    "# Reproject and save the floodmaps\n",
    "_output_folder = OUTPUT_FOLDER.joinpath(OUTPUT_FLOODMAP_FOLDER)\n",
    "if not _output_folder.exists():\n",
    "    _output_folder.mkdir(parents=True)\n",
    "\n",
    "def check_projection(file) -> bool:\n",
    "    _input_ds = gdal.Open(str(file))\n",
    "    _source_proj = _input_ds.GetProjection()\n",
    "    _srs = osr.SpatialReference(wkt=_source_proj)\n",
    "    if not _srs.IsProjected:\n",
    "        return False\n",
    "    return _srs.GetAttrValue('geogcs') == 'WGS 84'\n",
    "\n",
    "for _region in [f for f in INPUT_FOLDER.iterdir() if f.is_dir()]:\n",
    "    _models_dir = _region.joinpath(INPUT_FLOODMAP_FOLDER)\n",
    "    for _floodmap in _models_dir.iterdir():\n",
    "        _output_file = _output_folder.joinpath(_floodmap.name)\n",
    "        if not check_projection(_floodmap):\n",
    "            raise ValueError(f'Floodmap {_floodmap} is not in the right projection')\n",
    "        copyfile(_floodmap, _output_file)"
   ]
  }
 ],
 "metadata": {
  "kernelspec": {
   "display_name": "Python 3",
   "language": "python",
   "name": "python3"
  },
  "language_info": {
   "codemirror_mode": {
    "name": "ipython",
    "version": 3
   },
   "file_extension": ".py",
   "mimetype": "text/x-python",
   "name": "python",
   "nbconvert_exporter": "python",
   "pygments_lexer": "ipython3",
   "version": "3.10.13"
  }
 },
 "nbformat": 4,
 "nbformat_minor": 2
}
