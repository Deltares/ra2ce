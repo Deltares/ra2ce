{
 "cells": [
  {
   "cell_type": "markdown",
   "metadata": {},
   "source": [
    "# Manual Damage Curves Tutorial\n",
    "\n",
    "This tutorial demonstrates how to perform a **damage analysis using custom/manual damage curves** in RA2CE.  \n",
    "Manual curves allow you to define site-specific or locally calibrated hazard–damage relationships rather than relying on generic reference curves.\n",
    "\n",
    "This is particularly useful when:\n",
    "\n",
    "- You have local historical damage data.\n",
    "- You want to account for specific infrastructure types.\n",
    "- You need to test alternative vulnerability scenarios."
   ]
  },
  {
   "cell_type": "markdown",
   "metadata": {},
   "source": [
    "----\n",
    "\n",
    "## Step 1: Define project paths\n",
    "\n",
    "As usual, define your project folder and subdirectories:"
   ]
  },
  {
   "cell_type": "code",
   "execution_count": 1,
   "metadata": {},
   "outputs": [],
   "source": [
    "from pathlib import Path\n",
    "\n",
    "root_dir = Path(\"data\", \"damage_manual\")\n",
    "static_path = root_dir.joinpath(\"static\")\n",
    "hazard_path = static_path.joinpath(\"hazard\")\n",
    "network_path = static_path.joinpath(\"network\")\n",
    "output_path = root_dir.joinpath(\"output\")"
   ]
  },
  {
   "cell_type": "markdown",
   "metadata": {},
   "source": [
    "----\n",
    "## Step 2: Configure the road network and hazard\n",
    "\n",
    "The network is downloaded from **OpenStreetMap (OSM)**, clipped to a region polygon (`polygon.geojson`).  \n",
    "We specify which **road types** should be included in the analysis."
   ]
  },
  {
   "cell_type": "code",
   "execution_count": 2,
   "metadata": {},
   "outputs": [
    {
     "name": "stderr",
     "output_type": "stream",
     "text": [
      "c:\\Users\\hauth\\miniforge3\\envs\\ra2ce_env\\Lib\\site-packages\\tqdm\\auto.py:21: TqdmWarning: IProgress not found. Please update jupyter and ipywidgets. See https://ipywidgets.readthedocs.io/en/stable/user_install.html\n",
      "  from .autonotebook import tqdm as notebook_tqdm\n"
     ]
    }
   ],
   "source": [
    "from ra2ce.network.network_config_data.enums.road_type_enum import RoadTypeEnum\n",
    "from ra2ce.network.network_config_data.enums.source_enum import SourceEnum\n",
    "from ra2ce.network.network_config_data.enums.network_type_enum import NetworkTypeEnum\n",
    "from ra2ce.network.network_config_data.network_config_data import NetworkSection\n",
    "from ra2ce.ra2ce_handler import Ra2ceHandler\n",
    "\n",
    "\n",
    "network_section = NetworkSection(\n",
    "    network_type=NetworkTypeEnum.DRIVE,\n",
    "    source=SourceEnum.OSM_DOWNLOAD,\n",
    "    polygon=static_path.joinpath(\"polygon.geojson\"),\n",
    "    save_gpkg=True,\n",
    "    road_types=[\n",
    "        RoadTypeEnum.SECONDARY,\n",
    "        RoadTypeEnum.SECONDARY_LINK,\n",
    "        RoadTypeEnum.PRIMARY,\n",
    "        RoadTypeEnum.PRIMARY_LINK,\n",
    "        RoadTypeEnum.TRUNK,\n",
    "        RoadTypeEnum.MOTORWAY,\n",
    "        RoadTypeEnum.MOTORWAY_LINK,\n",
    "    ],\n",
    ")"
   ]
  },
  {
   "cell_type": "markdown",
   "metadata": {},
   "source": [
    "We provide hazard input in the form of **GeoTIFF raster files** (e.g., flood depth maps).  \n",
    "RA2CE will overlay these rasters with the road network to compute hazard intensities for each asset."
   ]
  },
  {
   "cell_type": "code",
   "execution_count": 3,
   "metadata": {},
   "outputs": [],
   "source": [
    "from ra2ce.network.network_config_data.enums.aggregate_wl_enum import AggregateWlEnum\n",
    "from ra2ce.network.network_config_data.network_config_data import HazardSection\n",
    "\n",
    "hazard_section = HazardSection(\n",
    "    hazard_map=[Path(file) for file in hazard_path.glob(\"*.tif\")],\n",
    "    aggregate_wl=AggregateWlEnum.MEAN,  # mean water depth used in analysis\n",
    "    hazard_crs=\"EPSG:4326\",  # ensure hazard map is in EPSG:4326 projection\n",
    ")"
   ]
  },
  {
   "cell_type": "markdown",
   "metadata": {},
   "source": [
    "We combine the network and hazard information into a single configuration object."
   ]
  },
  {
   "cell_type": "code",
   "execution_count": 4,
   "metadata": {},
   "outputs": [],
   "source": [
    "from ra2ce.network.network_config_data.network_config_data import NetworkConfigData\n",
    "\n",
    "network_config_data = NetworkConfigData(\n",
    "    root_path=root_dir,\n",
    "    static_path=static_path,\n",
    "    network=network_section,\n",
    "    hazard=hazard_section\n",
    ")\n",
    "network_config_data.network.save_gpkg = True"
   ]
  },
  {
   "cell_type": "markdown",
   "metadata": {},
   "source": [
    "----\n",
    "## Step 3: Define the damage analysis\n",
    "\n",
    "Here, we specify that RA2CE should perform a **damage analysis** using **manual damage curves (MAN)** with the class [AnalysisSectionDamages](../api/ra2ce.analysis.analysis_config_data.html#ra2ce.analysis.analysis_config_data.analysis_config_data.AnalysisSectionDamages){.api-ref} and the attribute `damage_curve` set to [DamageCurveEnum.MAN](../api/ra2ce.analysis.analysis_config_data.enums.html#ra2ce.analysis.analysis_config_data.enums.damage_curve_enum.DamageCurveEnum.MAN){.api-ref}\n",
    "For manual damage curves, it is important to also specify the input data in the folder path in the config `input_path`. This is the location where the custom manual curves will be defined and placed (see next step).\n",
    "\n",
    "The event type can be set to EVENT if damages are to be calculated for the hazard maps only (example below), or to RETURN_PERIOD if the analysis should estimate risk over a specified return period (see tutorial )."
   ]
  },
  {
   "cell_type": "code",
   "execution_count": null,
   "id": "3dc2947b",
   "metadata": {},
   "outputs": [],
   "source": []
  },
  {
   "cell_type": "code",
   "execution_count": 5,
   "metadata": {},
   "outputs": [],
   "source": [
    "from ra2ce.analysis.damages.damages import AnalysisSectionDamages\n",
    "from ra2ce.analysis.analysis_config_data.enums.analysis_damages_enum import AnalysisDamagesEnum\n",
    "from ra2ce.analysis.analysis_config_data.enums.event_type_enum import EventTypeEnum\n",
    "from ra2ce.analysis.analysis_config_data.enums.damage_curve_enum import DamageCurveEnum\n",
    "from ra2ce.analysis.analysis_config_data.analysis_config_data import AnalysisConfigData\n",
    "\n",
    "damages_analysis = [AnalysisSectionDamages(\n",
    "    name='damages_reference_curve_manual',\n",
    "    analysis=AnalysisDamagesEnum.DAMAGES,\n",
    "    event_type=EventTypeEnum.EVENT,\n",
    "    damage_curve=DamageCurveEnum.MAN,  # use manual damage curve\n",
    "    save_csv=True,\n",
    "    save_gpkg=True\n",
    ")]\n",
    "\n",
    "analysis_config_data = AnalysisConfigData(\n",
    "    analyses=damages_analysis,\n",
    "    output_path=output_path,\n",
    "    input_path=root_dir.joinpath(\"input_data\")\n",
    ")"
   ]
  },
  {
   "cell_type": "markdown",
   "metadata": {},
   "source": [
    "----\n",
    "## Step 4: Create damage curve files\n",
    "\n",
    "In the manual situation, two input files are expected:\n",
    "\n",
    "1. A file that specifies the **shape of the vulnerability curve**:\n",
    "   - x-axis = hazard intensity (e.g. water depth in cm)\n",
    "   - y-axis = damage fraction (0–1, representing the % of total construction cost)\n",
    "\n",
    "2. A file that specifies the **construction costs** per road type and number of lanes.\n",
    "\n",
    "Both files should be placed in the folder `input_data/damage_functions/all_road_types/`."
   ]
  },
  {
   "cell_type": "markdown",
   "metadata": {},
   "source": [
    "### Vulnerability curve (hazard severity vs. damage fraction)\n",
    "\n",
    "The file `hazard_severity_damage_fraction.csv` looks like:\n",
    "```text\n",
    "depth;damage\n",
    "cm;% of total construction costs\n",
    "0;0\n",
    "100;0.1\n",
    "200;0.2\n",
    "400;0.4\n",
    "800;0.8\n",
    "12000;1\n",
    "```\n",
    "\n",
    "Where:\n",
    "- `depth` = water depth in **cm**\n",
    "- `damage` = damage fraction (0–1, relative to construction cost)"
   ]
  },
  {
   "cell_type": "code",
   "execution_count": 6,
   "metadata": {},
   "outputs": [
    {
     "data": {
      "image/png": "[encoded data removed]",
      "text/plain": [
       "<Figure size 640x480 with 1 Axes>"
      ]
     },
     "metadata": {},
     "output_type": "display_data"
    }
   ],
   "source": [
    "import matplotlib.pyplot as plt\n",
    "import pandas as pd\n",
    "\n",
    "input_data_path = root_dir.joinpath(\"input_data\")\n",
    "vuln_curves = pd.read_csv(input_data_path.joinpath(\"damage_functions\", \"all_road_types\",\"hazard_severity_damage_fraction.csv\"), delimiter=\";\")\n",
    "\n",
    "plt.plot(vuln_curves[\"depth\"], vuln_curves[\"damage\"], marker=\"o\")\n",
    "plt.xlabel(\"Depth [cm]\")\n",
    "plt.ylabel(\"Damage fraction\")\n",
    "plt.title(\"Manual vulnerability curve\")\n",
    "plt.grid(True)\n",
    "plt.show()"
   ]
  },
  {
   "cell_type": "markdown",
   "metadata": {},
   "source": [
    "![Manual vulnerability curve](/_resources/figures/manual_vuln_curve.png)"
   ]
  },
  {
   "cell_type": "markdown",
   "metadata": {},
   "source": [
    "### Maximum construction costs per road type and lanes\n",
    "\n",
    "The file `max_damage_road_types.csv` looks like:\n",
    "```text\n",
    "Road_type \\ lanes;1;2;3;4;5;6;7;8\n",
    "unit;euro/m;euro/m;euro/m;euro/m;euro/m;euro/m;euro/m;euro/m\n",
    "tertiary_link;110;120;130;140;150;130;140;150\n",
    "tertiary;110;120;130;140;150;130;140;150\n",
    "trunk;110;120;130;140;150;130;140;150\n",
    "trunk_link;110;120;130;140;150;130;140;150\n",
    "secondary_link;11;12;13;14;15;13;14;15\n",
    "secondary;11;12;13;14;15;13;14;15\n",
    "primary_link;11;12;13;14;15;13;14;15\n",
    "primary;11;12;13;14;15;13;14;15\n",
    "residential;1100;1200;1300;1400;1500;1300;1400;1500\n",
    "['tertiary', 'residential'];510;520;530;540;550;530;540;550\n",
    "motorway;1100;1200;1300;1400;1500;1300;1400;1500\n",
    "motorway_link;510;520;530;540;550;530;540;550\n",
    "```"
   ]
  },
  {
   "cell_type": "markdown",
   "metadata": {},
   "source": [
    "> **Note**\n",
    ">\n",
    "> - The *first file* defines the shape of the damage curve (hazard → damage fraction).\n",
    "> - The *second file* defines the maximum construction costs per road type and lane count.\n",
    "> - Together, they allow RA2CE to estimate damages in absolute currency units."
   ]
  },
  {
   "cell_type": "markdown",
   "id": "059effee",
   "metadata": {},
   "source": [
    "----\n",
    "## Step 5: Run the analysis"
   ]
  },
  {
   "cell_type": "code",
   "execution_count": 7,
   "id": "b6e0c6ca",
   "metadata": {},
   "outputs": [
    {
     "name": "stderr",
     "output_type": "stream",
     "text": [
      "c:\\Users\\hauth\\miniforge3\\envs\\ra2ce_env\\Lib\\site-packages\\osmnx\\simplification.py:513: UserWarning: Geometry is in a geographic CRS. Results from 'buffer' are likely incorrect. Use 'GeoSeries.to_crs()' to re-project geometries to a projected CRS before this operation.\n",
      "\n",
      "  merged = convert.graph_to_gdfs(G, edges=False)[\"geometry\"].buffer(tolerance).unary_union\n",
      "c:\\Users\\hauth\\miniforge3\\envs\\ra2ce_env\\Lib\\site-packages\\osmnx\\simplification.py:560: UserWarning: Geometry is in a geographic CRS. Results from 'centroid' are likely incorrect. Use 'GeoSeries.to_crs()' to re-project geometries to a projected CRS before this operation.\n",
      "\n",
      "  centroids = node_clusters.centroid\n",
      "100%|██████████| 127/127 [00:00<00:00, 126827.76it/s]\n",
      "2025-10-01 05:05:17 PM - [avg_speed_calculator.py:175] - root - WARNING - No valid file found with average speeds data\\damage_manual\\static\\output_graph\\avg_speed.csv, calculating and saving them instead.\n",
      "Graph hazard overlay with flood100: 100%|██████████| 109/109 [00:00<00:00, 184.69it/s]\n",
      "Graph fraction with hazard overlay with flood100: 100%|██████████| 109/109 [01:00<00:00,  1.81it/s]\n",
      "Graph hazard overlay with flood1000: 100%|██████████| 109/109 [00:00<00:00, 229.58it/s]\n",
      "Graph fraction with hazard overlay with flood1000: 100%|██████████| 109/109 [01:16<00:00,  1.42it/s]\n",
      "2025-10-01 05:07:37 PM - [hazard_intersect_builder_for_tif.py:225] - root - WARNING - Some geometries have NoneType objects (no coordinate information), namely: Empty GeoDataFrame\n",
      "Columns: [osmid, oneway, lanes, ref, highway, maxspeed, reversed, length, rfid_c, rfid, avgspeed, time, bridge, name, junction, geometry]\n",
      "Index: [].This could be due to segmentation, and might cause an exception in hazard overlay\n",
      "Network hazard overlay with flood100: 100%|██████████| 2727/2727 [00:02<00:00, 910.21it/s] \n",
      "Network fraction with hazard overlay with flood100: 100%|██████████| 2727/2727 [00:12<00:00, 209.88it/s]\n",
      "Network hazard overlay with flood1000: 100%|██████████| 2727/2727 [00:03<00:00, 880.10it/s] \n",
      "Network fraction with hazard overlay with flood1000: 100%|██████████| 2727/2727 [00:17<00:00, 156.20it/s]\n",
      "2025-10-01 05:08:14 PM - [damage_network_base.py:121] - root - WARNING - Of the 2727 road segments, only 1568 had lane data, so for 1159 the '\n",
      "                                    lane data will be interpolated from the existing data\n",
      "2025-10-01 05:08:15 PM - [damage_network_base.py:134] - root - WARNING - Interpolated the missing lane data as follows: {'motorway': 2.0, 'primary': 2.0, 'secondary': 2.0, 'trunk': 1.0}\n"
     ]
    },
    {
     "data": {
      "text/plain": [
       "[DamagesResultWrapper(segment_based_result=AnalysisResult(analysis_result=                                osmid  oneway  lanes  ref     infra_type  \\\n",
       " u           v          key                                                 \n",
       " 42002848    4336238970 0    435722626    True    3.0   N2          trunk   \n",
       " 42003549    5284280675 0    215573156    True    2.0  A79       motorway   \n",
       "             5284280682 0    254696086    True    2.0   A2       motorway   \n",
       " 42004326    3744093239 0    254696086    True    2.0   A2       motorway   \n",
       " 42005137    2832217846 0    720205318    True    1.0  A79  motorway_link   \n",
       " ...                               ...     ...    ...  ...            ...   \n",
       " 12680821393 42080697   0      6773022   False    2.0  nan      secondary   \n",
       "             42080429   0      6773022   False    2.0  nan      secondary   \n",
       " 12696408646 2540119540 0      6773079   False    2.0  nan      secondary   \n",
       "             42083916   0      6773079   False    2.0  nan      secondary   \n",
       " 13073531942 4659465278 0    435562863    True    2.0  A79       motorway   \n",
       " \n",
       "                            maxspeed  reversed   length  rfid_c  rfid  ...  \\\n",
       " u           v          key                                            ...   \n",
       " 42002848    4336238970 0         80     False  121.954       1     1  ...   \n",
       " 42003549    5284280675 0        100     False   31.186       2     2  ...   \n",
       "             5284280682 0        100     False   43.429       3     3  ...   \n",
       " 42004326    3744093239 0        100     False   26.171       4     3  ...   \n",
       " 42005137    2832217846 0         80     False   54.061       5    99  ...   \n",
       " ...                             ...       ...      ...     ...   ...  ...   \n",
       " 12680821393 42080697   0         50     False   29.033    2723    45  ...   \n",
       "             42080429   0         50      True   22.549    2724    54  ...   \n",
       " 12696408646 2540119540 0         50     False   33.712    2725    78  ...   \n",
       "             42083916   0         50      True    2.818    2726    95  ...   \n",
       " 13073531942 4659465278 0        100     False   23.232    2727   124  ...   \n",
       " \n",
       "                             F_EV1_me  F_EV1_fr F_EV2_mi F_EV2_ma  F_EV2_me  \\\n",
       " u           v          key                                                   \n",
       " 42002848    4336238970 0         NaN       1.0      NaN      NaN       NaN   \n",
       " 42003549    5284280675 0         NaN       1.0      NaN      NaN       NaN   \n",
       "             5284280682 0         NaN       1.0      NaN      NaN       NaN   \n",
       " 42004326    3744093239 0         NaN       1.0      NaN      NaN       NaN   \n",
       " 42005137    2832217846 0    1.000000       1.0      1.0      2.0  1.166667   \n",
       " ...                              ...       ...      ...      ...       ...   \n",
       " 12680821393 42080697   0    4.090909       1.0      5.0      5.0  5.000000   \n",
       "             42080429   0    3.750000       1.0      3.0      5.0  4.437500   \n",
       " 12696408646 2540119540 0    1.000000       1.0      1.0      1.0  1.000000   \n",
       "             42083916   0    1.000000       1.0      1.0      2.0  1.666667   \n",
       " 13073531942 4659465278 0    1.416667       1.0      1.0      3.0  2.000000   \n",
       " \n",
       "                            F_EV2_fr  road_type  lanes_copy  dam_EV1_al  \\\n",
       " u           v          key                                               \n",
       " 42002848    4336238970 0        1.0      trunk         3.0         NaN   \n",
       " 42003549    5284280675 0        1.0   motorway         2.0         NaN   \n",
       "             5284280682 0        1.0   motorway         2.0         NaN   \n",
       " 42004326    3744093239 0        1.0   motorway         2.0         NaN   \n",
       " 42005137    2832217846 0        1.0   motorway         1.0      2757.0   \n",
       " ...                             ...        ...         ...         ...   \n",
       " 12680821393 42080697   0        1.0  secondary         2.0       143.0   \n",
       "             42080429   0        1.0  secondary         2.0       101.0   \n",
       " 12696408646 2540119540 0        1.0  secondary         2.0        40.0   \n",
       "             42083916   0        1.0  secondary         2.0         3.0   \n",
       " 13073531942 4659465278 0        1.0   motorway         2.0      3949.0   \n",
       " \n",
       "                             dam_EV2_al  \n",
       " u           v          key              \n",
       " 42002848    4336238970 0           NaN  \n",
       " 42003549    5284280675 0           NaN  \n",
       "             5284280682 0           NaN  \n",
       " 42004326    3744093239 0           NaN  \n",
       " 42005137    2832217846 0        3217.0  \n",
       " ...                                ...  \n",
       " 12680821393 42080697   0         174.0  \n",
       "             42080429   0         120.0  \n",
       " 12696408646 2540119540 0          40.0  \n",
       "             42083916   0           6.0  \n",
       " 13073531942 4659465278 0        5576.0  \n",
       " \n",
       " [2727 rows x 28 columns], analysis_config=AnalysisSectionDamages(name='damages_reference_curve_manual', save_gpkg=True, save_csv=True, analysis=<AnalysisDamagesEnum.DAMAGES: 1>, representative_damage_percentage=100, event_type=<EventTypeEnum.EVENT: 1>, damage_curve=<DamageCurveEnum.MAN: 3>, risk_calculation_mode=<RiskCalculationModeEnum.NONE: 0>, risk_calculation_year=0, create_table=False, file_name=None), output_path=WindowsPath('data/damage_manual/output'), _custom_name='damages_reference_curve_manual_segmented'), link_based_result=AnalysisResult(analysis_result=              u            v  key  \\\n",
       " 0      42002848   3510081992    0   \n",
       " 1      42002848     42005643    0   \n",
       " 2      42002848   2832217848    0   \n",
       " 3      42003549   1912827603    0   \n",
       " 4      42003549   2119022099    0   \n",
       " ..          ...          ...  ...   \n",
       " 104  2587147852   2832217848    0   \n",
       " 105  3441582565   3441582576    0   \n",
       " 106  3475087790   3475088037    0   \n",
       " 107  9646055861   9646055863    0   \n",
       " 108  9646055861  10036651817    0   \n",
       " \n",
       "                                                  osmid  oneway       lanes  \\\n",
       " 0                                            435722626    True           3   \n",
       " 1                                             72400805    True           2   \n",
       " 2                               [720205318, 284802951]    True           1   \n",
       " 3                               [382923864, 215573156]    True  ['3', '2']   \n",
       " 4    [337060729, 254696086, 7125689, 7125692, 10930...    True           2   \n",
       " ..                                                 ...     ...         ...   \n",
       " 104                             [369221729, 720205319]    True           1   \n",
       " 105                             [337060737, 587459365]    True           2   \n",
       " 106                  [340294690, 340294691, 340294686]    True  ['1', '2']   \n",
       " 107                                            6779700    True           1   \n",
       " 108                                            6779700    True           1   \n",
       " \n",
       "      ref        highway maxspeed reversed  ...    EV1_me EV1_fr    EV2_me  \\\n",
       " 0     N2          trunk       80    False  ...  1.000000    1.0  1.000000   \n",
       " 1     N2          trunk       80    False  ...       NaN    1.0       NaN   \n",
       " 2    A79  motorway_link       80    False  ...  2.837607    1.0  3.508065   \n",
       " 3    A79       motorway      100    False  ...  4.592040    1.0  4.892019   \n",
       " 4     A2       motorway      100    False  ...  4.510000    1.0  4.539823   \n",
       " ..   ...            ...      ...      ...  ...       ...    ...       ...   \n",
       " 104  A79       motorway      100    False  ...  4.330798    1.0  4.637363   \n",
       " 105  nan        primary       50    False  ...  4.227273    1.0  3.323529   \n",
       " 106  nan        primary       50    False  ...  4.000000    1.0  4.062500   \n",
       " 107  nan      secondary       50    False  ...  1.000000    1.0  3.400000   \n",
       " 108  nan      secondary       50    False  ...  1.500000    1.0  2.444444   \n",
       " \n",
       "      EV2_fr                                dam_EV1_al_segments  dam_EV1_al  \\\n",
       " 0       1.0                                      [nan, 1364.0]      1364.0   \n",
       " 1       1.0                          [nan, nan, nan, nan, nan]         0.0   \n",
       " 2       1.0  [5581.0, 9553.0, 2757.0, nan, nan, nan, nan, 2...     27270.0   \n",
       " 3       1.0  [13464.0, 15332.0, nan, 8167.0, 10481.0, 8444....    191760.0   \n",
       " 4       1.0  [nan, nan, 12109.0, nan, nan, nan, nan, 2392.0...     84491.0   \n",
       " ..      ...                                                ...         ...   \n",
       " 104     1.0  [16409.0, 27780.0, 27231.0, 36025.0, 33800.0, ...    220478.0   \n",
       " 105     1.0  [27.0, nan, nan, 55.0, 34.0, 47.0, nan, 42.0, ...       405.0   \n",
       " 106     1.0                           [nan, nan, 123.0, 148.0]       271.0   \n",
       " 107     1.0                               [2.0, 2.0, 2.0, 2.0]         8.0   \n",
       " 108     1.0  [nan, nan, nan, nan, nan, nan, 2.0, nan, nan, ...        12.0   \n",
       " \n",
       "                                    dam_EV2_al_segments  dam_EV2_al  \\\n",
       " 0                                        [nan, 1364.0]      1364.0   \n",
       " 1                            [nan, nan, nan, nan, nan]         0.0   \n",
       " 2    [6725.0, 10747.0, 3217.0, nan, nan, nan, nan, ...     34419.0   \n",
       " 3    [13464.0, 15332.0, nan, 10209.0, 10500.0, 9703...    209378.0   \n",
       " 4    [nan, nan, 12109.0, 7222.0, nan, nan, nan, 340...    109199.0   \n",
       " ..                                                 ...         ...   \n",
       " 104  [19170.0, 20835.0, 28273.0, 33725.0, 39306.0, ...    226039.0   \n",
       " 105  [27.0, 24.0, nan, 55.0, 43.0, 47.0, 9.0, 42.0,...       480.0   \n",
       " 106                           [nan, nan, 127.0, 151.0]       278.0   \n",
       " 107                               [5.0, 8.0, 8.0, 8.0]        29.0   \n",
       " 108  [4.0, 2.0, nan, 2.0, 6.0, 7.0, 7.0, 7.0, 5.0, ...        84.0   \n",
       " \n",
       "                     name    junction  \n",
       " 0                    nan         nan  \n",
       " 1                    nan         nan  \n",
       " 2                    nan         nan  \n",
       " 3                    nan         nan  \n",
       " 4                    nan         nan  \n",
       " ..                   ...         ...  \n",
       " 104                  nan         nan  \n",
       " 105  Nieuwe Limmelderweg         nan  \n",
       " 106  Nieuwe Limmelderweg         nan  \n",
       " 107                  nan  roundabout  \n",
       " 108                  nan  roundabout  \n",
       " \n",
       " [109 rows x 27 columns], analysis_config=AnalysisSectionDamages(name='damages_reference_curve_manual', save_gpkg=True, save_csv=True, analysis=<AnalysisDamagesEnum.DAMAGES: 1>, representative_damage_percentage=100, event_type=<EventTypeEnum.EVENT: 1>, damage_curve=<DamageCurveEnum.MAN: 3>, risk_calculation_mode=<RiskCalculationModeEnum.NONE: 0>, risk_calculation_year=0, create_table=False, file_name=None), output_path=WindowsPath('data/damage_manual/output'), _custom_name='damages_reference_curve_manual_link_based'))]"
      ]
     },
     "execution_count": 7,
     "metadata": {},
     "output_type": "execute_result"
    }
   ],
   "source": [
    "Ra2ceHandler.run_with_config_data(network_config_data, analysis_config_data)"
   ]
  },
  {
   "cell_type": "markdown",
   "metadata": {},
   "source": [
    "----\n",
    "## Output\n",
    "\n",
    "The results of the manual damage analysis are provided in **two GeoPackage (GPKG) files**:\n",
    "\n",
    "- `damages_reference_curve_manual_link_based.gpkg`: damage estimates per **network link**\n",
    "- `damages_reference_curve_manual_segment.gpkg`: damage estimates per **100m segment**\n",
    "\n",
    "Key attributes of interest (in currency):\n",
    "\n",
    "- `dam_EV1_al` : estimated damage for the first flood map (manual method).\n",
    "- `dam_EV2_al` : estimated damage for the second flood map (manual method).\n",
    "\n",
    "You can open these files in GIS software (QGIS, ArcGIS) or load them in Python with GeoPandas:"
   ]
  },
  {
   "cell_type": "code",
   "execution_count": null,
   "metadata": {},
   "outputs": [],
   "source": [
    "import geopandas as gpd\n",
    "output_path = root_dir / \"output\" / 'damages'\n",
    "link_based = gpd.read_file(output_path / \"damages_reference_curve_manual_link_based.gpkg\")\n",
    "segment_based = gpd.read_file(output_path / \"damages_reference_curve_manual_segmented.gpkg\")\n",
    "\n",
    "# Inspect the first rows\n",
    "print(link_based.head())\n",
    "print(segment_based.head())"
   ]
  },
  {
   "cell_type": "markdown",
   "metadata": {},
   "source": [
    "You can open the results in GIS software to visualize which road segments are most affected by the hazard."
   ]
  }
 ],
 "metadata": {
  "kernelspec": {
   "display_name": "ra2ce_env",
   "language": "python",
   "name": "python3"
  },
  "language_info": {
   "codemirror_mode": {
    "name": "ipython",
    "version": 3
   },
   "file_extension": ".py",
   "mimetype": "text/x-python",
   "name": "python",
   "nbconvert_exporter": "python",
   "pygments_lexer": "ipython3",
   "version": "3.11.13"
  }
 },
 "nbformat": 4,
 "nbformat_minor": 5
}
