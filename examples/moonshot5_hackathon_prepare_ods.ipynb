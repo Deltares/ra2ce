{
 "cells": [
  {
   "cell_type": "code",
   "execution_count": 1,
   "metadata": {},
   "outputs": [
    {
     "name": "stderr",
     "output_type": "stream",
     "text": [
      "c:\\Users\\groen_fe\\.conda\\envs\\ra2ce_env\\lib\\site-packages\\geopandas\\_compat.py:112: UserWarning: The Shapely GEOS version (3.11.0-CAPI-1.17.0) is incompatible with the GEOS version PyGEOS was compiled with (3.10.4-CAPI-1.16.2). Conversions between both will be slow.\n",
      "  warnings.warn(\n"
     ]
    }
   ],
   "source": [
    "import geopandas as gpd"
   ]
  },
  {
   "cell_type": "markdown",
   "metadata": {},
   "source": [
    "Import the OD geopackage from the shared folder"
   ]
  },
  {
   "cell_type": "code",
   "execution_count": 28,
   "metadata": {},
   "outputs": [],
   "source": [
    "od_path = r\"C:\\Users\\groen_fe\\OneDrive - Stichting Deltares\\1_Projects\\Moonshot_5\\od\\od_matrix_2021_2023_geocoded_nlrtm_de_removed_duplicates.gpkg\"\n",
    "ods = gpd.read_file(od_path)"
   ]
  },
  {
   "cell_type": "code",
   "execution_count": 29,
   "metadata": {},
   "outputs": [
    {
     "data": {
      "text/plain": [
       "Index(['UNLO_herkomst', 'UNLO_bestemming', 'v38_Vervoerd_gewicht_sum',\n",
       "       'v38_Vervoerd_gewicht_count', 'v30_4_Containers_TEU_S_sum',\n",
       "       'v30_4_Containers_TEU_S_count', 'count_sum', 'count_count', 'geometry'],\n",
       "      dtype='object')"
      ]
     },
     "execution_count": 29,
     "metadata": {},
     "output_type": "execute_result"
    }
   ],
   "source": [
    "ods.columns"
   ]
  },
  {
   "cell_type": "markdown",
   "metadata": {},
   "source": [
    "Save the OD-matrix as an CSV."
   ]
  },
  {
   "cell_type": "code",
   "execution_count": 37,
   "metadata": {},
   "outputs": [
    {
     "data": {
      "text/plain": [
       "array(['NLRTM'], dtype=object)"
      ]
     },
     "execution_count": 37,
     "metadata": {},
     "output_type": "execute_result"
    }
   ],
   "source": [
    "# Filter out the trips that have no containers\n",
    "ods = ods.loc[ods[\"v30_4_Containers_TEU_S_sum\"] > 0]\n",
    "ods[\"UNLO_herkomst\"].unique()"
   ]
  },
  {
   "cell_type": "code",
   "execution_count": 41,
   "metadata": {},
   "outputs": [],
   "source": [
    "ods[['UNLO_herkomst', 'UNLO_bestemming', 'v38_Vervoerd_gewicht_sum',\n",
    "       'v38_Vervoerd_gewicht_count', 'v30_4_Containers_TEU_S_sum',\n",
    "       'v30_4_Containers_TEU_S_count', 'count_count']].to_csv(r\"C:\\Users\\groen_fe\\OneDrive - Stichting Deltares\\1_Projects\\Moonshot_5\\full_graph\\od_matrix.csv\", index=False)"
   ]
  },
  {
   "cell_type": "code",
   "execution_count": 31,
   "metadata": {},
   "outputs": [
    {
     "name": "stdout",
     "output_type": "stream",
     "text": [
      "['NLRTM']\n",
      "['DEDUI' 'DELUH' 'DEMAI' 'DENSS' 'DEEMM' 'DEMHG' 'DEKEH' 'DEKAE' 'DEDUS'\n",
      " 'DEFRA' 'DEMAL' 'DEDMG' 'DEWOR' 'DEBON' 'DEWES' 'DEAND' 'DEDTM' 'DEKOB'\n",
      " 'DEKRE' 'DEGER' 'DEGIG' 'DEESU' 'DECGN' 'DEWOE' 'DETRI' 'DEVRD' 'DEBRE'\n",
      " 'DERNH' 'DEHCS' 'DEWLR' 'DEGHM' 'DESTR' 'DEDRP' 'DESN2' 'DEBRV' 'DECUX']\n"
     ]
    }
   ],
   "source": [
    "# Check the unique origins and destinations \n",
    "print(ods[\"UNLO_herkomst\"].unique())\n",
    "print(ods[\"UNLO_bestemming\"].unique())"
   ]
  },
  {
   "cell_type": "markdown",
   "metadata": {},
   "source": [
    "The column 'UNLO_bestemming' contains the name of the location that the geometry is of. Take this column to get all of the locations of the destinations."
   ]
  },
  {
   "cell_type": "code",
   "execution_count": 18,
   "metadata": {},
   "outputs": [
    {
     "name": "stdout",
     "output_type": "stream",
     "text": [
      "Destinations left: 36\n"
     ]
    }
   ],
   "source": [
    "# Filter out the destinations that are in the Netherlands\n",
    "ods = ods.loc[(ods[\"UNLO_bestemming\"] != \"NLRTM\")]\n",
    "print(f\"Destinations left: {len(ods.index)}\")"
   ]
  },
  {
   "cell_type": "code",
   "execution_count": 20,
   "metadata": {},
   "outputs": [],
   "source": [
    "# Create the Destinations for RA2CE\n",
    "ds_for_race = gpd.GeoDataFrame()\n",
    "ds_for_race[\"geometry\"] = ods[\"geometry\"]\n",
    "ds_for_race[\"id\"] = range(1, len(ods.index) + 1)\n",
    "ds_for_race[\"name\"] = ods[\"UNLO_bestemming\"]\n",
    "ds_for_race[\"category\"] = \"destination\""
   ]
  },
  {
   "cell_type": "code",
   "execution_count": 22,
   "metadata": {},
   "outputs": [],
   "source": [
    "# Save the file\n",
    "ds_for_race.to_file(r\"C:\\Users\\groen_fe\\OneDrive - Stichting Deltares\\1_Projects\\Moonshot_5\\full_graph\\static\\network\\destinations.gpkg\", driver=\"GPKG\")"
   ]
  },
  {
   "cell_type": "markdown",
   "metadata": {},
   "source": [
    "ds"
   ]
  }
 ],
 "metadata": {
  "kernelspec": {
   "display_name": "ra2ce_env",
   "language": "python",
   "name": "python3"
  },
  "language_info": {
   "codemirror_mode": {
    "name": "ipython",
    "version": 3
   },
   "file_extension": ".py",
   "mimetype": "text/x-python",
   "name": "python",
   "nbconvert_exporter": "python",
   "pygments_lexer": "ipython3",
   "version": "3.10.12"
  },
  "orig_nbformat": 4
 },
 "nbformat": 4,
 "nbformat_minor": 2
}
