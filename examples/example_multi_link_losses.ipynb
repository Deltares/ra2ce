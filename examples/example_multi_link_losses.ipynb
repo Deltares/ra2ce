{
 "cells": [
  {
   "attachments": {},
   "cell_type": "markdown",
   "metadata": {},
   "source": [
    "# RA2CE feature: Losses analysis"
   ]
  },
  {
   "cell_type": "code",
   "execution_count": null,
   "metadata": {},
   "outputs": [],
   "source": [
    "from pathlib import Path\n",
    "import configparser\n",
    "from ra2ce.ra2ce_handler import Ra2ceHandler"
   ]
  },
  {
   "cell_type": "code",
   "execution_count": null,
   "metadata": {},
   "outputs": [],
   "source": [
    "def modify_ini(init_path: Path, alternatives: dict):\n",
    "\n",
    "    config = configparser.ConfigParser()\n",
    "    # Read the existing configuration from the file\n",
    "    config.read(init_path)\n",
    "\n",
    "    config.set(\"analysis1\", \"traffic_intensities_file\", alternatives[\"traffic_intensities_file\"])\n",
    "    config.set(\"analysis1\", \"resilience_curve_file\", alternatives[\"resilience_curve_file\"])\n",
    "    config.set(\"analysis1\", \"values_of_time_file\", alternatives[\"values_of_time_file\"])\n",
    "\n",
    "    # Write the updated configuration back to the file\n",
    "    with open(init_path, \"w\") as config_file:\n",
    "        config.write(config_file)"
   ]
  },
  {
   "cell_type": "markdown",
   "metadata": {},
   "source": [
    "## Single link losses Analysis"
   ]
  },
  {
   "cell_type": "code",
   "execution_count": null,
   "metadata": {},
   "outputs": [],
   "source": [
    "root_dir = Path(\".\\\\data\\\\single_link_losses\")\n",
    "root_dir_str = root_dir.absolute().as_posix()\n",
    "\n",
    "network_ini = root_dir / \"network.ini\"\n",
    "analysis_ini = root_dir / \"analysis.ini\""
   ]
  },
  {
   "cell_type": "code",
   "execution_count": null,
   "metadata": {},
   "outputs": [],
   "source": [
    "alternatives = {\n",
    "    \"traffic_intensities_file\": root_dir_str + \"/input_analysis_data/traffic_intensities.csv\",\n",
    "    \"resilience_curve_file\": root_dir_str + \"/input_analysis_data/resilience_curve.csv\",\n",
    "    \"values_of_time_file\": root_dir_str + \"/input_analysis_data/values_of_time.csv\"\n",
    "}\n",
    "modify_ini(analysis_ini, alternatives)"
   ]
  },
  {
   "cell_type": "code",
   "execution_count": null,
   "metadata": {},
   "outputs": [],
   "source": [
    "handler = Ra2ceHandler(network=network_ini, analysis=analysis_ini)\n",
    "\n",
    "handler.configure()\n",
    "handler.run_analysis()"
   ]
  },
  {
   "cell_type": "code",
   "execution_count": null,
   "metadata": {},
   "outputs": [],
   "source": [
    "reset = {\n",
    "    \"traffic_intensities_file\": \"None\",\n",
    "    \"resilience_curve_file\": \"None\",\n",
    "    \"values_of_time_file\": \"None\"\n",
    "}\n",
    "modify_ini(analysis_ini, reset)"
   ]
  },
  {
   "cell_type": "markdown",
   "metadata": {},
   "source": [
    "## Multi-link losses Analysis"
   ]
  },
  {
   "cell_type": "code",
   "execution_count": null,
   "metadata": {},
   "outputs": [],
   "source": [
    "root_dir_multi = Path(\".\\\\data\\\\multi_link_losses\")\n",
    "root_dir_str_multi = root_dir_multi.absolute().as_posix()\n",
    "\n",
    "network_ini_multi = root_dir_multi / \"network.ini\"\n",
    "analysis_ini_multi = root_dir_multi / \"analysis.ini\""
   ]
  },
  {
   "cell_type": "code",
   "execution_count": null,
   "metadata": {},
   "outputs": [],
   "source": [
    "alternatives = {\n",
    "    \"traffic_intensities_file\": root_dir_str_multi + \"/input_analysis_data/traffic_intensities.csv\",\n",
    "    \"resilience_curve_file\": root_dir_str_multi + \"/input_analysis_data/resilience_curve.csv\",\n",
    "    \"values_of_time_file\": root_dir_str_multi + \"/input_analysis_data/values_of_time.csv\"\n",
    "}\n",
    "modify_ini(analysis_ini_multi, alternatives)"
   ]
  },
  {
   "cell_type": "code",
   "execution_count": null,
   "metadata": {},
   "outputs": [],
   "source": [
    "handler_multi = Ra2ceHandler(network=network_ini_multi, analysis=analysis_ini_multi)\n",
    "\n",
    "handler_multi.configure()\n",
    "handler_multi.run_analysis()"
   ]
  },
  {
   "cell_type": "code",
   "execution_count": null,
   "metadata": {},
   "outputs": [],
   "source": [
    "reset = {\n",
    "    \"traffic_intensities_file\": \"None\",\n",
    "    \"resilience_curve_file\": \"None\",\n",
    "    \"values_of_time_file\": \"None\"\n",
    "}\n",
    "modify_ini(analysis_ini_multi, reset)"
   ]
  }
 ],
 "metadata": {
  "kernelspec": {
   "display_name": "ra2ce_env",
   "language": "python",
   "name": "python3"
  },
  "language_info": {
   "codemirror_mode": {
    "name": "ipython",
    "version": 3
   },
   "file_extension": ".py",
   "mimetype": "text/x-python",
   "name": "python",
   "nbconvert_exporter": "python",
   "pygments_lexer": "ipython3",
   "version": "3.10.13"
  }
 },
 "nbformat": 4,
 "nbformat_minor": 2
}
