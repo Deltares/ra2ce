{
 "cells": [
  {
   "cell_type": "code",
   "execution_count": 5,
   "metadata": {},
   "outputs": [],
   "source": [
    "from pathlib import Path\n",
    "\n",
    "root_dir = Path(\"data\", \"adaptation\")\n",
    "static_path = root_dir.joinpath(\"static\")\n",
    "hazard_path =static_path.joinpath(\"hazard\")\n",
    "network_path = static_path.joinpath(\"network\")\n",
    "output_path=root_dir.joinpath(\"output\")\n",
    "tif_files = list(hazard_path.glob(\"*.tif\"))"
   ]
  },
  {
   "cell_type": "code",
   "execution_count": 3,
   "metadata": {},
   "outputs": [
    {
     "name": "stderr",
     "output_type": "stream",
     "text": [
      "c:\\Users\\gunaratn\\AppData\\Local\\miniforge3\\envs\\ra2ce_env\\lib\\site-packages\\tqdm\\auto.py:21: TqdmWarning: IProgress not found. Please update jupyter and ipywidgets. See https://ipywidgets.readthedocs.io/en/stable/user_install.html\n",
      "  from .autonotebook import tqdm as notebook_tqdm\n"
     ]
    }
   ],
   "source": [
    "from ra2ce.ra2ce_handler import Ra2ceHandler\n",
    "from ra2ce.network.network_config_data.enums.aggregate_wl_enum import AggregateWlEnum\n",
    "from ra2ce.network.network_config_data.enums.source_enum import SourceEnum\n",
    "from ra2ce.network.network_config_data.network_config_data import (NetworkConfigData,NetworkSection,HazardSection,)\n",
    "from ra2ce.network.network_config_data.enums.aggregate_wl_enum import AggregateWlEnum\n",
    "from ra2ce.network.network_config_data.network_config_data import (NetworkSection)\n",
    "from ra2ce.analysis.damages.damages import AnalysisSectionDamages\n",
    "from ra2ce.analysis.analysis_config_data.analysis_config_data import (AnalysisConfigData,ProjectSection,AnalysisSectionBase,AnalysisSectionLosses)"
   ]
  },
  {
   "cell_type": "code",
   "execution_count": 8,
   "metadata": {},
   "outputs": [],
   "source": [
    "\n",
    "_network_section = NetworkSection(\n",
    "    source= SourceEnum.SHAPEFILE,       \n",
    "    primary_file = [network_path.joinpath(\"network.shp\")], \n",
    "    file_id = \"ID\",\n",
    "    link_type_column='highway',\n",
    "    save_gpkg=True\n",
    ")\n",
    "\n",
    "_hazard = HazardSection(\n",
    "    hazard_map=[Path(file) for file in hazard_path.glob(\"*.tif\")],\n",
    "    hazard_field_name= ['waterdepth'],\n",
    "    aggregate_wl = AggregateWlEnum.MEAN,\n",
    "    hazard_crs = 'EPSG:4326' \n",
    ")\n",
    "\n",
    "\n",
    "_network_config_data = NetworkConfigData(\n",
    "    root_path=root_dir,\n",
    "    static_path=static_path,\n",
    "    output_path=output_path,\n",
    "    network=_network_section,\n",
    "    hazard=_hazard\n",
    "    )"
   ]
  },
  {
   "cell_type": "code",
   "execution_count": null,
   "metadata": {},
   "outputs": [],
   "source": [
    "\n",
    "handler = Ra2ceHandler.from_config(_network_config_data, None)\n",
    "\n",
    "handler.configure()\n",
    "handler.run_analysis()"
   ]
  },
  {
   "cell_type": "code",
   "execution_count": null,
   "metadata": {},
   "outputs": [],
   "source": [
    "from ra2ce.analysis.analysis_config_data.analysis_config_data import (AnalysisSectionAdaptation,AnalysisSectionAdaptationOption)\n",
    "from ra2ce.analysis.analysis_config_data.enums.analysis_enum import AnalysisEnum\n",
    "from ra2ce.analysis.analysis_config_data.enums.analysis_losses_enum import AnalysisLossesEnum\n",
    "from ra2ce.analysis.analysis_config_data.enums.analysis_damages_enum import (\n",
    "    AnalysisDamagesEnum\n",
    ")\n",
    "from ra2ce.analysis.analysis_config_data.enums.damage_curve_enum import DamageCurveEnum\n",
    "from ra2ce.analysis.analysis_config_data.enums.trip_purpose_enum import TripPurposeEnum\n",
    "from ra2ce.analysis.analysis_config_data.enums.weighing_enum import WeighingEnum\n",
    "from ra2ce.analysis.analysis_config_data.enums.traffic_period_enum import TrafficPeriodEnum\n",
    "\n",
    "\n",
    "damages_section = AnalysisSectionDamages(\n",
    "    analysis=AnalysisDamagesEnum.DAMAGES,\n",
    "    damage_curve=  DamageCurveEnum.MAN,\n",
    "    #input_path = root_dir.joinpath(\"input_data\")\n",
    ")\n",
    "\n",
    "losses_section = AnalysisSectionLosses(\n",
    "    analysis=AnalysisLossesEnum.SINGLE_LINK_LOSSES,\n",
    "    resilience_curves_file= root_dir.joinpath(\n",
    "            \"loss_functions\", \"resilience_curve.csv\"),\n",
    "    traffic_intensities_file= root_dir.joinpath(\n",
    "            \"loss_functions\", \"traffic_intensities.csv\"),\n",
    "    values_of_time_file= root_dir.joinpath(\n",
    "            \"loss_functions\", \"values_of_time.csv\"\n",
    "        ), \n",
    "    weighing=WeighingEnum.TIME,\n",
    "    trip_purposes= [TripPurposeEnum.BUSINESS,TripPurposeEnum.COMMUTE,TripPurposeEnum.FREIGHT,TripPurposeEnum.OTHER],\n",
    "    traffic_period= TrafficPeriodEnum.DAY,\n",
    "    threshold = 0.0,  #the water height threshold above which the link will be inundated\n",
    "    production_loss_per_capita_per_hour =12,\n",
    ")\n",
    "\n",
    "adaptation_op0 = AnalysisSectionAdaptationOption(\n",
    "    id=\"AO0\",\n",
    "    name=\"No adaptation\",\n",
    ")\n",
    "\n",
    "adaptation_op1 = AnalysisSectionAdaptationOption(\n",
    "    id=\"AO1\",\n",
    "    name=\"Cheap construction, expensive maintenance\",\n",
    "    construction_cost=1000,\n",
    "    construction_interval=10,\n",
    "    maintenance_interval=3,\n",
    "    maintenance_cost=200,\n",
    ")\n",
    "\n",
    "adaptation_op2 = AnalysisSectionAdaptationOption(\n",
    "    id=\"AO2\",\n",
    "    name=\"Expensive construction, cheap maintenance\",\n",
    "    construction_cost=5000,\n",
    "    construction_interval=100,\n",
    "    maintenance_interval=3,\n",
    "    maintenance_cost=50,\n",
    ")\n",
    "\n",
    "adaptation_section = AnalysisSectionAdaptation(\n",
    "    analysis=AnalysisEnum.ADAPTATION,\n",
    "    losses_analysis=AnalysisLossesEnum.SINGLE_LINK_LOSSES,\n",
    "    discount_rate=0.025,\n",
    "    time_horizon=20,\n",
    "    climate_factor=0.0,\n",
    "    initial_frequency=0.0,\n",
    "    #no_adaptation_option=AnalysisSectionAdaptationOption(adaptation_op0),\n",
    "    adaptation_options=[adaptation_op0,adaptation_op1, adaptation_op2]\n",
    ")\n",
    "\n",
    "_analysis_config_data = AnalysisConfigData(\n",
    "    analyses= [losses_section,damages_section,adaptation_section],\n",
    "    root_path= root_dir,\n",
    "    output_path= output_path,\n",
    "    static_path= static_path,\n",
    "    input_path= root_dir.joinpath(\"input\"),\n",
    "    )"
   ]
  },
  {
   "cell_type": "code",
   "execution_count": null,
   "metadata": {},
   "outputs": [],
   "source": [
    "handler = Ra2ceHandler.from_config(_network_config_data, _analysis_config_data)\n",
    "\n",
    "#handler.configure()\n",
    "handler.run_analysis()"
   ]
  }
 ],
 "metadata": {
  "kernelspec": {
   "display_name": "ra2ce_env",
   "language": "python",
   "name": "python3"
  },
  "language_info": {
   "codemirror_mode": {
    "name": "ipython",
    "version": 3
   },
   "file_extension": ".py",
   "mimetype": "text/x-python",
   "name": "python",
   "nbconvert_exporter": "python",
   "pygments_lexer": "ipython3",
   "version": "3.10.15"
  }
 },
 "nbformat": 4,
 "nbformat_minor": 2
}
