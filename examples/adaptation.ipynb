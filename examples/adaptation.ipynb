{
 "cells": [
  {
   "cell_type": "code",
   "execution_count": null,
   "metadata": {},
   "outputs": [],
   "source": [
    "from pathlib import Path\n",
    "\n",
    "root_dir = Path(\"data\", \"adaptation\")\n",
    "static_path = root_dir.joinpath(\"static\")\n",
    "hazard_path =static_path.joinpath(\"hazard\")\n",
    "network_path = static_path.joinpath(\"network\")\n",
    "output_path=root_dir.joinpath(\"output\")\n",
    "tif_files = list(hazard_path.glob(\"*.tif\"))"
   ]
  },
  {
   "cell_type": "code",
   "execution_count": null,
   "metadata": {},
   "outputs": [],
   "source": [
    "from ra2ce.ra2ce_handler import Ra2ceHandler\n",
    "from ra2ce.network.network_config_data.enums.aggregate_wl_enum import AggregateWlEnum\n",
    "from ra2ce.network.network_config_data.enums.source_enum import SourceEnum\n",
    "from ra2ce.network.network_config_data.network_config_data import (NetworkConfigData,NetworkSection,HazardSection,)\n",
    "from ra2ce.network.network_config_data.enums.aggregate_wl_enum import AggregateWlEnum\n",
    "from ra2ce.network.network_config_data.network_config_data import (NetworkSection)\n",
    "from ra2ce.analysis.damages.damages import AnalysisSectionDamages\n",
    "from ra2ce.analysis.analysis_config_data.analysis_config_data import (AnalysisConfigData,ProjectSection,AnalysisSectionBase,AnalysisSectionLosses)"
   ]
  },
  {
   "cell_type": "code",
   "execution_count": null,
   "metadata": {},
   "outputs": [],
   "source": [
    "\n",
    "_network_section = NetworkSection(\n",
    "    source= SourceEnum.SHAPEFILE,       \n",
    "    primary_file = [network_path.joinpath(\"network.shp\")], \n",
    "    file_id = \"ID\",\n",
    "    link_type_column='highway',\n",
    "    save_gpkg=True\n",
    ")\n",
    "\n",
    "_hazard = HazardSection(\n",
    "    hazard_map=[Path(file) for file in hazard_path.glob(\"*.tif\")],\n",
    "    hazard_field_name= ['waterdepth'],\n",
    "    aggregate_wl = AggregateWlEnum.MAX,\n",
    "    hazard_crs = 'EPSG:4326' \n",
    ")\n",
    "\n",
    "\n",
    "_network_config_data = NetworkConfigData(\n",
    "    root_path=root_dir,\n",
    "    static_path=static_path,\n",
    "    output_path=output_path,\n",
    "    network=_network_section,\n",
    "    hazard=_hazard\n",
    "    )"
   ]
  },
  {
   "cell_type": "code",
   "execution_count": null,
   "metadata": {},
   "outputs": [],
   "source": [
    "\n",
    "handler = Ra2ceHandler.from_config(_network_config_data, None)\n",
    "\n",
    "handler.configure()\n",
    "handler.run_analysis()"
   ]
  },
  {
   "cell_type": "code",
   "execution_count": null,
   "metadata": {},
   "outputs": [],
   "source": [
    "from ra2ce.analysis.analysis_config_data.analysis_config_data import (AnalysisSectionAdaptation,AnalysisSectionAdaptationOption)\n",
    "from ra2ce.analysis.analysis_config_data.enums.analysis_enum import AnalysisEnum\n",
    "from ra2ce.analysis.analysis_config_data.enums.analysis_losses_enum import AnalysisLossesEnum\n",
    "\n",
    "adaptation_op0 = [AnalysisSectionAdaptationOption(\n",
    "    id=\"AO0\",\n",
    "    name=\"no adaptation\",\n",
    ")]\n",
    "\n",
    "adaptation_op1 = [AnalysisSectionAdaptationOption(\n",
    "    id=\"AO1\",\n",
    "    name=\"Adaptation_option_1\",\n",
    "    construction_cost=1000,\n",
    "    maintenance_interval=3,\n",
    "    maintenance_cost=200\n",
    ")]\n",
    "\n",
    "adaptation_op2 = [AnalysisSectionAdaptationOption(\n",
    "    id=\"AO2\",\n",
    "    name=\"Adaptation_option_2\",\n",
    "    construction_cost=5000,\n",
    "    maintenance_interval=3,\n",
    "    maintenance_cost=50\n",
    ")]\n",
    "\n",
    "adaptation = [AnalysisSectionAdaptation(\n",
    "    analysis=AnalysisEnum.ADAPTATION,\n",
    "    losses_analysis=AnalysisLossesEnum.SINGLE_LINK_LOSSES,\n",
    "    discount_rate=0.0,\n",
    "    time_horizon=0.0,\n",
    "    #CBA_time_horizon=0.0,\n",
    "    #vat=0.0, - not included\n",
    "    climate_factor=0.0,\n",
    "    initial_frequency=0.0,\n",
    "    no_adaptation_option=AnalysisSectionAdaptationOption(adaptation_op0),\n",
    "    adaptation_options=[adaptation_op1, adaptation_op2]\n",
    ")]\n",
    "\n",
    "_analysis_config_data = AnalysisConfigData(\n",
    "    analyses= adaptation,\n",
    "    root_path= root_dir,\n",
    "    output_path= output_path,\n",
    "    )"
   ]
  },
  {
   "cell_type": "code",
   "execution_count": null,
   "metadata": {},
   "outputs": [],
   "source": [
    "handler = Ra2ceHandler.from_config(_network_config_data, _analysis_config_data)\n",
    "\n",
    "handler.configure()\n",
    "handler.run_analysis()"
   ]
  }
 ],
 "metadata": {
  "kernelspec": {
   "display_name": "ra2ce_env",
   "language": "python",
   "name": "python3"
  },
  "language_info": {
   "codemirror_mode": {
    "name": "ipython",
    "version": 3
   },
   "file_extension": ".py",
   "mimetype": "text/x-python",
   "name": "python",
   "nbconvert_exporter": "python",
   "pygments_lexer": "ipython3",
   "version": "3.10.15"
  }
 },
 "nbformat": 4,
 "nbformat_minor": 2
}
