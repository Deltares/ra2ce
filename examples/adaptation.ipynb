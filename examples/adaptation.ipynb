{
 "cells": [
  {
   "cell_type": "markdown",
   "metadata": {},
   "source": [
    "## RA2CE Feature: adaptation measures"
   ]
  },
  {
   "cell_type": "markdown",
   "metadata": {},
   "source": [
    "This notebook explains how users can create different adaptation options that will influence the calculated damages and losses on roads. It also performs a Cost-Benefit Analysis (CBA) for each of the adaptation option to explore the cost effictiveness of these options."
   ]
  },
  {
   "cell_type": "code",
   "execution_count": 1,
   "metadata": {},
   "outputs": [
    {
     "name": "stderr",
     "output_type": "stream",
     "text": [
      "c:\\Users\\hauth\\miniforge3\\envs\\ra2ce_env\\Lib\\site-packages\\tqdm\\auto.py:21: TqdmWarning: IProgress not found. Please update jupyter and ipywidgets. See https://ipywidgets.readthedocs.io/en/stable/user_install.html\n",
      "  from .autonotebook import tqdm as notebook_tqdm\n"
     ]
    }
   ],
   "source": [
    "from pathlib import Path\n",
    "from ra2ce.analysis.analysis_config_wrapper import AnalysisConfigWrapper\n",
    "from ra2ce.analysis.analysis_input_wrapper import AnalysisInputWrapper\n",
    "from ra2ce.ra2ce_handler import Ra2ceHandler\n",
    "from ra2ce.network.network_config_data.enums.aggregate_wl_enum import AggregateWlEnum\n",
    "from ra2ce.network.network_config_data.enums.source_enum import SourceEnum\n",
    "from ra2ce.analysis.analysis_config_data.analysis_config_data import (\n",
    "    AnalysisConfigData,\n",
    "    AnalysisSectionAdaptation,\n",
    "    AnalysisSectionAdaptationOption,\n",
    "    AnalysisSectionDamages,\n",
    "    AnalysisSectionLosses,\n",
    ")\n",
    "from ra2ce.analysis.analysis_config_data.enums.analysis_damages_enum import (\n",
    "    AnalysisDamagesEnum,\n",
    ")\n",
    "from ra2ce.analysis.analysis_config_data.enums.analysis_enum import AnalysisEnum\n",
    "from ra2ce.analysis.analysis_config_data.enums.analysis_losses_enum import (\n",
    "    AnalysisLossesEnum,\n",
    ")\n",
    "from ra2ce.analysis.analysis_config_data.enums.damage_curve_enum import DamageCurveEnum\n",
    "from ra2ce.analysis.analysis_config_data.enums.event_type_enum import EventTypeEnum\n",
    "from ra2ce.analysis.analysis_config_data.enums.traffic_period_enum import (\n",
    "    TrafficPeriodEnum,\n",
    ")\n",
    "from ra2ce.analysis.analysis_config_data.enums.trip_purpose_enum import TripPurposeEnum\n",
    "from ra2ce.analysis.analysis_config_data.enums.weighing_enum import WeighingEnum\n",
    "from ra2ce.analysis.analysis_config_wrapper import AnalysisConfigWrapper\n",
    "from ra2ce.analysis.analysis_input_wrapper import AnalysisInputWrapper\n",
    "from ra2ce.network.network_config_data.enums.aggregate_wl_enum import AggregateWlEnum\n",
    "from ra2ce.network.network_config_data.network_config_data import (\n",
    "    HazardSection,\n",
    "    NetworkConfigData,\n",
    "    NetworkSection,\n",
    ")\n",
    "from ra2ce.network.network_config_wrapper import NetworkConfigWrapper\n",
    "from ra2ce.analysis.adaptation.adaptation import Adaptation\n",
    "from ra2ce.analysis.analysis_config_wrapper import AnalysisConfigWrapper\n",
    "from ra2ce.analysis.analysis_input_wrapper import AnalysisInputWrapper\n"
   ]
  },
  {
   "cell_type": "code",
   "execution_count": 2,
   "metadata": {},
   "outputs": [],
   "source": [
    "root_dir = Path(\"data\", \"adaptation\")\n",
    "\n",
    "static_path = root_dir.joinpath(\"static\")\n",
    "hazard_path =static_path.joinpath(\"hazard\")\n",
    "network_path = static_path.joinpath(\"network\")\n",
    "output_path=root_dir.joinpath(\"output\")\n",
    "\n",
    "input_path = root_dir.joinpath(\"input\") # path of the data files for all adaptation options and BAU"
   ]
  },
  {
   "cell_type": "markdown",
   "metadata": {},
   "source": [
    "### Network config\n",
    "\n",
    "The network must first be configured and overlaid with a hazard map. The current workflow only supports the following configurations:\n",
    "\n",
    "- AggregateWlENum: only MEAN (or try with other)\n",
    "- SourceEnum must be set to SHAPEFILE. This is because we are running Losses which requires information about the traffic intensities, \n",
    "- Adaptation is for now only event-based for a single hazard map. Therefore the name of the hazard map should not start with \"RP\""
   ]
  },
  {
   "cell_type": "code",
   "execution_count": 3,
   "metadata": {},
   "outputs": [],
   "source": [
    "\n",
    "_network_section = NetworkSection(\n",
    "    source= SourceEnum.SHAPEFILE,       \n",
    "    primary_file = [network_path.joinpath(\"network.shp\")], \n",
    "    file_id = \"ID\",\n",
    "    link_type_column='highway',\n",
    "    save_gpkg=True\n",
    ")\n",
    "\n",
    "_hazard = HazardSection(\n",
    "    hazard_map=[Path(file) for file in hazard_path.glob(\"*.tif\")],\n",
    "    hazard_field_name= ['waterdepth'],\n",
    "    aggregate_wl = AggregateWlEnum.MEAN,\n",
    "    hazard_crs = 'EPSG:4326' \n",
    ")\n",
    "\n",
    "\n",
    "_network_config_data = NetworkConfigData(\n",
    "    root_path=root_dir,\n",
    "    static_path=static_path,\n",
    "    output_path=output_path,\n",
    "    network=_network_section,\n",
    "    hazard=_hazard\n",
    "    )"
   ]
  },
  {
   "cell_type": "code",
   "execution_count": 4,
   "metadata": {},
   "outputs": [],
   "source": [
    "\n",
    "handler = Ra2ceHandler.from_config(_network_config_data, None)\n",
    "\n",
    "handler.configure()\n",
    "handler.run_analysis()"
   ]
  },
  {
   "cell_type": "markdown",
   "metadata": {},
   "source": [
    "## Losses and Damages configuration\n",
    "\n",
    "The configuration for the losses and damages analysis must be defined here. The general configurations of losses and damages are shared for all adaptation options! The only difference between the options are the \n",
    "input files used: resilience_curve.csv, traffic_intensities.csv, values_of_time.csv, damage_curves.csv and repair_cost\n",
    "\n",
    "For example, it is (currenlty) NOT possible for Adaptation option 1 to have `production_loss_per_capita_per_hour=42` and for option 2: `production_loss_per_capita_per_hour=20`\n",
    "\n",
    "### Damages:\n",
    "\n",
    "- Since we are simulating the adaptation effects by modifying the hazard curves, only the Manual damage curve type is allowed: `DamageCurveEnum.MAN`\n",
    "- `EventTypeEnum.EVENT` is mandatory since we are dealing with an event-base adaptation.\n",
    "\n",
    "### Losses:\n",
    "\n",
    "- Both single link and multi link losses are accepted: `AnalysisLossesEnum`\n",
    "- `EventTypeEnum.EVENT` is mandatory since we are dealing with an event-base adaptation.\n",
    "- All the other arguments can be modified "
   ]
  },
  {
   "cell_type": "code",
   "execution_count": 5,
   "metadata": {},
   "outputs": [],
   "source": [
    "\n",
    "_damages_section = AnalysisSectionDamages(\n",
    "        analysis=AnalysisDamagesEnum.DAMAGES,\n",
    "        event_type=EventTypeEnum.EVENT,\n",
    "        damage_curve=DamageCurveEnum.MAN,\n",
    "        save_gpkg=True,\n",
    "        save_csv=True,\n",
    "    )\n",
    "\n",
    "    # - losses\n",
    "_multi_link_losses_section = AnalysisSectionLosses(\n",
    "            analysis=AnalysisLossesEnum.MULTI_LINK_LOSSES,\n",
    "            event_type=EventTypeEnum.EVENT,\n",
    "            weighing=WeighingEnum.TIME,\n",
    "            threshold=0,\n",
    "            production_loss_per_capita_per_hour=42,\n",
    "            hours_per_traffic_period=8,\n",
    "            traffic_period=TrafficPeriodEnum.DAY,\n",
    "            trip_purposes=[\n",
    "                TripPurposeEnum.BUSINESS,\n",
    "                TripPurposeEnum.COMMUTE,\n",
    "                TripPurposeEnum.FREIGHT,\n",
    "                TripPurposeEnum.OTHER,\n",
    "            ],\n",
    "            resilience_curves_file=input_path.joinpath(\"resilience_curve.csv\"),\n",
    "            traffic_intensities_file=input_path.joinpath(\"traffic_intensities.csv\"),\n",
    "            values_of_time_file=input_path.joinpath(\"values_of_time.csv\"),\n",
    "            save_gpkg=True,\n",
    "            save_csv=True,\n",
    "        )\n",
    "\n"
   ]
  },
  {
   "cell_type": "markdown",
   "metadata": {},
   "source": [
    "## Adaptation options:\n",
    "\n",
    "The adaptation options can now be defined. \n",
    "\n",
    "1. The `AnalysisSectionAdaptation` must be filled with general inputs applicable to all adaptation options, such as the discount rate, ...\n",
    "2. A collection of adaptation options is to be specified:\n",
    "    - Each adaptation option has an `id` which must match the input data structure in order to assign the input files correctly\n",
    "    - The first adaptation option represents the initial situation (Business As Usual) and only requires a `name` and `id`.\n",
    "    - The following adaptation options have extra required attributes to calculate the cost: `construction_cost`, `construction_interval`, 'maintenance_cost', 'maintenance_interval'"
   ]
  },
  {
   "cell_type": "code",
   "execution_count": 6,
   "metadata": {},
   "outputs": [],
   "source": [
    "\n",
    "# - adaptation\n",
    "_adaptation_options = [\n",
    "    AnalysisSectionAdaptationOption(\n",
    "            id=\"AO0\",\n",
    "            name=\"No adaptation\",\n",
    "        ),\n",
    "        AnalysisSectionAdaptationOption(\n",
    "            id=\"AO1\",\n",
    "            name=\"Cheap construction, expensive maintenance\",\n",
    "            construction_cost=1000.0,\n",
    "            construction_interval=10.0,\n",
    "            maintenance_cost=200.0,\n",
    "            maintenance_interval=3.0,\n",
    "        ),\n",
    "        AnalysisSectionAdaptationOption(\n",
    "            id=\"AO2\",\n",
    "            name=\"Expensive construction, cheap maintenance\",\n",
    "            construction_cost=5000.0,\n",
    "            construction_interval=100.0,\n",
    "            maintenance_cost=50.0,\n",
    "            maintenance_interval=3.0,\n",
    "        ),\n",
    "]\n",
    "_adaptation_section = AnalysisSectionAdaptation(\n",
    "        analysis=AnalysisEnum.ADAPTATION,\n",
    "        losses_analysis=AnalysisLossesEnum.MULTI_LINK_LOSSES,\n",
    "        adaptation_options=_adaptation_options,\n",
    "        discount_rate=0.025,  # correcting inflation 0.025 = 2.5%\n",
    "        initial_frequency=0.001,  # yearly frequency of occurrence of the event (hazard map)\n",
    "        climate_factor=0.000235, # factor to correct the frequency of occurrence of the event\n",
    "        time_horizon=20,  # time horizon in years for the CBA analysis\n",
    "    )\n",
    "\n",
    "_analysis_data = AnalysisConfigData(\n",
    "        root_path=root_dir,\n",
    "        input_path=input_path,\n",
    "        static_path=static_path,\n",
    "        output_path=output_path,\n",
    "        analyses=[\n",
    "            _damages_section,\n",
    "            _multi_link_losses_section,\n",
    "            _adaptation_section,\n",
    "        ],\n",
    "        aggregate_wl=AggregateWlEnum.MEAN,\n",
    "    )\n"
   ]
  },
  {
   "cell_type": "markdown",
   "metadata": {},
   "source": [
    "For this example. There are 2 adaptation options defined `A1` and `A2`, in addition to the reference case 'A0'. The corresponding files structure should then be the following (assuming MultiLinkLosses and damages based on all road types)"
   ]
  },
  {
   "attachments": {
    "image.png": {
     "image/png": "[encoded data removed]"
    }
   },
   "cell_type": "markdown",
   "metadata": {},
   "source": [
    "![image.png](attachment:image.png)"
   ]
  },
  {
   "cell_type": "code",
   "execution_count": 8,
   "metadata": {},
   "outputs": [
    {
     "name": "stderr",
     "output_type": "stream",
     "text": [
      "2024-12-09 02:31:41 PM - [damage_network_base.py:114] - root - WARNING - Of the 235 road segments, only 26 had lane data, so for 209 the '\n",
      "                                    lane data will be interpolated from the existing data\n",
      "2024-12-09 02:31:41 PM - [damage_network_base.py:127] - root - WARNING - Interpolated the missing lane data as follows: {'secondary': 2.0, 'tertiary': 2.0, 'trunk': 2.0}\n",
      "c:\\Users\\hauth\\miniforge3\\envs\\ra2ce_env\\Lib\\site-packages\\geopandas\\geodataframe.py:1528: SettingWithCopyWarning: \n",
      "A value is trying to be set on a copy of a slice from a DataFrame.\n",
      "Try using .loc[row_indexer,col_indexer] = value instead\n",
      "\n",
      "See the caveats in the documentation: https://pandas.pydata.org/pandas-docs/stable/user_guide/indexing.html#returning-a-view-versus-a-copy\n",
      "  super().__setitem__(key, value)\n",
      "2024-12-09 02:31:42 PM - [damage_network_base.py:114] - root - WARNING - Of the 235 road segments, only 26 had lane data, so for 209 the '\n",
      "                                    lane data will be interpolated from the existing data\n",
      "2024-12-09 02:31:42 PM - [damage_network_base.py:127] - root - WARNING - Interpolated the missing lane data as follows: {'secondary': 2.0, 'tertiary': 2.0, 'trunk': 2.0}\n",
      "c:\\Users\\hauth\\miniforge3\\envs\\ra2ce_env\\Lib\\site-packages\\geopandas\\geodataframe.py:1528: SettingWithCopyWarning: \n",
      "A value is trying to be set on a copy of a slice from a DataFrame.\n",
      "Try using .loc[row_indexer,col_indexer] = value instead\n",
      "\n",
      "See the caveats in the documentation: https://pandas.pydata.org/pandas-docs/stable/user_guide/indexing.html#returning-a-view-versus-a-copy\n",
      "  super().__setitem__(key, value)\n",
      "2024-12-09 02:31:42 PM - [damage_network_base.py:114] - root - WARNING - Of the 235 road segments, only 26 had lane data, so for 209 the '\n",
      "                                    lane data will be interpolated from the existing data\n",
      "2024-12-09 02:31:42 PM - [damage_network_base.py:127] - root - WARNING - Interpolated the missing lane data as follows: {'secondary': 2.0, 'tertiary': 2.0, 'trunk': 2.0}\n",
      "c:\\Users\\hauth\\miniforge3\\envs\\ra2ce_env\\Lib\\site-packages\\geopandas\\geodataframe.py:1528: SettingWithCopyWarning: \n",
      "A value is trying to be set on a copy of a slice from a DataFrame.\n",
      "Try using .loc[row_indexer,col_indexer] = value instead\n",
      "\n",
      "See the caveats in the documentation: https://pandas.pydata.org/pandas-docs/stable/user_guide/indexing.html#returning-a-view-versus-a-copy\n",
      "  super().__setitem__(key, value)\n"
     ]
    },
    {
     "name": "stdout",
     "output_type": "stream",
     "text": [
      "     AO0_impact  AO1_impact  AO1_benefit  AO2_impact  AO2_benefit  \\\n",
      "0      0.000000    0.000000          0.0    0.000000      0.00000   \n",
      "1      0.065512    0.065512          0.0    0.006782     -0.05873   \n",
      "2      0.000000    0.000000          0.0    0.000000      0.00000   \n",
      "3      0.000000    0.000000          0.0    0.000000      0.00000   \n",
      "4      0.000000    0.000000          0.0    0.000000      0.00000   \n",
      "..          ...         ...          ...         ...          ...   \n",
      "225    0.000000    0.000000          0.0    0.000000      0.00000   \n",
      "226    0.000000    0.000000          0.0    0.000000      0.00000   \n",
      "227    0.000000    0.000000          0.0    0.000000      0.00000   \n",
      "228    0.000000    0.000000          0.0    0.000000      0.00000   \n",
      "229    0.000000    0.000000          0.0    0.000000      0.00000   \n",
      "\n",
      "         AO1_cost  AO1_bc_ratio      AO2_cost  AO2_bc_ratio  \n",
      "0    1.893107e+05           0.0  3.663338e+05  0.000000e+00  \n",
      "1    1.430648e+06           0.0  2.768437e+06 -2.121409e-08  \n",
      "2    1.920151e+05           0.0  3.715672e+05  0.000000e+00  \n",
      "3    9.735977e+04           0.0  1.884003e+05  0.000000e+00  \n",
      "4    6.490651e+04           0.0  1.256002e+05  0.000000e+00  \n",
      "..            ...           ...           ...           ...  \n",
      "225  2.001284e+05           0.0  3.872672e+05  0.000000e+00  \n",
      "226  2.055373e+05           0.0  3.977339e+05  0.000000e+00  \n",
      "227  3.515769e+04           0.0  6.803343e+04  0.000000e+00  \n",
      "228  2.055373e+05           0.0  3.977339e+05  0.000000e+00  \n",
      "229  3.515769e+04           0.0  6.803343e+04  0.000000e+00  \n",
      "\n",
      "[230 rows x 9 columns]\n"
     ]
    }
   ],
   "source": [
    "\n",
    "_network_config = NetworkConfigWrapper.from_data(None, _network_config_data)\n",
    "valid_analysis_ini = root_dir.joinpath(\"analyses.ini\")\n",
    "\n",
    "\n",
    "_analysis_config = AnalysisConfigWrapper.from_data_with_network(\n",
    "        valid_analysis_ini, _analysis_data, _network_config\n",
    "    )\n",
    "\n",
    "_analysis_input = AnalysisInputWrapper.from_input(\n",
    "        analysis=_analysis_config.config_data.adaptation,\n",
    "        analysis_config=_analysis_config,\n",
    "        graph_file=_analysis_config.graph_files.base_network,\n",
    "        graph_file_hazard=_analysis_config.graph_files.base_network_hazard,\n",
    "    )\n",
    "\n",
    "\n",
    "\n",
    "valid_adaptation_config = (_analysis_input, _analysis_config)\n",
    "_adaptation = Adaptation(valid_adaptation_config[0], valid_adaptation_config[1])\n",
    "\n",
    "# 2. Run test.\n",
    "_benefit = _adaptation.run_benefit()\n",
    "\n",
    "cost = _adaptation.run_cost()\n",
    "\n",
    "\n",
    "_res_2 = _adaptation.calculate_bc_ratio(cost_gdf=cost, benefit_gdf=_benefit)\n",
    "print(_res_2)\n",
    "\n",
    "\n",
    "# Add modification of climate factor, discount_rate, time_horizon, .... "
   ]
  },
  {
   "cell_type": "markdown",
   "metadata": {},
   "source": []
  },
  {
   "cell_type": "code",
   "execution_count": 9,
   "metadata": {},
   "outputs": [
    {
     "name": "stdout",
     "output_type": "stream",
     "text": [
      "Index(['AO0_impact', 'AO1_impact', 'AO1_benefit', 'AO2_impact', 'AO2_benefit',\n",
      "       'AO1_cost', 'AO1_bc_ratio', 'AO2_cost', 'AO2_bc_ratio'],\n",
      "      dtype='object')\n"
     ]
    }
   ],
   "source": [
    "_benefit.head(5)  # MISSING Geontry\n",
    "print(_res_2.columns)"
   ]
  },
  {
   "cell_type": "code",
   "execution_count": 10,
   "metadata": {},
   "outputs": [
    {
     "data": {
      "text/html": [
       "<div>\n",
       "<style scoped>\n",
       "    .dataframe tbody tr th:only-of-type {\n",
       "        vertical-align: middle;\n",
       "    }\n",
       "\n",
       "    .dataframe tbody tr th {\n",
       "        vertical-align: top;\n",
       "    }\n",
       "\n",
       "    .dataframe thead th {\n",
       "        text-align: right;\n",
       "    }\n",
       "</style>\n",
       "<table border=\"1\" class=\"dataframe\">\n",
       "  <thead>\n",
       "    <tr style=\"text-align: right;\">\n",
       "      <th></th>\n",
       "      <th>AO0_impact</th>\n",
       "      <th>AO1_impact</th>\n",
       "      <th>AO1_benefit</th>\n",
       "      <th>AO2_impact</th>\n",
       "      <th>AO2_benefit</th>\n",
       "      <th>AO1_cost</th>\n",
       "      <th>AO1_bc_ratio</th>\n",
       "      <th>AO2_cost</th>\n",
       "      <th>AO2_bc_ratio</th>\n",
       "    </tr>\n",
       "  </thead>\n",
       "  <tbody>\n",
       "    <tr>\n",
       "      <th>0</th>\n",
       "      <td>0.000000</td>\n",
       "      <td>0.000000</td>\n",
       "      <td>0.0</td>\n",
       "      <td>0.000000</td>\n",
       "      <td>0.00000</td>\n",
       "      <td>1.893107e+05</td>\n",
       "      <td>0.0</td>\n",
       "      <td>3.663338e+05</td>\n",
       "      <td>0.000000e+00</td>\n",
       "    </tr>\n",
       "    <tr>\n",
       "      <th>1</th>\n",
       "      <td>0.065512</td>\n",
       "      <td>0.065512</td>\n",
       "      <td>0.0</td>\n",
       "      <td>0.006782</td>\n",
       "      <td>-0.05873</td>\n",
       "      <td>1.430648e+06</td>\n",
       "      <td>0.0</td>\n",
       "      <td>2.768437e+06</td>\n",
       "      <td>-2.121409e-08</td>\n",
       "    </tr>\n",
       "    <tr>\n",
       "      <th>2</th>\n",
       "      <td>0.000000</td>\n",
       "      <td>0.000000</td>\n",
       "      <td>0.0</td>\n",
       "      <td>0.000000</td>\n",
       "      <td>0.00000</td>\n",
       "      <td>1.920151e+05</td>\n",
       "      <td>0.0</td>\n",
       "      <td>3.715672e+05</td>\n",
       "      <td>0.000000e+00</td>\n",
       "    </tr>\n",
       "    <tr>\n",
       "      <th>3</th>\n",
       "      <td>0.000000</td>\n",
       "      <td>0.000000</td>\n",
       "      <td>0.0</td>\n",
       "      <td>0.000000</td>\n",
       "      <td>0.00000</td>\n",
       "      <td>9.735977e+04</td>\n",
       "      <td>0.0</td>\n",
       "      <td>1.884003e+05</td>\n",
       "      <td>0.000000e+00</td>\n",
       "    </tr>\n",
       "    <tr>\n",
       "      <th>4</th>\n",
       "      <td>0.000000</td>\n",
       "      <td>0.000000</td>\n",
       "      <td>0.0</td>\n",
       "      <td>0.000000</td>\n",
       "      <td>0.00000</td>\n",
       "      <td>6.490651e+04</td>\n",
       "      <td>0.0</td>\n",
       "      <td>1.256002e+05</td>\n",
       "      <td>0.000000e+00</td>\n",
       "    </tr>\n",
       "  </tbody>\n",
       "</table>\n",
       "</div>"
      ],
      "text/plain": [
       "   AO0_impact  AO1_impact  AO1_benefit  AO2_impact  AO2_benefit      AO1_cost  \\\n",
       "0    0.000000    0.000000          0.0    0.000000      0.00000  1.893107e+05   \n",
       "1    0.065512    0.065512          0.0    0.006782     -0.05873  1.430648e+06   \n",
       "2    0.000000    0.000000          0.0    0.000000      0.00000  1.920151e+05   \n",
       "3    0.000000    0.000000          0.0    0.000000      0.00000  9.735977e+04   \n",
       "4    0.000000    0.000000          0.0    0.000000      0.00000  6.490651e+04   \n",
       "\n",
       "   AO1_bc_ratio      AO2_cost  AO2_bc_ratio  \n",
       "0           0.0  3.663338e+05  0.000000e+00  \n",
       "1           0.0  2.768437e+06 -2.121409e-08  \n",
       "2           0.0  3.715672e+05  0.000000e+00  \n",
       "3           0.0  1.884003e+05  0.000000e+00  \n",
       "4           0.0  1.256002e+05  0.000000e+00  "
      ]
     },
     "execution_count": 10,
     "metadata": {},
     "output_type": "execute_result"
    }
   ],
   "source": [
    "_res_2.head(5)"
   ]
  },
  {
   "cell_type": "code",
   "execution_count": 11,
   "metadata": {},
   "outputs": [
    {
     "data": {
      "text/plain": [
       "array([ 0.00000000e+00, -2.12140932e-08, -2.01729290e-04, -1.71739695e-03,\n",
       "       -3.64250532e-01, -8.22418464e-03, -2.88854588e-01, -3.26003716e-02,\n",
       "       -7.84584082e-01, -5.14133526e-02, -1.25024986e-01, -3.25617900e-02,\n",
       "       -3.65097323e-02, -3.33551456e-05, -5.69831324e-02, -1.34500128e+00,\n",
       "       -4.61785385e-01, -4.97307338e-01, -5.62304717e-04, -3.19829403e-04,\n",
       "       -2.99295818e-04, -3.50898545e-04, -5.26347817e-04, -2.51927160e-04,\n",
       "       -3.66139238e+00, -2.37488707e-01, -5.05228923e-08])"
      ]
     },
     "execution_count": 11,
     "metadata": {},
     "output_type": "execute_result"
    }
   ],
   "source": [
    "_res_2[\"AO2_bc_ratio\"].unique()"
   ]
  }
 ],
 "metadata": {
  "kernelspec": {
   "display_name": "ra2ce_env",
   "language": "python",
   "name": "python3"
  },
  "language_info": {
   "codemirror_mode": {
    "name": "ipython",
    "version": 3
   },
   "file_extension": ".py",
   "mimetype": "text/x-python",
   "name": "python",
   "nbconvert_exporter": "python",
   "pygments_lexer": "ipython3",
   "version": "3.11.10"
  }
 },
 "nbformat": 4,
 "nbformat_minor": 2
}
