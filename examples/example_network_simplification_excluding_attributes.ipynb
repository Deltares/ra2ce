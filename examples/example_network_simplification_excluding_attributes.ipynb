{
 "cells": [
  {
   "cell_type": "markdown",
   "metadata": {},
   "source": [
    "# RA2CE feature : Network Simplification applied to Beira Network"
   ]
  },
  {
   "cell_type": "markdown",
   "metadata": {},
   "source": [
    "This notebook will guide you through the process of downloading a simplified network tailored to a specific hazard extent, while preserving certain attributes like bridges and tunnels as separate entities in the network"
   ]
  },
  {
   "cell_type": "markdown",
   "metadata": {},
   "source": [
    "## Network Simplification"
   ]
  },
  {
   "cell_type": "markdown",
   "metadata": {},
   "source": [
    "Simplifying a network can be done in several ways, depending on the specific needs and goals. When you simplify a network, you essentially merge links from intersection to intersection, making the network easier to manage and analyze. RA2CE allows you to simplify the network while considering certain attributes that you may want to exclude during the process.\n",
    "\n",
    "For example, if you have bridges and tunnels as assets in your network that you want to keep separate from the rest of the network, RA2CE can handle this through a specific workflow.\n"
   ]
  },
  {
   "cell_type": "markdown",
   "metadata": {},
   "source": [
    "# Let's start up the model inputs"
   ]
  },
  {
   "cell_type": "markdown",
   "metadata": {},
   "source": [
    "First import the necessary Modules"
   ]
  },
  {
   "cell_type": "code",
   "execution_count": 1,
   "metadata": {},
   "outputs": [],
   "source": [
    "from pathlib import Path\n",
    "import geopandas as gpd\n",
    "import folium \n",
    "from shapely.geometry import box\n",
    "import rasterio\n",
    "from matplotlib.colors import ListedColormap\n",
    "import random\n",
    "from shapely.ops import transform\n",
    "import pyproj"
   ]
  },
  {
   "cell_type": "markdown",
   "metadata": {},
   "source": [
    "RA2CE module imports"
   ]
  },
  {
   "cell_type": "code",
   "execution_count": null,
   "metadata": {},
   "outputs": [],
   "source": [
    "from ra2ce.network.network_config_data.enums.network_type_enum import NetworkTypeEnum\n",
    "from ra2ce.network.network_config_data.enums.road_type_enum import RoadTypeEnum\n",
    "from ra2ce.network.network_config_data.network_config_data import (NetworkConfigData,NetworkSection)\n",
    "from ra2ce.network.network_wrappers.osm_network_wrapper.osm_network_wrapper import (OsmNetworkWrapper)\n",
    "from ra2ce.network.network_simplification.snkit_network_wrapper import (SnkitNetworkWrapper)"
   ]
  },
  {
   "cell_type": "code",
   "execution_count": null,
   "metadata": {},
   "outputs": [],
   "source": [
    "root_dir = Path(\".//data//network_simplification_excluding_attributes\")\n",
    "static_path = root_dir.joinpath(\"static\")\n",
    "hazard_path =static_path.joinpath(\"hazard\")\n",
    "network_path = static_path.joinpath(\"network\")\n",
    "output_path=root_dir.joinpath(\"output\")\n",
    "hazard_folder = root_dir / \"static\" / \"hazard\" \n",
    "tif_files = hazard_folder.glob(\"*.tif\")\n",
    "\n",
    "#Find the hazard map\n",
    "for tif_file in tif_files:\n",
    "    print(tif_file)"
   ]
  },
  {
   "cell_type": "markdown",
   "metadata": {},
   "source": [
    "## Now we will load in our hazard map and determine the study area based on the map's extent"
   ]
  },
  {
   "cell_type": "code",
   "execution_count": null,
   "metadata": {},
   "outputs": [],
   "source": [
    "# Function to reproject geometry\n",
    "def reproject_geometry(geom, src_crs, dst_crs):\n",
    "    project = pyproj.Transformer.from_crs(src_crs, dst_crs, always_xy=True).transform\n",
    "    return transform(project, geom)\n",
    "\n",
    "\n",
    "# Open the raster file\n",
    "with rasterio.open(tif_file) as src:\n",
    "    bbox = src.bounds\n",
    "    bbox_polygon = box(bbox.left, bbox.bottom, bbox.right, bbox.top)\n",
    "    src_crs = src.crs\n",
    "    dst_crs = 'EPSG:4326'\n",
    "\n",
    "    if src_crs.to_string() != dst_crs:\n",
    "        # Reproject the bounding box polygon to EPSG:4326\n",
    "        bbox_polygon = reproject_geometry(bbox_polygon, src_crs, dst_crs)\n",
    "        print(\"Hazard Map is in a the CRS:\", src_crs)\n",
    "        print(\"Reprojected the polygon to EPSG:4326\")\n",
    "        \n",
    "gdf_polygon = gpd.GeoDataFrame(index=[0], geometry=[bbox_polygon], crs=dst_crs)\n",
    "centroid = gdf_polygon.geometry.centroid.iloc[0]\n",
    "m = folium.Map(location=[centroid.y, centroid.x], zoom_start=10)\n",
    "folium.GeoJson(gdf_polygon).add_to(m)\n",
    "m\n",
    "        "
   ]
  },
  {
   "cell_type": "markdown",
   "metadata": {},
   "source": [
    "## Set netwok parameters and download the network"
   ]
  },
  {
   "cell_type": "code",
   "execution_count": null,
   "metadata": {},
   "outputs": [],
   "source": [
    "#First we define which roads we will want to download from OSM to create a network with\n",
    "network_section = NetworkSection(\n",
    "    network_type=NetworkTypeEnum.DRIVE,\n",
    "    road_types=[RoadTypeEnum.MOTORWAY,\n",
    "                RoadTypeEnum.MOTORWAY_LINK,\n",
    "                RoadTypeEnum.TRUNK, \n",
    "                RoadTypeEnum.TRUNK_LINK,\n",
    "                RoadTypeEnum.PRIMARY, \n",
    "                RoadTypeEnum.PRIMARY_LINK,\n",
    "                RoadTypeEnum.SECONDARY,\n",
    "                RoadTypeEnum.SECONDARY_LINK,\n",
    "                RoadTypeEnum.TERTIARY,\n",
    "                RoadTypeEnum.TERTIARY_LINK,\n",
    "                RoadTypeEnum.ROAD,\n",
    "                ],\n",
    "    save_gpkg=True,\n",
    "    attributes_to_exclude_in_simplification=['bridge', 'tunnel'],    # add the attributes that needs to be excluded when simplifying the network        \n",
    "                ) \n",
    "   \n",
    "#pass the specified sections as arguments for configuration\n",
    "network_config_data = NetworkConfigData(\n",
    "    root_path= root_dir,\n",
    "    output_path= root_dir/\"output\",\n",
    "    network=network_section,\n",
    "    static_path=root_dir.joinpath('static'),\n",
    "    )\n",
    "\n",
    "#download the network based on the polygon extent and the specified road characteristics\n",
    "graph, _ = OsmNetworkWrapper.get_network_from_polygon(network_config_data, bbox_polygon)"
   ]
  },
  {
   "cell_type": "markdown",
   "metadata": {},
   "source": [
    "## Read the simplified graph network"
   ]
  },
  {
   "cell_type": "markdown",
   "metadata": {},
   "source": [
    "We convert the simplified graph (from NetworkX to gpkg) to geopandas."
   ]
  },
  {
   "cell_type": "code",
   "execution_count": 6,
   "metadata": {},
   "outputs": [],
   "source": [
    "snkit_network_wrapper = SnkitNetworkWrapper.from_networkx(\n",
    "            graph,\n",
    "            column_names_dict=dict(\n",
    "                node_id_column_name=\"id\",\n",
    "                edge_from_id_column_name=\"from_id\",\n",
    "                edge_to_id_column_name=\"to_id\",\n",
    "            ),\n",
    "        )\n",
    "\n",
    "simplified_gdf = snkit_network_wrapper.snkit_network.edges"
   ]
  },
  {
   "cell_type": "markdown",
   "metadata": {},
   "source": [
    "## Lets visualize the downloaded and simplified network"
   ]
  },
  {
   "cell_type": "markdown",
   "metadata": {},
   "source": [
    "The attributes we excluded in this case bridges/tunnels are visualized in black. You can observe that the network is segmented from intersection to intersection as well as assets we excluded "
   ]
  },
  {
   "cell_type": "code",
   "execution_count": null,
   "metadata": {},
   "outputs": [],
   "source": [
    "# Function to generate random colors, excluding white and light gray\n",
    "def generate_vivid_colors(n):\n",
    "    colors = []\n",
    "    for _ in range(n):\n",
    "        while True:\n",
    "            r, g, b = random.randint(0, 255), random.randint(0, 255), random.randint(0, 255)\n",
    "            # Exclude colors that are too close to white or light gray\n",
    "            if (r + g + b) < 600:  # Total brightness threshold (255 * 3 = 765 for white)\n",
    "                colors.append((r, g, b))\n",
    "                break\n",
    "    return colors\n",
    "\n",
    "center = [\n",
    "    gdf_polygon['geometry'].centroid.y.mean(),\n",
    "    gdf_polygon['geometry'].centroid.x.mean()\n",
    "]\n",
    "map = folium.Map(location=center, zoom_start=12, control_scale=True, tiles=\"cartodbpositron\")\n",
    "\n",
    "# Create a FeatureGroup for the bridge layer\n",
    "bridge_layer = folium.FeatureGroup(name=\"Bridges\").add_to(m)\n",
    "folium.GeoJson(\n",
    "    simplified_gdf,\n",
    "    style_function=lambda x: {\n",
    "        'color': 'black' if x['properties']['bridge'] == 'yes' else 'transparent',\n",
    "        'fillOpacity': 0.6 if x['properties']['bridge'] == 'yes' else 0.0,\n",
    "        'weight': 15 if x['properties']['bridge'] == 'yes' else 0\n",
    "    },\n",
    "    tooltip=folium.GeoJsonTooltip(fields=['bridge'], aliases=['Bridge Status'])\n",
    ").add_to(bridge_layer)\n",
    "bridge_layer.add_to(map)\n",
    "\n",
    "## Create a FeatureGroup for the simplified network\n",
    "\n",
    "# Ensure 'rfid' is treated as categorical and create random distinct RGB colors\n",
    "simplified_gdf['rfid'] = simplified_gdf['rfid'].astype('category')\n",
    "unique_rfid = simplified_gdf['rfid'].cat.categories\n",
    "random_colors = generate_vivid_colors(len(unique_rfid))\n",
    "random_colors_normalized = [(r/255, g/255, b/255) for r, g, b in random_colors]\n",
    "\n",
    "# Create a ListedColormap with the random RGB colors\n",
    "cmap = ListedColormap(random_colors_normalized)\n",
    "\n",
    "network_group = folium.FeatureGroup(name=\"Simplified network\").add_to(m)\n",
    "simplified_gdf.explore(m=network_group, column='rfid', cmap=cmap, tiles=\"CartoDB positron\", categorical=True, legend=False)\n",
    "network_group.add_to(map)\n",
    "\n",
    "# Add Layer Control\n",
    "folium.LayerControl().add_to(map)\n",
    "\n",
    "# Show the map\n",
    "map"
   ]
  }
 ],
 "metadata": {
  "kernelspec": {
   "display_name": "ra2ce_env",
   "language": "python",
   "name": "python3"
  },
  "language_info": {
   "codemirror_mode": {
    "name": "ipython",
    "version": 3
   },
   "file_extension": ".py",
   "mimetype": "text/x-python",
   "name": "python",
   "nbconvert_exporter": "python",
   "pygments_lexer": "ipython3",
   "version": "3.10.15"
  }
 },
 "nbformat": 4,
 "nbformat_minor": 2
}
