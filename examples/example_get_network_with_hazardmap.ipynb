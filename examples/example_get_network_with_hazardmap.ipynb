{
 "cells": [
  {
   "cell_type": "markdown",
   "metadata": {},
   "source": [
    "# RA2CE Feature: Downloading a network for a area of interest based on a hazard map"
   ]
  },
  {
   "cell_type": "markdown",
   "metadata": {},
   "source": [
    "One of the RA2CE functionalities is extracting road networks from OpenStreetMaps (OSM)* for any place in the world. You can do this, by creating a polygon of the area you would like to extract the road network from.<br> For analyzing hazard events and their impact on the road network you can also set your network extent to match the hazard extent. \n",
    "\n",
    "<br>**OSM files are usually neater because they are checked before uploading. These files usually have a good (realistic) connectivity, but still it is required to check the network carefully.*<br>\n",
    "\n",
    "In this notebook, we will guide you through the basics of RA2CE : Configuring a road network based on your hazard map extent"
   ]
  },
  {
   "cell_type": "markdown",
   "metadata": {},
   "source": [
    "First of all, we will import the packages we need to execute this notebook:"
   ]
  },
  {
   "cell_type": "code",
   "execution_count": null,
   "metadata": {},
   "outputs": [],
   "source": [
    "from pathlib import Path\n",
    "import geopandas as gpd\n",
    "import folium \n",
    "from shapely.geometry import box\n",
    "import rasterio\n",
    "import matplotlib.pyplot as plt\n",
    "from matplotlib.colors import ListedColormap\n",
    "import random\n",
    "from shapely.ops import transform\n",
    "import pyproj"
   ]
  },
  {
   "cell_type": "markdown",
   "metadata": {},
   "source": [
    "Next we will call the necessary RA2CE scripts for our code"
   ]
  },
  {
   "cell_type": "code",
   "execution_count": null,
   "metadata": {},
   "outputs": [],
   "source": [
    "from ra2ce.network.network_config_data.enums.network_type_enum import NetworkTypeEnum\n",
    "from ra2ce.network.network_config_data.enums.road_type_enum import RoadTypeEnum\n",
    "from ra2ce.network.network_config_data.network_config_data import (NetworkConfigData,NetworkSection)\n",
    "from ra2ce.network.network_wrappers.osm_network_wrapper.osm_network_wrapper import (OsmNetworkWrapper,)\n",
    "from ra2ce.network.network_simplification.snkit_network_wrapper import (SnkitNetworkWrapper)\n"
   ]
  },
  {
   "cell_type": "markdown",
   "metadata": {},
   "source": [
    "## Folder structure\n",
    "\n",
    "Before starting the examples, it is good if you familiarize yourself with the RA2CE folder structure. RA2CE requires this folder structure to succesfully perform analyses. You can find the folder structure in the **documentation**.\n",
    "<br>\n",
    "\n",
    "<pr>A project folder must contain the subfolders 'output' and 'static'. An 'input' folder is optional for additional data sets but we will not use that in our example. It must also contain the network.ini and/or analyses.ini files. Within the subfolder 'static', RA2CE expects three subfolders: hazard, network, and output_graph. See below an example folder structure of “Project A”. This folder structure must be created by the user before running RA2CE.</pr>"
   ]
  },
  {
   "cell_type": "markdown",
   "metadata": {},
   "source": [
    "You can add the path to your project directory to your RA2CE analysis<br>\n",
    "The project directory should contain the RA2CE folder setup"
   ]
  },
  {
   "cell_type": "code",
   "execution_count": null,
   "metadata": {},
   "outputs": [],
   "source": [
    "# specify the name of the path to the project folder where you created the RA2CE folder setup\n",
    "root_dir = Path(\".//data//get_network_with_hazardmap\")\n",
    "assert root_dir.exists()"
   ]
  },
  {
   "cell_type": "markdown",
   "metadata": {},
   "source": [
    "## The Hazard\n",
    "\n",
    "\n",
    "Lets define where our hazard map is located and the visualize the hazard map<br>\n",
    "<br>\n",
    "<mark>Hazard maps should be .tif in epsg 4326 projection.</mark> "
   ]
  },
  {
   "cell_type": "code",
   "execution_count": null,
   "metadata": {},
   "outputs": [],
   "source": [
    "hazard_folder = root_dir / \"static\" / \"hazard\" # find the hazard folder where you locate your hazard map\n",
    "hazard_map = list(hazard_folder.glob(\"*.tif\"))"
   ]
  },
  {
   "cell_type": "code",
   "execution_count": null,
   "metadata": {},
   "outputs": [],
   "source": [
    "for tif_file in hazard_map:\n",
    "    with rasterio.open(tif_file) as src:\n",
    "        tif_array = src.read(1)  # Read the first band\n",
    "        crs = src.crs  # Get the Coordinate Reference System\n",
    "\n",
    "    print(f\"File: {tif_file.name}, CRS: {crs}\")\n",
    "    \n",
    "    plt.figure(figsize=(10, 10))\n",
    "    plt.imshow(tif_array, cmap='Blues')\n",
    "    plt.colorbar(label='Pixel Values')\n",
    "    plt.title(f'Hazard map: {tif_file.name}\\nCRS: {crs}')\n",
    "    plt.show()"
   ]
  },
  {
   "cell_type": "markdown",
   "metadata": {},
   "source": [
    "## Generating the extent of the area"
   ]
  },
  {
   "cell_type": "markdown",
   "metadata": {},
   "source": [
    "Let's explore the location of the polygon:<br>\n",
    "\n",
    "*If the hazard map is not in epsg:4326 projection the following code section reprojects the extent to an osm recognized projection"
   ]
  },
  {
   "cell_type": "code",
   "execution_count": null,
   "metadata": {},
   "outputs": [],
   "source": [
    "# Function to reproject geometry\n",
    "def reproject_geometry(geom, src_crs, dst_crs):\n",
    "    project = pyproj.Transformer.from_crs(src_crs, dst_crs, always_xy=True).transform\n",
    "    return transform(project, geom)\n",
    "\n",
    "# Process only the first raster file in the list\n",
    "with rasterio.open(hazard_map[0]) as src:\n",
    "    bbox = src.bounds\n",
    "    bbox_polygon = box(bbox.left, bbox.bottom, bbox.right, bbox.top)  # Create bounding box\n",
    "    src_crs = src.crs\n",
    "    dst_crs = 'EPSG:4326'\n",
    "\n",
    "    if src_crs.to_string() != dst_crs:\n",
    "        # Reproject the bounding box polygon to EPSG:4326\n",
    "        bbox_polygon = reproject_geometry(bbox_polygon, src_crs, dst_crs)\n",
    "        print(f\"Hazard Map {hazard_map[0]} is in the CRS: {src_crs}\")\n",
    "        print(\"Reprojected the polygon to EPSG:4326\")\n",
    "\n",
    "# Create a GeoDataFrame with the bounding box polygon\n",
    "gdf_polygon = gpd.GeoDataFrame(index=[0], geometry=[bbox_polygon], crs=dst_crs)\n",
    "centroid = gdf_polygon.geometry.centroid.iloc[0]\n",
    "m = folium.Map(location=[centroid.y, centroid.x], zoom_start=14)\n",
    "folium.GeoJson(gdf_polygon).add_to(m)\n",
    "m\n"
   ]
  },
  {
   "cell_type": "markdown",
   "metadata": {},
   "source": [
    "## Set parameters and initalize a RA2CE run"
   ]
  },
  {
   "cell_type": "markdown",
   "metadata": {},
   "source": [
    "\n",
    "Next we need to define the Network characteristics that needs to be downloaded\n",
    "\n",
    "First we choose what kind of network that we need for the analysis. In the context of OpenStreetMap (OSM), network types are often used to describe different modes of transportation or access restrictions for routing and mapping purposes. This is handled by the variable network_type in this notebook.\n",
    "<br>\n",
    "<br>A network type can be :\n",
    "<ul>\n",
    "    <li>NONE : Indicates no specific mode of transportation</li>\n",
    "    <li>WALK : Refers to pedestrian access. Paths or routes marked with WALK are suitable for walking and may include sidewalks, footpaths, and pedestrian zones</li>\n",
    "    <li>BIKE : Refers to bicycle access. Routes marked with BIKE are suitable for cycling and may include bike lanes, cycle tracks, and shared-use paths</li>\n",
    "    <li>DRIVE : Refers to motor vehicle access. This includes cars, trucks, and other motorized vehicles</li>\n",
    "    <li>DRIVE_SERVICE : Refers to service vehicle access. This is typically used for roads that are intended for use by service vehicles, such as delivery trucks, maintenance vehicles, and emergency services</li>\n",
    "    <li>ALL : Indicates that all modes of transportation are allowed</li>\n",
    "    <li>INVALID : Indicates an invalid or undefined mode of transportation</li>\n",
    "</ul>"
   ]
  },
  {
   "cell_type": "markdown",
   "metadata": {},
   "source": [
    "Then we can specify the resolution of the selected network by defining road_types.<br>\n",
    "Road types includes :\n",
    "<ul>\n",
    "    <li>NONE: No specific road type\n",
    "    <li>MOTORWAY:  The highest-performance roads within a territory</li>\n",
    "    <li>MOTORWAY_LINK: Link roads (sliproads / ramps) leading to and from a motorway. These normally have motorway restrictions</li>\n",
    "    <li>TRUNK: High-performance or high-importance roads that don't meet the requirements for motorway, but are not classified as primary either (subject to country-specific exceptions)</li>\n",
    "    <li>TRUNK_LINK: Link roads (sliproads and ramps) leading to and from a trunk</li>\n",
    "    <li>PRIMARY: Major highway linking large towns, but which does not satisfy the performance requirements of a motorway and does not qualify to be trunk</li>\n",
    "    <li>PRIMARY_LINK: Slip road/ramp which connects a primary to a secondary, tertiary, or other minor highway</li>\n",
    "    <li>SECONDARY:  Highways which are not part of major routes, but nevertheless form a link in the national route network</li>\n",
    "    <li>SECONDARY_LINK: Slip road/ramp which connects a secondary to a tertiary, unclassified or other minor highway</li>\n",
    "    <li>TERTIARY: Roads connecting smaller settlements, and within large settlements for roads connecting local centres</li> \n",
    "    <li>TERTIARY_LINK: Slip road/ramp which connects a tertiary to a tertiary, unclassified or other minor highway</li>\n",
    "    <li>RESIDENTIAL: Roads that provide access to, or within, residential areas but which are not normally used as through routes</li>\n",
    "    <li>ROAD: Roads for which the classification is not known</li>\n",
    "    <li>TUNNEL: Tunnels</li>\n",
    "    <li>BRIDGE: Bridges</li>\n",
    "    <li>CULVERT: Culverts</li>\n",
    "    <li>UNCLASSIFIED: Used for minor public roads, typically at the lowest level of administrative hierarchy in that jurisdiction</li>\n",
    "    <li>INVALID: Invalid or undefined</li>\n",
    "</ul>\n",
    "\n",
    "After that we can start accessing the data from OSM. \n",
    "Bare in mind that larger regions and / or the more detail included in the road network may increase download time (significantly)"
   ]
  },
  {
   "cell_type": "code",
   "execution_count": null,
   "metadata": {},
   "outputs": [],
   "source": [
    "\n",
    "#First we define which roads we will want to download from OSM to create a network with\n",
    "network_section = NetworkSection(\n",
    "    network_type=NetworkTypeEnum.DRIVE, #insert network type\n",
    "    road_types=[RoadTypeEnum.MOTORWAY,   #Add road types you require\n",
    "                RoadTypeEnum.MOTORWAY_LINK,\n",
    "                RoadTypeEnum.TRUNK, \n",
    "                RoadTypeEnum.TRUNK_LINK,\n",
    "                RoadTypeEnum.PRIMARY, \n",
    "                RoadTypeEnum.PRIMARY_LINK,\n",
    "                RoadTypeEnum.SECONDARY,\n",
    "                RoadTypeEnum.SECONDARY_LINK,\n",
    "                RoadTypeEnum.TERTIARY,\n",
    "                RoadTypeEnum.TERTIARY_LINK\n",
    "                ],\n",
    "    attributes_to_exclude_in_simplification=['bridge', 'tunnel'],    # add the attributes that needs to be excluded when simplifying the network   \n",
    "                ) \n",
    "\n",
    "\n",
    "#pass the specified sections as arguments for configuration\n",
    "network_config_data = NetworkConfigData(\n",
    "    root_path= root_dir,\n",
    "    output_path= root_dir/\"output\",\n",
    "    network=network_section,\n",
    "    static_path=root_dir.joinpath('static'),\n",
    "    )\n",
    "\n",
    "#download the network based on the polygon extent and the specified road characteristics\n",
    "graph, _ = OsmNetworkWrapper.get_network_from_polygon(network_config_data, bbox_polygon)"
   ]
  },
  {
   "cell_type": "markdown",
   "metadata": {},
   "source": [
    "## Explore the results"
   ]
  },
  {
   "cell_type": "markdown",
   "metadata": {},
   "source": [
    "Get the edges as geopandas"
   ]
  },
  {
   "cell_type": "code",
   "execution_count": null,
   "metadata": {},
   "outputs": [],
   "source": [
    "snkit_network_wrapper = SnkitNetworkWrapper.from_networkx(\n",
    "            graph,\n",
    "            column_names_dict=dict(\n",
    "                node_id_column_name=\"id\",\n",
    "                edge_from_id_column_name=\"from_id\",\n",
    "                edge_to_id_column_name=\"to_id\",\n",
    "            ),\n",
    "        )\n",
    "\n",
    "edges_gdf = snkit_network_wrapper.snkit_network.edges"
   ]
  },
  {
   "cell_type": "markdown",
   "metadata": {},
   "source": [
    "Then visualise the edges. \n",
    "\n",
    "On the map, you can see the roads you requested from OSM. Use this to check the connectivity and completeness of your network."
   ]
  },
  {
   "cell_type": "code",
   "execution_count": null,
   "metadata": {},
   "outputs": [],
   "source": [
    "# Function to generate random colors, excluding white and light gray\n",
    "def generate_vivid_colors(n):\n",
    "    colors = []\n",
    "    for _ in range(n):\n",
    "        while True:\n",
    "            r, g, b = random.randint(0, 255), random.randint(0, 255), random.randint(0, 255)\n",
    "            # Exclude colors that are too close to white or light gray\n",
    "            if (r + g + b) < 600:  # Total brightness threshold (255 * 3 = 765 for white)\n",
    "                colors.append((r, g, b))\n",
    "                break\n",
    "    return colors\n",
    "\n",
    "# Ensure 'rfid' is treated as categorical and create random distinct RGB colors\n",
    "edges_gdf['rfid'] = edges_gdf['rfid'].astype('category')\n",
    "unique_rfid = edges_gdf['rfid'].cat.categories\n",
    "random_colors = generate_vivid_colors(len(unique_rfid))\n",
    "random_colors_normalized = [(r/255, g/255, b/255) for r, g, b in random_colors]\n",
    "\n",
    "# Create a ListedColormap with the random RGB colors\n",
    "cmap = ListedColormap(random_colors_normalized)\n",
    "\n",
    "edges_gdf.explore(column='rfid', cmap=cmap, tiles=\"CartoDB positron\", categorical=True, legend=False)"
   ]
  }
 ],
 "metadata": {
  "kernelspec": {
   "display_name": "ra2ce_env",
   "language": "python",
   "name": "python3"
  },
  "language_info": {
   "codemirror_mode": {
    "name": "ipython",
    "version": 3
   },
   "file_extension": ".py",
   "mimetype": "text/x-python",
   "name": "python",
   "nbconvert_exporter": "python",
   "pygments_lexer": "ipython3",
   "version": "3.10.15"
  }
 },
 "nbformat": 4,
 "nbformat_minor": 2
}
