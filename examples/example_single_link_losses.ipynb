{
 "cells": [
  {
   "attachments": {},
   "cell_type": "markdown",
   "metadata": {},
   "source": [
    "# RA2CE feature: Single link losses analysis"
   ]
  },
  {
   "cell_type": "markdown",
   "metadata": {},
   "source": [
    "## Single link losses Analysis"
   ]
  },
  {
   "cell_type": "code",
   "execution_count": null,
   "metadata": {},
   "outputs": [],
   "source": [
    "from pathlib import Path\n",
    "from ra2ce.ra2ce_handler import Ra2ceHandler\n",
    "import geopandas as gpd\n",
    "import pyproj\n",
    "\n",
    "# Import config data\n",
    "root_dir = Path(\"data\", \"single_link_losses\")\n",
    "assert root_dir.exists()\n",
    "\n",
    "# Load network data.\n",
    "from ra2ce.network.network_config_data.network_config_data_reader import NetworkConfigDataReader\n",
    "_network_config_data = NetworkConfigDataReader().read(root_dir.joinpath(\"network.ini\"))\n",
    "\n",
    "# Load analysis data.\n",
    "from ra2ce.analysis.analysis_config_data.analysis_config_data_reader import AnalysisConfigDataReader\n",
    "_analysis_config_data = AnalysisConfigDataReader().read(root_dir.joinpath(\"analysis.ini\"))"
   ]
  },
  {
   "cell_type": "markdown",
   "metadata": {},
   "source": [
    "### Modify the analysis config data with custom properties"
   ]
  },
  {
   "cell_type": "code",
   "execution_count": 2,
   "metadata": {},
   "outputs": [],
   "source": [
    "from ra2ce.analysis.analysis_config_data.analysis_config_data import AnalysisSectionLosses\n",
    "\n",
    "# Modify the first analysis (assuming it's the only one)\n",
    "_found_analysis: AnalysisSectionLosses = _analysis_config_data.analyses[0]\n",
    "_input_analysis_path = root_dir.joinpath(\"input_analysis_data\")\n",
    "_found_analysis.traffic_intensities_file = _input_analysis_path.joinpath(\"traffic_intensities.csv\")\n",
    "_found_analysis.resilience_curves_file = _input_analysis_path.joinpath(\"resilience_curve.csv\")\n",
    "_found_analysis.values_of_time_file = _input_analysis_path.joinpath(\"values_of_time.csv\")"
   ]
  },
  {
   "cell_type": "markdown",
   "metadata": {},
   "source": [
    "### Configure network"
   ]
  },
  {
   "cell_type": "markdown",
   "metadata": {},
   "source": [
    "Let's have a look first at the hazard overlay to locate the road segments for which losses will be expected. We run only the network configuration."
   ]
  },
  {
   "cell_type": "code",
   "execution_count": 3,
   "metadata": {},
   "outputs": [],
   "source": [
    "handler = Ra2ceHandler.from_config(_network_config_data, _analysis_config_data)\n",
    "handler.configure()"
   ]
  },
  {
   "cell_type": "code",
   "execution_count": null,
   "metadata": {},
   "outputs": [],
   "source": [
    "hazard_output = root_dir / \"static\" / \"output_graph\" / \"base_graph_hazard_edges.gpkg\"\n",
    "hazard_gdf = gpd.read_file(hazard_output, driver = \"GPKG\")\n",
    "hazard_gdf.crs = pyproj.CRS(4326)\n",
    "hazard_gdf.explore(column=\"EV1_ma\", cmap = \"viridis\", tiles=\"CartoDB positron\")"
   ]
  },
  {
   "cell_type": "markdown",
   "metadata": {},
   "source": [
    "### Run losses analysis"
   ]
  },
  {
   "cell_type": "code",
   "execution_count": null,
   "metadata": {},
   "outputs": [],
   "source": [
    "handler.run_analysis()"
   ]
  },
  {
   "cell_type": "markdown",
   "metadata": {},
   "source": [
    "Let's inspect the results of the analysis. For every segment in the network, the losses are expressed in vehicle loss hour (vlh) for all the types of trip defined in the input files: business, commute, freight and other."
   ]
  },
  {
   "cell_type": "code",
   "execution_count": null,
   "metadata": {},
   "outputs": [],
   "source": [
    "analysis_output_folder = root_dir / \"output\" / \"single_link_losses\" # specify path to output folder\n",
    "\n",
    "losses_gdf = gpd.read_file(analysis_output_folder/\"beira_single_losses.gpkg\") #specify the name of the geopackage holding your results (can be found in the analysis output folder)\n",
    "losses_gdf.head() #display the attributes of the file"
   ]
  },
  {
   "cell_type": "markdown",
   "metadata": {},
   "source": [
    "The map below displays the total loss for all trip types per link"
   ]
  },
  {
   "cell_type": "code",
   "execution_count": null,
   "metadata": {},
   "outputs": [],
   "source": [
    "losses_roads_map = losses_gdf.explore(column='vlh_EV1_ma_total', tiles=\"CartoDB positron\",)\n",
    "display(losses_roads_map)"
   ]
  }
 ],
 "metadata": {
  "kernelspec": {
   "display_name": "Python 3",
   "language": "python",
   "name": "python3"
  },
  "language_info": {
   "codemirror_mode": {
    "name": "ipython",
    "version": 3
   },
   "file_extension": ".py",
   "mimetype": "text/x-python",
   "name": "python",
   "nbconvert_exporter": "python",
   "pygments_lexer": "ipython3",
   "version": "3.10.16"
  }
 },
 "nbformat": 4,
 "nbformat_minor": 2
}
