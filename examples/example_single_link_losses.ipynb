{
 "cells": [
  {
   "attachments": {},
   "cell_type": "markdown",
   "metadata": {},
   "source": [
    "# RA2CE feature: Losses analysis"
   ]
  },
  {
   "cell_type": "markdown",
   "metadata": {},
   "source": [
    "## Single link losses Analysis"
   ]
  },
  {
   "cell_type": "code",
   "execution_count": 1,
   "metadata": {},
   "outputs": [
    {
     "name": "stderr",
     "output_type": "stream",
     "text": [
      "d:\\repos\\ra2ce_suite\\ra2ce-core\\.env\\lib\\site-packages\\tqdm\\auto.py:21: TqdmWarning: IProgress not found. Please update jupyter and ipywidgets. See https://ipywidgets.readthedocs.io/en/stable/user_install.html\n",
      "  from .autonotebook import tqdm as notebook_tqdm\n"
     ]
    }
   ],
   "source": [
    "from pathlib import Path\n",
    "from ra2ce.ra2ce_handler import Ra2ceHandler\n",
    "\n",
    "# Import config data\n",
    "root_dir_multi = Path(\"data\", \"single_link_losses\")\n",
    "assert root_dir_multi.exists()\n",
    "\n",
    "# Load network data.\n",
    "from ra2ce.network.network_config_data.network_config_data_reader import NetworkConfigDataReader\n",
    "_network_config_data = NetworkConfigDataReader().read(root_dir_multi.joinpath(\"network.ini\"))\n",
    "\n",
    "# Load analysis data.\n",
    "from ra2ce.analysis.analysis_config_data.analysis_config_data_reader import AnalysisConfigDataReader\n",
    "_analysis_config_data = AnalysisConfigDataReader().read(root_dir_multi.joinpath(\"analysis.ini\"))"
   ]
  },
  {
   "cell_type": "markdown",
   "metadata": {},
   "source": [
    "### Modify the analysis config data with custom properties"
   ]
  },
  {
   "cell_type": "code",
   "execution_count": 2,
   "metadata": {},
   "outputs": [],
   "source": [
    "from ra2ce.analysis.analysis_config_data.analysis_config_data import AnalysisSectionLosses\n",
    "\n",
    "# Modify the first analysis (assuming it's the only one)\n",
    "_found_analysis: AnalysisSectionLosses = _analysis_config_data.analyses[0]\n",
    "_input_analysis_path = root_dir_multi.joinpath(\"input_analysis_data\")\n",
    "_found_analysis.traffic_intensities_file = _input_analysis_path.joinpath(\"traffic_intensities.csv\")\n",
    "_found_analysis.resilience_curve_file = _input_analysis_path.joinpath(\"resilience_curve.csv\")\n",
    "_found_analysis.values_of_time_file = _input_analysis_path.joinpath(\"values_of_time.csv\")"
   ]
  },
  {
   "cell_type": "markdown",
   "metadata": {},
   "source": [
    "### Run the analysis"
   ]
  },
  {
   "cell_type": "code",
   "execution_count": 4,
   "metadata": {},
   "outputs": [
    {
     "name": "stderr",
     "output_type": "stream",
     "text": [
      "2024-05-30 01:36:42 PM - [hazard_overlay.py:705] - root - WARNING - Hazard crs EPSG:32736 and gdf crs {\"$schema\": \"https://proj.org/schemas/v0.7/projjson.schema.json\", \"type\": \"GeographicCRS\", \"name\": \"WGS 84\", \"datum_ensemble\": {\"name\": \"World Geodetic System 1984 ensemble\", \"members\": [{\"name\": \"World Geodetic System 1984 (Transit)\"}, {\"name\": \"World Geodetic System 1984 (G730)\"}, {\"name\": \"World Geodetic System 1984 (G873)\"}, {\"name\": \"World Geodetic System 1984 (G1150)\"}, {\"name\": \"World Geodetic System 1984 (G1674)\"}, {\"name\": \"World Geodetic System 1984 (G1762)\"}, {\"name\": \"World Geodetic System 1984 (G2139)\"}], \"ellipsoid\": {\"name\": \"WGS 84\", \"semi_major_axis\": 6378137, \"inverse_flattening\": 298.257223563}, \"accuracy\": \"2.0\", \"id\": {\"authority\": \"EPSG\", \"code\": 6326}}, \"coordinate_system\": {\"subtype\": \"ellipsoidal\", \"axis\": [{\"name\": \"Geodetic latitude\", \"abbreviation\": \"Lat\", \"direction\": \"north\", \"unit\": \"degree\"}, {\"name\": \"Geodetic longitude\", \"abbreviation\": \"Lon\", \"direction\": \"east\", \"unit\": \"degree\"}]}, \"scope\": \"Horizontal component of 3D system.\", \"area\": \"World.\", \"bbox\": {\"south_latitude\": -90, \"west_longitude\": -180, \"north_latitude\": 90, \"east_longitude\": 180}, \"id\": {\"authority\": \"EPSG\", \"code\": 4326}} are inconsistent,\n",
      "                                                we try to reproject the gdf crs\n",
      "2024-05-30 01:36:42 PM - [hazard_overlay.py:705] - root - WARNING - Hazard crs EPSG:32736 and gdf crs {\"$schema\": \"https://proj.org/schemas/v0.7/projjson.schema.json\", \"type\": \"GeographicCRS\", \"name\": \"WGS 84\", \"datum_ensemble\": {\"name\": \"World Geodetic System 1984 ensemble\", \"members\": [{\"name\": \"World Geodetic System 1984 (Transit)\"}, {\"name\": \"World Geodetic System 1984 (G730)\"}, {\"name\": \"World Geodetic System 1984 (G873)\"}, {\"name\": \"World Geodetic System 1984 (G1150)\"}, {\"name\": \"World Geodetic System 1984 (G1674)\"}, {\"name\": \"World Geodetic System 1984 (G1762)\"}, {\"name\": \"World Geodetic System 1984 (G2139)\"}], \"ellipsoid\": {\"name\": \"WGS 84\", \"semi_major_axis\": 6378137, \"inverse_flattening\": 298.257223563}, \"accuracy\": \"2.0\", \"id\": {\"authority\": \"EPSG\", \"code\": 6326}}, \"coordinate_system\": {\"subtype\": \"ellipsoidal\", \"axis\": [{\"name\": \"Geodetic latitude\", \"abbreviation\": \"Lat\", \"direction\": \"north\", \"unit\": \"degree\"}, {\"name\": \"Geodetic longitude\", \"abbreviation\": \"Lon\", \"direction\": \"east\", \"unit\": \"degree\"}]}, \"scope\": \"Horizontal component of 3D system.\", \"area\": \"World.\", \"bbox\": {\"south_latitude\": -90, \"west_longitude\": -180, \"north_latitude\": 90, \"east_longitude\": 180}, \"id\": {\"authority\": \"EPSG\", \"code\": 4326}} are inconsistent,\n",
      "                                                we try to reproject the gdf crs\n",
      "2024-05-30 01:36:42 PM - [hazard_intersect_builder_for_tif.py:179] - root - WARNING - Some geometries have NoneType objects (no coordinate information), namely: Empty GeoDataFrame\n",
      "Columns: [link_id, ID, highway, avgspeed, geometry, bridge, node_A, node_B, edge_fid, rfid_c, rfid, length, time]\n",
      "Index: [].This could be due to segmentation, and might cause an exception in hazard overlay\n",
      "2024-05-30 01:36:42 PM - [hazard_intersect_builder_for_tif.py:179] - root - WARNING - Some geometries have NoneType objects (no coordinate information), namely: Empty GeoDataFrame\n",
      "Columns: [link_id, ID, highway, avgspeed, geometry, bridge, node_A, node_B, edge_fid, rfid_c, rfid, length, time]\n",
      "Index: [].This could be due to segmentation, and might cause an exception in hazard overlay\n",
      "Network hazard overlay with max_flood_depth: 100%|██████████| 470/470 [00:03<00:00, 120.87it/s]\n",
      "Network fraction with hazard overlay with max_flood_depth: 100%|██████████| 470/470 [00:33<00:00, 14.24it/s] \n",
      "d:\\repos\\ra2ce_suite\\ra2ce-core\\.env\\lib\\site-packages\\geopandas\\geodataframe.py:1543: SettingWithCopyWarning: \n",
      "A value is trying to be set on a copy of a slice from a DataFrame.\n",
      "Try using .loc[row_indexer,col_indexer] = value instead\n",
      "\n",
      "See the caveats in the documentation: https://pandas.pydata.org/pandas-docs/stable/user_guide/indexing.html#returning-a-view-versus-a-copy\n",
      "  super().__setitem__(key, value)\n"
     ]
    },
    {
     "data": {
      "text/plain": [
       "[AnalysisResultWrapper(analysis_result=      ID    u    v  key    EV1_fr    EV1_ma  \\\n",
       " 0     86    2   42    0  0.014318  1.369213   \n",
       " 1     30   29   31    0  0.079975  0.345044   \n",
       " 2    100   30   82    0  0.100808  0.654458   \n",
       " 3     85   42   73    0  0.027676  0.409945   \n",
       " 4    264   46   51    0  0.002634  0.766717   \n",
       " ..   ...  ...  ...  ...       ...       ...   \n",
       " 225  253  153  156    0  0.000000  0.000000   \n",
       " 226  246  154  155    0  0.000000  0.000000   \n",
       " 227  249  154  156    0  0.000000  0.000000   \n",
       " 228  248  156  157    0  0.000000  0.000000   \n",
       " 229  257  157  158    0  0.000000  0.000000   \n",
       " \n",
       "                                              alt_nodes  alt_time  avgspeed  \\\n",
       " 0    [2, 0, 1, 13, 10, 7, 6, 9, 75, 121, 118, 5, 3,...  0.100254      59.0   \n",
       " 1                                     [29, 30, 82, 31]  0.005441      59.0   \n",
       " 2                                     [30, 29, 31, 82]  0.010400      30.0   \n",
       " 3                                                  nan  0.017000      60.0   \n",
       " 4                                [46, 48, 47, 160, 51]  0.008683      60.0   \n",
       " ..                                                 ...       ...       ...   \n",
       " 225                               [153, 155, 154, 156]  0.000933      60.0   \n",
       " 226                               [154, 156, 153, 155]  0.000933      60.0   \n",
       " 227                                [154, 89, 157, 156]  0.001217      60.0   \n",
       " 228                                [156, 154, 89, 157]  0.003383      60.0   \n",
       " 229                                                nan  0.025000      60.0   \n",
       " \n",
       "     bridge  ...  node_A  node_B rfid rfid_c   time  vlh_business_EV1_ma  \\\n",
       " 0      yes  ...       2      42  125    127  0.044            46.409715   \n",
       " 1      yes  ...      29      31   91     93  0.004             0.158477   \n",
       " 2      yes  ...      30      82  233    241  0.008             3.480000   \n",
       " 3      yes  ...      42      73  208    216  0.017        636000.000000   \n",
       " 4      nan  ...      46      51  151    153  0.002             4.051751   \n",
       " ..     ...  ...     ...     ...  ...    ...    ...                  ...   \n",
       " 225    nan  ...     153     156  448    458  0.001             0.000000   \n",
       " 226    nan  ...     154     155  447    457  0.001             0.000000   \n",
       " 227    nan  ...     154     156  449    459  0.000             0.000000   \n",
       " 228    nan  ...     156     157  452    462  0.003             0.000000   \n",
       " 229    nan  ...     157     158  454    464  0.025             0.000000   \n",
       " \n",
       "     vlh_commute_EV1_ma vlh_freight_EV1_ma vlh_other_EV1_ma  vlh_EV1_ma_total  \n",
       " 0            36.565230        1392.291450     6.187962e+02      2.094063e+03  \n",
       " 1             0.129663           0.345768     1.239002e+00      1.872910e+00  \n",
       " 2             1.770000          15.600000     1.020000e+01      3.105000e+01  \n",
       " 3        702000.000000      336000.000000     5.760000e+06      7.434000e+06  \n",
       " 4             1.503742          18.379075     7.936419e+00      3.187099e+01  \n",
       " ..                 ...                ...              ...               ...  \n",
       " 225           0.000000           0.000000     0.000000e+00      0.000000e+00  \n",
       " 226           0.000000           0.000000     0.000000e+00      0.000000e+00  \n",
       " 227           0.000000           0.000000     0.000000e+00      0.000000e+00  \n",
       " 228           0.000000           0.000000     0.000000e+00      0.000000e+00  \n",
       " 229           0.000000           0.000000     0.000000e+00      0.000000e+00  \n",
       " \n",
       " [230 rows x 27 columns], analysis=<ra2ce.analysis.indirect.losses.Losses object at 0x0000012228671720>)]"
      ]
     },
     "execution_count": 4,
     "metadata": {},
     "output_type": "execute_result"
    }
   ],
   "source": [
    "handler = Ra2ceHandler.from_config(_network_config_data, _analysis_config_data)\n",
    "\n",
    "handler.configure()\n",
    "handler.run_analysis()"
   ]
  }
 ],
 "metadata": {
  "kernelspec": {
   "display_name": "ra2ce_env",
   "language": "python",
   "name": "python3"
  },
  "language_info": {
   "codemirror_mode": {
    "name": "ipython",
    "version": 3
   },
   "file_extension": ".py",
   "mimetype": "text/x-python",
   "name": "python",
   "nbconvert_exporter": "python",
   "pygments_lexer": "ipython3",
   "version": "3.10.13"
  }
 },
 "nbformat": 4,
 "nbformat_minor": 2
}
