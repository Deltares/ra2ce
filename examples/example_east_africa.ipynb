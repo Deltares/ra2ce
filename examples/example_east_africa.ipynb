{
 "cells": [
  {
   "cell_type": "code",
   "execution_count": 1,
   "metadata": {},
   "outputs": [],
   "source": [
    "import geopandas as gpd\n",
    "import pandas as pd\n",
    "from pathlib import Path\n",
    "from shapely import geometry, Polygon\n",
    "\n",
    "IMPORT_FOLDER = Path('P:\\moonshot2-casestudy\\SFINCS\\models')\n",
    "\n",
    "# Loop over region folders and join the extent files\n",
    "_combined_gdf = gpd.GeoDataFrame()\n",
    "for _region in [f for f in IMPORT_FOLDER.iterdir() if f.is_dir()]:\n",
    "    _extent_file = _region.joinpath('gis', 'region.geojson')\n",
    "    assert _extent_file.is_file()\n",
    "    _gdf = gpd.read_file(_extent_file)\n",
    "    _combined_gdf = pd.concat([_combined_gdf, _gdf.to_crs(4326)], ignore_index=True)\n",
    "\n",
    "# Extract the total extent spanning the concatenated regions\n",
    "_total_extent = _combined_gdf.total_bounds\n",
    "\n"
   ]
  },
  {
   "cell_type": "code",
   "execution_count": 8,
   "metadata": {},
   "outputs": [
    {
     "name": "stderr",
     "output_type": "stream",
     "text": [
      "WARNING:root:No valid value provided for polygon file.\n"
     ]
    },
    {
     "name": "stderr",
     "output_type": "stream",
     "text": [
      "c:\\Users\\klapwij\\code\\ra2ce\\.env\\lib\\site-packages\\osmnx\\simplification.py:454: UserWarning: Geometry is in a geographic CRS. Results from 'buffer' are likely incorrect. Use 'GeoSeries.to_crs()' to re-project geometries to a projected CRS before this operation.\n",
      "\n",
      "  merged = utils_graph.graph_to_gdfs(G, edges=False)[\"geometry\"].buffer(tolerance).unary_union\n",
      "c:\\Users\\klapwij\\code\\ra2ce\\.env\\lib\\site-packages\\osmnx\\simplification.py:501: UserWarning: Geometry is in a geographic CRS. Results from 'centroid' are likely incorrect. Use 'GeoSeries.to_crs()' to re-project geometries to a projected CRS before this operation.\n",
      "\n",
      "  centroids = node_clusters.centroid\n"
     ]
    }
   ],
   "source": [
    "from ra2ce.network.network_config_data.enums.network_type_enum import NetworkTypeEnum\n",
    "from ra2ce.network.network_config_data.enums.road_type_enum import RoadTypeEnum\n",
    "from ra2ce.network.network_config_data.network_config_data import NetworkConfigData, NetworkSection\n",
    "from ra2ce.network.network_wrappers.osm_network_wrapper.osm_network_wrapper import OsmNetworkWrapper\n",
    "\n",
    "# Read network from polygon\n",
    "_polygon = Polygon(geometry.box(*_total_extent))\n",
    "_network_section = NetworkSection(network_type=NetworkTypeEnum.DRIVE, road_types=[RoadTypeEnum.MOTORWAY, RoadTypeEnum.MOTORWAY_LINK, RoadTypeEnum.TRUNK, RoadTypeEnum.TRUNK_LINK, RoadTypeEnum.PRIMARY, RoadTypeEnum.PRIMARY_LINK, RoadTypeEnum.SECONDARY, RoadTypeEnum.SECONDARY_LINK, RoadTypeEnum.TERTIARY, RoadTypeEnum.TERTIARY_LINK], save_gpkg=True)\n",
    "_config_data = NetworkConfigData(network=_network_section)\n",
    "_network = OsmNetworkWrapper.with_polygon(_config_data, _polygon)\n"
   ]
  },
  {
   "cell_type": "code",
   "execution_count": 18,
   "metadata": {},
   "outputs": [
    {
     "ename": "TypeError",
     "evalue": "NetworkExporterBase.export() got an unexpected keyword argument 'output_dir'",
     "output_type": "error",
     "traceback": [
      "\u001b[1;31m---------------------------------------------------------------------------\u001b[0m",
      "\u001b[1;31mTypeError\u001b[0m                                 Traceback (most recent call last)",
      "Cell \u001b[1;32mIn[18], line 5\u001b[0m\n\u001b[0;32m      3\u001b[0m \u001b[38;5;66;03m# Export the graph to a GeoPackage\u001b[39;00m\n\u001b[0;32m      4\u001b[0m _exporter \u001b[38;5;241m=\u001b[39m MultiGraphNetworkExporter(basename\u001b[38;5;241m=\u001b[39m\u001b[38;5;124m'\u001b[39m\u001b[38;5;124mTotalNetwork\u001b[39m\u001b[38;5;124m'\u001b[39m, export_types\u001b[38;5;241m=\u001b[39m[\u001b[38;5;124m'\u001b[39m\u001b[38;5;124mgpkg\u001b[39m\u001b[38;5;124m'\u001b[39m])\n\u001b[1;32m----> 5\u001b[0m \u001b[43m_exporter\u001b[49m\u001b[38;5;241;43m.\u001b[39;49m\u001b[43mexport\u001b[49m\u001b[43m(\u001b[49m\u001b[43moutput_dir\u001b[49m\u001b[38;5;241;43m=\u001b[39;49m\u001b[43mPath\u001b[49m\u001b[43m(\u001b[49m\u001b[38;5;124;43m'\u001b[39;49m\u001b[38;5;124;43mC:Temp\u001b[39;49m\u001b[38;5;124;43m'\u001b[39;49m\u001b[43m)\u001b[49m\u001b[43m,\u001b[49m\u001b[43m \u001b[49m\u001b[43mexport_data\u001b[49m\u001b[38;5;241;43m=\u001b[39;49m\u001b[43m_network\u001b[49m\u001b[43m)\u001b[49m\n",
      "\u001b[1;31mTypeError\u001b[0m: NetworkExporterBase.export() got an unexpected keyword argument 'output_dir'"
     ]
    }
   ],
   "source": [
    "from ra2ce.network.exporters.multi_graph_network_exporter import MultiGraphNetworkExporter\n",
    "\n",
    "# Export the graph to a GeoPackage\n",
    "_exporter = MultiGraphNetworkExporter(basename='TotalNetwork', export_types=['gpkg'])\n",
    "_exporter.export(export_path=Path('C:Temp'), export_data=_network)\n"
   ]
  },
  {
   "cell_type": "code",
   "execution_count": null,
   "metadata": {},
   "outputs": [],
   "source": []
  }
 ],
 "metadata": {
  "kernelspec": {
   "display_name": "Python 3",
   "language": "python",
   "name": "python3"
  },
  "language_info": {
   "codemirror_mode": {
    "name": "ipython",
    "version": 3
   },
   "file_extension": ".py",
   "mimetype": "text/x-python",
   "name": "python",
   "nbconvert_exporter": "python",
   "pygments_lexer": "ipython3",
   "version": "3.10.13"
  }
 },
 "nbformat": 4,
 "nbformat_minor": 2
}
