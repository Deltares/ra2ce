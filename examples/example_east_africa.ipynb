{
 "cells": [
  {
   "cell_type": "markdown",
   "metadata": {},
   "source": [
    "# Introduction\n",
    "This notebook is created during the hackathon on East Africa (March 2024).\n",
    "It downloads an OSM network based on the combined extent of the various regions that are provided as input folders, containing a file `gis\\region.geojson`.\n",
    "\n",
    "## Determine the polygon of the total extent of the regions"
   ]
  },
  {
   "cell_type": "code",
   "execution_count": 10,
   "metadata": {},
   "outputs": [],
   "source": [
    "import geopandas as gpd\n",
    "import pandas as pd\n",
    "from pathlib import Path\n",
    "from shapely import geometry, Polygon\n",
    "from json import dump\n",
    "from osgeo import gdal, osr\n",
    "from shutil import copyfile\n",
    "\n",
    "IMPORT_FOLDER = Path('P:\\moonshot2-casestudy\\SFINCS\\models')\n",
    "OUTPUT_FOLDER = Path('P:\\moonshot2-casestudy\\RA2CE')"
   ]
  },
  {
   "cell_type": "code",
   "execution_count": 6,
   "metadata": {},
   "outputs": [],
   "source": [
    "# Loop over region folders and concatenate the extents\n",
    "_combined_gdf = gpd.GeoDataFrame()\n",
    "for _region in [f for f in IMPORT_FOLDER.iterdir() if f.is_dir()]:\n",
    "    _extent_file = _region.joinpath('gis', 'region.geojson')\n",
    "    assert _extent_file.is_file()\n",
    "    _gdf = gpd.read_file(_extent_file)\n",
    "    _combined_gdf = pd.concat([_combined_gdf, _gdf.to_crs(4326)], ignore_index=True)\n",
    "\n",
    "# Extract polygon of the total extent spanning the concatenated regions\n",
    "_total_extent = _combined_gdf.total_bounds\n",
    "_polygon = Polygon(geometry.box(*_total_extent))\n",
    "\n",
    "# Write the combined extent to a new file\n",
    "_combined_extent_file = IMPORT_FOLDER.joinpath('combined_extent.geojson')\n",
    "_combined_geojson = _combined_gdf.to_json()\n",
    "with open(_combined_extent_file, 'w') as f:\n",
    "    dump(_combined_geojson, f)\n",
    "\n"
   ]
  },
  {
   "cell_type": "markdown",
   "metadata": {},
   "source": [
    "## Create network\n",
    "Then network is created from a polygon based on the total extent of the regions."
   ]
  },
  {
   "cell_type": "code",
   "execution_count": 9,
   "metadata": {},
   "outputs": [
    {
     "name": "stderr",
     "output_type": "stream",
     "text": [
      "WARNING:root:No valid value provided for polygon file.\n",
      "c:\\Users\\klapwij\\code\\ra2ce\\.env\\lib\\site-packages\\osmnx\\simplification.py:454: UserWarning: Geometry is in a geographic CRS. Results from 'buffer' are likely incorrect. Use 'GeoSeries.to_crs()' to re-project geometries to a projected CRS before this operation.\n",
      "\n",
      "  merged = utils_graph.graph_to_gdfs(G, edges=False)[\"geometry\"].buffer(tolerance).unary_union\n",
      "c:\\Users\\klapwij\\code\\ra2ce\\.env\\lib\\site-packages\\osmnx\\simplification.py:501: UserWarning: Geometry is in a geographic CRS. Results from 'centroid' are likely incorrect. Use 'GeoSeries.to_crs()' to re-project geometries to a projected CRS before this operation.\n",
      "\n",
      "  centroids = node_clusters.centroid\n"
     ]
    }
   ],
   "source": [
    "from ra2ce.network.network_config_data.enums.network_type_enum import NetworkTypeEnum\n",
    "from ra2ce.network.network_config_data.enums.road_type_enum import RoadTypeEnum\n",
    "from ra2ce.network.network_config_data.network_config_data import NetworkConfigData, NetworkSection\n",
    "from ra2ce.network.network_wrappers.osm_network_wrapper.osm_network_wrapper import OsmNetworkWrapper\n",
    "\n",
    "# Read network from polygon\n",
    "_road_type_list = [RoadTypeEnum.MOTORWAY, RoadTypeEnum.MOTORWAY_LINK, RoadTypeEnum.TRUNK, RoadTypeEnum.TRUNK_LINK, RoadTypeEnum.PRIMARY, RoadTypeEnum.PRIMARY_LINK, RoadTypeEnum.SECONDARY, RoadTypeEnum.SECONDARY_LINK, RoadTypeEnum.TERTIARY, RoadTypeEnum.TERTIARY_LINK]\n",
    "_network_section = NetworkSection(network_type=NetworkTypeEnum.DRIVE, road_types=_road_type_list, save_gpkg=True)\n",
    "_config_data = NetworkConfigData(network=_network_section, static_path=IMPORT_FOLDER)\n",
    "_network_wrapper = OsmNetworkWrapper.with_polygon(_config_data, _polygon)\n"
   ]
  },
  {
   "cell_type": "markdown",
   "metadata": {},
   "source": [
    "## Export the network to file"
   ]
  },
  {
   "cell_type": "code",
   "execution_count": 13,
   "metadata": {},
   "outputs": [
    {
     "name": "stderr",
     "output_type": "stream",
     "text": [
      "100%|██████████| 6275/6275 [00:00<00:00, 87750.75it/s]\n"
     ]
    }
   ],
   "source": [
    "from ra2ce.network.exporters.multi_graph_network_exporter import MultiGraphNetworkExporter\n",
    "\n",
    "# Export the graph to a GeoPackage\n",
    "_exporter = MultiGraphNetworkExporter(basename='TotalNetwork', export_types=['gpkg'])\n",
    "[_graph, _gdf] = _network_wrapper.get_network()\n",
    "_exporter.export(export_path=Path(OUTPUT_FOLDER).joinpath('static'), export_data=_graph)\n"
   ]
  },
  {
   "cell_type": "markdown",
   "metadata": {},
   "source": [
    "## Prepare floodmaps"
   ]
  },
  {
   "cell_type": "code",
   "execution_count": 6,
   "metadata": {},
   "outputs": [
    {
     "ename": "AttributeError",
     "evalue": "'str' object has no attribute 'GetAttrValue'",
     "output_type": "error",
     "traceback": [
      "\u001b[1;31m---------------------------------------------------------------------------\u001b[0m",
      "\u001b[1;31mAttributeError\u001b[0m                            Traceback (most recent call last)",
      "Cell \u001b[1;32mIn[6], line 11\u001b[0m\n\u001b[0;32m      9\u001b[0m _input_ds \u001b[38;5;241m=\u001b[39m gdal\u001b[38;5;241m.\u001b[39mOpen(\u001b[38;5;28mstr\u001b[39m(_floodmap))\n\u001b[0;32m     10\u001b[0m _source_proj \u001b[38;5;241m=\u001b[39m _input_ds\u001b[38;5;241m.\u001b[39mGetProjection()\n\u001b[1;32m---> 11\u001b[0m _source_cs \u001b[38;5;241m=\u001b[39m \u001b[43m_source_proj\u001b[49m\u001b[38;5;241;43m.\u001b[39;49m\u001b[43mGetAttrValue\u001b[49m(\u001b[38;5;124m'\u001b[39m\u001b[38;5;124mPROJCS\u001b[39m\u001b[38;5;124m'\u001b[39m)\n\u001b[0;32m     13\u001b[0m \u001b[38;5;66;03m# # Check projection\u001b[39;00m\n\u001b[0;32m     14\u001b[0m _output_file \u001b[38;5;241m=\u001b[39m _output_folder\u001b[38;5;241m.\u001b[39mjoinpath(_floodmap\u001b[38;5;241m.\u001b[39mname)\n",
      "\u001b[1;31mAttributeError\u001b[0m: 'str' object has no attribute 'GetAttrValue'"
     ]
    }
   ],
   "source": [
    "# Reproject and save the floodmaps\n",
    "_output_folder = OUTPUT_FOLDER.joinpath('floodmaps')\n",
    "if not _output_folder.exists():\n",
    "    _output_folder.mkdir(parents=True)\n",
    "    \n",
    "for _region in [f for f in IMPORT_FOLDER.iterdir() if f.is_dir()]:\n",
    "    _models_dir = _region.joinpath('floodmaps')\n",
    "    for _floodmap in _models_dir.iterdir():\n",
    "        _output_file = _output_folder.joinpath(_floodmap.name)\n",
    "        \n",
    "        _input_ds = gdal.Open(str(_floodmap))\n",
    "        _source_proj = _input_ds.GetProjection()\n",
    "        _srs = osr.SpatialReference(wkt=_source_proj)\n",
    "        if _srs.IsProjected:\n",
    "            _source_cs = _srs.GetAttrValue('PROJCS')\n",
    "            gdal.Warp(str(_output_file), str(_floodmap), srcSRS=_source_cs, dstSRS='EPSG:4326')\n",
    "        else:\n",
    "            copyfile(_floodmap, _output_file)\n",
    "        break\n",
    "    break"
   ]
  }
 ],
 "metadata": {
  "kernelspec": {
   "display_name": "Python 3",
   "language": "python",
   "name": "python3"
  },
  "language_info": {
   "codemirror_mode": {
    "name": "ipython",
    "version": 3
   },
   "file_extension": ".py",
   "mimetype": "text/x-python",
   "name": "python",
   "nbconvert_exporter": "python",
   "pygments_lexer": "ipython3",
   "version": "3.10.13"
  }
 },
 "nbformat": 4,
 "nbformat_minor": 2
}
