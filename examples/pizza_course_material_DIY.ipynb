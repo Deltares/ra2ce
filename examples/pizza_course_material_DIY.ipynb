{
 "cells": [
  {
   "attachments": {},
   "cell_type": "markdown",
   "id": "e0bf8629",
   "metadata": {},
   "source": [
    "# RA2CE: Do It Yourself"
   ]
  },
  {
   "attachments": {},
   "cell_type": "markdown",
   "id": "43bce1c4",
   "metadata": {},
   "source": [
    "Now let's do it yourself!\n",
    "\n",
    "First do your imports"
   ]
  },
  {
   "cell_type": "code",
   "execution_count": null,
   "id": "e67d001f",
   "metadata": {},
   "outputs": [],
   "source": [
    "import geopandas as gpd\n",
    "from pathlib import Path"
   ]
  },
  {
   "attachments": {},
   "cell_type": "markdown",
   "id": "0c5e8b7c",
   "metadata": {},
   "source": [
    "Create a folder for your project following the RA2CE folder structure. Then, apply some basic settings. Keep in mind that you will have to specify the path to your local machine yourself."
   ]
  },
  {
   "cell_type": "code",
   "execution_count": null,
   "id": "0d6562dd",
   "metadata": {},
   "outputs": [],
   "source": [
    "from ra2ce.ra2ce_handler import Ra2ceHandler #import the ra2cehandler to run ra2ce analyses\n",
    "\n",
    "_network_ini_name = \"your input goes here\" # set the name for the network.ini\n",
    "_analysis_ini_name = \"your input goes here\" # set the name for the analysis.ini"
   ]
  },
  {
   "cell_type": "code",
   "execution_count": null,
   "id": "3f003b62",
   "metadata": {},
   "outputs": [],
   "source": [
    "folder_dir = Path(r'') #Set the path to the folders where you will store your RA2CE project folders\n",
    "\n",
    "#PS: mind the folder structure!"
   ]
  },
  {
   "attachments": {},
   "cell_type": "markdown",
   "id": "6611234c",
   "metadata": {},
   "source": [
    "## Folder structure\n",
    "\n",
    "Make sure you have the correct folder structure and that the files you want to use are in the right folder. Otherwise, RA2CE will not be able to find the correct files to use."
   ]
  },
  {
   "attachments": {
    "image.png": {
     "image/png": "[encoded data removed]"
    }
   },
   "cell_type": "markdown",
   "id": "1c9ba230",
   "metadata": {},
   "source": [
    "![image.png](attachment:image.png)"
   ]
  },
  {
   "attachments": {},
   "cell_type": "markdown",
   "id": "96633b35",
   "metadata": {},
   "source": [
    "## Configuring a road network from OSM"
   ]
  },
  {
   "attachments": {},
   "cell_type": "markdown",
   "id": "12d4f7de",
   "metadata": {},
   "source": [
    "First, we will need to specify the area for which you want to download your road network.\n",
    "Therefore, create a .geojson polgyon which you save in the network folder.\n",
    "Set the **CRS to WGS84 EPSG:4326** (this is also the standard geojson CRS)."
   ]
  },
  {
   "attachments": {},
   "cell_type": "markdown",
   "id": "0afbb6d2",
   "metadata": {},
   "source": [
    "Specify the way in which you want to create your road network in the network.ini\n",
    "In this example we will use OSM download. \n",
    "Download the road network until **tertiary** roads, or if you want to use a larger area, only extract the motorways (also use the links!)"
   ]
  },
  {
   "attachments": {},
   "cell_type": "markdown",
   "id": "1cdfa8aa",
   "metadata": {},
   "source": [
    "> [project]<br>\n",
    "name = beira<br>\n",
    "<br>\n",
    "[network]<br>\n",
    "directed = False<br>\n",
    "**source = ...<br>**\n",
    "primary_file = None<br>\n",
    "diversion_file = None<br>\n",
    "file_id = rfid_c<br>\n",
    "**polygon = ...<br>**\n",
    "network_type = drive<br>\n",
    "**road_types = ...<br>**\n",
    "save_gpkg = True<br>\n",
    "<br>"
   ]
  },
  {
   "attachments": {},
   "cell_type": "markdown",
   "id": "70715c43",
   "metadata": {},
   "source": [
    "Now, we tell the program where to find our project folder (by specifying the path to the project folder). The network initialisation file (network.ini) is of interest. Now that we introduced a polygon of a region, we specified the road types and that we want an OSM download, RA2CE can perform this action for us. "
   ]
  },
  {
   "cell_type": "code",
   "execution_count": null,
   "id": "4486021e",
   "metadata": {},
   "outputs": [],
   "source": [
    "root_dir = folder_dir / \"\" #name of the folder which you created for your ra2ce analysis\n",
    "\n",
    "network_ini = root_dir / _network_ini_name #we set the network_ini_name before, so we can use this now for the project\n",
    "assert network_ini.is_file() #check whether there is a network.ini"
   ]
  },
  {
   "attachments": {},
   "cell_type": "markdown",
   "id": "73d6f950",
   "metadata": {},
   "source": [
    "Run the RA2CE analyses by inputting the right arguments.<br>\n",
    "Do you need both the network and analysis ini?"
   ]
  },
  {
   "cell_type": "code",
   "execution_count": null,
   "id": "0b11b371",
   "metadata": {
    "scrolled": true
   },
   "outputs": [],
   "source": [
    "handler = Ra2ceHandler(network=..., analysis=...)\n",
    "handler.configure()"
   ]
  },
  {
   "attachments": {},
   "cell_type": "markdown",
   "id": "9d7c18d6",
   "metadata": {},
   "source": [
    "Now, inspect your created network!"
   ]
  },
  {
   "cell_type": "code",
   "execution_count": null,
   "id": "68fdce82",
   "metadata": {},
   "outputs": [],
   "source": [
    "#Set the path to YOUR output_graph folder to find the network/graph creation:\n",
    "path_output_graph = root_dir/\" \"/\" \""
   ]
  },
  {
   "attachments": {},
   "cell_type": "markdown",
   "id": "9de42e13",
   "metadata": {},
   "source": [
    "Load in the file you are interested in (for example the edges or the nodes). <br>\n",
    "If you are more comfortable in a GIS, you can also load your data there.<br> \n",
    "Notice the different files in the output_graph folder. Inspect them all and see what their differences are."
   ]
  },
  {
   "cell_type": "code",
   "execution_count": null,
   "id": "546e31e6",
   "metadata": {},
   "outputs": [],
   "source": [
    "#your code goes here"
   ]
  },
  {
   "attachments": {},
   "cell_type": "markdown",
   "id": "551b8b78",
   "metadata": {},
   "source": [
    "Have you checked whether the network is nicely connected together? The disconnected islands plugin in QGIS is great help for this!"
   ]
  },
  {
   "attachments": {},
   "cell_type": "markdown",
   "id": "a92b918a",
   "metadata": {},
   "source": [
    "## Single redundancy test"
   ]
  },
  {
   "attachments": {},
   "cell_type": "markdown",
   "id": "5620ac4f",
   "metadata": {},
   "source": [
    "Now, let's perform a single redundancy test for your area of interest! Perform the analysis in the same folder as in which you created your graph. In this way, you can use the created road network for this analysis.<br>\n",
    "\n",
    "*You can also create a new folder and extract a network and perform the analysis from scratch if you want to get more advanced*"
   ]
  },
  {
   "attachments": {
    "image.png": {
     "image/png": "[encoded data removed]"
    }
   },
   "cell_type": "markdown",
   "id": "a6364f20",
   "metadata": {},
   "source": [
    "![image.png](attachment:image.png)"
   ]
  },
  {
   "attachments": {},
   "cell_type": "markdown",
   "id": "5b1a507f",
   "metadata": {},
   "source": [
    "Put the following arguments in the analysis.ini"
   ]
  },
  {
   "attachments": {},
   "cell_type": "markdown",
   "id": "c9047579",
   "metadata": {},
   "source": [
    "> [project] <br>\n",
    "name = beira <br>\n",
    " <br>\n",
    "[analysis1] <br>\n",
    "name = beira_redundancy <br>\n",
    "analysis = single_link_redundancy <br>\n",
    "weighing = distance <br>\n",
    "save_gpkg = True <br>\n",
    "save_csv = True <br>"
   ]
  },
  {
   "attachments": {},
   "cell_type": "markdown",
   "id": "a8cba717",
   "metadata": {},
   "source": [
    "Run RA2CE "
   ]
  },
  {
   "cell_type": "code",
   "execution_count": null,
   "id": "4b086c33",
   "metadata": {},
   "outputs": [],
   "source": [
    "analysis_ini = root_dir / _analysis_ini_name\n",
    "assert analysis_ini.is_file()\n",
    "handler = Ra2ceHandler(network=..., analysis=...)\n",
    "handler.configure()\n",
    "handler.run_analysis()"
   ]
  },
  {
   "attachments": {},
   "cell_type": "markdown",
   "id": "12774f27",
   "metadata": {},
   "source": [
    "Let's check your output!"
   ]
  },
  {
   "cell_type": "code",
   "execution_count": null,
   "id": "d9c98a5c",
   "metadata": {},
   "outputs": [],
   "source": [
    "analysis_output_folder = root_dir/\" \"/\" \" #specify path to output folder and the folder which holds the results"
   ]
  },
  {
   "attachments": {},
   "cell_type": "markdown",
   "id": "8f77caeb",
   "metadata": {},
   "source": [
    "Inspect the contents of the output"
   ]
  },
  {
   "cell_type": "code",
   "execution_count": null,
   "id": "943fad42",
   "metadata": {},
   "outputs": [],
   "source": [
    "#use gdf.head()"
   ]
  },
  {
   "attachments": {},
   "cell_type": "markdown",
   "id": "ddbd08ef",
   "metadata": {},
   "source": [
    "Read in the results. <br>\n",
    "What are the redundancy options for your network? "
   ]
  },
  {
   "cell_type": "code",
   "execution_count": null,
   "id": "7f070454",
   "metadata": {},
   "outputs": [],
   "source": [
    "#Your code goes here"
   ]
  },
  {
   "attachments": {},
   "cell_type": "markdown",
   "id": "539b8425",
   "metadata": {},
   "source": [
    "What is the difference between the alternative route and the original route? <br>\n",
    "\n",
    "\n",
    "*(hint: you can use the column diff_dist)*"
   ]
  },
  {
   "cell_type": "code",
   "execution_count": null,
   "id": "12020e3b",
   "metadata": {},
   "outputs": [],
   "source": [
    "#Your code goes here"
   ]
  },
  {
   "attachments": {},
   "cell_type": "markdown",
   "id": "6630c8bf",
   "metadata": {},
   "source": [
    "## Level up: you're now an emergency responder"
   ]
  },
  {
   "attachments": {},
   "cell_type": "markdown",
   "id": "363f0bdb",
   "metadata": {},
   "source": [
    "For this analysis you need a flood map in your region. \n",
    "You can for example download one from the Global Flood Database or find a synthetic flood map for your area"
   ]
  },
  {
   "attachments": {},
   "cell_type": "markdown",
   "id": "e463d847",
   "metadata": {},
   "source": [
    "Put the flood map in the right folder for RA2CE and specify its parameters in the network.ini<br>\n",
    "Don't forget to specify the projection!"
   ]
  },
  {
   "attachments": {},
   "cell_type": "markdown",
   "id": "7e6bb154",
   "metadata": {},
   "source": [
    "Inspect your flood map here or in a GIS:"
   ]
  },
  {
   "cell_type": "code",
   "execution_count": null,
   "id": "b20e74a3",
   "metadata": {},
   "outputs": [],
   "source": [
    "#your code goes here"
   ]
  },
  {
   "attachments": {},
   "cell_type": "markdown",
   "id": "d8b9482c",
   "metadata": {},
   "source": [
    "Run RA2CE and perform the hazard overlay on the roads by running the network.ini file"
   ]
  },
  {
   "cell_type": "code",
   "execution_count": null,
   "id": "4a4f29cc",
   "metadata": {},
   "outputs": [],
   "source": [
    "#your code goes here"
   ]
  },
  {
   "attachments": {},
   "cell_type": "markdown",
   "id": "8e28867f",
   "metadata": {},
   "source": [
    "Inspect which roads are affected by the flood "
   ]
  },
  {
   "cell_type": "code",
   "execution_count": null,
   "id": "bf6575a2",
   "metadata": {},
   "outputs": [],
   "source": [
    "#your code goes here"
   ]
  },
  {
   "attachments": {},
   "cell_type": "markdown",
   "id": "5dd6e6c7",
   "metadata": {},
   "source": [
    "Create origins and destinations data for your area of interest. Use the tips and requirements in the example material to create suitable files for RA2CE.\n",
    "\n",
    "*It is easiest to do the processing in a GIS*"
   ]
  },
  {
   "attachments": {},
   "cell_type": "markdown",
   "id": "83b3ee0a",
   "metadata": {},
   "source": [
    "Inspect your created files. Do they contain all the right columns and are they in the right projection?"
   ]
  },
  {
   "cell_type": "code",
   "execution_count": null,
   "id": "008bfdb6",
   "metadata": {},
   "outputs": [],
   "source": [
    "#inspect"
   ]
  },
  {
   "attachments": {},
   "cell_type": "markdown",
   "id": "66301b0e",
   "metadata": {},
   "source": [
    "Initialize the network.ini with your created origins and destinations and the right column names"
   ]
  },
  {
   "attachments": {},
   "cell_type": "markdown",
   "id": "63bedf88",
   "metadata": {},
   "source": [
    "Initialize the analysis.ini with the analysis of interest. Specify the right parameters"
   ]
  },
  {
   "attachments": {},
   "cell_type": "markdown",
   "id": "84523590",
   "metadata": {},
   "source": [
    "Now you are ready to run RA2CE again!"
   ]
  },
  {
   "cell_type": "code",
   "execution_count": null,
   "id": "4bf539f0",
   "metadata": {},
   "outputs": [],
   "source": [
    "#your code goes here"
   ]
  },
  {
   "attachments": {},
   "cell_type": "markdown",
   "id": "789c5e23",
   "metadata": {},
   "source": [
    "Inspect which origins still have access to one of their closest destinations:"
   ]
  },
  {
   "cell_type": "code",
   "execution_count": null,
   "id": "43bdd538",
   "metadata": {},
   "outputs": [],
   "source": [
    "#your code goes here"
   ]
  },
  {
   "attachments": {},
   "cell_type": "markdown",
   "id": "b0b44818",
   "metadata": {},
   "source": [
    "How many people do not have acces to their closest destination? \n",
    "\n",
    "(hint: there are also summary output files in your output folder)"
   ]
  },
  {
   "attachments": {},
   "cell_type": "markdown",
   "id": "170581f9",
   "metadata": {},
   "source": []
  }
 ],
 "metadata": {
  "kernelspec": {
   "display_name": "ra2ce_env",
   "language": "python",
   "name": "python3"
  },
  "language_info": {
   "codemirror_mode": {
    "name": "ipython",
    "version": 3
   },
   "file_extension": ".py",
   "mimetype": "text/x-python",
   "name": "python",
   "nbconvert_exporter": "python",
   "pygments_lexer": "ipython3",
   "version": "3.10.11"
  }
 },
 "nbformat": 4,
 "nbformat_minor": 5
}
