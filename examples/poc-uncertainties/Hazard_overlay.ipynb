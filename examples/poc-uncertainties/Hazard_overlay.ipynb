{
 "cells": [
  {
   "attachments": {},
   "cell_type": "markdown",
   "metadata": {},
   "source": [
    "# RA2CE feature: Uncertainty : Hazard Overlay "
   ]
  },
  {
   "cell_type": "code",
   "execution_count": null,
   "metadata": {},
   "outputs": [],
   "source": [
    "import numpy as np\n",
    "from pathlib import Path\n",
    "import geopandas as gpd\n",
    "import folium \n",
    "from shapely.geometry import LineString, Polygon, box\n",
    "import rasterio\n",
    "import matplotlib.pyplot as plt"
   ]
  },
  {
   "cell_type": "code",
   "execution_count": null,
   "metadata": {},
   "outputs": [],
   "source": [
    "import ra2ce.network.networks_utils as nut\n",
    "from ra2ce.network.network_config_data.enums.network_type_enum import NetworkTypeEnum\n",
    "from ra2ce.network.network_config_data.enums.road_type_enum import RoadTypeEnum"
   ]
  },
  {
   "cell_type": "code",
   "execution_count": null,
   "metadata": {},
   "outputs": [],
   "source": [
    "from ra2ce.network.network_config_data.enums.aggregate_wl_enum import AggregateWlEnum\n",
    "from ra2ce.network.network_config_data.enums.source_enum import SourceEnum\n",
    "from ra2ce.network.network_config_data.network_config_data import (NetworkConfigData,NetworkSection,HazardSection,)\n",
    "from ra2ce.network.network_config_data.enums.aggregate_wl_enum import AggregateWlEnum\n",
    "from ra2ce.network.network_config_data.network_config_data import (NetworkSection)"
   ]
  },
  {
   "cell_type": "code",
   "execution_count": null,
   "metadata": {},
   "outputs": [],
   "source": [
    "# specify the name of the path to the project folder where you created the RA2CE folder setup\n",
    "root_dir = Path(r'C:\\Users\\gunaratn\\RA2CE\\Uncertainty\\Test2') #Set your own path!!\n",
    "assert root_dir.exists()\n",
    "\n",
    "hazard_folder = root_dir / \"static\" / \"hazard\" # find the hazard folder where you locate your hazard map # set the name of the hazard map\n",
    "hazard_map = Path(list(hazard_folder.glob(\"*.tif\"))[0])\n",
    "hazard_map"
   ]
  },
  {
   "cell_type": "code",
   "execution_count": null,
   "metadata": {},
   "outputs": [],
   "source": [
    "# Open the Hazard map file using rasterio\n",
    "with rasterio.open(hazard_map) as src:\n",
    "    tif_array = src.read(1)  \n",
    "    src_crs = src.crs\n",
    "    print(\"Hazard Map is in a the CRS:\", src_crs)\n",
    "\n",
    "plt.figure(figsize=(10, 10))\n",
    "plt.imshow(tif_array, cmap='Blues')  \n",
    "plt.colorbar(label='Pixel Values')\n",
    "plt.title('hazard map')\n",
    "plt.show()  "
   ]
  },
  {
   "cell_type": "markdown",
   "metadata": {},
   "source": [
    "## Now make a configuration of the network and analyses parameters"
   ]
  },
  {
   "cell_type": "code",
   "execution_count": null,
   "metadata": {},
   "outputs": [],
   "source": [
    "from ra2ce.ra2ce_handler import Ra2ceHandler\n",
    "\n",
    "from ra2ce.analysis.damages.damages import AnalysisSectionDamages\n",
    "from ra2ce.configuration.ra2ce_enum_base import Ra2ceEnumBase\n",
    "from ra2ce.analysis.analysis_config_data.enums.analysis_damages_enum import AnalysisDamagesEnum\n",
    "from ra2ce.analysis.analysis_config_data.enums.event_type_enum import EventTypeEnum\n",
    "from ra2ce.analysis.analysis_config_data.enums.damage_curve_enum import DamageCurveEnum\n",
    "from ra2ce.analysis.analysis_config_data.analysis_config_data import AnalysisConfigData"
   ]
  },
  {
   "cell_type": "code",
   "execution_count": null,
   "metadata": {},
   "outputs": [],
   "source": [
    "static_path=root_dir.joinpath(\"static\")\n",
    "output_path=static_path.joinpath(\"output_graph\")\n",
    "\n",
    "output_path"
   ]
  },
  {
   "cell_type": "code",
   "execution_count": null,
   "metadata": {},
   "outputs": [],
   "source": [
    "#First we define which roads we will want to download from OSM to create a network with\n",
    "_network_section = NetworkSection(\n",
    "    source= SourceEnum.SHAPEFILE,       #Used to specify the shapefile name of the (road) network to do the analysis with, when creating a network from a shapefile.\n",
    "    primary_file = [root_dir/\"static\"/\"network\"/\"edges_NISv_RD_new_LinkNr.shp\"], #soecify in the RA2CE folder setup where the network is locates\n",
    "    save_gpkg=True\n",
    ")\n",
    "\n",
    "_hazard = HazardSection(\n",
    "    hazard_map=[hazard_map],    #[Path(geotiff_files[0])],\n",
    "    hazard_field_name= ['waterdepth'],\n",
    "    aggregate_wl = AggregateWlEnum.MAX,\n",
    "    hazard_crs = \"EPSG:28992\"\n",
    "    #hazard_crs = 'EPSG:4326' #\"EPSG:32736\"\n",
    ")\n",
    "\n",
    "#pass the specified sections as arguments for configuration\n",
    "_network_config_data = NetworkConfigData(\n",
    "    root_path=root_dir,\n",
    "    static_path=static_path,\n",
    "    output_path=output_path,\n",
    "    network=_network_section,\n",
    "    hazard=_hazard\n",
    "    )\n"
   ]
  },
  {
   "attachments": {},
   "cell_type": "markdown",
   "metadata": {},
   "source": [
    "Run RA2CE."
   ]
  },
  {
   "cell_type": "code",
   "execution_count": null,
   "metadata": {},
   "outputs": [],
   "source": [
    "handler = Ra2ceHandler.from_config(_network_config_data, None)\n",
    "\n",
    "handler.configure()\n",
    "handler.run_analysis()"
   ]
  },
  {
   "attachments": {},
   "cell_type": "markdown",
   "metadata": {},
   "source": [
    "#### Visualising the results"
   ]
  },
  {
   "cell_type": "code",
   "execution_count": null,
   "metadata": {},
   "outputs": [],
   "source": [
    "analysis_output_path = static_path / \"output_graph\" \n",
    "hazard_gdf = gpd.read_file(analysis_output_path / 'base_graph_hazard_edges.gpkg')\n",
    "hazard_gdf.head() "
   ]
  },
  {
   "cell_type": "code",
   "execution_count": null,
   "metadata": {},
   "outputs": [],
   "source": [
    "hazard_gdf.explore(column=\"EV1_ma\", cmap = \"Reds\")"
   ]
  }
 ],
 "metadata": {
  "kernelspec": {
   "display_name": "ra2ce_env",
   "language": "python",
   "name": "python3"
  },
  "language_info": {
   "codemirror_mode": {
    "name": "ipython",
    "version": 3
   },
   "file_extension": ".py",
   "mimetype": "text/x-python",
   "name": "python",
   "nbconvert_exporter": "python",
   "pygments_lexer": "ipython3",
   "version": "3.10.13"
  }
 },
 "nbformat": 4,
 "nbformat_minor": 2
}
