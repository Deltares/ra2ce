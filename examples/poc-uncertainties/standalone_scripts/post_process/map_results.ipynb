{
 "cells": [
  {
   "cell_type": "code",
   "execution_count": null,
   "metadata": {},
   "outputs": [],
   "source": [
    "from pathlib import Path\n",
    "import geopandas as gpd"
   ]
  },
  {
   "cell_type": "code",
   "execution_count": null,
   "metadata": {},
   "outputs": [],
   "source": [
    "path_output = Path(r\"C:\\Users\\hauth\\OneDrive - Stichting Deltares\\Desktop\\projects\\RACE\\RA2CE Proba 2024\\output_monte_carlo\\output_13_08_test\\event1\")"
   ]
  },
  {
   "cell_type": "code",
   "execution_count": null,
   "metadata": {},
   "outputs": [],
   "source": [
    "# number of runs for which a link is damaged\n",
    "# mean of damage per link \n",
    "# Max of damage per link (display corresponding scenario)\n",
    "\n",
    "# show run for which highest network damage is reached \n",
    "\n",
    "\n",
    "# Show histogram damage of the network per run (one color per event)\n"
   ]
  },
  {
   "cell_type": "code",
   "execution_count": null,
   "metadata": {},
   "outputs": [],
   "source": [
    "gdf = gpd.read_file(path_output.joinpath(\"damage_link_res.gpkg\"))\n",
    "gdf = gpd.read_file(path_output.joinpath(\"damage_segment_res.gpkg\"))\n",
    "print(gdf.columns)\n",
    "\n",
    "# Get all column names starting with scenario:\n",
    "run_names = [col for col in gdf.columns if col.startswith(\"scenario\")]"
   ]
  },
  {
   "cell_type": "code",
   "execution_count": null,
   "metadata": {},
   "outputs": [],
   "source": [
    "# count number of columns in run_names for which the value is not 0, but only in the columns of the run_names:\n",
    "gdf[\"number_of_damaged_links\"] = gdf[run_names].apply(lambda x: x[x > 0].count(), axis=1)\n",
    "\n",
    "gdf.explore(\"number_of_damaged_links\", tiles=\"CartoDB positron\")\n",
    "\n",
    "\n",
    "# have all undamaged roads white/grey or transparent\n",
    "# improve hover: display the number of runs for which the link is damaged"
   ]
  },
  {
   "cell_type": "code",
   "execution_count": null,
   "metadata": {},
   "outputs": [],
   "source": [
    "# calculate the mean of the damage per link from all the columns run_names, exclude all the other columns!\n",
    "gdf[\"mean_damage_per_link\"] = gdf[run_names].mean(axis=1)\n",
    "gdf.explore(\"mean_damage_per_link\", tiles=\"CartoDB positron\")\n"
   ]
  },
  {
   "cell_type": "code",
   "execution_count": null,
   "metadata": {},
   "outputs": [],
   "source": []
  }
 ],
 "metadata": {
  "kernelspec": {
   "display_name": "ra2ce_env",
   "language": "python",
   "name": "python3"
  },
  "language_info": {
   "codemirror_mode": {
    "name": "ipython",
    "version": 3
   },
   "file_extension": ".py",
   "mimetype": "text/x-python",
   "name": "python",
   "nbconvert_exporter": "python",
   "pygments_lexer": "ipython3",
   "version": "3.10.13"
  }
 },
 "nbformat": 4,
 "nbformat_minor": 2
}
