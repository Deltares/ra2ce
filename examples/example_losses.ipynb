{
 "cells": [
  {
   "attachments": {},
   "cell_type": "markdown",
   "metadata": {},
   "source": [
    "# RA2CE feature: Losses analysis"
   ]
  },
  {
   "cell_type": "code",
   "execution_count": 9,
   "metadata": {},
   "outputs": [],
   "source": [
    "import geopandas as gpd\n",
    "import matplotlib.pyplot as plt\n",
    "from pathlib import Path\n",
    "import numpy as np\n",
    "import rasterio\n",
    "from branca.colormap import LinearColormap\n",
    "import folium\n",
    "import configparser\n",
    "from ra2ce.ra2ce_handler import Ra2ceHandler #import the ra2cehandler to run ra2ce analyses"
   ]
  },
  {
   "cell_type": "code",
   "execution_count": 10,
   "metadata": {},
   "outputs": [],
   "source": [
    "def modify_ini(init_path: Path, root_dir_str):\n",
    "    \"\"\"Write into network.ini the selected road types for the network\"\"\"\n",
    "\n",
    "    config = configparser.ConfigParser()\n",
    "    # Read the existing configuration from the file\n",
    "    config.read(init_path)\n",
    "\n",
    "    config.set(\"analysis1\", \"traffic_intensities_file\", root_dir_str + \"/input_analysis_data/traffic_intensities.csv\")\n",
    "    config.set(\"analysis1\", \"resilience_curve_file\", root_dir_str + \"/input_analysis_data/resilience_curve.csv\")\n",
    "    config.set(\"analysis1\", \"values_of_time_file\", root_dir_str + \"/input_analysis_data/values_of_time.csv\")\n",
    "\n",
    "    # Write the updated configuration back to the file\n",
    "    with open(init_path, \"w\") as config_file:\n",
    "        config.write(config_file)"
   ]
  },
  {
   "cell_type": "markdown",
   "metadata": {},
   "source": [
    "## Single link losses Analysis"
   ]
  },
  {
   "cell_type": "code",
   "execution_count": 6,
   "metadata": {},
   "outputs": [],
   "source": [
    "root_dir = Path(\".\\\\data\\\\single_link_losses\")\n",
    "root_dir_str = root_dir.absolute().as_posix()\n",
    "\n",
    "network_ini = root_dir / \"network.ini\"\n",
    "analysis_ini = root_dir / \"analysis.ini\""
   ]
  },
  {
   "cell_type": "code",
   "execution_count": 8,
   "metadata": {},
   "outputs": [],
   "source": [
    "modify_ini(analysis_ini, root_dir_str)"
   ]
  },
  {
   "cell_type": "code",
   "execution_count": null,
   "metadata": {},
   "outputs": [],
   "source": [
    "handler = Ra2ceHandler(network=network_ini, analysis=analysis_ini)\n",
    "\n",
    "handler.configure()\n",
    "handler.run_analysis()"
   ]
  },
  {
   "cell_type": "markdown",
   "metadata": {},
   "source": [
    "## Multi-link losses Analysis"
   ]
  },
  {
   "cell_type": "code",
   "execution_count": 14,
   "metadata": {},
   "outputs": [],
   "source": [
    "root_dir_multi = Path(\".\\\\data\\\\multi_link_losses\")\n",
    "root_dir_str_multi = root_dir_multi.absolute().as_posix()\n",
    "\n",
    "network_ini_multi = root_dir_multi / \"network.ini\"\n",
    "analysis_ini_multi = root_dir_multi / \"analysis.ini\""
   ]
  },
  {
   "cell_type": "code",
   "execution_count": 15,
   "metadata": {},
   "outputs": [],
   "source": [
    "modify_ini(analysis_ini_multi, root_dir_str_multi)"
   ]
  },
  {
   "cell_type": "code",
   "execution_count": 16,
   "metadata": {},
   "outputs": [
    {
     "name": "stderr",
     "output_type": "stream",
     "text": [
      "2024-03-29 04:32:13 PM - [ra2ce_logging.py:41] - root - INFO - RA2CE logger initialized.\n",
      "2024-03-29 04:32:13 PM - [network_wrapper_factory.py:56] - root - INFO - Start creating a network from the submitted shapefile.\n",
      "2024-03-29 04:32:14 PM - [vector_network_wrapper.py:162] - root - INFO - Read files data\\multi_link_losses\\static\\network\\Red_Vial_RD_wgs84.shp into a 'GeoDataFrame'.\n",
      "2024-03-29 04:32:14 PM - [vector_network_wrapper.py:134] - root - INFO - reproject vector file to project crs\n",
      "2024-03-29 04:32:14 PM - [vector_network_wrapper.py:96] - root - INFO - Start converting the complex graph to a simple graph\n",
      "2024-03-29 04:32:14 PM - [networks_utils.py:987] - root - INFO - Simplifying graph\n",
      "2024-03-29 04:32:14 PM - [networks_utils.py:1086] - root - INFO - Added a new unique identifier field 'rfid_c'.\n",
      "2024-03-29 04:32:14 PM - [networks_utils.py:1129] - root - INFO - Graph simplified from 687 to 321 nodes and 1,578 to 846 edges.\n",
      "2024-03-29 04:32:14 PM - [networks_utils.py:1086] - root - INFO - Added a new unique identifier field 'rfid'.\n",
      "100%|██████████| 846/846 [00:00<00:00, 120656.30it/s]\n",
      "2024-03-29 04:32:14 PM - [networks_utils.py:1700] - root - INFO - Lookup tables from complex to simple and vice versa were created\n",
      "2024-03-29 04:32:14 PM - [networks_utils.py:1005] - root - INFO - Simplified graph succesfully created\n",
      "2024-03-29 04:32:14 PM - [vector_network_wrapper.py:103] - root - INFO - Start converting the graph to a geodataframe\n",
      "2024-03-29 04:32:14 PM - [vector_network_wrapper.py:105] - root - INFO - Finished converting the graph to a geodataframe\n",
      "2024-03-29 04:32:14 PM - [json_exporter.py:46] - root - INFO - Saved (or overwrote) simple_to_complex.json\n",
      "2024-03-29 04:32:14 PM - [json_exporter.py:46] - root - INFO - Saved (or overwrote) complex_to_simple.json\n",
      "2024-03-29 04:32:14 PM - [vector_network_wrapper.py:408] - root - INFO - No attributes found in the graph to estimate average speed per network segment.\n",
      "2024-03-29 04:32:14 PM - [vector_network_wrapper.py:116] - root - INFO - Finished converting the complex graph to a simple graph\n",
      "2024-03-29 04:33:14 PM - [multi_graph_network_exporter.py:55] - root - INFO - Saved base_graph in C:\\repos\\ra2ce\\examples\\data\\multi_link_losses\\static\\output_graph.\n",
      "2024-03-29 04:33:14 PM - [networks_utils.py:1387] - root - INFO - Saving nodes as shapefile: data\\multi_link_losses\\static\\output_graph\\base_graph_nodes.gpkg\n",
      "2024-03-29 04:33:14 PM - [networks_utils.py:1388] - root - INFO - Saving edges as shapefile: data\\multi_link_losses\\static\\output_graph\\base_graph_edges.gpkg\n",
      "2024-03-29 04:33:14 PM - [multi_graph_network_exporter.py:47] - root - INFO - Saved base_graph_edges.gpkg and base_graph_nodes.gpkg in data\\multi_link_losses\\static\\output_graph.\n",
      "2024-03-29 04:33:15 PM - [geodataframe_network_exporter.py:41] - root - INFO - Saved base_network in data\\multi_link_losses\\static\\output_graph.\n",
      "2024-03-29 04:33:15 PM - [geodataframe_network_exporter.py:36] - root - INFO - Saved base_network in data\\multi_link_losses\\static\\output_graph.\n",
      "2024-03-29 04:33:15 PM - [hazard_overlay.py:108] - root - INFO - Initialized hazard object.\n",
      "Graph hazard overlay with Inundacion_Fluvial_tr100: 100%|██████████| 846/846 [00:08<00:00, 103.24it/s]\n",
      "Graph fraction with hazard overlay with Inundacion_Fluvial_tr100: 100%|██████████| 846/846 [00:08<00:00, 100.51it/s]\n",
      "2024-03-29 04:33:32 PM - [multi_graph_network_exporter.py:55] - root - INFO - Saved base_graph_hazard in C:\\repos\\ra2ce\\examples\\data\\multi_link_losses\\static\\output_graph.\n",
      "2024-03-29 04:33:32 PM - [networks_utils.py:1387] - root - INFO - Saving nodes as shapefile: data\\multi_link_losses\\static\\output_graph\\base_graph_hazard_nodes.gpkg\n",
      "2024-03-29 04:33:32 PM - [networks_utils.py:1388] - root - INFO - Saving edges as shapefile: data\\multi_link_losses\\static\\output_graph\\base_graph_hazard_edges.gpkg\n",
      "2024-03-29 04:33:32 PM - [multi_graph_network_exporter.py:47] - root - INFO - Saved base_graph_hazard_edges.gpkg and base_graph_hazard_nodes.gpkg in data\\multi_link_losses\\static\\output_graph.\n",
      "2024-03-29 04:33:32 PM - [hazard_overlay.py:696] - root - INFO - Iterating overlay of GeoPandas Dataframe.\n",
      "2024-03-29 04:33:32 PM - [hazard_overlay.py:734] - root - INFO - Setting 'base_network_hazard' graph.\n",
      "2024-03-29 04:33:32 PM - [hazard_intersect_builder_for_tif.py:183] - root - WARNING - Some geometries have NoneType objects (no coordinate information), namely: Empty GeoDataFrame\n",
      "Columns: [link_id, ID, link_type, avgspeed, geometry, node_A, node_B, edge_fid, rfid_c, rfid, length, time]\n",
      "Index: [].This could be due to segmentation, and might cause an exception in hazard overlay\n",
      "Network hazard overlay with Inundacion_Fluvial_tr100: 100%|██████████| 1578/1578 [00:16<00:00, 97.71it/s] \n",
      "Network fraction with hazard overlay with Inundacion_Fluvial_tr100:  97%|█████████▋| 1532/1578 [00:13<00:00, 111.11it/s]"
     ]
    }
   ],
   "source": [
    "handler_multi = Ra2ceHandler(network=network_ini_multi, analysis=analysis_ini_multi)\n",
    "\n",
    "handler_multi.configure()\n",
    "handler_multi.run_analysis()"
   ]
  }
 ],
 "metadata": {
  "kernelspec": {
   "display_name": "ra2ce_env",
   "language": "python",
   "name": "python3"
  },
  "language_info": {
   "codemirror_mode": {
    "name": "ipython",
    "version": 3
   },
   "file_extension": ".py",
   "mimetype": "text/x-python",
   "name": "python",
   "nbconvert_exporter": "python",
   "pygments_lexer": "ipython3",
   "version": "3.10.13"
  }
 },
 "nbformat": 4,
 "nbformat_minor": 2
}
