{
 "cells": [
  {
   "attachments": {},
   "cell_type": "markdown",
   "metadata": {},
   "source": [
    "# RA2CE feature: Losses analysis"
   ]
  },
  {
   "cell_type": "code",
   "execution_count": 4,
   "metadata": {},
   "outputs": [],
   "source": [
    "import geopandas as gpd\n",
    "import matplotlib.pyplot as plt\n",
    "from pathlib import Path\n",
    "import numpy as np\n",
    "import rasterio\n",
    "from branca.colormap import LinearColormap\n",
    "import folium\n",
    "\n",
    "from ra2ce.ra2ce_handler import Ra2ceHandler #import the ra2cehandler to run ra2ce analyses\n",
    "\n",
    "root_dir = Path(\".\\\\data\\\\losses\")\n",
    "assert root_dir.exists(), \"root_dir not found.\"\n",
    "\n",
    "_network_ini_name = \"network_losses.ini\" #set the name for the network.ini\n",
    "_analysis_ini_name = \"analysis_losses.ini\" #set the name for the analysis.ini\n",
    "\n",
    "network_ini_losses = root_dir / _network_ini_name\n",
    "assert network_ini_losses.is_file()\n",
    "\n",
    "analysis_ini_losses = root_dir / _analysis_ini_name\n",
    "assert analysis_ini_losses.is_file()"
   ]
  },
  {
   "attachments": {},
   "cell_type": "markdown",
   "metadata": {},
   "source": [
    "## An example for a criticality analysis required for the losses function"
   ]
  },
  {
   "attachments": {},
   "cell_type": "markdown",
   "metadata": {},
   "source": [
    "Set the paths to the initialization files and check if the files exist."
   ]
  },
  {
   "cell_type": "code",
   "execution_count": null,
   "metadata": {},
   "outputs": [],
   "source": [
    "_network_ini_name = \"network_criticality.ini\" #set the name for the network.ini\n",
    "_analysis_ini_name = \"analysis_criticality.ini\" #set the name for the analysis.ini\n",
    "\n",
    "network_ini_criticality = root_dir / _network_ini_name\n",
    "assert network_ini_criticality.is_file()\n",
    "\n",
    "analysis_ini_criticality = root_dir / _analysis_ini_name\n",
    "assert analysis_ini_criticality.is_file()"
   ]
  },
  {
   "attachments": {},
   "cell_type": "markdown",
   "metadata": {},
   "source": [
    "Run RA2CE."
   ]
  },
  {
   "cell_type": "code",
   "execution_count": null,
   "metadata": {},
   "outputs": [],
   "source": [
    "handler = Ra2ceHandler(network=network_ini_criticality, analysis=analysis_ini_criticality)\n",
    "criticality_analysis_weight = handler.input_config.analysis_config.config_data.indirect[0].weighing.config_value\n",
    "\n",
    "handler.configure()\n",
    "handler.run_analysis()"
   ]
  },
  {
   "attachments": {},
   "cell_type": "markdown",
   "metadata": {},
   "source": [
    "#### Visualising the network"
   ]
  },
  {
   "cell_type": "code",
   "execution_count": null,
   "metadata": {},
   "outputs": [],
   "source": [
    "# Set the path to your output_graph folder to find the network/graph creation:\n",
    "path_output_graph = root_dir / \"static\" / \"output_graph\"\n",
    "\n",
    "# Now we find and inspect the file 'base_graph_edges.gpkg' which holds the 'edges' of the network. \n",
    "# An edge (or link) of a network (or graph) represents a connection between two nodes (or vertices) of the network. More information on: https://mathinsight.org/definition/network_edge#:~:text=An%20edge%20(or%20link)%20of,in%20the%20first%20figure%20below.\n",
    "base_graph_edges = path_output_graph / \"base_network.gpkg\"\n",
    "edges_gdf = gpd.read_file(base_graph_edges, driver = \"GPKG\")\n",
    "edges_gdf.head()\n",
    "\n",
    "edges_gdf.explore(tiles=\"CartoDB positron\", popup = True)"
   ]
  },
  {
   "cell_type": "code",
   "execution_count": null,
   "metadata": {},
   "outputs": [],
   "source": [
    "#  Inspect the criticality analysis results\n",
    "\n",
    "# Set the path to your output folder:\n",
    "path_output = root_dir / \"output\" / \"single_link_redundancy\"\n",
    "redundancy_file = path_output / \"republic_dominican_redundancy.gpkg\"\n",
    "redundancy_gdf = gpd.read_file(redundancy_file, driver = \"GPKG\")\n",
    "\n",
    "redundancy_gdf.explore(tiles=\"CartoDB positron\", popup = True, column = f\"alt_{criticality_analysis_weight}\")"
   ]
  },
  {
   "cell_type": "markdown",
   "metadata": {},
   "source": [
    "## Losses Analysis"
   ]
  },
  {
   "cell_type": "code",
   "execution_count": 5,
   "metadata": {},
   "outputs": [
    {
     "name": "stderr",
     "output_type": "stream",
     "text": [
      "2024-03-25 11:14:54 AM - [ra2ce_logging.py:41] - root - INFO - RA2CE logger initialized.\n",
      "2024-03-25 11:14:54 AM - [ra2ce_logging.py:41] - root - INFO - RA2CE logger initialized.\n",
      "2024-03-25 11:14:54 AM - [ra2ce_logging.py:41] - root - INFO - RA2CE logger initialized.\n"
     ]
    }
   ],
   "source": [
    "handler = Ra2ceHandler(network=network_ini_losses, analysis=analysis_ini_losses)\n",
    "criticality_analysis_weight = handler.input_config.analysis_config.config_data.indirect[0].weighing.config_value\n",
    "\n",
    "handler.configure()\n",
    "handler.run_analysis()"
   ]
  },
  {
   "cell_type": "markdown",
   "metadata": {},
   "source": [
    "#### Introducing a hazardous event"
   ]
  },
  {
   "cell_type": "code",
   "execution_count": null,
   "metadata": {},
   "outputs": [],
   "source": [
    "hazard_folder = root_dir / \"static\" / \"hazard\" # find the hazard folder where you locate your floo dmap\n",
    "hazard_map = hazard_folder / \"Inundacion_Fluvial_tr1000.tif\" # set the location of the hazard map\n",
    "\n",
    "# Open the TIF file using rasterio\n",
    "with rasterio.open(hazard_map) as src:\n",
    "    # Read the TIF file as a numpy array\n",
    "    tif_array = src.read(1)  # Change the band index (1) if necessary\n",
    "\n",
    "plt.figure(figsize=(10, 10))\n",
    "plt.imshow(tif_array, cmap='Blues')  # Change the colormap if desired\n",
    "plt.colorbar(label='Pixel Values')\n",
    "plt.title('Flood map')\n",
    "plt.show()\n"
   ]
  },
  {
   "cell_type": "code",
   "execution_count": null,
   "metadata": {},
   "outputs": [],
   "source": [
    "# Show inundated links\n",
    "\n",
    "inundation_threshold = 0.5\n",
    "\n",
    "hazard_output = root_dir / \"static\" / \"output_graph\" / \"base_graph_hazard_edges.gpkg\"\n",
    "hazard_gdf = gpd.read_file(hazard_output, driver = \"GPKG\")\n",
    "\n",
    "# Create a colormap\n",
    "colormap = LinearColormap(['lightblue', 'blue', 'darkblue'], vmin=inundation_threshold, vmax=hazard_gdf['EV1_ma'].max(), caption='EV1_ma')\n",
    "\n",
    "center = [hazard_gdf['geometry'].centroid.y.mean(), hazard_gdf['geometry'].centroid.x.mean()]\n",
    "m = folium.Map(location=center, zoom_start=12, control_scale=True, tiles=\"cartodbpositron\")\n",
    "\n",
    "# Create two separate FeatureGroup layers\n",
    "gray_layer = folium.FeatureGroup(name='Unimpacted links', show=True)\n",
    "colored_layer = folium.FeatureGroup(name='Inundated links', overlay=True, control=False)\n",
    "\n",
    "# Add edges to the m\n",
    "for idx, row in hazard_gdf.iterrows():\n",
    "    color = 'gray' if (row['EV1_ma'] < inundation_threshold) or ('bridge' in row and row['bridge'] == 'yes') else colormap(row['EV1_ma'])\n",
    "    \n",
    "    # Extracting coordinates from LineString\n",
    "    coordinates = [(coord[1], coord[0]) for coord in row['geometry'].coords]\n",
    "\n",
    "    # Create a popup with data\n",
    "    popup_content = f\"<strong>Water height(m):</strong> {round(row['EV1_ma'], 1)}\"\n",
    "    popup = folium.Popup(popup_content, max_width=300)\n",
    "    \n",
    "    # Add PolyLine to the appropriate layer\n",
    "    folium.PolyLine(\n",
    "        locations=coordinates,\n",
    "        color=color,\n",
    "        weight=2,\n",
    "        opacity=1,\n",
    "        popup=popup\n",
    "    ).add_to(gray_layer if row['EV1_ma'] < inundation_threshold else colored_layer)\n",
    "\n",
    "# Add FeatureGroup layers to the m\n",
    "gray_layer.add_to(m)\n",
    "colored_layer.add_to(m)\n",
    "\n",
    "# Add colormap to the m\n",
    "colormap.add_to(m)\n",
    "\n",
    "# Add LayerControl to the m\n",
    "folium.LayerControl().add_to(m)\n",
    "\n",
    "# Display the m\n",
    "m"
   ]
  }
 ],
 "metadata": {
  "kernelspec": {
   "display_name": "ra2ce_env",
   "language": "python",
   "name": "python3"
  },
  "language_info": {
   "codemirror_mode": {
    "name": "ipython",
    "version": 3
   },
   "file_extension": ".py",
   "mimetype": "text/x-python",
   "name": "python",
   "nbconvert_exporter": "python",
   "pygments_lexer": "ipython3",
   "version": "3.10.12"
  }
 },
 "nbformat": 4,
 "nbformat_minor": 2
}
