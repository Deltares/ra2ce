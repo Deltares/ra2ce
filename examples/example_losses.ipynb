{
 "cells": [
  {
   "attachments": {},
   "cell_type": "markdown",
   "metadata": {},
   "source": [
    "# RA2CE feature: Losses analysis"
   ]
  },
  {
   "cell_type": "code",
   "execution_count": 1,
   "metadata": {},
   "outputs": [
    {
     "name": "stderr",
     "output_type": "stream",
     "text": [
      "c:\\repos\\ra2ce\\.env\\lib\\site-packages\\tqdm\\auto.py:21: TqdmWarning: IProgress not found. Please update jupyter and ipywidgets. See https://ipywidgets.readthedocs.io/en/stable/user_install.html\n",
      "  from .autonotebook import tqdm as notebook_tqdm\n"
     ]
    }
   ],
   "source": [
    "import geopandas as gpd\n",
    "import matplotlib.pyplot as plt\n",
    "from pathlib import Path\n",
    "import numpy as np\n",
    "import rasterio\n",
    "from branca.colormap import LinearColormap\n",
    "import folium\n",
    "\n",
    "from ra2ce.ra2ce_handler import Ra2ceHandler #import the ra2cehandler to run ra2ce analyses"
   ]
  },
  {
   "cell_type": "markdown",
   "metadata": {},
   "source": [
    "## Single link losses Analysis"
   ]
  },
  {
   "cell_type": "code",
   "execution_count": 2,
   "metadata": {},
   "outputs": [
    {
     "name": "stderr",
     "output_type": "stream",
     "text": [
      "2024-03-25 03:58:16 PM - [ra2ce_logging.py:41] - root - INFO - RA2CE logger initialized.\n"
     ]
    },
    {
     "name": "stderr",
     "output_type": "stream",
     "text": [
      "2024-03-25 03:58:16 PM - [networks.py:186] - root - INFO - Apparently, you already did create a network with ra2ce earlier. Ra2ce will use this: data\\losses\\static\\output_graph\\base_graph.p\n",
      "2024-03-25 03:58:16 PM - [hazard_overlay.py:108] - root - INFO - Initialized hazard object.\n",
      "2024-03-25 03:58:16 PM - [hazard_overlay.py:696] - root - INFO - Iterating overlay of GeoPandas Dataframe.\n",
      "2024-03-25 03:58:16 PM - [hazard_overlay.py:734] - root - INFO - Setting 'base_network_hazard' graph.\n",
      "2024-03-25 03:58:16 PM - [hazard_intersect_builder_for_tif.py:183] - root - WARNING - Some geometries have NoneType objects (no coordinate information), namely: Empty GeoDataFrame\n",
      "Columns: [ID, link_type, avgspeed, geometry, node_A, node_B, edge_fid, length]\n",
      "Index: [].This could be due to segmentation, and might cause an exception in hazard overlay\n",
      "Network hazard overlay with Inundacion_Fluvial_tr100: 100%|██████████| 789/789 [00:07<00:00, 108.92it/s]\n",
      "Network fraction with hazard overlay with Inundacion_Fluvial_tr100: 100%|██████████| 789/789 [00:06<00:00, 120.00it/s]\n",
      "2024-03-25 03:58:31 PM - [indirect_analysis_runner.py:56] - root - INFO - ----------------------------- Started analyzing 'republic_dominican_redundancy'  -----------------------------\n",
      "2024-03-25 03:59:39 PM - [analysis_result_wrapper_exporter.py:81] - root - INFO - Results saved to: data\\losses\\output\\single_link_losses\\republic_dominican_redundancy.gpkg\n",
      "2024-03-25 03:59:39 PM - [indirect_analysis_runner.py:71] - root - INFO - ----------------------------- Analysis 'republic_dominican_redundancy' finished. Time: 68.71s  -----------------------------\n"
     ]
    },
    {
     "data": {
      "text/plain": [
       "[AnalysisResultWrapper(analysis_result=                link_type                                           geometry  \\\n",
       " ID                                                                             \n",
       " 1050           Regional-S  LINESTRING Z (-71.19405 18.24858 0.00000, -71....   \n",
       " 934            Regional-S  LINESTRING Z (-71.08824 18.08410 0.00000, -71....   \n",
       " 933            Regional-S  LINESTRING Z (-71.08319 18.09459 0.00000, -71....   \n",
       " 790   Caminos Vecinales-S  LINESTRING Z (-71.06260 18.32464 0.00000, -71....   \n",
       " 785   Caminos Vecinales-S  LINESTRING Z (-71.65068 17.97898 0.00000, -71....   \n",
       " ...                   ...                                                ...   \n",
       " 726            Regional-S  LINESTRING Z (-71.20752 18.24914 0.00000, -71....   \n",
       " 727            Regional-S  LINESTRING Z (-71.20965 18.24900 0.00000, -71....   \n",
       " 756               Local-S  LINESTRING Z (-71.16866 18.38792 0.00000, -71....   \n",
       " 759               Local-S  LINESTRING Z (-71.18044 18.38464 0.00000, -71....   \n",
       " 812   Caminos Vecinales-N  LINESTRING Z (-71.17164 17.97607 0.00000, -71....   \n",
       " \n",
       "       diff_time  detour  EV1_ma  vlh_business_EV1_ma  vlh_commute_EV1_ma  \\\n",
       " ID                                                                         \n",
       " 1050       0.32       1     3.0                  0.0        5.838027e+06   \n",
       " 934        1.54       1     3.0                  0.0        3.150766e+07   \n",
       " 933        1.56       1     3.0                  0.0        3.191685e+07   \n",
       " 790         NaN       0     3.0                  0.0        9.165600e+05   \n",
       " 785         NaN       0     3.0                  0.0        9.165600e+05   \n",
       " ...         ...     ...     ...                  ...                 ...   \n",
       " 726        0.36       1     0.0                  0.0        0.000000e+00   \n",
       " 727        0.35       1     0.0                  0.0        0.000000e+00   \n",
       " 756        0.45       1     0.0                  0.0        0.000000e+00   \n",
       " 759        0.45       1     0.0                  0.0        0.000000e+00   \n",
       " 812         NaN       0     0.0                  0.0        0.000000e+00   \n",
       " \n",
       "       vlh_freight_EV1_ma  vlh_other_EV1_ma  vlh_EV1_ma_total  \n",
       " ID                                                            \n",
       " 1050        7.839640e+07      752637.38048      8.498707e+07  \n",
       " 934         3.419124e+08      265029.32148      3.736851e+08  \n",
       " 933         3.463529e+08      268471.26072      3.785382e+08  \n",
       " 790         2.520000e+05      135480.00000      1.304040e+06  \n",
       " 785         2.520000e+05      135480.00000      1.304040e+06  \n",
       " ...                  ...               ...               ...  \n",
       " 726         0.000000e+00           0.00000      0.000000e+00  \n",
       " 727         0.000000e+00           0.00000      0.000000e+00  \n",
       " 756         0.000000e+00           0.00000      0.000000e+00  \n",
       " 759         0.000000e+00           0.00000      0.000000e+00  \n",
       " 812         0.000000e+00           0.00000      0.000000e+00  \n",
       " \n",
       " [787 rows x 10 columns], analysis=<ra2ce.analysis.indirect.losses.Losses object at 0x000001D509BAA740>)]"
      ]
     },
     "execution_count": 2,
     "metadata": {},
     "output_type": "execute_result"
    }
   ],
   "source": [
    "root_dir = Path(\".\\\\data\\\\single_link_losses\")\n",
    "\n",
    "network_ini = root_dir / \"network.ini\"\n",
    "analysis_ini = root_dir / \"analysis.ini\"\n",
    "\n",
    "handler = Ra2ceHandler(network=network_ini, analysis=analysis_ini)\n",
    "criticality_analysis_weight = handler.input_config.analysis_config.config_data.indirect[0].weighing.config_value\n",
    "\n",
    "handler.configure()\n",
    "handler.run_analysis()"
   ]
  },
  {
   "cell_type": "markdown",
   "metadata": {},
   "source": [
    "## Single link losses Analysis"
   ]
  },
  {
   "cell_type": "code",
   "execution_count": null,
   "metadata": {},
   "outputs": [],
   "source": [
    "root_dir = Path(\".\\\\data\\\\multiple_link_losses\")\n",
    "\n",
    "network_ini = root_dir / \"network.ini\"\n",
    "analysis_ini = root_dir / \"analysis.ini\"\n",
    "\n",
    "handler = Ra2ceHandler(network=network_ini, analysis=analysis_ini)\n",
    "criticality_analysis_weight = handler.input_config.analysis_config.config_data.indirect[0].weighing.config_value\n",
    "\n",
    "handler.configure()\n",
    "handler.run_analysis()"
   ]
  },
  {
   "cell_type": "markdown",
   "metadata": {},
   "source": [
    "#### Introducing a hazardous event"
   ]
  },
  {
   "cell_type": "code",
   "execution_count": null,
   "metadata": {},
   "outputs": [],
   "source": [
    "hazard_folder = root_dir / \"static\" / \"hazard\" # find the hazard folder where you locate your floo dmap\n",
    "hazard_map = hazard_folder / \"Inundacion_Fluvial_tr1000.tif\" # set the location of the hazard map\n",
    "\n",
    "# Open the TIF file using rasterio\n",
    "with rasterio.open(hazard_map) as src:\n",
    "    # Read the TIF file as a numpy array\n",
    "    tif_array = src.read(1)  # Change the band index (1) if necessary\n",
    "\n",
    "plt.figure(figsize=(10, 10))\n",
    "plt.imshow(tif_array, cmap='Blues')  # Change the colormap if desired\n",
    "plt.colorbar(label='Pixel Values')\n",
    "plt.title('Flood map')\n",
    "plt.show()\n"
   ]
  },
  {
   "cell_type": "code",
   "execution_count": null,
   "metadata": {},
   "outputs": [],
   "source": [
    "# Show inundated links\n",
    "\n",
    "inundation_threshold = 0.5\n",
    "\n",
    "hazard_output = root_dir / \"static\" / \"output_graph\" / \"base_graph_hazard_edges.gpkg\"\n",
    "hazard_gdf = gpd.read_file(hazard_output, driver = \"GPKG\")\n",
    "\n",
    "# Create a colormap\n",
    "colormap = LinearColormap(['lightblue', 'blue', 'darkblue'], vmin=inundation_threshold, vmax=hazard_gdf['EV1_ma'].max(), caption='EV1_ma')\n",
    "\n",
    "center = [hazard_gdf['geometry'].centroid.y.mean(), hazard_gdf['geometry'].centroid.x.mean()]\n",
    "m = folium.Map(location=center, zoom_start=12, control_scale=True, tiles=\"cartodbpositron\")\n",
    "\n",
    "# Create two separate FeatureGroup layers\n",
    "gray_layer = folium.FeatureGroup(name='Unimpacted links', show=True)\n",
    "colored_layer = folium.FeatureGroup(name='Inundated links', overlay=True, control=False)\n",
    "\n",
    "# Add edges to the m\n",
    "for idx, row in hazard_gdf.iterrows():\n",
    "    color = 'gray' if (row['EV1_ma'] < inundation_threshold) or ('bridge' in row and row['bridge'] == 'yes') else colormap(row['EV1_ma'])\n",
    "    \n",
    "    # Extracting coordinates from LineString\n",
    "    coordinates = [(coord[1], coord[0]) for coord in row['geometry'].coords]\n",
    "\n",
    "    # Create a popup with data\n",
    "    popup_content = f\"<strong>Water height(m):</strong> {round(row['EV1_ma'], 1)}\"\n",
    "    popup = folium.Popup(popup_content, max_width=300)\n",
    "    \n",
    "    # Add PolyLine to the appropriate layer\n",
    "    folium.PolyLine(\n",
    "        locations=coordinates,\n",
    "        color=color,\n",
    "        weight=2,\n",
    "        opacity=1,\n",
    "        popup=popup\n",
    "    ).add_to(gray_layer if row['EV1_ma'] < inundation_threshold else colored_layer)\n",
    "\n",
    "# Add FeatureGroup layers to the m\n",
    "gray_layer.add_to(m)\n",
    "colored_layer.add_to(m)\n",
    "\n",
    "# Add colormap to the m\n",
    "colormap.add_to(m)\n",
    "\n",
    "# Add LayerControl to the m\n",
    "folium.LayerControl().add_to(m)\n",
    "\n",
    "# Display the m\n",
    "m"
   ]
  }
 ],
 "metadata": {
  "kernelspec": {
   "display_name": "ra2ce_env",
   "language": "python",
   "name": "python3"
  },
  "language_info": {
   "codemirror_mode": {
    "name": "ipython",
    "version": 3
   },
   "file_extension": ".py",
   "mimetype": "text/x-python",
   "name": "python",
   "nbconvert_exporter": "python",
   "pygments_lexer": "ipython3",
   "version": "3.10.13"
  }
 },
 "nbformat": 4,
 "nbformat_minor": 2
}
