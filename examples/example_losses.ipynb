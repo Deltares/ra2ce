{
 "cells": [
  {
   "attachments": {},
   "cell_type": "markdown",
   "metadata": {},
   "source": [
    "# RA2CE feature: Losses analysis"
   ]
  },
  {
   "cell_type": "code",
   "execution_count": 1,
   "metadata": {},
   "outputs": [
    {
     "name": "stderr",
     "output_type": "stream",
     "text": [
      "c:\\repos\\ra2ce\\.env\\lib\\site-packages\\tqdm\\auto.py:21: TqdmWarning: IProgress not found. Please update jupyter and ipywidgets. See https://ipywidgets.readthedocs.io/en/stable/user_install.html\n",
      "  from .autonotebook import tqdm as notebook_tqdm\n"
     ]
    }
   ],
   "source": [
    "import geopandas as gpd\n",
    "import matplotlib.pyplot as plt\n",
    "from pathlib import Path\n",
    "import numpy as np\n",
    "import rasterio\n",
    "from branca.colormap import LinearColormap\n",
    "import folium\n",
    "\n",
    "from ra2ce.ra2ce_handler import Ra2ceHandler #import the ra2cehandler to run ra2ce analyses\n",
    "\n",
    "root_dir = Path(\".\\\\data\\\\losses\")\n",
    "assert root_dir.exists(), \"root_dir not found.\"\n",
    "\n",
    "_network_ini_name = \"network_losses.ini\" #set the name for the network.ini\n",
    "_analysis_ini_name = \"analysis_losses.ini\" #set the name for the analysis.ini\n",
    "\n",
    "network_ini_losses = root_dir / _network_ini_name\n",
    "assert network_ini_losses.is_file()\n",
    "\n",
    "analysis_ini_losses = root_dir / _analysis_ini_name\n",
    "assert analysis_ini_losses.is_file()"
   ]
  },
  {
   "attachments": {},
   "cell_type": "markdown",
   "metadata": {},
   "source": [
    "## An example for a criticality analysis required for the losses function"
   ]
  },
  {
   "attachments": {},
   "cell_type": "markdown",
   "metadata": {},
   "source": [
    "Set the paths to the initialization files and check if the files exist."
   ]
  },
  {
   "cell_type": "code",
   "execution_count": null,
   "metadata": {},
   "outputs": [],
   "source": [
    "_network_ini_name = \"network_criticality.ini\" #set the name for the network.ini\n",
    "_analysis_ini_name = \"analysis_criticality.ini\" #set the name for the analysis.ini\n",
    "\n",
    "network_ini_criticality = root_dir / _network_ini_name\n",
    "assert network_ini_criticality.is_file()\n",
    "\n",
    "analysis_ini_criticality = root_dir / _analysis_ini_name\n",
    "assert analysis_ini_criticality.is_file()"
   ]
  },
  {
   "attachments": {},
   "cell_type": "markdown",
   "metadata": {},
   "source": [
    "Run RA2CE."
   ]
  },
  {
   "cell_type": "code",
   "execution_count": null,
   "metadata": {},
   "outputs": [],
   "source": [
    "handler = Ra2ceHandler(network=network_ini_criticality, analysis=analysis_ini_criticality)\n",
    "criticality_analysis_weight = handler.input_config.analysis_config.config_data.indirect[0].weighing.config_value\n",
    "\n",
    "handler.configure()\n",
    "handler.run_analysis()"
   ]
  },
  {
   "attachments": {},
   "cell_type": "markdown",
   "metadata": {},
   "source": [
    "#### Visualising the network"
   ]
  },
  {
   "cell_type": "code",
   "execution_count": null,
   "metadata": {},
   "outputs": [],
   "source": [
    "# Set the path to your output_graph folder to find the network/graph creation:\n",
    "path_output_graph = root_dir / \"static\" / \"output_graph\"\n",
    "\n",
    "# Now we find and inspect the file 'base_graph_edges.gpkg' which holds the 'edges' of the network. \n",
    "# An edge (or link) of a network (or graph) represents a connection between two nodes (or vertices) of the network. More information on: https://mathinsight.org/definition/network_edge#:~:text=An%20edge%20(or%20link)%20of,in%20the%20first%20figure%20below.\n",
    "base_graph_edges = path_output_graph / \"base_network.gpkg\"\n",
    "edges_gdf = gpd.read_file(base_graph_edges, driver = \"GPKG\")\n",
    "edges_gdf.head()\n",
    "\n",
    "edges_gdf.explore(tiles=\"CartoDB positron\", popup = True)"
   ]
  },
  {
   "cell_type": "code",
   "execution_count": null,
   "metadata": {},
   "outputs": [],
   "source": [
    "#  Inspect the criticality analysis results\n",
    "\n",
    "# Set the path to your output folder:\n",
    "path_output = root_dir / \"output\" / \"single_link_redundancy\"\n",
    "redundancy_file = path_output / \"republic_dominican_redundancy.gpkg\"\n",
    "redundancy_gdf = gpd.read_file(redundancy_file, driver = \"GPKG\")\n",
    "\n",
    "redundancy_gdf.explore(tiles=\"CartoDB positron\", popup = True, column = f\"alt_{criticality_analysis_weight}\")"
   ]
  },
  {
   "cell_type": "markdown",
   "metadata": {},
   "source": [
    "## Losses Analysis"
   ]
  },
  {
   "cell_type": "code",
   "execution_count": 2,
   "metadata": {},
   "outputs": [
    {
     "name": "stderr",
     "output_type": "stream",
     "text": [
      "2024-03-25 08:52:06 AM - [ra2ce_logging.py:41] - root - INFO - RA2CE logger initialized.\n",
      "2024-03-25 08:52:06 AM - [networks.py:186] - root - INFO - Apparently, you already did create a network with ra2ce earlier. Ra2ce will use this: data\\losses\\static\\output_graph\\base_graph.p\n",
      "2024-03-25 08:52:06 AM - [hazard_overlay.py:108] - root - INFO - Initialized hazard object.\n",
      "2024-03-25 08:52:06 AM - [hazard_overlay.py:696] - root - INFO - Iterating overlay of GeoPandas Dataframe.\n",
      "2024-03-25 08:52:06 AM - [hazard_overlay.py:734] - root - INFO - Setting 'base_network_hazard' graph.\n",
      "2024-03-25 08:52:06 AM - [hazard_intersect_builder_for_tif.py:183] - root - WARNING - Some geometries have NoneType objects (no coordinate information), namely: Empty GeoDataFrame\n",
      "Columns: [ID, link_type, avgspeed, geometry, node_A, node_B, edge_fid, length]\n",
      "Index: [].This could be due to segmentation, and might cause an exception in hazard overlay\n",
      "Network hazard overlay with Inundacion_Fluvial_tr100: 100%|██████████| 789/789 [00:06<00:00, 116.92it/s]\n",
      "Network fraction with hazard overlay with Inundacion_Fluvial_tr100: 100%|██████████| 789/789 [00:05<00:00, 140.97it/s]\n"
     ]
    },
    {
     "ename": "TypeError",
     "evalue": "ufunc 'divide' not supported for the input types, and the inputs could not be safely coerced to any supported types according to the casting rule ''safe''",
     "output_type": "error",
     "traceback": [
      "\u001b[1;31m---------------------------------------------------------------------------\u001b[0m",
      "\u001b[1;31mTypeError\u001b[0m                                 Traceback (most recent call last)",
      "Cell \u001b[1;32mIn[2], line 5\u001b[0m\n\u001b[0;32m      2\u001b[0m criticality_analysis_weight \u001b[38;5;241m=\u001b[39m handler\u001b[38;5;241m.\u001b[39minput_config\u001b[38;5;241m.\u001b[39manalysis_config\u001b[38;5;241m.\u001b[39mconfig_data\u001b[38;5;241m.\u001b[39mindirect[\u001b[38;5;241m0\u001b[39m]\u001b[38;5;241m.\u001b[39mweighing\u001b[38;5;241m.\u001b[39mconfig_value\n\u001b[0;32m      4\u001b[0m handler\u001b[38;5;241m.\u001b[39mconfigure()\n\u001b[1;32m----> 5\u001b[0m \u001b[43mhandler\u001b[49m\u001b[38;5;241;43m.\u001b[39;49m\u001b[43mrun_analysis\u001b[49m\u001b[43m(\u001b[49m\u001b[43m)\u001b[49m\n",
      "File \u001b[1;32mC:\\repos\\ra2ce\\ra2ce\\ra2ce_handler.py:82\u001b[0m, in \u001b[0;36mRa2ceHandler.run_analysis\u001b[1;34m(self)\u001b[0m\n\u001b[0;32m     79\u001b[0m     \u001b[38;5;28;01mraise\u001b[39;00m \u001b[38;5;167;01mValueError\u001b[39;00m(_error)\n\u001b[0;32m     81\u001b[0m _runner \u001b[38;5;241m=\u001b[39m AnalysisRunnerFactory\u001b[38;5;241m.\u001b[39mget_runner(\u001b[38;5;28mself\u001b[39m\u001b[38;5;241m.\u001b[39minput_config)\n\u001b[1;32m---> 82\u001b[0m \u001b[43m_runner\u001b[49m\u001b[38;5;241;43m.\u001b[39;49m\u001b[43mrun\u001b[49m\u001b[43m(\u001b[49m\u001b[38;5;28;43mself\u001b[39;49m\u001b[38;5;241;43m.\u001b[39;49m\u001b[43minput_config\u001b[49m\u001b[38;5;241;43m.\u001b[39;49m\u001b[43manalysis_config\u001b[49m\u001b[43m)\u001b[49m\n",
      "File \u001b[1;32mC:\\repos\\ra2ce\\ra2ce\\runners\\indirect_analysis_runner.py:96\u001b[0m, in \u001b[0;36mIndirectAnalysisRunner.run\u001b[1;34m(self, analysis_config)\u001b[0m\n\u001b[0;32m     95\u001b[0m \u001b[38;5;28;01mdef\u001b[39;00m \u001b[38;5;21mrun\u001b[39m(\u001b[38;5;28mself\u001b[39m, analysis_config: AnalysisConfigWrapper) \u001b[38;5;241m-\u001b[39m\u001b[38;5;241m>\u001b[39m \u001b[38;5;28;01mNone\u001b[39;00m:\n\u001b[1;32m---> 96\u001b[0m     _analysis_collection \u001b[38;5;241m=\u001b[39m \u001b[43mAnalysisCollection\u001b[49m\u001b[38;5;241;43m.\u001b[39;49m\u001b[43mfrom_config\u001b[49m\u001b[43m(\u001b[49m\u001b[43manalysis_config\u001b[49m\u001b[43m)\u001b[49m\n\u001b[0;32m     97\u001b[0m     \u001b[38;5;28;01mfor\u001b[39;00m analysis \u001b[38;5;129;01min\u001b[39;00m _analysis_collection\u001b[38;5;241m.\u001b[39mindirect_analyses:\n\u001b[0;32m     98\u001b[0m         logging\u001b[38;5;241m.\u001b[39minfo(\n\u001b[0;32m     99\u001b[0m             \u001b[38;5;124mf\u001b[39m\u001b[38;5;124m\"\u001b[39m\u001b[38;5;124m----------------------------- Started analyzing \u001b[39m\u001b[38;5;124m'\u001b[39m\u001b[38;5;132;01m{\u001b[39;00manalysis\u001b[38;5;241m.\u001b[39manalysis\u001b[38;5;241m.\u001b[39mname\u001b[38;5;132;01m}\u001b[39;00m\u001b[38;5;124m'\u001b[39m\u001b[38;5;124m  -----------------------------\u001b[39m\u001b[38;5;124m\"\u001b[39m\n\u001b[0;32m    100\u001b[0m         )\n",
      "File \u001b[1;32mC:\\repos\\ra2ce\\ra2ce\\analysis\\analysis_collection.py:53\u001b[0m, in \u001b[0;36mAnalysisCollection.from_config\u001b[1;34m(cls, analysis_config)\u001b[0m\n\u001b[0;32m     37\u001b[0m \u001b[38;5;129m@classmethod\u001b[39m\n\u001b[0;32m     38\u001b[0m \u001b[38;5;28;01mdef\u001b[39;00m \u001b[38;5;21mfrom_config\u001b[39m(\u001b[38;5;28mcls\u001b[39m, analysis_config: AnalysisConfigWrapper) \u001b[38;5;241m-\u001b[39m\u001b[38;5;241m>\u001b[39m AnalysisCollection:\n\u001b[0;32m     39\u001b[0m \u001b[38;5;250m    \u001b[39m\u001b[38;5;124;03m\"\"\"\u001b[39;00m\n\u001b[0;32m     40\u001b[0m \u001b[38;5;124;03m    Create an AnalysisCollection from an AnalysisConfigWrapper.\u001b[39;00m\n\u001b[0;32m     41\u001b[0m \n\u001b[1;32m   (...)\u001b[0m\n\u001b[0;32m     46\u001b[0m \u001b[38;5;124;03m        AnalysisCollection: Collection of analyses to be executed.\u001b[39;00m\n\u001b[0;32m     47\u001b[0m \u001b[38;5;124;03m    \"\"\"\u001b[39;00m\n\u001b[0;32m     48\u001b[0m     \u001b[38;5;28;01mreturn\u001b[39;00m \u001b[38;5;28mcls\u001b[39m(\n\u001b[0;32m     49\u001b[0m         direct_analyses\u001b[38;5;241m=\u001b[39m[\n\u001b[0;32m     50\u001b[0m             AnalysisFactory\u001b[38;5;241m.\u001b[39mget_direct_analysis(analysis, analysis_config)\n\u001b[0;32m     51\u001b[0m             \u001b[38;5;28;01mfor\u001b[39;00m analysis \u001b[38;5;129;01min\u001b[39;00m analysis_config\u001b[38;5;241m.\u001b[39mconfig_data\u001b[38;5;241m.\u001b[39mdirect\n\u001b[0;32m     52\u001b[0m         ],\n\u001b[1;32m---> 53\u001b[0m         indirect_analyses\u001b[38;5;241m=\u001b[39m[\n\u001b[0;32m     54\u001b[0m             AnalysisFactory\u001b[38;5;241m.\u001b[39mget_indirect_analysis(analysis, analysis_config)\n\u001b[0;32m     55\u001b[0m             \u001b[38;5;28;01mfor\u001b[39;00m analysis \u001b[38;5;129;01min\u001b[39;00m analysis_config\u001b[38;5;241m.\u001b[39mconfig_data\u001b[38;5;241m.\u001b[39mindirect\n\u001b[0;32m     56\u001b[0m         ],\n\u001b[0;32m     57\u001b[0m     )\n",
      "File \u001b[1;32mC:\\repos\\ra2ce\\ra2ce\\analysis\\analysis_collection.py:54\u001b[0m, in \u001b[0;36m<listcomp>\u001b[1;34m(.0)\u001b[0m\n\u001b[0;32m     37\u001b[0m \u001b[38;5;129m@classmethod\u001b[39m\n\u001b[0;32m     38\u001b[0m \u001b[38;5;28;01mdef\u001b[39;00m \u001b[38;5;21mfrom_config\u001b[39m(\u001b[38;5;28mcls\u001b[39m, analysis_config: AnalysisConfigWrapper) \u001b[38;5;241m-\u001b[39m\u001b[38;5;241m>\u001b[39m AnalysisCollection:\n\u001b[0;32m     39\u001b[0m \u001b[38;5;250m    \u001b[39m\u001b[38;5;124;03m\"\"\"\u001b[39;00m\n\u001b[0;32m     40\u001b[0m \u001b[38;5;124;03m    Create an AnalysisCollection from an AnalysisConfigWrapper.\u001b[39;00m\n\u001b[0;32m     41\u001b[0m \n\u001b[1;32m   (...)\u001b[0m\n\u001b[0;32m     46\u001b[0m \u001b[38;5;124;03m        AnalysisCollection: Collection of analyses to be executed.\u001b[39;00m\n\u001b[0;32m     47\u001b[0m \u001b[38;5;124;03m    \"\"\"\u001b[39;00m\n\u001b[0;32m     48\u001b[0m     \u001b[38;5;28;01mreturn\u001b[39;00m \u001b[38;5;28mcls\u001b[39m(\n\u001b[0;32m     49\u001b[0m         direct_analyses\u001b[38;5;241m=\u001b[39m[\n\u001b[0;32m     50\u001b[0m             AnalysisFactory\u001b[38;5;241m.\u001b[39mget_direct_analysis(analysis, analysis_config)\n\u001b[0;32m     51\u001b[0m             \u001b[38;5;28;01mfor\u001b[39;00m analysis \u001b[38;5;129;01min\u001b[39;00m analysis_config\u001b[38;5;241m.\u001b[39mconfig_data\u001b[38;5;241m.\u001b[39mdirect\n\u001b[0;32m     52\u001b[0m         ],\n\u001b[0;32m     53\u001b[0m         indirect_analyses\u001b[38;5;241m=\u001b[39m[\n\u001b[1;32m---> 54\u001b[0m             \u001b[43mAnalysisFactory\u001b[49m\u001b[38;5;241;43m.\u001b[39;49m\u001b[43mget_indirect_analysis\u001b[49m\u001b[43m(\u001b[49m\u001b[43manalysis\u001b[49m\u001b[43m,\u001b[49m\u001b[43m \u001b[49m\u001b[43manalysis_config\u001b[49m\u001b[43m)\u001b[49m\n\u001b[0;32m     55\u001b[0m             \u001b[38;5;28;01mfor\u001b[39;00m analysis \u001b[38;5;129;01min\u001b[39;00m analysis_config\u001b[38;5;241m.\u001b[39mconfig_data\u001b[38;5;241m.\u001b[39mindirect\n\u001b[0;32m     56\u001b[0m         ],\n\u001b[0;32m     57\u001b[0m     )\n",
      "File \u001b[1;32mC:\\repos\\ra2ce\\ra2ce\\analysis\\analysis_factory.py:163\u001b[0m, in \u001b[0;36mAnalysisFactory.get_indirect_analysis\u001b[1;34m(analysis, analysis_config)\u001b[0m\n\u001b[0;32m    155\u001b[0m     \u001b[38;5;28;01mreturn\u001b[39;00m MultiLinkOriginClosestDestination(\n\u001b[0;32m    156\u001b[0m         graph_file\u001b[38;5;241m=\u001b[39manalysis_config\u001b[38;5;241m.\u001b[39mgraph_files\u001b[38;5;241m.\u001b[39morigins_destinations_graph,\n\u001b[0;32m    157\u001b[0m         graph_file_hazard\u001b[38;5;241m=\u001b[39manalysis_config\u001b[38;5;241m.\u001b[39mgraph_files\u001b[38;5;241m.\u001b[39morigins_destinations_graph_hazard,\n\u001b[1;32m   (...)\u001b[0m\n\u001b[0;32m    160\u001b[0m         file_id\u001b[38;5;241m=\u001b[39manalysis_config\u001b[38;5;241m.\u001b[39mconfig_data\u001b[38;5;241m.\u001b[39mnetwork\u001b[38;5;241m.\u001b[39mfile_id,\n\u001b[0;32m    161\u001b[0m     )\n\u001b[0;32m    162\u001b[0m \u001b[38;5;28;01mif\u001b[39;00m analysis\u001b[38;5;241m.\u001b[39manalysis \u001b[38;5;241m==\u001b[39m AnalysisIndirectEnum\u001b[38;5;241m.\u001b[39mSINGLE_LINK_LOSSES:\n\u001b[1;32m--> 163\u001b[0m     \u001b[38;5;28;01mreturn\u001b[39;00m Losses(\n\u001b[0;32m    164\u001b[0m         network_config_data\u001b[38;5;241m=\u001b[39manalysis_config\u001b[38;5;241m.\u001b[39mconfig_data,\n\u001b[0;32m    165\u001b[0m         graph_file\u001b[38;5;241m=\u001b[39manalysis_config\u001b[38;5;241m.\u001b[39mgraph_files\u001b[38;5;241m.\u001b[39mbase_graph_hazard,\n\u001b[0;32m    166\u001b[0m         \u001b[38;5;241m*\u001b[39m\u001b[38;5;241m*\u001b[39m_input_dict\n\u001b[0;32m    167\u001b[0m     )\n\u001b[0;32m    168\u001b[0m \u001b[38;5;28;01mif\u001b[39;00m analysis\u001b[38;5;241m.\u001b[39manalysis \u001b[38;5;241m==\u001b[39m AnalysisIndirectEnum\u001b[38;5;241m.\u001b[39mMULTI_LINK_LOSSES:\n\u001b[0;32m    169\u001b[0m     \u001b[38;5;28;01mreturn\u001b[39;00m MultiLinkLosses(\n\u001b[0;32m    170\u001b[0m         graph_file\u001b[38;5;241m=\u001b[39manalysis_config\u001b[38;5;241m.\u001b[39mgraph_files\u001b[38;5;241m.\u001b[39mbase_graph_hazard, \u001b[38;5;241m*\u001b[39m\u001b[38;5;241m*\u001b[39m_input_dict\n\u001b[0;32m    171\u001b[0m     )\n",
      "File \u001b[1;32mC:\\repos\\ra2ce\\ra2ce\\analysis\\indirect\\losses.py:108\u001b[0m, in \u001b[0;36mLosses.__init__\u001b[1;34m(self, network_config_data, graph_file, analysis, input_path, static_path, output_path, hazard_names)\u001b[0m\n\u001b[0;32m    103\u001b[0m \u001b[38;5;28mself\u001b[39m\u001b[38;5;241m.\u001b[39mresilience_curve \u001b[38;5;241m=\u001b[39m _load_df_from_csv(analysis\u001b[38;5;241m.\u001b[39mresilience_curve_file,\n\u001b[0;32m    104\u001b[0m                                           [\u001b[38;5;124m\"\u001b[39m\u001b[38;5;124mduration_steps\u001b[39m\u001b[38;5;124m\"\u001b[39m,\n\u001b[0;32m    105\u001b[0m                                            \u001b[38;5;124m\"\u001b[39m\u001b[38;5;124mfunctionality_loss_ratio\u001b[39m\u001b[38;5;124m\"\u001b[39m], \u001b[38;5;28;01mNone\u001b[39;00m, sep\u001b[38;5;241m=\u001b[39m\u001b[38;5;124m\"\u001b[39m\u001b[38;5;124m;\u001b[39m\u001b[38;5;124m\"\u001b[39m\n\u001b[0;32m    106\u001b[0m                                           )\n\u001b[0;32m    107\u001b[0m \u001b[38;5;28mself\u001b[39m\u001b[38;5;241m.\u001b[39mvalues_of_time \u001b[38;5;241m=\u001b[39m _load_df_from_csv(analysis\u001b[38;5;241m.\u001b[39mvalues_of_time_file, [], \u001b[38;5;28;01mNone\u001b[39;00m, sep\u001b[38;5;241m=\u001b[39m\u001b[38;5;124m\"\u001b[39m\u001b[38;5;124m;\u001b[39m\u001b[38;5;124m\"\u001b[39m)\n\u001b[1;32m--> 108\u001b[0m \u001b[38;5;28mself\u001b[39m\u001b[38;5;241m.\u001b[39mvot_intensity_per_trip_collection \u001b[38;5;241m=\u001b[39m \u001b[38;5;28;43mself\u001b[39;49m\u001b[38;5;241;43m.\u001b[39;49m\u001b[43m_get_vot_intensity_per_trip_purpose\u001b[49m\u001b[43m(\u001b[49m\u001b[43m)\u001b[49m\n\u001b[0;32m    109\u001b[0m \u001b[38;5;28mself\u001b[39m\u001b[38;5;241m.\u001b[39m_check_validity_df()\n\u001b[0;32m    111\u001b[0m \u001b[38;5;28mself\u001b[39m\u001b[38;5;241m.\u001b[39minput_path \u001b[38;5;241m=\u001b[39m input_path\n",
      "File \u001b[1;32mC:\\repos\\ra2ce\\ra2ce\\analysis\\indirect\\losses.py:163\u001b[0m, in \u001b[0;36mLosses._get_vot_intensity_per_trip_purpose\u001b[1;34m(self)\u001b[0m\n\u001b[0;32m    158\u001b[0m     _vot_dict[vot_var_name] \u001b[38;5;241m=\u001b[39m \u001b[38;5;28mself\u001b[39m\u001b[38;5;241m.\u001b[39mvalues_of_time\u001b[38;5;241m.\u001b[39mloc[\n\u001b[0;32m    159\u001b[0m         \u001b[38;5;28mself\u001b[39m\u001b[38;5;241m.\u001b[39mvalues_of_time[\u001b[38;5;124m\"\u001b[39m\u001b[38;5;124mtrip_types\u001b[39m\u001b[38;5;124m\"\u001b[39m] \u001b[38;5;241m==\u001b[39m purpose\u001b[38;5;241m.\u001b[39mconfig_value, \u001b[38;5;124m\"\u001b[39m\u001b[38;5;124mvalue_of_time\u001b[39m\u001b[38;5;124m\"\u001b[39m\n\u001b[0;32m    160\u001b[0m     ]\u001b[38;5;241m.\u001b[39mitem()\n\u001b[0;32m    161\u001b[0m     \u001b[38;5;66;03m# read and set the intensities\u001b[39;00m\n\u001b[0;32m    162\u001b[0m     _vot_dict[partofday_trip_purpose_intensity_name] \u001b[38;5;241m=\u001b[39m (\n\u001b[1;32m--> 163\u001b[0m             \u001b[38;5;28;43mself\u001b[39;49m\u001b[38;5;241;43m.\u001b[39;49m\u001b[43mintensities\u001b[49m\u001b[43m[\u001b[49m\u001b[43mpartofday_trip_purpose_name\u001b[49m\u001b[43m]\u001b[49m\u001b[43m \u001b[49m\u001b[38;5;241;43m/\u001b[39;49m\u001b[43m \u001b[49m\u001b[38;5;28;43mself\u001b[39;49m\u001b[38;5;241;43m.\u001b[39;49m\u001b[43mhours_per_day\u001b[49m\n\u001b[0;32m    164\u001b[0m             \u001b[38;5;66;03m# TODO: Make a new PR to support different time scales: here 10=10hours\u001b[39;00m\n\u001b[0;32m    165\u001b[0m     )\n\u001b[0;32m    166\u001b[0m \u001b[38;5;28;01mreturn\u001b[39;00m \u001b[38;5;28mdict\u001b[39m(_vot_dict)\n",
      "File \u001b[1;32mc:\\repos\\ra2ce\\.env\\lib\\site-packages\\pandas\\core\\ops\\common.py:72\u001b[0m, in \u001b[0;36m_unpack_zerodim_and_defer.<locals>.new_method\u001b[1;34m(self, other)\u001b[0m\n\u001b[0;32m     68\u001b[0m             \u001b[38;5;28;01mreturn\u001b[39;00m \u001b[38;5;28mNotImplemented\u001b[39m\n\u001b[0;32m     70\u001b[0m other \u001b[38;5;241m=\u001b[39m item_from_zerodim(other)\n\u001b[1;32m---> 72\u001b[0m \u001b[38;5;28;01mreturn\u001b[39;00m \u001b[43mmethod\u001b[49m\u001b[43m(\u001b[49m\u001b[38;5;28;43mself\u001b[39;49m\u001b[43m,\u001b[49m\u001b[43m \u001b[49m\u001b[43mother\u001b[49m\u001b[43m)\u001b[49m\n",
      "File \u001b[1;32mc:\\repos\\ra2ce\\.env\\lib\\site-packages\\pandas\\core\\arraylike.py:126\u001b[0m, in \u001b[0;36mOpsMixin.__truediv__\u001b[1;34m(self, other)\u001b[0m\n\u001b[0;32m    124\u001b[0m \u001b[38;5;129m@unpack_zerodim_and_defer\u001b[39m(\u001b[38;5;124m\"\u001b[39m\u001b[38;5;124m__truediv__\u001b[39m\u001b[38;5;124m\"\u001b[39m)\n\u001b[0;32m    125\u001b[0m \u001b[38;5;28;01mdef\u001b[39;00m \u001b[38;5;21m__truediv__\u001b[39m(\u001b[38;5;28mself\u001b[39m, other):\n\u001b[1;32m--> 126\u001b[0m     \u001b[38;5;28;01mreturn\u001b[39;00m \u001b[38;5;28;43mself\u001b[39;49m\u001b[38;5;241;43m.\u001b[39;49m\u001b[43m_arith_method\u001b[49m\u001b[43m(\u001b[49m\u001b[43mother\u001b[49m\u001b[43m,\u001b[49m\u001b[43m \u001b[49m\u001b[43moperator\u001b[49m\u001b[38;5;241;43m.\u001b[39;49m\u001b[43mtruediv\u001b[49m\u001b[43m)\u001b[49m\n",
      "File \u001b[1;32mc:\\repos\\ra2ce\\.env\\lib\\site-packages\\pandas\\core\\series.py:6259\u001b[0m, in \u001b[0;36mSeries._arith_method\u001b[1;34m(self, other, op)\u001b[0m\n\u001b[0;32m   6257\u001b[0m \u001b[38;5;28;01mdef\u001b[39;00m \u001b[38;5;21m_arith_method\u001b[39m(\u001b[38;5;28mself\u001b[39m, other, op):\n\u001b[0;32m   6258\u001b[0m     \u001b[38;5;28mself\u001b[39m, other \u001b[38;5;241m=\u001b[39m ops\u001b[38;5;241m.\u001b[39malign_method_SERIES(\u001b[38;5;28mself\u001b[39m, other)\n\u001b[1;32m-> 6259\u001b[0m     \u001b[38;5;28;01mreturn\u001b[39;00m \u001b[43mbase\u001b[49m\u001b[38;5;241;43m.\u001b[39;49m\u001b[43mIndexOpsMixin\u001b[49m\u001b[38;5;241;43m.\u001b[39;49m\u001b[43m_arith_method\u001b[49m\u001b[43m(\u001b[49m\u001b[38;5;28;43mself\u001b[39;49m\u001b[43m,\u001b[49m\u001b[43m \u001b[49m\u001b[43mother\u001b[49m\u001b[43m,\u001b[49m\u001b[43m \u001b[49m\u001b[43mop\u001b[49m\u001b[43m)\u001b[49m\n",
      "File \u001b[1;32mc:\\repos\\ra2ce\\.env\\lib\\site-packages\\pandas\\core\\base.py:1325\u001b[0m, in \u001b[0;36mIndexOpsMixin._arith_method\u001b[1;34m(self, other, op)\u001b[0m\n\u001b[0;32m   1322\u001b[0m rvalues \u001b[38;5;241m=\u001b[39m ensure_wrapped_if_datetimelike(rvalues)\n\u001b[0;32m   1324\u001b[0m \u001b[38;5;28;01mwith\u001b[39;00m np\u001b[38;5;241m.\u001b[39merrstate(\u001b[38;5;28mall\u001b[39m\u001b[38;5;241m=\u001b[39m\u001b[38;5;124m\"\u001b[39m\u001b[38;5;124mignore\u001b[39m\u001b[38;5;124m\"\u001b[39m):\n\u001b[1;32m-> 1325\u001b[0m     result \u001b[38;5;241m=\u001b[39m \u001b[43mops\u001b[49m\u001b[38;5;241;43m.\u001b[39;49m\u001b[43marithmetic_op\u001b[49m\u001b[43m(\u001b[49m\u001b[43mlvalues\u001b[49m\u001b[43m,\u001b[49m\u001b[43m \u001b[49m\u001b[43mrvalues\u001b[49m\u001b[43m,\u001b[49m\u001b[43m \u001b[49m\u001b[43mop\u001b[49m\u001b[43m)\u001b[49m\n\u001b[0;32m   1327\u001b[0m \u001b[38;5;28;01mreturn\u001b[39;00m \u001b[38;5;28mself\u001b[39m\u001b[38;5;241m.\u001b[39m_construct_result(result, name\u001b[38;5;241m=\u001b[39mres_name)\n",
      "File \u001b[1;32mc:\\repos\\ra2ce\\.env\\lib\\site-packages\\pandas\\core\\ops\\array_ops.py:226\u001b[0m, in \u001b[0;36marithmetic_op\u001b[1;34m(left, right, op)\u001b[0m\n\u001b[0;32m    222\u001b[0m     _bool_arith_check(op, left, right)\n\u001b[0;32m    224\u001b[0m     \u001b[38;5;66;03m# error: Argument 1 to \"_na_arithmetic_op\" has incompatible type\u001b[39;00m\n\u001b[0;32m    225\u001b[0m     \u001b[38;5;66;03m# \"Union[ExtensionArray, ndarray[Any, Any]]\"; expected \"ndarray[Any, Any]\"\u001b[39;00m\n\u001b[1;32m--> 226\u001b[0m     res_values \u001b[38;5;241m=\u001b[39m \u001b[43m_na_arithmetic_op\u001b[49m\u001b[43m(\u001b[49m\u001b[43mleft\u001b[49m\u001b[43m,\u001b[49m\u001b[43m \u001b[49m\u001b[43mright\u001b[49m\u001b[43m,\u001b[49m\u001b[43m \u001b[49m\u001b[43mop\u001b[49m\u001b[43m)\u001b[49m  \u001b[38;5;66;03m# type: ignore[arg-type]\u001b[39;00m\n\u001b[0;32m    228\u001b[0m \u001b[38;5;28;01mreturn\u001b[39;00m res_values\n",
      "File \u001b[1;32mc:\\repos\\ra2ce\\.env\\lib\\site-packages\\pandas\\core\\ops\\array_ops.py:165\u001b[0m, in \u001b[0;36m_na_arithmetic_op\u001b[1;34m(left, right, op, is_cmp)\u001b[0m\n\u001b[0;32m    162\u001b[0m     func \u001b[38;5;241m=\u001b[39m partial(expressions\u001b[38;5;241m.\u001b[39mevaluate, op)\n\u001b[0;32m    164\u001b[0m \u001b[38;5;28;01mtry\u001b[39;00m:\n\u001b[1;32m--> 165\u001b[0m     result \u001b[38;5;241m=\u001b[39m \u001b[43mfunc\u001b[49m\u001b[43m(\u001b[49m\u001b[43mleft\u001b[49m\u001b[43m,\u001b[49m\u001b[43m \u001b[49m\u001b[43mright\u001b[49m\u001b[43m)\u001b[49m\n\u001b[0;32m    166\u001b[0m \u001b[38;5;28;01mexcept\u001b[39;00m \u001b[38;5;167;01mTypeError\u001b[39;00m:\n\u001b[0;32m    167\u001b[0m     \u001b[38;5;28;01mif\u001b[39;00m \u001b[38;5;129;01mnot\u001b[39;00m is_cmp \u001b[38;5;129;01mand\u001b[39;00m (is_object_dtype(left\u001b[38;5;241m.\u001b[39mdtype) \u001b[38;5;129;01mor\u001b[39;00m is_object_dtype(right)):\n\u001b[0;32m    168\u001b[0m         \u001b[38;5;66;03m# For object dtype, fallback to a masked operation (only operating\u001b[39;00m\n\u001b[0;32m    169\u001b[0m         \u001b[38;5;66;03m#  on the non-missing values)\u001b[39;00m\n\u001b[0;32m    170\u001b[0m         \u001b[38;5;66;03m# Don't do this for comparisons, as that will handle complex numbers\u001b[39;00m\n\u001b[0;32m    171\u001b[0m         \u001b[38;5;66;03m#  incorrectly, see GH#32047\u001b[39;00m\n",
      "\u001b[1;31mTypeError\u001b[0m: ufunc 'divide' not supported for the input types, and the inputs could not be safely coerced to any supported types according to the casting rule ''safe''"
     ]
    }
   ],
   "source": [
    "handler = Ra2ceHandler(network=network_ini_losses, analysis=analysis_ini_losses)\n",
    "criticality_analysis_weight = handler.input_config.analysis_config.config_data.indirect[0].weighing.config_value\n",
    "\n",
    "handler.configure()\n",
    "handler.run_analysis()"
   ]
  },
  {
   "cell_type": "markdown",
   "metadata": {},
   "source": [
    "#### Introducing a hazardous event"
   ]
  },
  {
   "cell_type": "code",
   "execution_count": null,
   "metadata": {},
   "outputs": [],
   "source": [
    "hazard_folder = root_dir / \"static\" / \"hazard\" # find the hazard folder where you locate your floo dmap\n",
    "hazard_map = hazard_folder / \"Inundacion_Fluvial_tr1000.tif\" # set the location of the hazard map\n",
    "\n",
    "# Open the TIF file using rasterio\n",
    "with rasterio.open(hazard_map) as src:\n",
    "    # Read the TIF file as a numpy array\n",
    "    tif_array = src.read(1)  # Change the band index (1) if necessary\n",
    "\n",
    "plt.figure(figsize=(10, 10))\n",
    "plt.imshow(tif_array, cmap='Blues')  # Change the colormap if desired\n",
    "plt.colorbar(label='Pixel Values')\n",
    "plt.title('Flood map')\n",
    "plt.show()\n"
   ]
  },
  {
   "cell_type": "code",
   "execution_count": null,
   "metadata": {},
   "outputs": [],
   "source": [
    "# Show inundated links\n",
    "\n",
    "inundation_threshold = 0.5\n",
    "\n",
    "hazard_output = root_dir / \"static\" / \"output_graph\" / \"base_graph_hazard_edges.gpkg\"\n",
    "hazard_gdf = gpd.read_file(hazard_output, driver = \"GPKG\")\n",
    "\n",
    "# Create a colormap\n",
    "colormap = LinearColormap(['lightblue', 'blue', 'darkblue'], vmin=inundation_threshold, vmax=hazard_gdf['EV1_ma'].max(), caption='EV1_ma')\n",
    "\n",
    "center = [hazard_gdf['geometry'].centroid.y.mean(), hazard_gdf['geometry'].centroid.x.mean()]\n",
    "m = folium.Map(location=center, zoom_start=12, control_scale=True, tiles=\"cartodbpositron\")\n",
    "\n",
    "# Create two separate FeatureGroup layers\n",
    "gray_layer = folium.FeatureGroup(name='Unimpacted links', show=True)\n",
    "colored_layer = folium.FeatureGroup(name='Inundated links', overlay=True, control=False)\n",
    "\n",
    "# Add edges to the m\n",
    "for idx, row in hazard_gdf.iterrows():\n",
    "    color = 'gray' if (row['EV1_ma'] < inundation_threshold) or ('bridge' in row and row['bridge'] == 'yes') else colormap(row['EV1_ma'])\n",
    "    \n",
    "    # Extracting coordinates from LineString\n",
    "    coordinates = [(coord[1], coord[0]) for coord in row['geometry'].coords]\n",
    "\n",
    "    # Create a popup with data\n",
    "    popup_content = f\"<strong>Water height(m):</strong> {round(row['EV1_ma'], 1)}\"\n",
    "    popup = folium.Popup(popup_content, max_width=300)\n",
    "    \n",
    "    # Add PolyLine to the appropriate layer\n",
    "    folium.PolyLine(\n",
    "        locations=coordinates,\n",
    "        color=color,\n",
    "        weight=2,\n",
    "        opacity=1,\n",
    "        popup=popup\n",
    "    ).add_to(gray_layer if row['EV1_ma'] < inundation_threshold else colored_layer)\n",
    "\n",
    "# Add FeatureGroup layers to the m\n",
    "gray_layer.add_to(m)\n",
    "colored_layer.add_to(m)\n",
    "\n",
    "# Add colormap to the m\n",
    "colormap.add_to(m)\n",
    "\n",
    "# Add LayerControl to the m\n",
    "folium.LayerControl().add_to(m)\n",
    "\n",
    "# Display the m\n",
    "m"
   ]
  }
 ],
 "metadata": {
  "kernelspec": {
   "display_name": "ra2ce_env",
   "language": "python",
   "name": "python3"
  },
  "language_info": {
   "codemirror_mode": {
    "name": "ipython",
    "version": 3
   },
   "file_extension": ".py",
   "mimetype": "text/x-python",
   "name": "python",
   "nbconvert_exporter": "python",
   "pygments_lexer": "ipython3",
   "version": "3.10.13"
  }
 },
 "nbformat": 4,
 "nbformat_minor": 2
}
