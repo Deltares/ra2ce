{
 "cells": [
  {
   "attachments": {},
   "cell_type": "markdown",
   "metadata": {},
   "source": [
    "# RA2CE feature: Losses analysis"
   ]
  },
  {
   "cell_type": "code",
   "execution_count": 2,
   "metadata": {},
   "outputs": [],
   "source": [
    "import geopandas as gpd\n",
    "import matplotlib.pyplot as plt\n",
    "from pathlib import Path\n",
    "import numpy as np\n",
    "import rasterio\n",
    "from branca.colormap import LinearColormap\n",
    "import folium\n",
    "\n",
    "from ra2ce.ra2ce_handler import Ra2ceHandler #import the ra2cehandler to run ra2ce analyses"
   ]
  },
  {
   "cell_type": "markdown",
   "metadata": {},
   "source": [
    "## Single link losses Analysis"
   ]
  },
  {
   "cell_type": "code",
   "execution_count": 3,
   "metadata": {},
   "outputs": [
    {
     "name": "stderr",
     "output_type": "stream",
     "text": [
      "2024-03-26 08:12:26 AM - [ra2ce_logging.py:41] - root - INFO - RA2CE logger initialized.\n",
      "2024-03-26 08:12:26 AM - [network_wrapper_factory.py:56] - root - INFO - Start creating a network from the submitted shapefile.\n",
      "2024-03-26 08:12:26 AM - [vector_network_wrapper.py:120] - root - INFO - Read files data\\single_link_losses\\static\\network\\Red_Vial_RD_wgs84.shp into a 'GeoDataFrame'.\n",
      "2024-03-26 08:12:26 AM - [vector_network_wrapper.py:92] - root - INFO - reproject vector file to project crs\n",
      "2024-03-26 08:12:43 AM - [multi_graph_network_exporter.py:55] - root - INFO - Saved base_graph in C:\\repos\\ra2ce\\examples\\data\\single_link_losses\\static\\output_graph.\n",
      "2024-03-26 08:12:43 AM - [networks_utils.py:1222] - root - INFO - Saving nodes as shapefile: data\\single_link_losses\\static\\output_graph\\base_graph_nodes.gpkg\n",
      "2024-03-26 08:12:43 AM - [networks_utils.py:1223] - root - INFO - Saving edges as shapefile: data\\single_link_losses\\static\\output_graph\\base_graph_edges.gpkg\n",
      "2024-03-26 08:12:44 AM - [multi_graph_network_exporter.py:47] - root - INFO - Saved base_graph_edges.gpkg and base_graph_nodes.gpkg in data\\single_link_losses\\static\\output_graph.\n",
      "2024-03-26 08:12:44 AM - [geodataframe_network_exporter.py:41] - root - INFO - Saved base_network in data\\single_link_losses\\static\\output_graph.\n",
      "2024-03-26 08:12:44 AM - [geodataframe_network_exporter.py:36] - root - INFO - Saved base_network in data\\single_link_losses\\static\\output_graph.\n",
      "2024-03-26 08:12:44 AM - [hazard_overlay.py:108] - root - INFO - Initialized hazard object.\n",
      "Graph hazard overlay with Inundacion_Fluvial_tr100: 100%|██████████| 789/789 [00:06<00:00, 120.43it/s]\n",
      "Graph fraction with hazard overlay with Inundacion_Fluvial_tr100: 100%|██████████| 789/789 [00:05<00:00, 143.84it/s]\n",
      "2024-03-26 08:12:56 AM - [multi_graph_network_exporter.py:55] - root - INFO - Saved base_graph_hazard in C:\\repos\\ra2ce\\examples\\data\\single_link_losses\\static\\output_graph.\n",
      "2024-03-26 08:12:56 AM - [networks_utils.py:1222] - root - INFO - Saving nodes as shapefile: data\\single_link_losses\\static\\output_graph\\base_graph_hazard_nodes.gpkg\n",
      "2024-03-26 08:12:56 AM - [networks_utils.py:1223] - root - INFO - Saving edges as shapefile: data\\single_link_losses\\static\\output_graph\\base_graph_hazard_edges.gpkg\n",
      "2024-03-26 08:12:56 AM - [multi_graph_network_exporter.py:47] - root - INFO - Saved base_graph_hazard_edges.gpkg and base_graph_hazard_nodes.gpkg in data\\single_link_losses\\static\\output_graph.\n",
      "2024-03-26 08:12:56 AM - [hazard_overlay.py:696] - root - INFO - Iterating overlay of GeoPandas Dataframe.\n",
      "2024-03-26 08:12:56 AM - [hazard_overlay.py:734] - root - INFO - Setting 'base_network_hazard' graph.\n",
      "2024-03-26 08:12:56 AM - [hazard_intersect_builder_for_tif.py:183] - root - WARNING - Some geometries have NoneType objects (no coordinate information), namely: Empty GeoDataFrame\n",
      "Columns: [ID, link_type, avgspeed, geometry, node_A, node_B, edge_fid, length]\n",
      "Index: [].This could be due to segmentation, and might cause an exception in hazard overlay\n",
      "Network hazard overlay with Inundacion_Fluvial_tr100: 100%|██████████| 789/789 [00:08<00:00, 97.68it/s] \n",
      "Network fraction with hazard overlay with Inundacion_Fluvial_tr100: 100%|██████████| 789/789 [00:06<00:00, 125.77it/s]\n",
      "2024-03-26 08:13:11 AM - [indirect_analysis_runner.py:56] - root - INFO - ----------------------------- Started analyzing 'republic_dominican_redundancy'  -----------------------------\n",
      "2024-03-26 08:13:12 AM - [analysis_result_wrapper_exporter.py:81] - root - INFO - Results saved to: data\\single_link_losses\\output\\single_link_losses\\republic_dominican_redundancy.gpkg\n",
      "2024-03-26 08:13:13 AM - [indirect_analysis_runner.py:71] - root - INFO - ----------------------------- Analysis 'republic_dominican_redundancy' finished. Time: 1.52s  -----------------------------\n"
     ]
    },
    {
     "data": {
      "text/plain": [
       "[AnalysisResultWrapper(analysis_result=                link_type                                           geometry  \\\n",
       " ID                                                                             \n",
       " 1050           Regional-S  LINESTRING Z (-71.19405 18.24858 0.00000, -71....   \n",
       " 934            Regional-S  LINESTRING Z (-71.08824 18.08410 0.00000, -71....   \n",
       " 933            Regional-S  LINESTRING Z (-71.08319 18.09459 0.00000, -71....   \n",
       " 790   Caminos Vecinales-S  LINESTRING Z (-71.06260 18.32464 0.00000, -71....   \n",
       " 785   Caminos Vecinales-S  LINESTRING Z (-71.65068 17.97898 0.00000, -71....   \n",
       " ...                   ...                                                ...   \n",
       " 726            Regional-S  LINESTRING Z (-71.20752 18.24914 0.00000, -71....   \n",
       " 727            Regional-S  LINESTRING Z (-71.20965 18.24900 0.00000, -71....   \n",
       " 756               Local-S  LINESTRING Z (-71.16866 18.38792 0.00000, -71....   \n",
       " 759               Local-S  LINESTRING Z (-71.18044 18.38464 0.00000, -71....   \n",
       " 812   Caminos Vecinales-N  LINESTRING Z (-71.17164 17.97607 0.00000, -71....   \n",
       " \n",
       "       diff_time  detour  EV1_ma  vlh_business_EV1_ma  vlh_commute_EV1_ma  \\\n",
       " ID                                                                         \n",
       " 1050       0.32       1     3.0                  0.0        5.838027e+06   \n",
       " 934        1.54       1     3.0                  0.0        3.150766e+07   \n",
       " 933        1.56       1     3.0                  0.0        3.191685e+07   \n",
       " 790         NaN       0     3.0                  0.0        9.165600e+05   \n",
       " 785         NaN       0     3.0                  0.0        9.165600e+05   \n",
       " ...         ...     ...     ...                  ...                 ...   \n",
       " 726        0.36       1     0.0                  0.0        0.000000e+00   \n",
       " 727        0.35       1     0.0                  0.0        0.000000e+00   \n",
       " 756        0.45       1     0.0                  0.0        0.000000e+00   \n",
       " 759        0.45       1     0.0                  0.0        0.000000e+00   \n",
       " 812         NaN       0     0.0                  0.0        0.000000e+00   \n",
       " \n",
       "       vlh_freight_EV1_ma  vlh_other_EV1_ma  vlh_EV1_ma_total  \n",
       " ID                                                            \n",
       " 1050        7.839640e+07      752637.38048      8.498707e+07  \n",
       " 934         3.419124e+08      265029.32148      3.736851e+08  \n",
       " 933         3.463529e+08      268471.26072      3.785382e+08  \n",
       " 790         2.520000e+05      135480.00000      1.304040e+06  \n",
       " 785         2.520000e+05      135480.00000      1.304040e+06  \n",
       " ...                  ...               ...               ...  \n",
       " 726         0.000000e+00           0.00000      0.000000e+00  \n",
       " 727         0.000000e+00           0.00000      0.000000e+00  \n",
       " 756         0.000000e+00           0.00000      0.000000e+00  \n",
       " 759         0.000000e+00           0.00000      0.000000e+00  \n",
       " 812         0.000000e+00           0.00000      0.000000e+00  \n",
       " \n",
       " [787 rows x 10 columns], analysis=<ra2ce.analysis.indirect.losses.Losses object at 0x0000024EFC09E2C0>)]"
      ]
     },
     "execution_count": 3,
     "metadata": {},
     "output_type": "execute_result"
    }
   ],
   "source": [
    "root_dir = Path(\".\\\\data\\\\single_link_losses\")\n",
    "\n",
    "network_ini = root_dir / \"network.ini\"\n",
    "analysis_ini = root_dir / \"analysis.ini\"\n",
    "\n",
    "handler = Ra2ceHandler(network=network_ini, analysis=analysis_ini)\n",
    "\n",
    "handler.configure()\n",
    "handler.run_analysis()"
   ]
  },
  {
   "cell_type": "markdown",
   "metadata": {},
   "source": [
    "## Multi-link losses Analysis"
   ]
  },
  {
   "cell_type": "code",
   "execution_count": null,
   "metadata": {},
   "outputs": [],
   "source": [
    "root_dir_multi = Path(\".\\\\data\\\\multi_link_losses\")\n",
    "\n",
    "network_ini_multi = root_dir_multi / \"network.ini\"\n",
    "analysis_ini_multi = root_dir_multi / \"analysis.ini\"\n",
    "\n",
    "handler_multi = Ra2ceHandler(network=network_ini_multi, analysis=analysis_ini_multi)\n",
    "\n",
    "handler_multi.configure()\n",
    "handler_multi.run_analysis()"
   ]
  }
 ],
 "metadata": {
  "kernelspec": {
   "display_name": "ra2ce_env",
   "language": "python",
   "name": "python3"
  },
  "language_info": {
   "codemirror_mode": {
    "name": "ipython",
    "version": 3
   },
   "file_extension": ".py",
   "mimetype": "text/x-python",
   "name": "python",
   "nbconvert_exporter": "python",
   "pygments_lexer": "ipython3",
   "version": "3.10.13"
  }
 },
 "nbformat": 4,
 "nbformat_minor": 2
}
