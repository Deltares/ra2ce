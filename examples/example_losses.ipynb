{
 "cells": [
  {
   "attachments": {},
   "cell_type": "markdown",
   "metadata": {},
   "source": [
    "# RA2CE feature: Losses analysis"
   ]
  },
  {
   "cell_type": "code",
   "execution_count": 1,
   "metadata": {},
   "outputs": [
    {
     "name": "stderr",
     "output_type": "stream",
     "text": [
      "c:\\repos\\ra2ce\\.env\\lib\\site-packages\\tqdm\\auto.py:21: TqdmWarning: IProgress not found. Please update jupyter and ipywidgets. See https://ipywidgets.readthedocs.io/en/stable/user_install.html\n",
      "  from .autonotebook import tqdm as notebook_tqdm\n"
     ]
    }
   ],
   "source": [
    "import geopandas as gpd\n",
    "import matplotlib.pyplot as plt\n",
    "from pathlib import Path\n",
    "import numpy as np\n",
    "import rasterio\n",
    "\n",
    "from ra2ce.ra2ce_handler import Ra2ceHandler #import the ra2cehandler to run ra2ce analyses"
   ]
  },
  {
   "cell_type": "markdown",
   "metadata": {},
   "source": [
    "## Single link losses Analysis"
   ]
  },
  {
   "cell_type": "code",
   "execution_count": 2,
   "metadata": {},
   "outputs": [
    {
     "name": "stderr",
     "output_type": "stream",
     "text": [
      "2024-03-29 10:27:17 AM - [ra2ce_logging.py:41] - root - INFO - RA2CE logger initialized.\n",
      "2024-03-29 10:27:17 AM - [networks.py:186] - root - INFO - Apparently, you already did create a network with ra2ce earlier. Ra2ce will use this: data\\single_link_losses\\static\\output_graph\\base_graph.p\n",
      "2024-03-29 10:27:17 AM - [hazard_overlay.py:108] - root - INFO - Initialized hazard object.\n",
      "2024-03-29 10:27:17 AM - [hazard_overlay.py:696] - root - INFO - Iterating overlay of GeoPandas Dataframe.\n",
      "2024-03-29 10:27:17 AM - [hazard_overlay.py:734] - root - INFO - Setting 'base_network_hazard' graph.\n",
      "2024-03-29 10:27:17 AM - [hazard_intersect_builder_for_tif.py:183] - root - WARNING - Some geometries have NoneType objects (no coordinate information), namely: Empty GeoDataFrame\n",
      "Columns: [ID, link_type, avgspeed, geometry, node_A, node_B, edge_fid, length]\n",
      "Index: [].This could be due to segmentation, and might cause an exception in hazard overlay\n",
      "Network hazard overlay with Inundacion_Fluvial_tr100: 100%|██████████| 789/789 [00:07<00:00, 102.87it/s]\n",
      "Network fraction with hazard overlay with Inundacion_Fluvial_tr100: 100%|██████████| 789/789 [00:07<00:00, 112.24it/s]\n",
      "2024-03-29 10:27:32 AM - [indirect_analysis_runner.py:56] - root - INFO - ----------------------------- Started analyzing 'republic_dominican_redundancy'  -----------------------------\n",
      "2024-03-29 10:27:35 AM - [analysis_result_wrapper_exporter.py:81] - root - INFO - Results saved to: data\\single_link_losses\\output\\single_link_losses\\republic_dominican_redundancy.gpkg\n",
      "2024-03-29 10:27:35 AM - [indirect_analysis_runner.py:71] - root - INFO - ----------------------------- Analysis 'republic_dominican_redundancy' finished. Time: 2.74s  -----------------------------\n"
     ]
    },
    {
     "data": {
      "text/plain": [
       "[AnalysisResultWrapper(analysis_result=         ID            link_type  \\\n",
       " 0    1357.0           Regional-N   \n",
       " 1     790.0  Caminos Vecinales-S   \n",
       " 2    1470.0              Local-S   \n",
       " 3    1050.0           Regional-S   \n",
       " 4     934.0           Regional-S   \n",
       " ..      ...                  ...   \n",
       " 726     0.0           Regional-S   \n",
       " 727     0.0           Regional-S   \n",
       " 756     0.0              Local-S   \n",
       " 759     0.0              Local-S   \n",
       " 812     0.0  Caminos Vecinales-N   \n",
       " \n",
       "                                               geometry  diff_time  detour  \\\n",
       " 0    LINESTRING Z (-69.27096 18.48280 0.00000, -69....       0.19       1   \n",
       " 1    LINESTRING Z (-71.06260 18.32464 0.00000, -71....        NaN       0   \n",
       " 2    LINESTRING Z (-71.25666 18.39316 0.00000, -71....       0.11       1   \n",
       " 3    LINESTRING Z (-71.19405 18.24858 0.00000, -71....       0.32       1   \n",
       " 4    LINESTRING Z (-71.08824 18.08410 0.00000, -71....       1.54       1   \n",
       " ..                                                 ...        ...     ...   \n",
       " 726  LINESTRING Z (-71.20752 18.24914 0.00000, -71....       0.36       1   \n",
       " 727  LINESTRING Z (-71.20965 18.24900 0.00000, -71....       0.35       1   \n",
       " 756  LINESTRING Z (-71.16866 18.38792 0.00000, -71....       0.45       1   \n",
       " 759  LINESTRING Z (-71.18044 18.38464 0.00000, -71....       0.45       1   \n",
       " 812  LINESTRING Z (-71.17164 17.97607 0.00000, -71....        NaN       0   \n",
       " \n",
       "      EV1_ma  vlh_business_EV1_ma  vlh_commute_EV1_ma  vlh_freight_EV1_ma  \\\n",
       " 0       2.0                  0.0        3.353671e+03        5.575992e+04   \n",
       " 1       3.0                  0.0        9.165600e+05        2.520000e+05   \n",
       " 2       1.0                  0.0        1.634749e+04        8.900840e+04   \n",
       " 3       3.0                  0.0        1.604400e+07        8.735599e+07   \n",
       " 4       3.0                  0.0        7.721177e+07        4.204007e+08   \n",
       " ..      ...                  ...                 ...                 ...   \n",
       " 726     0.0                  0.0        0.000000e+00        0.000000e+00   \n",
       " 727     0.0                  0.0        0.000000e+00        0.000000e+00   \n",
       " 756     0.0                  0.0        0.000000e+00        0.000000e+00   \n",
       " 759     0.0                  0.0        0.000000e+00        0.000000e+00   \n",
       " 812     0.0                  0.0        0.000000e+00        0.000000e+00   \n",
       " \n",
       "      vlh_other_EV1_ma  vlh_EV1_ma_total  \n",
       " 0          666.551312      5.978015e+04  \n",
       " 1       135480.000000      1.304040e+06  \n",
       " 2          112.225476      1.054681e+05  \n",
       " 3       110142.055680      1.035101e+08  \n",
       " 4       530058.642960      4.981425e+08  \n",
       " ..                ...               ...  \n",
       " 726          0.000000      0.000000e+00  \n",
       " 727          0.000000      0.000000e+00  \n",
       " 756          0.000000      0.000000e+00  \n",
       " 759          0.000000      0.000000e+00  \n",
       " 812          0.000000      0.000000e+00  \n",
       " \n",
       " [787 rows x 11 columns], analysis=<ra2ce.analysis.indirect.losses.Losses object at 0x0000021EBE3D9F00>)]"
      ]
     },
     "execution_count": 2,
     "metadata": {},
     "output_type": "execute_result"
    }
   ],
   "source": [
    "root_dir = Path(\".\\\\data\\\\single_link_losses\")\n",
    "\n",
    "network_ini = root_dir / \"network.ini\"\n",
    "analysis_ini = root_dir / \"analysis.ini\"\n",
    "\n",
    "handler = Ra2ceHandler(network=network_ini, analysis=analysis_ini)\n",
    "criticality_analysis_weight = handler.input_config.analysis_config.config_data.indirect[0].weighing.config_value\n",
    "\n",
    "handler.configure()\n",
    "handler.run_analysis()"
   ]
  }
 ],
 "metadata": {
  "kernelspec": {
   "display_name": "ra2ce_env",
   "language": "python",
   "name": "python3"
  },
  "language_info": {
   "codemirror_mode": {
    "name": "ipython",
    "version": 3
   },
   "file_extension": ".py",
   "mimetype": "text/x-python",
   "name": "python",
   "nbconvert_exporter": "python",
   "pygments_lexer": "ipython3",
   "version": "3.10.13"
  }
 },
 "nbformat": 4,
 "nbformat_minor": 2
}
