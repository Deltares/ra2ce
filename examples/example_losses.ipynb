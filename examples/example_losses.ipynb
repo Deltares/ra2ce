{
 "cells": [
  {
   "attachments": {},
   "cell_type": "markdown",
   "metadata": {},
   "source": [
    "# RA2CE feature: Losses analysis"
   ]
  },
  {
   "cell_type": "code",
   "execution_count": 1,
   "metadata": {},
   "outputs": [
    {
     "name": "stderr",
     "output_type": "stream",
     "text": [
      "c:\\repos\\ra2ce\\.env\\lib\\site-packages\\tqdm\\auto.py:21: TqdmWarning: IProgress not found. Please update jupyter and ipywidgets. See https://ipywidgets.readthedocs.io/en/stable/user_install.html\n",
      "  from .autonotebook import tqdm as notebook_tqdm\n"
     ]
    }
   ],
   "source": [
    "import geopandas as gpd\n",
    "import matplotlib.pyplot as plt\n",
    "from pathlib import Path\n",
    "import numpy as np\n",
    "import rasterio\n",
    "from branca.colormap import LinearColormap\n",
    "import folium\n",
    "\n",
    "from ra2ce.ra2ce_handler import Ra2ceHandler #import the ra2cehandler to run ra2ce analyses\n",
    "\n",
    "root_dir = Path(\".\\\\data\\\\losses\")\n",
    "assert root_dir.exists(), \"root_dir not found.\"\n",
    "\n",
    "_network_ini_name = \"network.ini\" #set the name for the network.ini\n",
    "_analysis_ini_name = \"analysis.ini\" #set the name for the analysis.ini\n",
    "\n",
    "network_ini = root_dir / _network_ini_name\n",
    "assert network_ini.is_file()\n",
    "\n",
    "analysis_ini = root_dir / _analysis_ini_name\n",
    "assert analysis_ini.is_file()"
   ]
  },
  {
   "cell_type": "markdown",
   "metadata": {},
   "source": [
    "## Losses Analysis"
   ]
  },
  {
   "cell_type": "code",
   "execution_count": 2,
   "metadata": {},
   "outputs": [
    {
     "name": "stderr",
     "output_type": "stream",
     "text": [
      "2024-03-25 02:46:27 PM - [ra2ce_logging.py:41] - root - INFO - RA2CE logger initialized.\n"
     ]
    },
    {
     "name": "stderr",
     "output_type": "stream",
     "text": [
      "2024-03-25 02:46:27 PM - [networks.py:186] - root - INFO - Apparently, you already did create a network with ra2ce earlier. Ra2ce will use this: data\\losses\\static\\output_graph\\base_graph.p\n",
      "2024-03-25 02:46:27 PM - [hazard_overlay.py:108] - root - INFO - Initialized hazard object.\n",
      "2024-03-25 02:46:27 PM - [hazard_overlay.py:696] - root - INFO - Iterating overlay of GeoPandas Dataframe.\n",
      "2024-03-25 02:46:27 PM - [hazard_overlay.py:734] - root - INFO - Setting 'base_network_hazard' graph.\n",
      "2024-03-25 02:46:27 PM - [hazard_intersect_builder_for_tif.py:183] - root - WARNING - Some geometries have NoneType objects (no coordinate information), namely: Empty GeoDataFrame\n",
      "Columns: [ID, link_type, avgspeed, geometry, node_A, node_B, edge_fid, length]\n",
      "Index: [].This could be due to segmentation, and might cause an exception in hazard overlay\n",
      "Network hazard overlay with Inundacion_Fluvial_tr100: 100%|██████████| 789/789 [00:07<00:00, 101.11it/s]\n",
      "Network fraction with hazard overlay with Inundacion_Fluvial_tr100: 100%|██████████| 789/789 [00:06<00:00, 122.32it/s]\n",
      "2024-03-25 02:46:42 PM - [indirect_analysis_runner.py:56] - root - INFO - ----------------------------- Started analyzing 'republic_dominican_redundancy'  -----------------------------\n",
      "2024-03-25 02:46:59 PM - [analysis_result_wrapper_exporter.py:81] - root - INFO - Results saved to: data\\losses\\output\\single_link_losses\\republic_dominican_redundancy.gpkg\n",
      "2024-03-25 02:46:59 PM - [indirect_analysis_runner.py:71] - root - INFO - ----------------------------- Analysis 'republic_dominican_redundancy' finished. Time: 17.75s  -----------------------------\n"
     ]
    },
    {
     "data": {
      "text/plain": [
       "[AnalysisResultWrapper(analysis_result=                link_type                                           geometry  \\\n",
       " ID                                                                             \n",
       " 1265           Regional-S  LINESTRING Z (-69.01029 18.54348 0.00000, -69....   \n",
       " 880            Regional-S  LINESTRING Z (-71.15960 18.34779 0.00000, -71....   \n",
       " 1471              Local-S  LINESTRING Z (-71.16761 18.38816 0.00000, -71....   \n",
       " 1469              Local-S  LINESTRING Z (-71.20525 18.39360 0.00000, -71....   \n",
       " 1468              Local-S  LINESTRING Z (-71.18540 18.39548 0.00000, -71....   \n",
       " ...                   ...                                                ...   \n",
       " 763               Local-S  LINESTRING Z (-71.18546 18.39636 0.00000, -71....   \n",
       " 1027           Regional-S  LINESTRING Z (-70.52686 19.41015 0.00000, -70....   \n",
       " 5001           Regional-S  LINESTRING Z (-70.52414 19.39946 0.00000, -70....   \n",
       " 812   Caminos Vecinales-N  LINESTRING Z (-71.17164 17.97607 0.00000, -71....   \n",
       " 807   Caminos Vecinales-N  LINESTRING Z (-71.27736 18.10880 0.00000, -71....   \n",
       " \n",
       "       diff_time  detour  EV1_ma  vlh_business_EV1_ma  vlh_commute_EV1_ma  \\\n",
       " ID                                                                         \n",
       " 1265       0.83       1     0.0                  0.0        3.662562e+01   \n",
       " 880        0.44       1     0.0                  0.0        9.041725e+00   \n",
       " 1471       0.35       1     0.0                  0.0        2.737618e+01   \n",
       " 1469       0.38       1     0.0                  0.0        2.972271e+01   \n",
       " 1468       0.43       1     0.0                  0.0        3.363359e+01   \n",
       " ...         ...     ...     ...                  ...                 ...   \n",
       " 763        0.45       1     0.0                  0.0        1.833033e+01   \n",
       " 1027        NaN       0     0.0                  0.0        2.745499e+08   \n",
       " 5001       0.24       1     0.0                  0.0        6.497408e+01   \n",
       " 812         NaN       0     0.0                  0.0        9.165600e+05   \n",
       " 807         NaN       0     0.0                  0.0        9.165600e+05   \n",
       " \n",
       "       vlh_freight_EV1_ma  vlh_other_EV1_ma  vlh_EV1_ma_total  \n",
       " ID                                                            \n",
       " 1265        6.089571e+02      7.279442e+00      6.528621e+02  \n",
       " 880         1.785273e+02      1.378208e+00      1.889472e+02  \n",
       " 1471        1.490571e+02      1.879374e-01      1.766212e+02  \n",
       " 1469        1.618335e+02      2.040463e-01      1.917602e+02  \n",
       " 1468        1.831273e+02      2.308945e-01      2.169918e+02  \n",
       " ...                  ...               ...               ...  \n",
       " 763         3.177190e+02      4.228592e+00      3.402779e+02  \n",
       " 1027        7.913400e+07      8.128800e+07      4.349719e+08  \n",
       " 5001        1.080173e+03      1.288714e+01      1.158034e+03  \n",
       " 812         2.520000e+05      1.354800e+05      1.304040e+06  \n",
       " 807         2.520000e+05      1.354800e+05      1.304040e+06  \n",
       " \n",
       " [787 rows x 10 columns], analysis=<ra2ce.analysis.indirect.losses.Losses object at 0x000002A4A6ED2500>)]"
      ]
     },
     "execution_count": 2,
     "metadata": {},
     "output_type": "execute_result"
    }
   ],
   "source": [
    "handler = Ra2ceHandler(network=network_ini, analysis=analysis_ini)\n",
    "criticality_analysis_weight = handler.input_config.analysis_config.config_data.indirect[0].weighing.config_value\n",
    "\n",
    "handler.configure()\n",
    "handler.run_analysis()"
   ]
  },
  {
   "cell_type": "markdown",
   "metadata": {},
   "source": [
    "#### Introducing a hazardous event"
   ]
  },
  {
   "cell_type": "code",
   "execution_count": null,
   "metadata": {},
   "outputs": [],
   "source": [
    "hazard_folder = root_dir / \"static\" / \"hazard\" # find the hazard folder where you locate your floo dmap\n",
    "hazard_map = hazard_folder / \"Inundacion_Fluvial_tr1000.tif\" # set the location of the hazard map\n",
    "\n",
    "# Open the TIF file using rasterio\n",
    "with rasterio.open(hazard_map) as src:\n",
    "    # Read the TIF file as a numpy array\n",
    "    tif_array = src.read(1)  # Change the band index (1) if necessary\n",
    "\n",
    "plt.figure(figsize=(10, 10))\n",
    "plt.imshow(tif_array, cmap='Blues')  # Change the colormap if desired\n",
    "plt.colorbar(label='Pixel Values')\n",
    "plt.title('Flood map')\n",
    "plt.show()\n"
   ]
  },
  {
   "cell_type": "code",
   "execution_count": null,
   "metadata": {},
   "outputs": [],
   "source": [
    "# Show inundated links\n",
    "\n",
    "inundation_threshold = 0.5\n",
    "\n",
    "hazard_output = root_dir / \"static\" / \"output_graph\" / \"base_graph_hazard_edges.gpkg\"\n",
    "hazard_gdf = gpd.read_file(hazard_output, driver = \"GPKG\")\n",
    "\n",
    "# Create a colormap\n",
    "colormap = LinearColormap(['lightblue', 'blue', 'darkblue'], vmin=inundation_threshold, vmax=hazard_gdf['EV1_ma'].max(), caption='EV1_ma')\n",
    "\n",
    "center = [hazard_gdf['geometry'].centroid.y.mean(), hazard_gdf['geometry'].centroid.x.mean()]\n",
    "m = folium.Map(location=center, zoom_start=12, control_scale=True, tiles=\"cartodbpositron\")\n",
    "\n",
    "# Create two separate FeatureGroup layers\n",
    "gray_layer = folium.FeatureGroup(name='Unimpacted links', show=True)\n",
    "colored_layer = folium.FeatureGroup(name='Inundated links', overlay=True, control=False)\n",
    "\n",
    "# Add edges to the m\n",
    "for idx, row in hazard_gdf.iterrows():\n",
    "    color = 'gray' if (row['EV1_ma'] < inundation_threshold) or ('bridge' in row and row['bridge'] == 'yes') else colormap(row['EV1_ma'])\n",
    "    \n",
    "    # Extracting coordinates from LineString\n",
    "    coordinates = [(coord[1], coord[0]) for coord in row['geometry'].coords]\n",
    "\n",
    "    # Create a popup with data\n",
    "    popup_content = f\"<strong>Water height(m):</strong> {round(row['EV1_ma'], 1)}\"\n",
    "    popup = folium.Popup(popup_content, max_width=300)\n",
    "    \n",
    "    # Add PolyLine to the appropriate layer\n",
    "    folium.PolyLine(\n",
    "        locations=coordinates,\n",
    "        color=color,\n",
    "        weight=2,\n",
    "        opacity=1,\n",
    "        popup=popup\n",
    "    ).add_to(gray_layer if row['EV1_ma'] < inundation_threshold else colored_layer)\n",
    "\n",
    "# Add FeatureGroup layers to the m\n",
    "gray_layer.add_to(m)\n",
    "colored_layer.add_to(m)\n",
    "\n",
    "# Add colormap to the m\n",
    "colormap.add_to(m)\n",
    "\n",
    "# Add LayerControl to the m\n",
    "folium.LayerControl().add_to(m)\n",
    "\n",
    "# Display the m\n",
    "m"
   ]
  }
 ],
 "metadata": {
  "kernelspec": {
   "display_name": "ra2ce_env",
   "language": "python",
   "name": "python3"
  },
  "language_info": {
   "codemirror_mode": {
    "name": "ipython",
    "version": 3
   },
   "file_extension": ".py",
   "mimetype": "text/x-python",
   "name": "python",
   "nbconvert_exporter": "python",
   "pygments_lexer": "ipython3",
   "version": "3.10.13"
  }
 },
 "nbformat": 4,
 "nbformat_minor": 2
}
