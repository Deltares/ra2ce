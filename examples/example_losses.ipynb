{
 "cells": [
  {
   "attachments": {},
   "cell_type": "markdown",
   "metadata": {},
   "source": [
    "# RA2CE feature: Losses analysis"
   ]
  },
  {
   "cell_type": "code",
   "execution_count": 4,
   "metadata": {},
   "outputs": [],
   "source": [
    "from pathlib import Path\n",
    "import configparser\n",
    "from ra2ce.ra2ce_handler import Ra2ceHandler"
   ]
  },
  {
   "cell_type": "code",
   "execution_count": 11,
   "metadata": {},
   "outputs": [],
   "source": [
    "def modify_ini(init_path: Path, alternatives: dict):\n",
    "\n",
    "    config = configparser.ConfigParser()\n",
    "    # Read the existing configuration from the file\n",
    "    config.read(init_path)\n",
    "\n",
    "    config.set(\"analysis1\", \"traffic_intensities_file\", alternatives[\"traffic_intensities_file\"])\n",
    "    config.set(\"analysis1\", \"resilience_curve_file\", alternatives[\"resilience_curve_file\"])\n",
    "    config.set(\"analysis1\", \"values_of_time_file\", alternatives[\"values_of_time_file\"])\n",
    "\n",
    "    # Write the updated configuration back to the file\n",
    "    with open(init_path, \"w\") as config_file:\n",
    "        config.write(config_file)"
   ]
  },
  {
   "cell_type": "markdown",
   "metadata": {},
   "source": [
    "## Single link losses Analysis"
   ]
  },
  {
   "cell_type": "code",
   "execution_count": 12,
   "metadata": {},
   "outputs": [],
   "source": [
    "root_dir = Path(\".\\\\data\\\\single_link_losses\")\n",
    "root_dir_str = root_dir.absolute().as_posix()\n",
    "\n",
    "network_ini = root_dir / \"network.ini\"\n",
    "analysis_ini = root_dir / \"analysis.ini\""
   ]
  },
  {
   "cell_type": "code",
   "execution_count": 14,
   "metadata": {},
   "outputs": [],
   "source": [
    "alternatives = {\n",
    "    \"traffic_intensities_file\": root_dir_str + \"/input_analysis_data/traffic_intensities.csv\",\n",
    "    \"resilience_curve_file\": root_dir_str + \"/input_analysis_data/resilience_curve.csv\",\n",
    "    \"values_of_time_file\": root_dir_str + \"/input_analysis_data/values_of_time.csv\"\n",
    "}\n",
    "modify_ini(analysis_ini, alternatives)"
   ]
  },
  {
   "cell_type": "code",
   "execution_count": 9,
   "metadata": {},
   "outputs": [
    {
     "name": "stderr",
     "output_type": "stream",
     "text": [
      "2024-03-29 04:42:47 PM - [ra2ce_logging.py:41] - root - INFO - RA2CE logger initialized.\n",
      "2024-03-29 04:42:47 PM - [ra2ce_logging.py:41] - root - INFO - RA2CE logger initialized.\n"
     ]
    },
    {
     "name": "stderr",
     "output_type": "stream",
     "text": [
      "2024-03-29 04:42:47 PM - [networks.py:257] - root - INFO - Apparently, you already did create a network with ra2ce earlier. Ra2ce will use this: data\\single_link_losses\\static\\output_graph\\base_graph.p\n",
      "2024-03-29 04:42:47 PM - [networks.py:257] - root - INFO - Apparently, you already did create a network with ra2ce earlier. Ra2ce will use this: data\\single_link_losses\\static\\output_graph\\base_graph.p\n",
      "2024-03-29 04:42:47 PM - [hazard_overlay.py:108] - root - INFO - Initialized hazard object.\n",
      "2024-03-29 04:42:47 PM - [hazard_overlay.py:108] - root - INFO - Initialized hazard object.\n",
      "2024-03-29 04:42:47 PM - [hazard_overlay.py:696] - root - INFO - Iterating overlay of GeoPandas Dataframe.\n",
      "2024-03-29 04:42:47 PM - [hazard_overlay.py:696] - root - INFO - Iterating overlay of GeoPandas Dataframe.\n",
      "2024-03-29 04:42:47 PM - [hazard_overlay.py:734] - root - INFO - Setting 'base_network_hazard' graph.\n",
      "2024-03-29 04:42:47 PM - [hazard_overlay.py:734] - root - INFO - Setting 'base_network_hazard' graph.\n",
      "2024-03-29 04:42:47 PM - [hazard_intersect_builder_for_tif.py:183] - root - WARNING - Some geometries have NoneType objects (no coordinate information), namely: Empty GeoDataFrame\n",
      "Columns: [ID, link_type, avgspeed, geometry, node_A, node_B, edge_fid, length]\n",
      "Index: [].This could be due to segmentation, and might cause an exception in hazard overlay\n",
      "2024-03-29 04:42:47 PM - [hazard_intersect_builder_for_tif.py:183] - root - WARNING - Some geometries have NoneType objects (no coordinate information), namely: Empty GeoDataFrame\n",
      "Columns: [ID, link_type, avgspeed, geometry, node_A, node_B, edge_fid, length]\n",
      "Index: [].This could be due to segmentation, and might cause an exception in hazard overlay\n",
      "Network hazard overlay with Inundacion_Fluvial_tr100: 100%|██████████| 789/789 [00:07<00:00, 102.41it/s]\n",
      "Network fraction with hazard overlay with Inundacion_Fluvial_tr100: 100%|██████████| 789/789 [00:06<00:00, 113.96it/s]\n",
      "2024-03-29 04:43:02 PM - [losses.py:54] - root - WARNING - No `csv` file found at c:\\repos\\ra2ce\\examples\\data\\single_link_losses\\input_analysis_data\\traffic_intensities.csv.\n",
      "2024-03-29 04:43:02 PM - [losses.py:54] - root - WARNING - No `csv` file found at c:\\repos\\ra2ce\\examples\\data\\single_link_losses\\input_analysis_data\\traffic_intensities.csv.\n",
      "2024-03-29 04:43:02 PM - [losses.py:54] - root - WARNING - No `csv` file found at c:\\repos\\ra2ce\\examples\\data\\single_link_losses\\input_analysis_data\\resilience_curve.csv.\n",
      "2024-03-29 04:43:02 PM - [losses.py:54] - root - WARNING - No `csv` file found at c:\\repos\\ra2ce\\examples\\data\\single_link_losses\\input_analysis_data\\resilience_curve.csv.\n",
      "2024-03-29 04:43:02 PM - [losses.py:54] - root - WARNING - No `csv` file found at c:\\repos\\ra2ce\\examples\\data\\single_link_losses\\input_analysis_data\\values_of_time.csv.\n",
      "2024-03-29 04:43:02 PM - [losses.py:54] - root - WARNING - No `csv` file found at c:\\repos\\ra2ce\\examples\\data\\single_link_losses\\input_analysis_data\\values_of_time.csv.\n"
     ]
    },
    {
     "ename": "ValueError",
     "evalue": "Missing required columns in values_of_time: ['trip_types', 'value_of_time', 'occupants']",
     "output_type": "error",
     "traceback": [
      "\u001b[1;31m---------------------------------------------------------------------------\u001b[0m",
      "\u001b[1;31mValueError\u001b[0m                                Traceback (most recent call last)",
      "Cell \u001b[1;32mIn[9], line 4\u001b[0m\n\u001b[0;32m      1\u001b[0m handler \u001b[38;5;241m=\u001b[39m Ra2ceHandler(network\u001b[38;5;241m=\u001b[39mnetwork_ini, analysis\u001b[38;5;241m=\u001b[39manalysis_ini)\n\u001b[0;32m      3\u001b[0m handler\u001b[38;5;241m.\u001b[39mconfigure()\n\u001b[1;32m----> 4\u001b[0m \u001b[43mhandler\u001b[49m\u001b[38;5;241;43m.\u001b[39;49m\u001b[43mrun_analysis\u001b[49m\u001b[43m(\u001b[49m\u001b[43m)\u001b[49m\n",
      "File \u001b[1;32mC:\\repos\\ra2ce\\ra2ce\\ra2ce_handler.py:83\u001b[0m, in \u001b[0;36mRa2ceHandler.run_analysis\u001b[1;34m(self)\u001b[0m\n\u001b[0;32m     80\u001b[0m     \u001b[38;5;28;01mraise\u001b[39;00m \u001b[38;5;167;01mValueError\u001b[39;00m(_error)\n\u001b[0;32m     82\u001b[0m _runner \u001b[38;5;241m=\u001b[39m AnalysisRunnerFactory\u001b[38;5;241m.\u001b[39mget_runner(\u001b[38;5;28mself\u001b[39m\u001b[38;5;241m.\u001b[39minput_config)\n\u001b[1;32m---> 83\u001b[0m \u001b[38;5;28;01mreturn\u001b[39;00m \u001b[43m_runner\u001b[49m\u001b[38;5;241;43m.\u001b[39;49m\u001b[43mrun\u001b[49m\u001b[43m(\u001b[49m\u001b[38;5;28;43mself\u001b[39;49m\u001b[38;5;241;43m.\u001b[39;49m\u001b[43minput_config\u001b[49m\u001b[38;5;241;43m.\u001b[39;49m\u001b[43manalysis_config\u001b[49m\u001b[43m)\u001b[49m\n",
      "File \u001b[1;32mC:\\repos\\ra2ce\\ra2ce\\runners\\indirect_analysis_runner.py:51\u001b[0m, in \u001b[0;36mIndirectAnalysisRunner.run\u001b[1;34m(self, analysis_config)\u001b[0m\n\u001b[0;32m     48\u001b[0m \u001b[38;5;28;01mdef\u001b[39;00m \u001b[38;5;21mrun\u001b[39m(\n\u001b[0;32m     49\u001b[0m     \u001b[38;5;28mself\u001b[39m, analysis_config: AnalysisConfigWrapper\n\u001b[0;32m     50\u001b[0m ) \u001b[38;5;241m-\u001b[39m\u001b[38;5;241m>\u001b[39m \u001b[38;5;28mlist\u001b[39m[AnalysisResultWrapper]:\n\u001b[1;32m---> 51\u001b[0m     _analysis_collection \u001b[38;5;241m=\u001b[39m \u001b[43mAnalysisCollection\u001b[49m\u001b[38;5;241;43m.\u001b[39;49m\u001b[43mfrom_config\u001b[49m\u001b[43m(\u001b[49m\u001b[43manalysis_config\u001b[49m\u001b[43m)\u001b[49m\n\u001b[0;32m     52\u001b[0m     _results \u001b[38;5;241m=\u001b[39m []\n\u001b[0;32m     53\u001b[0m     \u001b[38;5;28;01mfor\u001b[39;00m analysis \u001b[38;5;129;01min\u001b[39;00m _analysis_collection\u001b[38;5;241m.\u001b[39mindirect_analyses:\n",
      "File \u001b[1;32mC:\\repos\\ra2ce\\ra2ce\\analysis\\analysis_collection.py:53\u001b[0m, in \u001b[0;36mAnalysisCollection.from_config\u001b[1;34m(cls, analysis_config)\u001b[0m\n\u001b[0;32m     37\u001b[0m \u001b[38;5;129m@classmethod\u001b[39m\n\u001b[0;32m     38\u001b[0m \u001b[38;5;28;01mdef\u001b[39;00m \u001b[38;5;21mfrom_config\u001b[39m(\u001b[38;5;28mcls\u001b[39m, analysis_config: AnalysisConfigWrapper) \u001b[38;5;241m-\u001b[39m\u001b[38;5;241m>\u001b[39m AnalysisCollection:\n\u001b[0;32m     39\u001b[0m \u001b[38;5;250m    \u001b[39m\u001b[38;5;124;03m\"\"\"\u001b[39;00m\n\u001b[0;32m     40\u001b[0m \u001b[38;5;124;03m    Create an AnalysisCollection from an AnalysisConfigWrapper.\u001b[39;00m\n\u001b[0;32m     41\u001b[0m \n\u001b[1;32m   (...)\u001b[0m\n\u001b[0;32m     46\u001b[0m \u001b[38;5;124;03m        AnalysisCollection: Collection of analyses to be executed.\u001b[39;00m\n\u001b[0;32m     47\u001b[0m \u001b[38;5;124;03m    \"\"\"\u001b[39;00m\n\u001b[0;32m     48\u001b[0m     \u001b[38;5;28;01mreturn\u001b[39;00m \u001b[38;5;28mcls\u001b[39m(\n\u001b[0;32m     49\u001b[0m         direct_analyses\u001b[38;5;241m=\u001b[39m[\n\u001b[0;32m     50\u001b[0m             AnalysisFactory\u001b[38;5;241m.\u001b[39mget_direct_analysis(analysis, analysis_config)\n\u001b[0;32m     51\u001b[0m             \u001b[38;5;28;01mfor\u001b[39;00m analysis \u001b[38;5;129;01min\u001b[39;00m analysis_config\u001b[38;5;241m.\u001b[39mconfig_data\u001b[38;5;241m.\u001b[39mdirect\n\u001b[0;32m     52\u001b[0m         ],\n\u001b[1;32m---> 53\u001b[0m         indirect_analyses\u001b[38;5;241m=\u001b[39m[\n\u001b[0;32m     54\u001b[0m             AnalysisFactory\u001b[38;5;241m.\u001b[39mget_indirect_analysis(analysis, analysis_config)\n\u001b[0;32m     55\u001b[0m             \u001b[38;5;28;01mfor\u001b[39;00m analysis \u001b[38;5;129;01min\u001b[39;00m analysis_config\u001b[38;5;241m.\u001b[39mconfig_data\u001b[38;5;241m.\u001b[39mindirect\n\u001b[0;32m     56\u001b[0m         ],\n\u001b[0;32m     57\u001b[0m     )\n",
      "File \u001b[1;32mC:\\repos\\ra2ce\\ra2ce\\analysis\\analysis_collection.py:54\u001b[0m, in \u001b[0;36m<listcomp>\u001b[1;34m(.0)\u001b[0m\n\u001b[0;32m     37\u001b[0m \u001b[38;5;129m@classmethod\u001b[39m\n\u001b[0;32m     38\u001b[0m \u001b[38;5;28;01mdef\u001b[39;00m \u001b[38;5;21mfrom_config\u001b[39m(\u001b[38;5;28mcls\u001b[39m, analysis_config: AnalysisConfigWrapper) \u001b[38;5;241m-\u001b[39m\u001b[38;5;241m>\u001b[39m AnalysisCollection:\n\u001b[0;32m     39\u001b[0m \u001b[38;5;250m    \u001b[39m\u001b[38;5;124;03m\"\"\"\u001b[39;00m\n\u001b[0;32m     40\u001b[0m \u001b[38;5;124;03m    Create an AnalysisCollection from an AnalysisConfigWrapper.\u001b[39;00m\n\u001b[0;32m     41\u001b[0m \n\u001b[1;32m   (...)\u001b[0m\n\u001b[0;32m     46\u001b[0m \u001b[38;5;124;03m        AnalysisCollection: Collection of analyses to be executed.\u001b[39;00m\n\u001b[0;32m     47\u001b[0m \u001b[38;5;124;03m    \"\"\"\u001b[39;00m\n\u001b[0;32m     48\u001b[0m     \u001b[38;5;28;01mreturn\u001b[39;00m \u001b[38;5;28mcls\u001b[39m(\n\u001b[0;32m     49\u001b[0m         direct_analyses\u001b[38;5;241m=\u001b[39m[\n\u001b[0;32m     50\u001b[0m             AnalysisFactory\u001b[38;5;241m.\u001b[39mget_direct_analysis(analysis, analysis_config)\n\u001b[0;32m     51\u001b[0m             \u001b[38;5;28;01mfor\u001b[39;00m analysis \u001b[38;5;129;01min\u001b[39;00m analysis_config\u001b[38;5;241m.\u001b[39mconfig_data\u001b[38;5;241m.\u001b[39mdirect\n\u001b[0;32m     52\u001b[0m         ],\n\u001b[0;32m     53\u001b[0m         indirect_analyses\u001b[38;5;241m=\u001b[39m[\n\u001b[1;32m---> 54\u001b[0m             \u001b[43mAnalysisFactory\u001b[49m\u001b[38;5;241;43m.\u001b[39;49m\u001b[43mget_indirect_analysis\u001b[49m\u001b[43m(\u001b[49m\u001b[43manalysis\u001b[49m\u001b[43m,\u001b[49m\u001b[43m \u001b[49m\u001b[43manalysis_config\u001b[49m\u001b[43m)\u001b[49m\n\u001b[0;32m     55\u001b[0m             \u001b[38;5;28;01mfor\u001b[39;00m analysis \u001b[38;5;129;01min\u001b[39;00m analysis_config\u001b[38;5;241m.\u001b[39mconfig_data\u001b[38;5;241m.\u001b[39mindirect\n\u001b[0;32m     56\u001b[0m         ],\n\u001b[0;32m     57\u001b[0m     )\n",
      "File \u001b[1;32mC:\\repos\\ra2ce\\ra2ce\\analysis\\analysis_factory.py:162\u001b[0m, in \u001b[0;36mAnalysisFactory.get_indirect_analysis\u001b[1;34m(analysis, analysis_config)\u001b[0m\n\u001b[0;32m    155\u001b[0m \u001b[38;5;28;01mif\u001b[39;00m analysis\u001b[38;5;241m.\u001b[39manalysis \u001b[38;5;241m==\u001b[39m AnalysisIndirectEnum\u001b[38;5;241m.\u001b[39mSINGLE_LINK_LOSSES:\n\u001b[0;32m    156\u001b[0m     _analysis_input \u001b[38;5;241m=\u001b[39m AnalysisInputWrapper\u001b[38;5;241m.\u001b[39mfrom_input(\n\u001b[0;32m    157\u001b[0m         analysis\u001b[38;5;241m=\u001b[39manalysis,\n\u001b[0;32m    158\u001b[0m         analysis_config\u001b[38;5;241m=\u001b[39manalysis_config,\n\u001b[0;32m    159\u001b[0m         graph_file\u001b[38;5;241m=\u001b[39manalysis_config\u001b[38;5;241m.\u001b[39mgraph_files\u001b[38;5;241m.\u001b[39mbase_graph_hazard,\n\u001b[0;32m    160\u001b[0m         graph_file_hazard\u001b[38;5;241m=\u001b[39manalysis_config\u001b[38;5;241m.\u001b[39mgraph_files\u001b[38;5;241m.\u001b[39mbase_graph_hazard,\n\u001b[0;32m    161\u001b[0m     )\n\u001b[1;32m--> 162\u001b[0m     \u001b[38;5;28;01mreturn\u001b[39;00m \u001b[43mLosses\u001b[49m\u001b[43m(\u001b[49m\u001b[43m_analysis_input\u001b[49m\u001b[43m,\u001b[49m\u001b[43m \u001b[49m\u001b[43manalysis_config\u001b[49m\u001b[43m)\u001b[49m\n\u001b[0;32m    163\u001b[0m \u001b[38;5;28;01mif\u001b[39;00m analysis\u001b[38;5;241m.\u001b[39manalysis \u001b[38;5;241m==\u001b[39m AnalysisIndirectEnum\u001b[38;5;241m.\u001b[39mMULTI_LINK_LOSSES:\n\u001b[0;32m    164\u001b[0m     _analysis_input \u001b[38;5;241m=\u001b[39m AnalysisInputWrapper\u001b[38;5;241m.\u001b[39mfrom_input(\n\u001b[0;32m    165\u001b[0m         analysis\u001b[38;5;241m=\u001b[39manalysis,\n\u001b[0;32m    166\u001b[0m         analysis_config\u001b[38;5;241m=\u001b[39manalysis_config,\n\u001b[0;32m    167\u001b[0m         graph_file_hazard\u001b[38;5;241m=\u001b[39manalysis_config\u001b[38;5;241m.\u001b[39mgraph_files\u001b[38;5;241m.\u001b[39mbase_graph_hazard,\n\u001b[0;32m    168\u001b[0m     )\n",
      "File \u001b[1;32mC:\\repos\\ra2ce\\ra2ce\\analysis\\indirect\\losses.py:104\u001b[0m, in \u001b[0;36mLosses.__init__\u001b[1;34m(self, analysis_input, analysis_config)\u001b[0m\n\u001b[0;32m     99\u001b[0m \u001b[38;5;28mself\u001b[39m\u001b[38;5;241m.\u001b[39mresilience_curve \u001b[38;5;241m=\u001b[39m _load_df_from_csv(Path(\u001b[38;5;28mself\u001b[39m\u001b[38;5;241m.\u001b[39manalysis\u001b[38;5;241m.\u001b[39mresilience_curve_file),\n\u001b[0;32m    100\u001b[0m                                           [\u001b[38;5;124m\"\u001b[39m\u001b[38;5;124mduration_steps\u001b[39m\u001b[38;5;124m\"\u001b[39m,\n\u001b[0;32m    101\u001b[0m                                            \u001b[38;5;124m\"\u001b[39m\u001b[38;5;124mfunctionality_loss_ratio\u001b[39m\u001b[38;5;124m\"\u001b[39m], \u001b[38;5;28;01mNone\u001b[39;00m, sep\u001b[38;5;241m=\u001b[39m\u001b[38;5;124m\"\u001b[39m\u001b[38;5;124m;\u001b[39m\u001b[38;5;124m\"\u001b[39m\n\u001b[0;32m    102\u001b[0m                                           )\n\u001b[0;32m    103\u001b[0m \u001b[38;5;28mself\u001b[39m\u001b[38;5;241m.\u001b[39mvalues_of_time \u001b[38;5;241m=\u001b[39m _load_df_from_csv(Path(\u001b[38;5;28mself\u001b[39m\u001b[38;5;241m.\u001b[39manalysis\u001b[38;5;241m.\u001b[39mvalues_of_time_file), [], \u001b[38;5;28;01mNone\u001b[39;00m, sep\u001b[38;5;241m=\u001b[39m\u001b[38;5;124m\"\u001b[39m\u001b[38;5;124m;\u001b[39m\u001b[38;5;124m\"\u001b[39m)\n\u001b[1;32m--> 104\u001b[0m \u001b[38;5;28;43mself\u001b[39;49m\u001b[38;5;241;43m.\u001b[39;49m\u001b[43m_check_validity_df\u001b[49m\u001b[43m(\u001b[49m\u001b[43m)\u001b[49m\n\u001b[0;32m    105\u001b[0m \u001b[38;5;28mself\u001b[39m\u001b[38;5;241m.\u001b[39mvot_intensity_per_trip_collection \u001b[38;5;241m=\u001b[39m \u001b[38;5;28mself\u001b[39m\u001b[38;5;241m.\u001b[39m_get_vot_intensity_per_trip_purpose()\n\u001b[0;32m    108\u001b[0m \u001b[38;5;28mself\u001b[39m\u001b[38;5;241m.\u001b[39minput_path \u001b[38;5;241m=\u001b[39m \u001b[38;5;28mself\u001b[39m\u001b[38;5;241m.\u001b[39manalysis_input\u001b[38;5;241m.\u001b[39minput_path\n",
      "File \u001b[1;32mC:\\repos\\ra2ce\\ra2ce\\analysis\\indirect\\losses.py:129\u001b[0m, in \u001b[0;36mLosses._check_validity_df\u001b[1;34m(self)\u001b[0m\n\u001b[0;32m    127\u001b[0m _required_values_of_time_keys \u001b[38;5;241m=\u001b[39m [\u001b[38;5;124m\"\u001b[39m\u001b[38;5;124mtrip_types\u001b[39m\u001b[38;5;124m\"\u001b[39m, \u001b[38;5;124m\"\u001b[39m\u001b[38;5;124mvalue_of_time\u001b[39m\u001b[38;5;124m\"\u001b[39m, \u001b[38;5;124m\"\u001b[39m\u001b[38;5;124moccupants\u001b[39m\u001b[38;5;124m\"\u001b[39m]\n\u001b[0;32m    128\u001b[0m \u001b[38;5;28;01mif\u001b[39;00m \u001b[38;5;129;01mnot\u001b[39;00m \u001b[38;5;28mall\u001b[39m(key \u001b[38;5;129;01min\u001b[39;00m \u001b[38;5;28mself\u001b[39m\u001b[38;5;241m.\u001b[39mvalues_of_time\u001b[38;5;241m.\u001b[39mcolumns \u001b[38;5;28;01mfor\u001b[39;00m key \u001b[38;5;129;01min\u001b[39;00m _required_values_of_time_keys):\n\u001b[1;32m--> 129\u001b[0m     \u001b[38;5;28;01mraise\u001b[39;00m \u001b[38;5;167;01mValueError\u001b[39;00m(\u001b[38;5;124mf\u001b[39m\u001b[38;5;124m\"\u001b[39m\u001b[38;5;124mMissing required columns in values_of_time: \u001b[39m\u001b[38;5;132;01m{\u001b[39;00m_required_values_of_time_keys\u001b[38;5;132;01m}\u001b[39;00m\u001b[38;5;124m\"\u001b[39m)\n\u001b[0;32m    131\u001b[0m _required_resilience_curve_keys \u001b[38;5;241m=\u001b[39m [\u001b[38;5;124m\"\u001b[39m\u001b[38;5;124mlink_type_hazard_intensity\u001b[39m\u001b[38;5;124m\"\u001b[39m, \u001b[38;5;124m\"\u001b[39m\u001b[38;5;124mduration_steps\u001b[39m\u001b[38;5;124m\"\u001b[39m, \u001b[38;5;124m\"\u001b[39m\u001b[38;5;124mfunctionality_loss_ratio\u001b[39m\u001b[38;5;124m\"\u001b[39m]\n\u001b[0;32m    132\u001b[0m \u001b[38;5;28;01mif\u001b[39;00m \u001b[38;5;28mlen\u001b[39m(\u001b[38;5;28mself\u001b[39m\u001b[38;5;241m.\u001b[39mresilience_curve) \u001b[38;5;241m>\u001b[39m \u001b[38;5;241m0\u001b[39m \u001b[38;5;129;01mand\u001b[39;00m \u001b[38;5;129;01mnot\u001b[39;00m \u001b[38;5;28mall\u001b[39m(\n\u001b[0;32m    133\u001b[0m         key \u001b[38;5;129;01min\u001b[39;00m \u001b[38;5;28mself\u001b[39m\u001b[38;5;241m.\u001b[39mresilience_curve\u001b[38;5;241m.\u001b[39mcolumns \u001b[38;5;28;01mfor\u001b[39;00m key \u001b[38;5;129;01min\u001b[39;00m _required_resilience_curve_keys):\n",
      "\u001b[1;31mValueError\u001b[0m: Missing required columns in values_of_time: ['trip_types', 'value_of_time', 'occupants']"
     ]
    }
   ],
   "source": [
    "handler = Ra2ceHandler(network=network_ini, analysis=analysis_ini)\n",
    "\n",
    "handler.configure()\n",
    "handler.run_analysis()"
   ]
  },
  {
   "cell_type": "code",
   "execution_count": 15,
   "metadata": {},
   "outputs": [],
   "source": [
    "reset = {\n",
    "    \"traffic_intensities_file\": \"None\",\n",
    "    \"resilience_curve_file\": \"None\",\n",
    "    \"values_of_time_file\": \"None\"\n",
    "}\n",
    "modify_ini(analysis_ini, reset)"
   ]
  },
  {
   "cell_type": "markdown",
   "metadata": {},
   "source": [
    "## Multi-link losses Analysis"
   ]
  },
  {
   "cell_type": "code",
   "execution_count": null,
   "metadata": {},
   "outputs": [],
   "source": [
    "root_dir_multi = Path(\".\\\\data\\\\multi_link_losses\")\n",
    "root_dir_str_multi = root_dir_multi.absolute().as_posix()\n",
    "\n",
    "network_ini_multi = root_dir_multi / \"network.ini\"\n",
    "analysis_ini_multi = root_dir_multi / \"analysis.ini\""
   ]
  },
  {
   "cell_type": "code",
   "execution_count": null,
   "metadata": {},
   "outputs": [],
   "source": [
    "alternatives = {\n",
    "    \"traffic_intensities_file\": \"None\",\n",
    "    \"resilience_curve_file\": \"None\",\n",
    "    \"values_of_time_file\": \"None\"\n",
    "}\n",
    "modify_ini(analysis_ini_multi, root_dir_str_multi)"
   ]
  },
  {
   "cell_type": "code",
   "execution_count": null,
   "metadata": {},
   "outputs": [],
   "source": [
    "handler_multi = Ra2ceHandler(network=network_ini_multi, analysis=analysis_ini_multi)\n",
    "\n",
    "handler_multi.configure()\n",
    "handler_multi.run_analysis()"
   ]
  },
  {
   "cell_type": "code",
   "execution_count": null,
   "metadata": {},
   "outputs": [],
   "source": [
    "reset = {\n",
    "    \"traffic_intensities_file\": \"None\",\n",
    "    \"resilience_curve_file\": \"None\",\n",
    "    \"values_of_time_file\": \"None\"\n",
    "}\n",
    "modify_ini(analysis_ini, reset)"
   ]
  }
 ],
 "metadata": {
  "kernelspec": {
   "display_name": "ra2ce_env",
   "language": "python",
   "name": "python3"
  },
  "language_info": {
   "codemirror_mode": {
    "name": "ipython",
    "version": 3
   },
   "file_extension": ".py",
   "mimetype": "text/x-python",
   "name": "python",
   "nbconvert_exporter": "python",
   "pygments_lexer": "ipython3",
   "version": "3.10.13"
  }
 },
 "nbformat": 4,
 "nbformat_minor": 2
}
