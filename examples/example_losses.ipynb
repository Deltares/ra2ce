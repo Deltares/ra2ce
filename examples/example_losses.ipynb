{
 "cells": [
  {
   "attachments": {},
   "cell_type": "markdown",
   "metadata": {},
   "source": [
    "# RA2CE feature: Losses analysis"
   ]
  },
  {
   "cell_type": "code",
   "execution_count": 22,
   "metadata": {},
   "outputs": [],
   "source": [
    "import geopandas as gpd\n",
    "import matplotlib.pyplot as plt\n",
    "from pathlib import Path\n",
    "import numpy as np\n",
    "import rasterio\n",
    "from branca.colormap import LinearColormap\n",
    "import folium\n",
    "import configparser\n",
    "from ra2ce.ra2ce_handler import Ra2ceHandler #import the ra2cehandler to run ra2ce analyses"
   ]
  },
  {
   "cell_type": "markdown",
   "metadata": {},
   "source": [
    "## Single link losses Analysis"
   ]
  },
  {
   "cell_type": "code",
   "execution_count": 23,
   "metadata": {},
   "outputs": [],
   "source": [
    "root_dir = Path(\".\\\\data\\\\single_link_losses\")\n",
    "root_dir_str = root_dir.absolute().as_posix()\n",
    "\n",
    "network_ini = root_dir / \"network.ini\"\n",
    "analysis_ini = root_dir / \"analysis.ini\""
   ]
  },
  {
   "cell_type": "code",
   "execution_count": 18,
   "metadata": {},
   "outputs": [],
   "source": [
    "def modify_ini(init_path: Path):\n",
    "    \"\"\"Write into network.ini the selected road types for the network\"\"\"\n",
    "\n",
    "    config = configparser.ConfigParser()\n",
    "    # Read the existing configuration from the file\n",
    "    config.read(init_path)\n",
    "\n",
    "    config.set(\"analysis1\", \"traffic_intensities_file\", root_dir_str + \"/input_analysis_data/traffic_intensities.csv\")\n",
    "    config.set(\"analysis1\", \"resilience_curve_file\", root_dir_str + \"/input_analysis_data/resilience_curve.csv\")\n",
    "    config.set(\"analysis1\", \"values_of_time_file\", root_dir_str + \"/input_analysis_data/values_of_time.csv\")\n",
    "\n",
    "    # Write the updated configuration back to the file\n",
    "    with open(analysis_ini, \"w\") as config_file:\n",
    "        config.write(config_file)\n",
    "\n",
    "modify_ini(analysis_ini)"
   ]
  },
  {
   "cell_type": "code",
   "execution_count": 21,
   "metadata": {},
   "outputs": [
    {
     "name": "stderr",
     "output_type": "stream",
     "text": [
      "2024-03-29 03:46:16 PM - [ra2ce_logging.py:41] - root - INFO - RA2CE logger initialized.\n",
      "2024-03-29 03:46:16 PM - [ra2ce_logging.py:41] - root - INFO - RA2CE logger initialized.\n",
      "2024-03-29 03:46:16 PM - [ra2ce_logging.py:41] - root - INFO - RA2CE logger initialized.\n",
      "2024-03-29 03:46:16 PM - [ra2ce_logging.py:41] - root - INFO - RA2CE logger initialized.\n",
      "2024-03-29 03:46:16 PM - [ra2ce_logging.py:41] - root - INFO - RA2CE logger initialized.\n",
      "2024-03-29 03:46:16 PM - [networks.py:257] - root - INFO - Apparently, you already did create a network with ra2ce earlier. Ra2ce will use this: data\\single_link_losses\\static\\output_graph\\base_graph.p\n",
      "2024-03-29 03:46:16 PM - [networks.py:257] - root - INFO - Apparently, you already did create a network with ra2ce earlier. Ra2ce will use this: data\\single_link_losses\\static\\output_graph\\base_graph.p\n",
      "2024-03-29 03:46:16 PM - [networks.py:257] - root - INFO - Apparently, you already did create a network with ra2ce earlier. Ra2ce will use this: data\\single_link_losses\\static\\output_graph\\base_graph.p\n",
      "2024-03-29 03:46:16 PM - [networks.py:257] - root - INFO - Apparently, you already did create a network with ra2ce earlier. Ra2ce will use this: data\\single_link_losses\\static\\output_graph\\base_graph.p\n",
      "2024-03-29 03:46:16 PM - [networks.py:257] - root - INFO - Apparently, you already did create a network with ra2ce earlier. Ra2ce will use this: data\\single_link_losses\\static\\output_graph\\base_graph.p\n",
      "2024-03-29 03:46:16 PM - [hazard_overlay.py:108] - root - INFO - Initialized hazard object.\n",
      "2024-03-29 03:46:16 PM - [hazard_overlay.py:108] - root - INFO - Initialized hazard object.\n",
      "2024-03-29 03:46:16 PM - [hazard_overlay.py:108] - root - INFO - Initialized hazard object.\n",
      "2024-03-29 03:46:16 PM - [hazard_overlay.py:108] - root - INFO - Initialized hazard object.\n",
      "2024-03-29 03:46:16 PM - [hazard_overlay.py:108] - root - INFO - Initialized hazard object.\n",
      "2024-03-29 03:46:16 PM - [hazard_overlay.py:696] - root - INFO - Iterating overlay of GeoPandas Dataframe.\n",
      "2024-03-29 03:46:16 PM - [hazard_overlay.py:696] - root - INFO - Iterating overlay of GeoPandas Dataframe.\n",
      "2024-03-29 03:46:16 PM - [hazard_overlay.py:696] - root - INFO - Iterating overlay of GeoPandas Dataframe.\n",
      "2024-03-29 03:46:16 PM - [hazard_overlay.py:696] - root - INFO - Iterating overlay of GeoPandas Dataframe.\n",
      "2024-03-29 03:46:16 PM - [hazard_overlay.py:696] - root - INFO - Iterating overlay of GeoPandas Dataframe.\n",
      "2024-03-29 03:46:16 PM - [hazard_overlay.py:734] - root - INFO - Setting 'base_network_hazard' graph.\n",
      "2024-03-29 03:46:16 PM - [hazard_overlay.py:734] - root - INFO - Setting 'base_network_hazard' graph.\n",
      "2024-03-29 03:46:16 PM - [hazard_overlay.py:734] - root - INFO - Setting 'base_network_hazard' graph.\n",
      "2024-03-29 03:46:16 PM - [hazard_overlay.py:734] - root - INFO - Setting 'base_network_hazard' graph.\n",
      "2024-03-29 03:46:16 PM - [hazard_overlay.py:734] - root - INFO - Setting 'base_network_hazard' graph.\n",
      "2024-03-29 03:46:16 PM - [hazard_intersect_builder_for_tif.py:183] - root - WARNING - Some geometries have NoneType objects (no coordinate information), namely: Empty GeoDataFrame\n",
      "Columns: [ID, link_type, avgspeed, geometry, node_A, node_B, edge_fid, length]\n",
      "Index: [].This could be due to segmentation, and might cause an exception in hazard overlay\n",
      "2024-03-29 03:46:16 PM - [hazard_intersect_builder_for_tif.py:183] - root - WARNING - Some geometries have NoneType objects (no coordinate information), namely: Empty GeoDataFrame\n",
      "Columns: [ID, link_type, avgspeed, geometry, node_A, node_B, edge_fid, length]\n",
      "Index: [].This could be due to segmentation, and might cause an exception in hazard overlay\n",
      "2024-03-29 03:46:16 PM - [hazard_intersect_builder_for_tif.py:183] - root - WARNING - Some geometries have NoneType objects (no coordinate information), namely: Empty GeoDataFrame\n",
      "Columns: [ID, link_type, avgspeed, geometry, node_A, node_B, edge_fid, length]\n",
      "Index: [].This could be due to segmentation, and might cause an exception in hazard overlay\n",
      "2024-03-29 03:46:16 PM - [hazard_intersect_builder_for_tif.py:183] - root - WARNING - Some geometries have NoneType objects (no coordinate information), namely: Empty GeoDataFrame\n",
      "Columns: [ID, link_type, avgspeed, geometry, node_A, node_B, edge_fid, length]\n",
      "Index: [].This could be due to segmentation, and might cause an exception in hazard overlay\n",
      "2024-03-29 03:46:16 PM - [hazard_intersect_builder_for_tif.py:183] - root - WARNING - Some geometries have NoneType objects (no coordinate information), namely: Empty GeoDataFrame\n",
      "Columns: [ID, link_type, avgspeed, geometry, node_A, node_B, edge_fid, length]\n",
      "Index: [].This could be due to segmentation, and might cause an exception in hazard overlay\n",
      "Network hazard overlay with Inundacion_Fluvial_tr100: 100%|██████████| 789/789 [00:09<00:00, 87.13it/s] \n",
      "Network fraction with hazard overlay with Inundacion_Fluvial_tr100: 100%|██████████| 789/789 [00:10<00:00, 78.08it/s]\n",
      "2024-03-29 03:46:40 PM - [indirect_analysis_runner.py:54] - root - INFO - ----------------------------- Started analyzing 'republic_dominican_redundancy'  -----------------------------\n",
      "2024-03-29 03:46:40 PM - [indirect_analysis_runner.py:54] - root - INFO - ----------------------------- Started analyzing 'republic_dominican_redundancy'  -----------------------------\n",
      "2024-03-29 03:46:40 PM - [indirect_analysis_runner.py:54] - root - INFO - ----------------------------- Started analyzing 'republic_dominican_redundancy'  -----------------------------\n",
      "2024-03-29 03:46:40 PM - [indirect_analysis_runner.py:54] - root - INFO - ----------------------------- Started analyzing 'republic_dominican_redundancy'  -----------------------------\n",
      "2024-03-29 03:46:40 PM - [indirect_analysis_runner.py:54] - root - INFO - ----------------------------- Started analyzing 'republic_dominican_redundancy'  -----------------------------\n"
     ]
    },
    {
     "name": "stdout",
     "output_type": "stream",
     "text": [
      "Unexpected exception formatting exception. Falling back to standard exception\n"
     ]
    },
    {
     "name": "stderr",
     "output_type": "stream",
     "text": [
      "Traceback (most recent call last):\n",
      "  File \"c:\\repos\\ra2ce\\.env\\lib\\site-packages\\IPython\\core\\interactiveshell.py\", line 3548, in run_code\n",
      "    exec(code_obj, self.user_global_ns, self.user_ns)\n",
      "  File \"C:\\Users\\asgarpou\\AppData\\Local\\Temp\\ipykernel_19436\\881889018.py\", line 4, in <module>\n",
      "    handler.run_analysis()\n",
      "  File \"C:\\repos\\ra2ce\\ra2ce\\ra2ce_handler.py\", line 83, in run_analysis\n",
      "    return _runner.run(self.input_config.analysis_config)\n",
      "  File \"C:\\repos\\ra2ce\\ra2ce\\runners\\indirect_analysis_runner.py\", line 60, in run\n",
      "    _result = analysis.execute()\n",
      "  File \"C:\\repos\\ra2ce\\ra2ce\\analysis\\indirect\\losses.py\", line 391, in execute\n",
      "  File \"C:\\repos\\ra2ce\\ra2ce\\analysis\\indirect\\losses.py\", line 250, in calculate_vehicle_loss_hours\n",
      "    row_performance_change = performance_change.loc[vlh_row[self.link_id]]\n",
      "NameError: name 'x' is not defined\n",
      "\n",
      "During handling of the above exception, another exception occurred:\n",
      "\n",
      "Traceback (most recent call last):\n",
      "  File \"c:\\repos\\ra2ce\\.env\\lib\\site-packages\\IPython\\core\\interactiveshell.py\", line 2142, in showtraceback\n",
      "    stb = self.InteractiveTB.structured_traceback(\n",
      "  File \"c:\\repos\\ra2ce\\.env\\lib\\site-packages\\IPython\\core\\ultratb.py\", line 1435, in structured_traceback\n",
      "    return FormattedTB.structured_traceback(\n",
      "  File \"c:\\repos\\ra2ce\\.env\\lib\\site-packages\\IPython\\core\\ultratb.py\", line 1326, in structured_traceback\n",
      "    return VerboseTB.structured_traceback(\n",
      "  File \"c:\\repos\\ra2ce\\.env\\lib\\site-packages\\IPython\\core\\ultratb.py\", line 1173, in structured_traceback\n",
      "    formatted_exception = self.format_exception_as_a_whole(etype, evalue, etb, number_of_lines_of_context,\n",
      "  File \"c:\\repos\\ra2ce\\.env\\lib\\site-packages\\IPython\\core\\ultratb.py\", line 1088, in format_exception_as_a_whole\n",
      "    frames.append(self.format_record(record))\n",
      "  File \"c:\\repos\\ra2ce\\.env\\lib\\site-packages\\IPython\\core\\ultratb.py\", line 970, in format_record\n",
      "    frame_info.lines, Colors, self.has_colors, lvals\n",
      "  File \"c:\\repos\\ra2ce\\.env\\lib\\site-packages\\IPython\\core\\ultratb.py\", line 792, in lines\n",
      "    return self._sd.lines\n",
      "  File \"c:\\repos\\ra2ce\\.env\\lib\\site-packages\\stack_data\\utils.py\", line 145, in cached_property_wrapper\n",
      "    value = obj.__dict__[self.func.__name__] = self.func(obj)\n",
      "  File \"c:\\repos\\ra2ce\\.env\\lib\\site-packages\\stack_data\\core.py\", line 734, in lines\n",
      "    pieces = self.included_pieces\n",
      "  File \"c:\\repos\\ra2ce\\.env\\lib\\site-packages\\stack_data\\utils.py\", line 145, in cached_property_wrapper\n",
      "    value = obj.__dict__[self.func.__name__] = self.func(obj)\n",
      "  File \"c:\\repos\\ra2ce\\.env\\lib\\site-packages\\stack_data\\core.py\", line 681, in included_pieces\n",
      "    pos = scope_pieces.index(self.executing_piece)\n",
      "  File \"c:\\repos\\ra2ce\\.env\\lib\\site-packages\\stack_data\\utils.py\", line 145, in cached_property_wrapper\n",
      "    value = obj.__dict__[self.func.__name__] = self.func(obj)\n",
      "  File \"c:\\repos\\ra2ce\\.env\\lib\\site-packages\\stack_data\\core.py\", line 660, in executing_piece\n",
      "    return only(\n",
      "  File \"c:\\repos\\ra2ce\\.env\\lib\\site-packages\\executing\\executing.py\", line 116, in only\n",
      "    raise NotOneValueFound('Expected one value, found 0')\n",
      "executing.executing.NotOneValueFound: Expected one value, found 0\n"
     ]
    }
   ],
   "source": [
    "handler = Ra2ceHandler(network=network_ini, analysis=analysis_ini)\n",
    "\n",
    "handler.configure()\n",
    "handler.run_analysis()"
   ]
  }
 ],
 "metadata": {
  "kernelspec": {
   "display_name": "ra2ce_env",
   "language": "python",
   "name": "python3"
  },
  "language_info": {
   "codemirror_mode": {
    "name": "ipython",
    "version": 3
   },
   "file_extension": ".py",
   "mimetype": "text/x-python",
   "name": "python",
   "nbconvert_exporter": "python",
   "pygments_lexer": "ipython3",
   "version": "3.10.13"
  }
 },
 "nbformat": 4,
 "nbformat_minor": 2
}
