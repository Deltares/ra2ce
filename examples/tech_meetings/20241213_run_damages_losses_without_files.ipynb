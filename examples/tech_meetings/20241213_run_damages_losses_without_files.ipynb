{
 "cells": [
  {
   "cell_type": "markdown",
   "metadata": {},
   "source": [
    "# Run analysis without input files\n",
    "In this example it is shown how Damages and Losses analyses can be run without input files, like resilience and damage curves.\n",
    "This will make running large numbers of analyses for e.g. uncertainty much more convenient, because instead of preparing input files to the analyses objects can be passed to the analyses.\n",
    "Related to https://github.com/Deltares/ra2ce/issues/654."
   ]
  },
  {
   "cell_type": "code",
   "execution_count": 1,
   "metadata": {},
   "outputs": [
    {
     "name": "stderr",
     "output_type": "stream",
     "text": [
      "c:\\Users\\klapwij\\code\\ra2ce\\.env\\Lib\\site-packages\\tqdm\\auto.py:21: TqdmWarning: IProgress not found. Please update jupyter and ipywidgets. See https://ipywidgets.readthedocs.io/en/stable/user_install.html\n",
      "  from .autonotebook import tqdm as notebook_tqdm\n"
     ]
    }
   ],
   "source": [
    "# Imports\n",
    "\n",
    "from pathlib import Path\n",
    "from ra2ce.ra2ce_handler import Ra2ceHandler\n",
    "from ra2ce.network.network_config_data.enums.aggregate_wl_enum import AggregateWlEnum\n",
    "from ra2ce.network.network_config_data.enums.source_enum import SourceEnum\n",
    "from ra2ce.analysis.analysis_config_data.analysis_config_data import (\n",
    "    AnalysisConfigData,\n",
    "    AnalysisSectionDamages,\n",
    "    AnalysisSectionLosses,\n",
    ")\n",
    "from ra2ce.analysis.analysis_config_data.enums.analysis_damages_enum import (\n",
    "    AnalysisDamagesEnum,\n",
    ")\n",
    "from ra2ce.analysis.analysis_config_data.enums.analysis_losses_enum import (\n",
    "    AnalysisLossesEnum,\n",
    ")\n",
    "from ra2ce.analysis.analysis_config_data.enums.damage_curve_enum import DamageCurveEnum\n",
    "from ra2ce.analysis.analysis_config_data.enums.event_type_enum import EventTypeEnum\n",
    "from ra2ce.analysis.analysis_config_data.enums.traffic_period_enum import (\n",
    "    TrafficPeriodEnum,\n",
    ")\n",
    "from ra2ce.analysis.analysis_config_data.enums.trip_purpose_enum import TripPurposeEnum\n",
    "from ra2ce.analysis.analysis_config_data.enums.weighing_enum import WeighingEnum\n",
    "from ra2ce.network.network_config_data.enums.aggregate_wl_enum import AggregateWlEnum\n",
    "from ra2ce.network.network_config_data.network_config_data import (\n",
    "    HazardSection,\n",
    "    NetworkConfigData,\n",
    "    NetworkSection,\n",
    ")\n"
   ]
  },
  {
   "cell_type": "code",
   "execution_count": 2,
   "metadata": {},
   "outputs": [],
   "source": [
    "root_dir = Path.cwd().parent.joinpath(\"data\", \"adaptation\")\n",
    "\n",
    "static_path = root_dir.joinpath(\"static\")\n",
    "hazard_path =static_path.joinpath(\"hazard\")\n",
    "network_path = static_path.joinpath(\"network\")\n",
    "output_path=root_dir.joinpath(\"output\")\n",
    "\n",
    "input_path = root_dir.joinpath(\"input\")"
   ]
  },
  {
   "cell_type": "markdown",
   "metadata": {},
   "source": [
    "## Configure the network"
   ]
  },
  {
   "cell_type": "code",
   "execution_count": 3,
   "metadata": {},
   "outputs": [],
   "source": [
    "_network_section = NetworkSection(\n",
    "    source= SourceEnum.SHAPEFILE,       \n",
    "    primary_file = [network_path.joinpath(\"network.shp\")], \n",
    "    file_id = \"ID\",\n",
    "    link_type_column=\"highway\",\n",
    "    save_gpkg=True\n",
    ")\n",
    "\n",
    "_hazard = HazardSection(\n",
    "    hazard_map=[file for file in hazard_path.glob(\"*.tif\")],\n",
    "    hazard_field_name= [\"waterdepth\"],\n",
    "    aggregate_wl = AggregateWlEnum.MEAN,\n",
    "    hazard_crs = \"EPSG:4326\",\n",
    ")\n",
    "\n",
    "_network_config_data = NetworkConfigData(\n",
    "    root_path=root_dir,\n",
    "    static_path=static_path,\n",
    "    output_path=output_path,\n",
    "    network=_network_section,\n",
    "    hazard=_hazard\n",
    "    )"
   ]
  },
  {
   "cell_type": "markdown",
   "metadata": {},
   "source": [
    "## Configuring the analyses\n",
    "First the analysis run needs to be configured in the standard way, except no paths to input files are provided."
   ]
  },
  {
   "cell_type": "code",
   "execution_count": 4,
   "metadata": {},
   "outputs": [],
   "source": [
    "\n",
    "_damages_section = AnalysisSectionDamages(\n",
    "    analysis=AnalysisDamagesEnum.DAMAGES,\n",
    "    event_type=EventTypeEnum.EVENT,\n",
    "    damage_curve=DamageCurveEnum.MAN,\n",
    "    save_gpkg=True,\n",
    "    save_csv=True,\n",
    ")\n",
    "\n",
    "_multi_link_losses_section = AnalysisSectionLosses(\n",
    "    analysis=AnalysisLossesEnum.MULTI_LINK_LOSSES,\n",
    "    event_type=EventTypeEnum.EVENT,\n",
    "    weighing=WeighingEnum.TIME,\n",
    "    threshold=0,\n",
    "    production_loss_per_capita_per_hour=42,\n",
    "    hours_per_traffic_period=8,\n",
    "    traffic_period=TrafficPeriodEnum.DAY,\n",
    "    trip_purposes=[\n",
    "        TripPurposeEnum.BUSINESS,\n",
    "        TripPurposeEnum.COMMUTE,\n",
    "        TripPurposeEnum.FREIGHT,\n",
    "        TripPurposeEnum.OTHER,\n",
    "    ],\n",
    "    resilience_curves_file=None,\n",
    "    traffic_intensities_file=None,\n",
    "    values_of_time_file=None,\n",
    "    save_gpkg=True,\n",
    "    save_csv=True,\n",
    ")\n",
    "\n",
    "_analysis_config_data = AnalysisConfigData(\n",
    "    root_path=root_dir,\n",
    "    input_path=input_path,\n",
    "    static_path=static_path,\n",
    "    output_path=output_path,\n",
    "    analyses=[\n",
    "        _damages_section,\n",
    "        _multi_link_losses_section,\n",
    "    ],\n",
    "    aggregate_wl=AggregateWlEnum.MEAN,\n",
    ")"
   ]
  },
  {
   "cell_type": "markdown",
   "metadata": {},
   "source": [
    "## Creating the handler"
   ]
  },
  {
   "cell_type": "code",
   "execution_count": 9,
   "metadata": {},
   "outputs": [
    {
     "name": "stderr",
     "output_type": "stream",
     "text": [
      "2025-01-09 03:21:51 PM - [losses_input_data_reader_base.py:53] - root - WARNING - No csv file found at None. Using default values for <class 'ra2ce.analysis.losses.traffic_intensities.traffic_intensities.TrafficIntensities'>.\n",
      "2025-01-09 03:21:51 PM - [losses_input_data_reader_base.py:53] - root - WARNING - No csv file found at None. Using default values for <class 'ra2ce.analysis.losses.traffic_intensities.traffic_intensities.TrafficIntensities'>.\n",
      "2025-01-09 03:23:04 PM - [losses_input_data_reader_base.py:53] - root - WARNING - No csv file found at None. Using default values for <class 'ra2ce.analysis.losses.resilience_curves.resilience_curves.ResilienceCurves'>.\n",
      "2025-01-09 03:23:04 PM - [losses_input_data_reader_base.py:53] - root - WARNING - No csv file found at None. Using default values for <class 'ra2ce.analysis.losses.resilience_curves.resilience_curves.ResilienceCurves'>.\n",
      "2025-01-09 03:23:28 PM - [losses_input_data_reader_base.py:53] - root - WARNING - No csv file found at None. Using default values for <class 'ra2ce.analysis.losses.time_values.time_values.TimeValues'>.\n",
      "2025-01-09 03:23:28 PM - [losses_input_data_reader_base.py:53] - root - WARNING - No csv file found at None. Using default values for <class 'ra2ce.analysis.losses.time_values.time_values.TimeValues'>.\n"
     ]
    }
   ],
   "source": [
    "handler = Ra2ceHandler.from_config(_network_config_data, _analysis_config_data)\n",
    "\n",
    "handler.configure()"
   ]
  },
  {
   "cell_type": "markdown",
   "metadata": {},
   "source": [
    "## Defining the analysis inputs\n",
    "In this example the data is read from files outside the analysis, but this might as well be replaced by creating/generating them by code."
   ]
  },
  {
   "cell_type": "code",
   "execution_count": 6,
   "metadata": {},
   "outputs": [],
   "source": [
    "from ra2ce.analysis.damages.damage_functions.manual_damage_functions_reader import ManualDamageFunctionsReader\n",
    "from ra2ce.analysis.losses.resilience_curves.resilience_curves_reader import ResilienceCurvesReader\n",
    "from ra2ce.analysis.losses.time_values.time_values_reader import TimeValuesReader\n",
    "from ra2ce.analysis.losses.traffic_intensities.traffic_intensities_reader import TrafficIntensitiesReader\n",
    "\n",
    "# Damages input data\n",
    "_manual_damage_functions = ManualDamageFunctionsReader().read(input_path.joinpath(\"damage_functions\"))\n",
    "\n",
    "# Losses input data\n",
    "_resilience_curves = ResilienceCurvesReader().read(input_path.joinpath(\"resilience_curve.csv\"))\n",
    "_values_of_time = TimeValuesReader().read(input_path.joinpath(\"values_of_time.csv\"))\n",
    "_traffic_intensities = TrafficIntensitiesReader(_analysis_config_data.network.file_id).read(input_path.joinpath(\"traffic_intensities.csv\"))"
   ]
  },
  {
   "cell_type": "markdown",
   "metadata": {},
   "source": [
    "## Adding the analysis inputs"
   ]
  },
  {
   "cell_type": "code",
   "execution_count": 7,
   "metadata": {},
   "outputs": [],
   "source": [
    "\n",
    "from ra2ce.analysis.damages.damages import Damages\n",
    "from ra2ce.analysis.losses.multi_link_losses import MultiLinkLosses\n",
    "\n",
    "\n",
    "_damages = handler.analysis_collection.get_analysis(AnalysisDamagesEnum.DAMAGES)\n",
    "assert isinstance(_damages, Damages)\n",
    "_damages.manual_damage_functions = _manual_damage_functions\n",
    "\n",
    "_losses = handler.analysis_collection.get_analysis(AnalysisLossesEnum.MULTI_LINK_LOSSES)\n",
    "assert isinstance(_losses, MultiLinkLosses)\n",
    "_losses.resilience_curves = _resilience_curves\n",
    "_losses.values_of_time = _values_of_time\n",
    "_losses.intensities = _traffic_intensities"
   ]
  },
  {
   "cell_type": "markdown",
   "metadata": {},
   "source": [
    "## Running the analysis"
   ]
  },
  {
   "cell_type": "code",
   "execution_count": 8,
   "metadata": {},
   "outputs": [
    {
     "name": "stderr",
     "output_type": "stream",
     "text": [
      "2025-01-09 03:17:14 PM - [analysis_runner_factory.py:63] - root - WARNING - More than one runner available, computation time could be longer than expected.\n",
      "2025-01-09 03:17:14 PM - [damage_network_base.py:121] - root - WARNING - Of the 235 road segments, only 26 had lane data, so for 209 the '\n",
      "                                    lane data will be interpolated from the existing data\n",
      "2025-01-09 03:17:14 PM - [damage_network_base.py:134] - root - WARNING - Interpolated the missing lane data as follows: {'secondary': 2.0, 'tertiary': 2.0, 'trunk': 2.0}\n",
      "c:\\Users\\klapwij\\code\\ra2ce\\.env\\Lib\\site-packages\\geopandas\\geodataframe.py:1528: SettingWithCopyWarning: \n",
      "A value is trying to be set on a copy of a slice from a DataFrame.\n",
      "Try using .loc[row_indexer,col_indexer] = value instead\n",
      "\n",
      "See the caveats in the documentation: https://pandas.pydata.org/pandas-docs/stable/user_guide/indexing.html#returning-a-view-versus-a-copy\n",
      "  super().__setitem__(key, value)\n"
     ]
    },
    {
     "data": {
      "text/plain": [
       "[DamagesResultWrapper(segment_based_result=AnalysisResult(analysis_result=     link_id   ID  infra_type  avgspeed  \\\n",
       " 0          1    1    tertiary      58.0   \n",
       " 1         45   45    tertiary      60.0   \n",
       " 2         12   12    tertiary      58.0   \n",
       " 3        120  120    tertiary      58.0   \n",
       " 4         11   11    tertiary      58.0   \n",
       " ..       ...  ...         ...       ...   \n",
       " 230      253  253       trunk      50.0   \n",
       " 231      246  246       trunk      50.0   \n",
       " 232      249  249  trunk_link      50.0   \n",
       " 233      248  248       trunk      50.0   \n",
       " 234      257  257       trunk      50.0   \n",
       " \n",
       "                                               geometry  lanes  length  \\\n",
       " 0    LINESTRING (34.87673 -19.85047, 34.87642 -19.8...    2.0    70.0   \n",
       " 1    LINESTRING (34.88155 -19.84906, 34.88017 -19.8...    2.0   529.0   \n",
       " 2    LINESTRING (34.87606 -19.85055, 34.87628 -19.8...    2.0    71.0   \n",
       " 3    LINESTRING (34.87614 -19.85074, 34.87611 -19.8...    2.0    36.0   \n",
       " 4    LINESTRING (34.87606 -19.85055, 34.87610 -19.8...    2.0    24.0   \n",
       " ..                                                 ...    ...     ...   \n",
       " 230  LINESTRING (34.84543 -19.82835, 34.84552 -19.8...    3.0    30.0   \n",
       " 231  LINESTRING (34.84570 -19.82818, 34.84554 -19.8...    2.0    30.0   \n",
       " 232  LINESTRING (34.84559 -19.82812, 34.84570 -19.8...    2.0    13.0   \n",
       " 233  LINESTRING (34.84559 -19.82812, 34.84652 -19.8...    3.0   177.0   \n",
       " 234  LINESTRING (34.84652 -19.82679, 34.84673 -19.8...    3.0  1504.0   \n",
       " \n",
       "     maxspeed bridge  node_A  ...  rfid_c rfid   time  F_EV1_mi  F_EV1_ma  \\\n",
       " 0        nan    nan       0  ...       1    4  0.001       NaN       NaN   \n",
       " 1         60    nan       0  ...       2    7  0.009       NaN       NaN   \n",
       " 2        nan    nan       0  ...       3   31  0.001       NaN       NaN   \n",
       " 3        nan    nan       1  ...       4   37  0.001       NaN       NaN   \n",
       " 4        nan    nan       1  ...       5   32  0.000       NaN       NaN   \n",
       " ..       ...    ...     ...  ...     ...  ...    ...       ...       ...   \n",
       " 230      nan    nan     153  ...     231  448  0.001       NaN       NaN   \n",
       " 231      nan    nan     154  ...     232  447  0.001       NaN       NaN   \n",
       " 232      nan    nan     154  ...     233  449  0.000       NaN       NaN   \n",
       " 233      nan    nan     156  ...     234  452  0.004       NaN       NaN   \n",
       " 234      nan    nan     157  ...     235  454  0.030       NaN       NaN   \n",
       " \n",
       "      F_EV1_me  F_EV1_fr  road_type  lanes_copy dam_EV1_al  \n",
       " 0         NaN       0.0   tertiary         2.0        NaN  \n",
       " 1         NaN       0.0   tertiary         2.0        NaN  \n",
       " 2         NaN       0.0   tertiary         2.0        NaN  \n",
       " 3         NaN       0.0   tertiary         2.0        NaN  \n",
       " 4         NaN       0.0   tertiary         2.0        NaN  \n",
       " ..        ...       ...        ...         ...        ...  \n",
       " 230       NaN       0.0      trunk         3.0        NaN  \n",
       " 231       NaN       0.0      trunk         2.0        NaN  \n",
       " 232       NaN       0.0      trunk         2.0        NaN  \n",
       " 233       NaN       0.0      trunk         3.0        NaN  \n",
       " 234       NaN       0.0      trunk         3.0        NaN  \n",
       " \n",
       " [235 rows x 22 columns], analysis_config=AnalysisSectionDamages(name='', save_gpkg=True, save_csv=True, analysis=<AnalysisDamagesEnum.DAMAGES: 1>, representative_damage_percentage=100, event_type=<EventTypeEnum.EVENT: 1>, damage_curve=<DamageCurveEnum.MAN: 3>, risk_calculation_mode=<RiskCalculationModeEnum.NONE: 0>, risk_calculation_year=0, create_table=False, file_name=None), output_path=WindowsPath('c:/Users/klapwij/code/ra2ce/examples/data/adaptation/output'), _custom_name='_segmented'), link_based_result=AnalysisResult(analysis_result=       u    v  key link_id   ID     highway  avgspeed  \\\n",
       " 0      0    1    0       1    1    tertiary      58.0   \n",
       " 1      0    2    0      45   45    tertiary      60.0   \n",
       " 2      0   11    0      12   12    tertiary      58.0   \n",
       " 3      1   13    0     120  120    tertiary      58.0   \n",
       " 4      1   11    0      11   11    tertiary      58.0   \n",
       " ..   ...  ...  ...     ...  ...         ...       ...   \n",
       " 225  153  156    0     253  253       trunk      50.0   \n",
       " 226  154  155    0     246  246       trunk      50.0   \n",
       " 227  154  156    0     249  249  trunk_link      50.0   \n",
       " 228  156  157    0     248  248       trunk      50.0   \n",
       " 229  157  158    0     257  257       trunk      50.0   \n",
       " \n",
       "                                               geometry lanes  length  ...  \\\n",
       " 0    LINESTRING (34.87673 -19.85047, 34.87642 -19.8...   nan    70.0  ...   \n",
       " 1    LINESTRING (34.88155 -19.84906, 34.88017 -19.8...   nan   529.0  ...   \n",
       " 2    LINESTRING (34.87606 -19.85055, 34.87628 -19.8...   nan    71.0  ...   \n",
       " 3    LINESTRING (34.87614 -19.85074, 34.87611 -19.8...   nan    36.0  ...   \n",
       " 4    LINESTRING (34.87606 -19.85055, 34.87610 -19.8...   nan    24.0  ...   \n",
       " ..                                                 ...   ...     ...  ...   \n",
       " 225  LINESTRING (34.84543 -19.82835, 34.84552 -19.8...     3    30.0  ...   \n",
       " 226  LINESTRING (34.84570 -19.82818, 34.84554 -19.8...     2    30.0  ...   \n",
       " 227  LINESTRING (34.84559 -19.82812, 34.84570 -19.8...   nan    13.0  ...   \n",
       " 228  LINESTRING (34.84559 -19.82812, 34.84652 -19.8...     3   177.0  ...   \n",
       " 229  LINESTRING (34.84652 -19.82679, 34.84673 -19.8...     3  1504.0  ...   \n",
       " \n",
       "     node_A node_B edge_fid rfid_c rfid   time  EV1_me  EV1_fr  \\\n",
       " 0        0      1      0_1      1    4  0.001     NaN     0.0   \n",
       " 1        0      2      0_2      2    7  0.009     NaN     0.0   \n",
       " 2        0     11     0_11      3   31  0.001     NaN     0.0   \n",
       " 3        1     13     1_13      4   37  0.001     NaN     0.0   \n",
       " 4        1     11     1_11      5   32  0.000     NaN     0.0   \n",
       " ..     ...    ...      ...    ...  ...    ...     ...     ...   \n",
       " 225    153    156  153_156    231  448  0.001     NaN     0.0   \n",
       " 226    154    155  154_155    232  447  0.001     NaN     0.0   \n",
       " 227    154    156  154_156    233  449  0.000     NaN     0.0   \n",
       " 228    156    157  156_157    234  452  0.004     NaN     0.0   \n",
       " 229    157    158  157_158    235  454  0.030     NaN     0.0   \n",
       " \n",
       "      dam_EV1_al_segments  dam_EV1_al  \n",
       " 0                  [nan]         0.0  \n",
       " 1                  [nan]         0.0  \n",
       " 2                  [nan]         0.0  \n",
       " 3                  [nan]         0.0  \n",
       " 4                  [nan]         0.0  \n",
       " ..                   ...         ...  \n",
       " 225                [nan]         0.0  \n",
       " 226                [nan]         0.0  \n",
       " 227                [nan]         0.0  \n",
       " 228                [nan]         0.0  \n",
       " 229                [nan]         0.0  \n",
       " \n",
       " [230 rows x 22 columns], analysis_config=AnalysisSectionDamages(name='', save_gpkg=True, save_csv=True, analysis=<AnalysisDamagesEnum.DAMAGES: 1>, representative_damage_percentage=100, event_type=<EventTypeEnum.EVENT: 1>, damage_curve=<DamageCurveEnum.MAN: 3>, risk_calculation_mode=<RiskCalculationModeEnum.NONE: 0>, risk_calculation_year=0, create_table=False, file_name=None), output_path=WindowsPath('c:/Users/klapwij/code/ra2ce/examples/data/adaptation/output'), _custom_name='_link_based')),\n",
       " AnalysisResultWrapper(results_collection=[AnalysisResult(analysis_result=      ID    u    v    EV1_fr    EV1_me         alt_nodes  alt_time  avgspeed  \\\n",
       " 0     86    2   42  0.015250  0.706479               nan       NaN      58.0   \n",
       " 1     93   20   70  0.041258  0.157738  [20, 69, 68, 70]     0.009      58.0   \n",
       " 2     30   29   31  0.080252  0.212826               nan       NaN      58.0   \n",
       " 3    100   30   82  0.101440  0.156731               nan       NaN      30.0   \n",
       " 4     85   42   73  0.021701  0.241108               nan       NaN      50.0   \n",
       " ..   ...  ...  ...       ...       ...               ...       ...       ...   \n",
       " 223  253  153  156  0.000000       NaN               nan       NaN      50.0   \n",
       " 224  246  154  155  0.000000       NaN               nan       NaN      50.0   \n",
       " 225  249  154  156  0.000000       NaN               nan       NaN      50.0   \n",
       " 226  248  156  157  0.000000       NaN               nan       NaN      50.0   \n",
       " 227  257  157  158  0.000000       NaN               nan       NaN      50.0   \n",
       " \n",
       "     bridge connected  ...  node_A node_B rfid rfid_c   time  \\\n",
       " 0      yes       nan  ...       2     42  125      6  0.045   \n",
       " 1      nan         1  ...      20     70  199     40  0.007   \n",
       " 2      yes       nan  ...      29     31   91     59  0.004   \n",
       " 3      yes       nan  ...      30     82  233     61  0.008   \n",
       " 4      yes       nan  ...      42     73  208     81  0.020   \n",
       " ..     ...       ...  ...     ...    ...  ...    ...    ...   \n",
       " 223    nan       nan  ...     153    156  448    231  0.001   \n",
       " 224    nan       nan  ...     154    155  447    232  0.001   \n",
       " 225    nan       nan  ...     154    156  449    233  0.000   \n",
       " 226    nan       nan  ...     156    157  452    234  0.004   \n",
       " 227    nan       nan  ...     157    158  454    235  0.030   \n",
       " \n",
       "     vlh_business_EV1_me  vlh_commute_EV1_me vlh_freight_EV1_me  \\\n",
       " 0                 0.000              0.0000                0.0   \n",
       " 1                 0.026              0.0475                0.9   \n",
       " 2                 0.000              0.0000                0.0   \n",
       " 3                 0.000              0.0000                0.0   \n",
       " 4                 0.000              0.0000                0.0   \n",
       " ..                  ...                 ...                ...   \n",
       " 223               0.000              0.0000                0.0   \n",
       " 224               0.000              0.0000                0.0   \n",
       " 225               0.000              0.0000                0.0   \n",
       " 226               0.000              0.0000                0.0   \n",
       " 227               0.000              0.0000                0.0   \n",
       " \n",
       "     vlh_other_EV1_me vlh_EV1_me_total  \n",
       " 0              0.000           0.0000  \n",
       " 1              0.375           1.3485  \n",
       " 2              0.000           0.0000  \n",
       " 3              0.000           0.0000  \n",
       " 4              0.000           0.0000  \n",
       " ..               ...              ...  \n",
       " 223            0.000           0.0000  \n",
       " 224            0.000           0.0000  \n",
       " 225            0.000           0.0000  \n",
       " 226            0.000           0.0000  \n",
       " 227            0.000           0.0000  \n",
       " \n",
       " [228 rows x 29 columns], analysis_config=AnalysisSectionLosses(name='', save_gpkg=True, save_csv=True, analysis=<AnalysisLossesEnum.MULTI_LINK_LOSSES: 8>, weighing=<WeighingEnum.TIME: 2>, production_loss_per_capita_per_hour=42, traffic_period=<TrafficPeriodEnum.DAY: 1>, hours_per_traffic_period=8, trip_purposes=[<TripPurposeEnum.BUSINESS: 1>, <TripPurposeEnum.COMMUTE: 2>, <TripPurposeEnum.FREIGHT: 3>, <TripPurposeEnum.OTHER: 4>], resilience_curves_file=None, traffic_intensities_file=None, values_of_time_file=None, threshold=0, threshold_destinations=nan, equity_weight='', calculate_route_without_disruption=False, buffer_meters=nan, category_field_name='', save_traffic=False, event_type=<EventTypeEnum.EVENT: 1>, risk_calculation_mode=<RiskCalculationModeEnum.NONE: 0>, risk_calculation_year=0), output_path=WindowsPath('c:/Users/klapwij/code/ra2ce/examples/data/adaptation/output'), _custom_name='')])]"
      ]
     },
     "execution_count": 8,
     "metadata": {},
     "output_type": "execute_result"
    }
   ],
   "source": [
    "handler.run_analysis()"
   ]
  }
 ],
 "metadata": {
  "kernelspec": {
   "display_name": ".env",
   "language": "python",
   "name": "python3"
  },
  "language_info": {
   "codemirror_mode": {
    "name": "ipython",
    "version": 3
   },
   "file_extension": ".py",
   "mimetype": "text/x-python",
   "name": "python",
   "nbconvert_exporter": "python",
   "pygments_lexer": "ipython3",
   "version": "3.11.10"
  }
 },
 "nbformat": 4,
 "nbformat_minor": 2
}
