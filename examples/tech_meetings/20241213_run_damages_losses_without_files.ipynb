{
 "cells": [
  {
   "cell_type": "markdown",
   "metadata": {},
   "source": [
    "# Run analysis without input files\n",
    "In this example it is shown how Damages and Losses analyses can be run without input files, like resilience and damage curves.\n",
    "This will make running large numbers of analyses for e.g. uncertainty much more convenient, because instead of preparing input files to the analyses objects can be passed to the analyses.\n",
    "Related to https://github.com/Deltares/ra2ce/issues/654."
   ]
  },
  {
   "cell_type": "code",
   "execution_count": null,
   "metadata": {},
   "outputs": [],
   "source": [
    "# Imports\n",
    "\n",
    "from pathlib import Path\n",
    "from ra2ce.ra2ce_handler import Ra2ceHandler\n",
    "from ra2ce.network.network_config_data.enums.aggregate_wl_enum import AggregateWlEnum\n",
    "from ra2ce.network.network_config_data.enums.source_enum import SourceEnum\n",
    "from ra2ce.analysis.analysis_config_data.analysis_config_data import (\n",
    "    AnalysisConfigData,\n",
    "    AnalysisSectionDamages,\n",
    "    AnalysisSectionLosses,\n",
    ")\n",
    "from ra2ce.analysis.analysis_config_data.enums.analysis_damages_enum import (\n",
    "    AnalysisDamagesEnum,\n",
    ")\n",
    "from ra2ce.analysis.analysis_config_data.enums.analysis_losses_enum import (\n",
    "    AnalysisLossesEnum,\n",
    ")\n",
    "from ra2ce.analysis.analysis_config_data.enums.damage_curve_enum import DamageCurveEnum\n",
    "from ra2ce.analysis.analysis_config_data.enums.event_type_enum import EventTypeEnum\n",
    "from ra2ce.analysis.analysis_config_data.enums.traffic_period_enum import (\n",
    "    TrafficPeriodEnum,\n",
    ")\n",
    "from ra2ce.analysis.analysis_config_data.enums.trip_purpose_enum import TripPurposeEnum\n",
    "from ra2ce.analysis.analysis_config_data.enums.weighing_enum import WeighingEnum\n",
    "from ra2ce.network.network_config_data.enums.aggregate_wl_enum import AggregateWlEnum\n",
    "from ra2ce.network.network_config_data.network_config_data import (\n",
    "    HazardSection,\n",
    "    NetworkConfigData,\n",
    "    NetworkSection,\n",
    ")\n"
   ]
  },
  {
   "cell_type": "code",
   "execution_count": null,
   "metadata": {},
   "outputs": [],
   "source": [
    "root_dir = Path.cwd().parent.joinpath(\"data\", \"adaptation\")\n",
    "\n",
    "static_path = root_dir.joinpath(\"static\")\n",
    "hazard_path =static_path.joinpath(\"hazard\")\n",
    "network_path = static_path.joinpath(\"network\")\n",
    "output_path=root_dir.joinpath(\"output\")\n",
    "\n",
    "input_path = root_dir.joinpath(\"input\")"
   ]
  },
  {
   "cell_type": "markdown",
   "metadata": {},
   "source": [
    "## Configure the network"
   ]
  },
  {
   "cell_type": "code",
   "execution_count": null,
   "metadata": {},
   "outputs": [],
   "source": [
    "_network_section = NetworkSection(\n",
    "    source= SourceEnum.SHAPEFILE,       \n",
    "    primary_file = [network_path.joinpath(\"network.shp\")], \n",
    "    file_id = \"ID\",\n",
    "    link_type_column=\"highway\",\n",
    "    save_gpkg=True\n",
    ")\n",
    "\n",
    "_hazard = HazardSection(\n",
    "    hazard_map=[file for file in hazard_path.glob(\"*.tif\")],\n",
    "    hazard_field_name= [\"waterdepth\"],\n",
    "    aggregate_wl = AggregateWlEnum.MEAN,\n",
    "    hazard_crs = \"EPSG:4326\",\n",
    ")\n",
    "\n",
    "_network_config_data = NetworkConfigData(\n",
    "    root_path=root_dir,\n",
    "    static_path=static_path,\n",
    "    network=_network_section,\n",
    "    hazard=_hazard\n",
    "    )"
   ]
  },
  {
   "cell_type": "markdown",
   "metadata": {},
   "source": [
    "## Configuring the analyses\n",
    "First the analysis run needs to be configured in the standard way, except no paths to input files are provided."
   ]
  },
  {
   "cell_type": "code",
   "execution_count": null,
   "metadata": {},
   "outputs": [],
   "source": [
    "\n",
    "_damages_section = AnalysisSectionDamages(\n",
    "    analysis=AnalysisDamagesEnum.DAMAGES,\n",
    "    event_type=EventTypeEnum.EVENT,\n",
    "    damage_curve=DamageCurveEnum.MAN,\n",
    "    save_gpkg=True,\n",
    "    save_csv=True,\n",
    ")\n",
    "\n",
    "_multi_link_losses_section = AnalysisSectionLosses(\n",
    "    analysis=AnalysisLossesEnum.MULTI_LINK_LOSSES,\n",
    "    event_type=EventTypeEnum.EVENT,\n",
    "    weighing=WeighingEnum.TIME,\n",
    "    threshold=0,\n",
    "    production_loss_per_capita_per_hour=42,\n",
    "    hours_per_traffic_period=8,\n",
    "    traffic_period=TrafficPeriodEnum.DAY,\n",
    "    trip_purposes=[\n",
    "        TripPurposeEnum.BUSINESS,\n",
    "        TripPurposeEnum.COMMUTE,\n",
    "        TripPurposeEnum.FREIGHT,\n",
    "        TripPurposeEnum.OTHER,\n",
    "    ],\n",
    "    resilience_curves_file=None,\n",
    "    traffic_intensities_file=None,\n",
    "    values_of_time_file=None,\n",
    "    save_gpkg=True,\n",
    "    save_csv=True,\n",
    ")\n",
    "\n",
    "_analysis_config_data = AnalysisConfigData(\n",
    "    input_path=input_path,\n",
    "    output_path=output_path,\n",
    "    analyses=[\n",
    "        _damages_section,\n",
    "        _multi_link_losses_section,\n",
    "    ],\n",
    ")"
   ]
  },
  {
   "cell_type": "markdown",
   "metadata": {},
   "source": [
    "## Creating the handler"
   ]
  },
  {
   "cell_type": "code",
   "execution_count": null,
   "metadata": {},
   "outputs": [],
   "source": [
    "handler = Ra2ceHandler.from_config(_network_config_data, _analysis_config_data)\n",
    "\n",
    "handler.configure()"
   ]
  },
  {
   "cell_type": "markdown",
   "metadata": {},
   "source": [
    "## Defining the analysis inputs\n",
    "In this example the data is read from files outside the analysis, but this might as well be replaced by creating/generating them by code."
   ]
  },
  {
   "cell_type": "code",
   "execution_count": null,
   "metadata": {},
   "outputs": [],
   "source": [
    "from ra2ce.analysis.damages.damage_functions.manual_damage_functions_reader import ManualDamageFunctionsReader\n",
    "from ra2ce.analysis.losses.resilience_curves.resilience_curves_reader import ResilienceCurvesReader\n",
    "from ra2ce.analysis.losses.time_values.time_values_reader import TimeValuesReader\n",
    "from ra2ce.analysis.losses.traffic_intensities.traffic_intensities_reader import TrafficIntensitiesReader\n",
    "\n",
    "# Damages input data\n",
    "_manual_damage_functions = ManualDamageFunctionsReader().read(input_path.joinpath(\"damage_functions\"))\n",
    "\n",
    "# Losses input data\n",
    "_resilience_curves = ResilienceCurvesReader().read(input_path.joinpath(\"resilience_curve.csv\"))\n",
    "_values_of_time = TimeValuesReader().read(input_path.joinpath(\"values_of_time.csv\"))\n",
    "_traffic_intensities = TrafficIntensitiesReader(_analysis_config_data._network.file_id).read(input_path.joinpath(\"traffic_intensities.csv\"))"
   ]
  },
  {
   "cell_type": "markdown",
   "metadata": {},
   "source": [
    "## Adding the analysis inputs"
   ]
  },
  {
   "cell_type": "code",
   "execution_count": null,
   "metadata": {},
   "outputs": [],
   "source": [
    "\n",
    "from ra2ce.analysis.damages.damages import Damages\n",
    "from ra2ce.analysis.losses.multi_link_losses import MultiLinkLosses\n",
    "\n",
    "\n",
    "_damages = handler.analysis_collection.get_analysis(AnalysisDamagesEnum.DAMAGES)\n",
    "assert isinstance(_damages, Damages)\n",
    "_damages.manual_damage_functions = _manual_damage_functions\n",
    "\n",
    "_losses = handler.analysis_collection.get_analysis(AnalysisLossesEnum.MULTI_LINK_LOSSES)\n",
    "assert isinstance(_losses, MultiLinkLosses)\n",
    "_losses.resilience_curves = _resilience_curves\n",
    "_losses.values_of_time = _values_of_time\n",
    "_losses.intensities = _traffic_intensities"
   ]
  },
  {
   "cell_type": "markdown",
   "metadata": {},
   "source": [
    "## Running the analysis"
   ]
  },
  {
   "cell_type": "code",
   "execution_count": null,
   "metadata": {},
   "outputs": [],
   "source": [
    "handler.run_analysis()"
   ]
  }
 ],
 "metadata": {
  "kernelspec": {
   "display_name": "Python 3",
   "language": "python",
   "name": "python3"
  },
  "language_info": {
   "codemirror_mode": {
    "name": "ipython",
    "version": 3
   },
   "file_extension": ".py",
   "mimetype": "text/x-python",
   "name": "python",
   "nbconvert_exporter": "python",
   "pygments_lexer": "ipython3",
   "version": "3.11.13"
  }
 },
 "nbformat": 4,
 "nbformat_minor": 2
}
