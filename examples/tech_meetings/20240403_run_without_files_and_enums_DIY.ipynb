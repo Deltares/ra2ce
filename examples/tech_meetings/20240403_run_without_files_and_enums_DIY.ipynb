{
 "cells": [
  {
   "cell_type": "markdown",
   "metadata": {},
   "source": [
    "# Tech Meeting 2024 Q1"
   ]
  },
  {
   "cell_type": "markdown",
   "metadata": {},
   "source": [
    "The technical meeting that took place on 2024.04.03 related to the Q1 sprints covered the following topics:\n",
    "\n",
    "1. Running an analysis whilst modifying the `.ini` configuration files.\n",
    "2. Usage of enumerations within `ra2ce`.\n",
    "3. Discussion on long term views for `ra2ce` subprojects.\n",
    "4. Walk-through, on how to add new analyses to the current solution.\n",
    "\n",
    "This jupyter notebook will cover the first two points."
   ]
  },
  {
   "cell_type": "markdown",
   "metadata": {},
   "source": [
    "## 1. Running an analysis whilst modifying the `.ini` configuration files"
   ]
  },
  {
   "cell_type": "markdown",
   "metadata": {},
   "source": [
    "It is entirely possible to generate a ra2ce analysis (or just a network) without having to generate `.ini` files. However, most of the times we will  only want to modify a few properties of a given `network.ini` or `analysis.ini` file.\n",
    "At the current version `v0.8.1` we can solve both options as follows:\n",
    "\n",
    "1. Load the `.ini` files and then modify them at our own choice.\n",
    "2. Fully creating a `Ra2ceHandler` instance based on python objects ( `NetworkConfigData` and `AnalysisConfigData`)."
   ]
  },
  {
   "cell_type": "markdown",
   "metadata": {},
   "source": [
    "### 1.1. Modify existing configurations from code"
   ]
  },
  {
   "cell_type": "markdown",
   "metadata": {},
   "source": [
    "Given our most common use case, we want to load a network and analysis and potentially modifying some of its properties. This was already accomplished in the \"ra2ce hackathon 2024 Q1\".\n",
    "\n",
    "To achieve it, simply use the regular `Ra2ceHandler` with your desired `ini` files and then access the corresponding `NetworkConfigData` and `AnalysisConfigData` properties. See the example below."
   ]
  },
  {
   "cell_type": "markdown",
   "metadata": {},
   "source": [
    "1. Initialize the Ra2ce handler with valid `.ini` files."
   ]
  },
  {
   "cell_type": "code",
   "execution_count": null,
   "metadata": {},
   "outputs": [],
   "source": [
    "from pathlib import Path\n",
    "\n",
    "from ra2ce.ra2ce_handler import Ra2ceHandler\n",
    "\n",
    "# Define the location of our example test data.\n",
    "_root_dir = Path(\"data\").joinpath(\"direct_analysis\")\n",
    "assert _root_dir.exists()\n",
    "\n",
    "_network_file = _root_dir.joinpath(\"network.ini\")\n",
    "assert _network_file.exists()\n",
    "\n",
    "_analysis_file = _root_dir.joinpath(\"analysis.ini\")\n",
    "assert _analysis_file.exists()\n",
    "\n",
    "# Initialize handler\n",
    "_handler = Ra2ceHandler(_network_file, _analysis_file)"
   ]
  },
  {
   "cell_type": "markdown",
   "metadata": {},
   "source": [
    "2. In addition, we can verify if the analysis and network are correctly set."
   ]
  },
  {
   "cell_type": "code",
   "execution_count": null,
   "metadata": {},
   "outputs": [],
   "source": [
    "from ra2ce.network.network_config_data.network_config_data import NetworkConfigData\n",
    "from ra2ce.analysis.analysis_config_data.analysis_config_data import AnalysisConfigData\n",
    "\n",
    "assert isinstance(_handler.input_config.network_config.config_data, NetworkConfigData)\n",
    "assert isinstance(_handler.input_config.analysis_config.config_data, AnalysisConfigData)"
   ]
  },
  {
   "cell_type": "markdown",
   "metadata": {},
   "source": [
    "3. Configure the network and analyses"
   ]
  },
  {
   "cell_type": "code",
   "execution_count": null,
   "metadata": {},
   "outputs": [],
   "source": [
    "_handler.configure()"
   ]
  },
  {
   "cell_type": "markdown",
   "metadata": {},
   "source": [
    "4. Run the analysis."
   ]
  },
  {
   "cell_type": "code",
   "execution_count": null,
   "metadata": {},
   "outputs": [],
   "source": [
    "_handler.run_analysis()"
   ]
  },
  {
   "cell_type": "markdown",
   "metadata": {},
   "source": [
    "### 1.2. Create Ra2ce Handler without `ini` files"
   ]
  },
  {
   "cell_type": "markdown",
   "metadata": {},
   "source": [
    "__DISCLAIMER!__\n",
    "This functionality will be streamlined as resolution of issue [#389](https://github.com/Deltares/ra2ce/issues/389)"
   ]
  },
  {
   "cell_type": "markdown",
   "metadata": {},
   "source": [
    "This step, however longer than required, will demonstrate how to emulate the usage of `ini` files. We relate the `.ini` files as:\n",
    "\n",
    "- `network.ini` to `NetworkConfigData`,\n",
    "- `analysis.ini` to `AnalysisConfigData`.\n",
    "\n",
    "Both `ConfigData` items are python objects (`dataclasses`) as such, it is entirely possible to manually manipulate them via code, therefore avoiding the need of definition and usage of their related `ini` files."
   ]
  },
  {
   "cell_type": "markdown",
   "metadata": {},
   "source": [
    "1. Initialize the objects representing the `.ini` files."
   ]
  },
  {
   "cell_type": "code",
   "execution_count": null,
   "metadata": {},
   "outputs": [],
   "source": [
    "from ra2ce.network.network_config_data.network_config_data import NetworkConfigData\n",
    "from ra2ce.analysis.analysis_config_data.analysis_config_data import AnalysisConfigData\n",
    "\n",
    "_network_config_data = NetworkConfigData()\n",
    "_analysis_config_data = AnalysisConfigData()"
   ]
  },
  {
   "cell_type": "markdown",
   "metadata": {},
   "source": [
    "2. (Optional) Initialize logger."
   ]
  },
  {
   "cell_type": "code",
   "execution_count": null,
   "metadata": {},
   "outputs": [],
   "source": [
    "from ra2ce.ra2ce_logging import Ra2ceLogger\n",
    "\n",
    "# Initialize logger.\n",
    "_output_logger_path = Path(\"data\").joinpath(\"logging\")\n",
    "if _output_logger_path.exists():\n",
    "    import shutil\n",
    "    shutil.rmtree(_output_logger_path)\n",
    "_output_logger_path.mkdir(parents=True)\n",
    "\n",
    "Ra2ceLogger(logging_dir=_output_logger_path, logger_name=\"RA2CE\")"
   ]
  },
  {
   "cell_type": "markdown",
   "metadata": {},
   "source": [
    "3. Put said objects together in the config wrapper."
   ]
  },
  {
   "cell_type": "code",
   "execution_count": null,
   "metadata": {},
   "outputs": [],
   "source": [
    "# Define network config wrapper\n",
    "from ra2ce.network.network_config_wrapper import NetworkConfigWrapper\n",
    "\n",
    "_network_config_wrapper = NetworkConfigWrapper()\n",
    "_network_config_wrapper.config_data = _network_config_data\n",
    "_network_config_wrapper.configure()\n",
    "\n",
    "# Define analysis config wrapper\n",
    "from ra2ce.analysis.analysis_config_wrapper import AnalysisConfigWrapper\n",
    "\n",
    "_analysis_config_wrapper = AnalysisConfigWrapper()\n",
    "_analysis_config_wrapper.config_data = _analysis_config_data\n",
    "_analysis_config_wrapper.config_data.network = _network_config_wrapper.config_data.network\n",
    "_analysis_config_wrapper.config_data.origins_destinations = (\n",
    "    _network_config_wrapper.config_data.origins_destinations\n",
    ")\n",
    "_analysis_config_wrapper.graph_files = _network_config_wrapper.graph_files\n",
    "_analysis_config_wrapper.configure()\n",
    "\n",
    "# Initialize wrapper\n",
    "from ra2ce.configuration.config_wrapper import ConfigWrapper\n",
    "\n",
    "_config_wrapper = ConfigWrapper()\n",
    "_config_wrapper.analysis_config = _analysis_config_wrapper\n",
    "_config_wrapper.network_config = _network_config_wrapper\n",
    "\n",
    "_config_wrapper.configure()"
   ]
  },
  {
   "cell_type": "markdown",
   "metadata": {},
   "source": [
    "4. Run analysis"
   ]
  },
  {
   "cell_type": "code",
   "execution_count": null,
   "metadata": {},
   "outputs": [],
   "source": [
    "# Run analysis\n",
    "from ra2ce.runners import AnalysisRunnerFactory\n",
    "\n",
    "_runner = AnalysisRunnerFactory.get_runner(_config_wrapper)\n",
    "_runner.run(_config_wrapper.analysis_config)"
   ]
  },
  {
   "cell_type": "markdown",
   "metadata": {},
   "source": [
    "## 2. Usage of enumerations within `ra2ce`"
   ]
  },
  {
   "cell_type": "markdown",
   "metadata": {},
   "source": [
    "Enumerations ([enum](https://docs.python.org/3/library/enum.html)) are introduced in `ra2ce` mostly to declare, and therefore distinguish, all the different properties that may influence the creation of a `network` or the run of an `analysis`.\n",
    "\n",
    "These enums are, in short, the different possibilities that can be fond at the `network.ini` or `analysis.ini` section properties.\n",
    "\n",
    "During development of new functionalities, or introduction of new configuration properties, more enumerations could be created or current ones extended. We will see how this works in this section."
   ]
  },
  {
   "cell_type": "markdown",
   "metadata": {},
   "source": [
    "### 2.1. Available enums"
   ]
  },
  {
   "cell_type": "markdown",
   "metadata": {},
   "source": [
    "At the current version `v0.8.1` the following enumerations are present:"
   ]
  },
  {
   "cell_type": "markdown",
   "metadata": {},
   "source": [
    "In `ra2ce.network.network_config_data.enums`:\n",
    "\n",
    "- AggregateWlEnum,\n",
    "- NetworkTypeEnum,\n",
    "- PartOfDayEnum,\n",
    "- RoadTypeEnum,\n",
    "- SourceEnum"
   ]
  },
  {
   "cell_type": "code",
   "execution_count": null,
   "metadata": {},
   "outputs": [],
   "source": [
    "from ra2ce.network.network_config_data.enums.network_type_enum import NetworkTypeEnum\n",
    "\n",
    "for _network_type in NetworkTypeEnum:\n",
    "    print(_network_type)"
   ]
  },
  {
   "cell_type": "markdown",
   "metadata": {},
   "source": [
    "In `ra2ce.analysis.analysis_config_data.enums`:\n",
    "\n",
    "- AnalysisDirectEnum,\n",
    "- AnalysisIndirectEnum,\n",
    "- DamageCurveEnum,\n",
    "- EventTypeEnum,\n",
    "- LossTypeEnum,\n",
    "- RiskCalculationModeEnum,\n",
    "- TripPurposesEnum,\n",
    "- WeighingEnum"
   ]
  },
  {
   "cell_type": "code",
   "execution_count": null,
   "metadata": {},
   "outputs": [],
   "source": [
    "from ra2ce.analysis.analysis_config_data.enums.analysis_indirect_enum import AnalysisIndirectEnum\n",
    "\n",
    "for _indirect_type in AnalysisIndirectEnum:\n",
    "    print(_indirect_type)"
   ]
  },
  {
   "cell_type": "markdown",
   "metadata": {},
   "source": [
    "### 2.2. Ra2ceEnumBase"
   ]
  },
  {
   "cell_type": "markdown",
   "metadata": {},
   "source": [
    "In order to normalize how we handle all our enumerations, a base class `Ra2ceEnumBase` (`ra2ce.configuration.ra2ce_enum_base`) is created (not that this __is not__ an [abstract class](https://docs.python.org/3/library/abc.html)).\n",
    "\n",
    "All our enumerations implement said base class and therefore __inherit__ its methods and definitions.\n",
    "\n"
   ]
  },
  {
   "cell_type": "markdown",
   "metadata": {},
   "source": [
    "#### 2.2.1. Creating a new enum"
   ]
  },
  {
   "cell_type": "markdown",
   "metadata": {},
   "source": [
    "We can check its functionality by first creating our own enumeration here."
   ]
  },
  {
   "cell_type": "code",
   "execution_count": null,
   "metadata": {},
   "outputs": [],
   "source": [
    "from ra2ce.configuration.ra2ce_enum_base import Ra2ceEnumBase\n",
    "\n",
    "class DocumentationEnum(Ra2ceEnumBase):\n",
    "    NONE = 0\n",
    "    ALL = 1\n",
    "    EXAMPLE = 2\n",
    "    RESEARCH = 3\n",
    "    TECH_MEETING = 4\n",
    "    ARCHITECTURE = 5\n",
    "    DOMAIN = 6\n",
    "    INVALID = 99"
   ]
  },
  {
   "cell_type": "markdown",
   "metadata": {},
   "source": [
    "In our enumeration we see two sides, the name that we will use throughout the code (left side) and its associated value (right side). In short, we are just binding said names to a __unique__ value so that python handles everything internally whilst we can write 'readable' code.\n",
    "\n",
    "Some pointers for creation / modification of enums here:\n",
    "\n",
    "- Add new properties after the latest logical value. Sometimes you may find the last two values are `BANANA = 3` and `MIX = 100`, choose then to add the next value as `PINEAPPLE = 4` instead of `PINEAPPLE = 101`.\n",
    "- Always define the names with capital letters.\n",
    "- Try to use simplify the names whilst still being readable.\n",
    "- Do not modify existing values unless previously discussed with the development team.\n",
    "- `NONE=0` and `INVALID=99` are mandatory entries when inheriting from `Ra2ceEnumBase`."
   ]
  },
  {
   "cell_type": "markdown",
   "metadata": {},
   "source": [
    "#### 2.2.2. Using the inherited methods / properties"
   ]
  },
  {
   "cell_type": "markdown",
   "metadata": {},
   "source": [
    "We can now start testing what the `Ra2ceEnumBase` does with our `DocumentationEnum` example"
   ]
  },
  {
   "cell_type": "markdown",
   "metadata": {},
   "source": [
    "- `get_enum(str|None)` will help us getting the associated `ra2ce` enum for a given string."
   ]
  },
  {
   "cell_type": "code",
   "execution_count": null,
   "metadata": {},
   "outputs": [],
   "source": [
    "assert DocumentationEnum.get_enum(\"banana\") == DocumentationEnum.INVALID\n",
    "assert DocumentationEnum.get_enum(None) == DocumentationEnum.NONE\n",
    "assert DocumentationEnum.get_enum(\"\") == DocumentationEnum.NONE\n",
    "assert DocumentationEnum.get_enum(\"reSEarch\") == DocumentationEnum.RESEARCH"
   ]
  },
  {
   "cell_type": "markdown",
   "metadata": {},
   "source": [
    "- `is_valid()` verifies whether the selected enum property is something we consider 'valid'.\n",
    "This method can be later on 'overriden' so that we could determine more options which are not 'valid' ones."
   ]
  },
  {
   "cell_type": "code",
   "execution_count": null,
   "metadata": {},
   "outputs": [],
   "source": [
    "assert DocumentationEnum.NONE.is_valid()\n",
    "assert DocumentationEnum.INVALID.is_valid() is False"
   ]
  },
  {
   "cell_type": "code",
   "execution_count": null,
   "metadata": {},
   "outputs": [],
   "source": [
    "class DocumentationEnumIsValidOverriden(Ra2ceEnumBase):\n",
    "    NONE = 0\n",
    "    ALL = 1\n",
    "    EXAMPLE = 2\n",
    "    RESEARCH = 3\n",
    "    TECH_MEETING = 4\n",
    "    ARCHITECTURE = 5\n",
    "    DOMAIN = 6\n",
    "    INVALID = 99\n",
    "\n",
    "    def is_valid(self) -> bool:\n",
    "        # We extend the current definition so that both \n",
    "        # `EXAMPLE` and `TECH_MEETING` are not consider valid documents.\n",
    "        if self in [\n",
    "            DocumentationEnumIsValidOverriden.EXAMPLE,\n",
    "            DocumentationEnumIsValidOverriden.TECH_MEETING]:\n",
    "            return False\n",
    "        return super().is_valid()\n",
    "\n",
    "assert DocumentationEnumIsValidOverriden.TECH_MEETING.is_valid() is False\n",
    "assert DocumentationEnumIsValidOverriden.EXAMPLE.is_valid() is False\n",
    "assert DocumentationEnumIsValidOverriden.ARCHITECTURE.is_valid()"
   ]
  },
  {
   "cell_type": "markdown",
   "metadata": {},
   "source": [
    "- `list_valid_options()` returns all the options mapped as 'valid'"
   ]
  },
  {
   "cell_type": "code",
   "execution_count": null,
   "metadata": {},
   "outputs": [],
   "source": [
    "print(\"Default valid options:\")\n",
    "for _valid_option in DocumentationEnum.list_valid_options():\n",
    "    print(_valid_option)\n",
    "\n",
    "print(\"\\nValid options when overriding:\")\n",
    "for _valid_option in DocumentationEnumIsValidOverriden.list_valid_options():\n",
    "    print(_valid_option)"
   ]
  },
  {
   "cell_type": "markdown",
   "metadata": {},
   "source": [
    "- `config_value` will return how the enum is to be represented in the config file (`.ini`)."
   ]
  },
  {
   "cell_type": "code",
   "execution_count": null,
   "metadata": {},
   "outputs": [],
   "source": [
    "for _option in DocumentationEnum:\n",
    "    print(f\"{_option}: {_option.config_value}\")"
   ]
  },
  {
   "cell_type": "markdown",
   "metadata": {},
   "source": [
    "But again, this could be easily overriden if desired."
   ]
  },
  {
   "cell_type": "code",
   "execution_count": null,
   "metadata": {},
   "outputs": [],
   "source": [
    "class DocumentationEnumConfigValueOverriden(Ra2ceEnumBase):\n",
    "    NONE = 0\n",
    "    ALL = 1\n",
    "    EXAMPLE = 2\n",
    "    RESEARCH = 3\n",
    "    TECH_MEETING = 4\n",
    "    ARCHITECTURE = 5\n",
    "    DOMAIN = 6\n",
    "    INVALID = 99\n",
    "\n",
    "    @property\n",
    "    def config_value(self) -> str | None:\n",
    "        if \"_\" in self.name:\n",
    "            _words = [_word.capitalize() for _word in self.name.split(\"_\")]\n",
    "            return \" \".join(_words)\n",
    "        return super().__str__()\n",
    "\n",
    "print(DocumentationEnumConfigValueOverriden.TECH_MEETING)"
   ]
  }
 ],
 "metadata": {
  "kernelspec": {
   "display_name": "Python 3",
   "language": "python",
   "name": "python3"
  },
  "language_info": {
   "codemirror_mode": {
    "name": "ipython",
    "version": 3
   },
   "file_extension": ".py",
   "mimetype": "text/x-python",
   "name": "python",
   "nbconvert_exporter": "python",
   "pygments_lexer": "ipython3",
   "version": "3.10.13"
  }
 },
 "nbformat": 4,
 "nbformat_minor": 2
}
