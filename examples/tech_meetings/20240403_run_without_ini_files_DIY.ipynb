{
 "cells": [
  {
   "cell_type": "markdown",
   "metadata": {},
   "source": [
    "# Tech Meeting 2024 Q1 - Run with(out) `ini` files"
   ]
  },
  {
   "cell_type": "markdown",
   "metadata": {},
   "source": [
    "The technical meeting that took place on 2024.04.03 related to the Q1 sprints covered the following topics:\n",
    "\n",
    "1. Running an analysis whilst modifying the `.ini` configuration files.\n",
    "2. Usage of enumerations within `ra2ce`.\n",
    "3. Discussion on long term views for `ra2ce` subprojects.\n",
    "4. Walk-through, on how to add new analyses to the current solution.\n",
    "\n",
    "This jupyter notebook will covers the first point."
   ]
  },
  {
   "cell_type": "markdown",
   "metadata": {},
   "source": [
    "## 1. Running an analysis whilst modifying the `.ini` configuration files"
   ]
  },
  {
   "cell_type": "markdown",
   "metadata": {},
   "source": [
    "It is entirely possible to generate a ra2ce analysis (or just a network) without having to generate `.ini` files. However, most of the times we will  only want to modify a few properties of a given `network.ini` or `analysis.ini` file.\n",
    "At the current version `v0.8.1` we can solve both options as follows:\n",
    "\n",
    "1. Load the `.ini` files and then modify them at our own choice.\n",
    "2. Fully creating a `Ra2ceHandler` instance based on python objects ( `NetworkConfigData` and `AnalysisConfigData`)."
   ]
  },
  {
   "cell_type": "markdown",
   "metadata": {},
   "source": [
    "### 1.1. Modify existing configurations from code"
   ]
  },
  {
   "cell_type": "markdown",
   "metadata": {},
   "source": [
    "Given our most common use case, we want to load a network and analysis and potentially modifying some of its properties. This was already accomplished in the \"ra2ce hackathon 2024 Q1\".\n",
    "\n",
    "To achieve it, simply use the regular `Ra2ceHandler` with your desired `ini` files and then access the corresponding `NetworkConfigData` and `AnalysisConfigData` properties. See the example below."
   ]
  },
  {
   "cell_type": "markdown",
   "metadata": {},
   "source": [
    "1. Initialize the Ra2ce handler with valid `.ini` files."
   ]
  },
  {
   "cell_type": "code",
   "execution_count": null,
   "metadata": {},
   "outputs": [],
   "source": [
    "from pathlib import Path\n",
    "\n",
    "from ra2ce.ra2ce_handler import Ra2ceHandler\n",
    "\n",
    "# Define the location of our example test data.\n",
    "_root_dir = Path(\"data\").joinpath(\"direct_analysis\")\n",
    "assert _root_dir.exists()\n",
    "\n",
    "_network_file = _root_dir.joinpath(\"network.ini\")\n",
    "assert _network_file.exists()\n",
    "\n",
    "_analysis_file = _root_dir.joinpath(\"analysis.ini\")\n",
    "assert _analysis_file.exists()\n",
    "\n",
    "# Initialize handler\n",
    "_handler = Ra2ceHandler(_network_file, _analysis_file)"
   ]
  },
  {
   "cell_type": "markdown",
   "metadata": {},
   "source": [
    "2. In addition, we can verify if the analysis and network are correctly set."
   ]
  },
  {
   "cell_type": "code",
   "execution_count": null,
   "metadata": {},
   "outputs": [],
   "source": [
    "from ra2ce.network.network_config_data.network_config_data import NetworkConfigData\n",
    "from ra2ce.analysis.analysis_config_data.analysis_config_data import AnalysisConfigData\n",
    "\n",
    "assert isinstance(_handler.input_config.network_config.config_data, NetworkConfigData)\n",
    "assert isinstance(_handler.input_config.analysis_config.config_data, AnalysisConfigData)"
   ]
  },
  {
   "cell_type": "markdown",
   "metadata": {},
   "source": [
    "3. Configure the network and analyses"
   ]
  },
  {
   "cell_type": "code",
   "execution_count": null,
   "metadata": {},
   "outputs": [],
   "source": [
    "_handler.configure()"
   ]
  },
  {
   "cell_type": "markdown",
   "metadata": {},
   "source": [
    "4. Run the analysis."
   ]
  },
  {
   "cell_type": "code",
   "execution_count": null,
   "metadata": {},
   "outputs": [],
   "source": [
    "_handler.run_analysis()"
   ]
  },
  {
   "cell_type": "markdown",
   "metadata": {},
   "source": [
    "### 1.2. Create Ra2ce Handler without `ini` files"
   ]
  },
  {
   "cell_type": "markdown",
   "metadata": {},
   "source": [
    "__DISCLAIMER!__\n",
    "This functionality will be streamlined as resolution of issue [#389](https://github.com/Deltares/ra2ce/issues/389)"
   ]
  },
  {
   "cell_type": "markdown",
   "metadata": {},
   "source": [
    "This step, however longer than required, will demonstrate how to emulate the usage of `ini` files. We relate the `.ini` files as:\n",
    "\n",
    "- `network.ini` to `NetworkConfigData`,\n",
    "- `analysis.ini` to `AnalysisConfigData`.\n",
    "\n",
    "Both `ConfigData` items are python objects (`dataclasses`) as such, it is entirely possible to manually manipulate them via code, therefore avoiding the need of definition and usage of their related `ini` files."
   ]
  },
  {
   "cell_type": "markdown",
   "metadata": {},
   "source": [
    "1. Initialize the objects representing the `.ini` files."
   ]
  },
  {
   "cell_type": "code",
   "execution_count": null,
   "metadata": {},
   "outputs": [],
   "source": [
    "from ra2ce.network.network_config_data.network_config_data import NetworkConfigData\n",
    "from ra2ce.analysis.analysis_config_data.analysis_config_data import AnalysisConfigData\n",
    "\n",
    "_network_config_data = NetworkConfigData()\n",
    "_analysis_config_data = AnalysisConfigData()"
   ]
  },
  {
   "cell_type": "markdown",
   "metadata": {},
   "source": [
    "2. (Optional) Initialize logger."
   ]
  },
  {
   "cell_type": "code",
   "execution_count": null,
   "metadata": {},
   "outputs": [],
   "source": [
    "from ra2ce.ra2ce_logging import Ra2ceLogger\n",
    "\n",
    "# Initialize logger.\n",
    "_output_logger_path = Path(\"data\").joinpath(\"logging\")\n",
    "if _output_logger_path.exists():\n",
    "    import shutil\n",
    "    shutil.rmtree(_output_logger_path)\n",
    "_output_logger_path.mkdir(parents=True)\n",
    "\n",
    "Ra2ceLogger(logging_dir=_output_logger_path, logger_name=\"RA2CE\")"
   ]
  },
  {
   "cell_type": "markdown",
   "metadata": {},
   "source": [
    "3. Put said objects together in the config wrapper."
   ]
  },
  {
   "cell_type": "code",
   "execution_count": null,
   "metadata": {},
   "outputs": [],
   "source": [
    "# Define network config wrapper\n",
    "from ra2ce.network.network_config_wrapper import NetworkConfigWrapper\n",
    "\n",
    "_network_config_wrapper = NetworkConfigWrapper()\n",
    "_network_config_wrapper.config_data = _network_config_data\n",
    "_network_config_wrapper.configure()\n",
    "\n",
    "# Define analysis config wrapper\n",
    "from ra2ce.analysis.analysis_config_wrapper import AnalysisConfigWrapper\n",
    "\n",
    "_analysis_config_wrapper = AnalysisConfigWrapper()\n",
    "_analysis_config_wrapper.config_data = _analysis_config_data\n",
    "_analysis_config_wrapper.config_data.network = _network_config_wrapper.config_data.network\n",
    "_analysis_config_wrapper.config_data.origins_destinations = (\n",
    "    _network_config_wrapper.config_data.origins_destinations\n",
    ")\n",
    "_analysis_config_wrapper.graph_files = _network_config_wrapper.graph_files\n",
    "_analysis_config_wrapper.configure()\n",
    "\n",
    "# Initialize wrapper\n",
    "from ra2ce.configuration.config_wrapper import ConfigWrapper\n",
    "\n",
    "_config_wrapper = ConfigWrapper()\n",
    "_config_wrapper.analysis_config = _analysis_config_wrapper\n",
    "_config_wrapper.network_config = _network_config_wrapper\n",
    "\n",
    "_config_wrapper.configure()"
   ]
  },
  {
   "cell_type": "markdown",
   "metadata": {},
   "source": [
    "4. Run analysis"
   ]
  },
  {
   "cell_type": "code",
   "execution_count": null,
   "metadata": {},
   "outputs": [],
   "source": [
    "# Run analysis\n",
    "from ra2ce.runners import AnalysisRunnerFactory\n",
    "\n",
    "_runner = AnalysisRunnerFactory.get_runner(_config_wrapper)\n",
    "_runner.run(_config_wrapper.analysis_config)"
   ]
  },
  {
   "cell_type": "markdown",
   "metadata": {},
   "source": [
    "### 1.3. Create Ra2ce Handler without `ini` files - after #389\n",
    "\n",
    "In this example the network and analysis configuration are read from file before creation of the `Ra2ceHandler`.\n",
    "This can be replaced by any other way of creating your configuration, e.g. by creating it from scratch by `NetworkConfigWrapper()` and `AnalysisConfigWrapper()`.\n",
    "The handler doesn't need file at creation time.\n",
    "The analysis should yield the same results as `example_direct_damage.ipynb`.\n",
    "Note that the logfile isn't created."
   ]
  },
  {
   "cell_type": "code",
   "execution_count": 6,
   "metadata": {},
   "outputs": [
    {
     "name": "stderr",
     "output_type": "stream",
     "text": [
      "WARNING:root:No valid location provided to start logging: no logfile will be created.\n"
     ]
    },
    {
     "name": "stderr",
     "output_type": "stream",
     "text": [
      "c:\\Users\\klapwij\\code\\ra2ce\\.env\\lib\\site-packages\\osmnx\\simplification.py:454: UserWarning: Geometry is in a geographic CRS. Results from 'buffer' are likely incorrect. Use 'GeoSeries.to_crs()' to re-project geometries to a projected CRS before this operation.\n",
      "\n",
      "  merged = utils_graph.graph_to_gdfs(G, edges=False)[\"geometry\"].buffer(tolerance).unary_union\n",
      "c:\\Users\\klapwij\\code\\ra2ce\\.env\\lib\\site-packages\\osmnx\\simplification.py:501: UserWarning: Geometry is in a geographic CRS. Results from 'centroid' are likely incorrect. Use 'GeoSeries.to_crs()' to re-project geometries to a projected CRS before this operation.\n",
      "\n",
      "  centroids = node_clusters.centroid\n",
      "100%|██████████| 4092/4092 [00:00<00:00, 272802.43it/s]\n",
      "WARNING:root:No valid file found with average speeds in ..\\data\\direct_analysis\\static\\output_graph\\avg_speed.csv, calculating and saving them instead.\n",
      "C:\\Users\\klapwij\\code\\ra2ce\\ra2ce\\network\\networks_utils.py:1859: SettingWithCopyWarning: \n",
      "A value is trying to be set on a copy of a slice from a DataFrame\n",
      "\n",
      "See the caveats in the documentation: https://pandas.pydata.org/pandas-docs/stable/user_guide/indexing.html#returning-a-view-versus-a-copy\n",
      "  df[\"avg_speed\"].iloc[i] = df.loc[\n",
      "C:\\Users\\klapwij\\code\\ra2ce\\ra2ce\\network\\network_wrappers\\osm_network_wrapper\\osm_network_wrapper.py:194: RuntimeWarning: divide by zero encountered in scalar divide\n",
      "  hours = (edata[\"length\"] / 1000) / edata[\"avgspeed\"]\n",
      "C:\\Users\\klapwij\\code\\ra2ce\\ra2ce\\network\\networks.py:192: UserWarning: Some edges have missing 'avgspeed' attribute. Time values set to None.\n",
      "  warnings.warn(\n",
      "C:\\Users\\klapwij\\code\\ra2ce\\ra2ce\\network\\networks.py:208: UserWarning: Some edges have missing 'avgspeed' attribute. Time values set to None.\n",
      "  warnings.warn(\n",
      "WARNING:root:Hazard crs EPSG:32736 and graph crs EPSG:4326 are inconsistent,\n",
      "                                                  we try to reproject the graph crs\n",
      "Graph hazard overlay with max_flood_depth: 100%|██████████| 2233/2233 [00:24<00:00, 89.38it/s] \n",
      "Graph fraction with hazard overlay with max_flood_depth: 100%|██████████| 2233/2233 [00:40<00:00, 55.71it/s] \n",
      "WARNING:root:Hazard crs EPSG:32736 and gdf crs epsg:4326 are inconsistent,\n",
      "                                                we try to reproject the gdf crs\n",
      "WARNING:root:Some geometries have NoneType objects (no coordinate information), namely: Empty GeoDataFrame\n",
      "Columns: [osmid, oneway, highway, reversed, length, rfid_c, rfid, name, maxspeed, lanes, ref, junction, bridge, geometry, time]\n",
      "Index: [].This could be due to segmentation, and might cause an exception in hazard overlay\n",
      "Network hazard overlay with max_flood_depth: 100%|██████████| 10092/10092 [01:49<00:00, 91.91it/s] \n",
      "Network fraction with hazard overlay with max_flood_depth: 100%|██████████| 10092/10092 [01:48<00:00, 92.91it/s]\n",
      "WARNING:root:Of the 10092 road segments, only 258 had lane data, so for 9834 the '\n",
      "                                    lane data will be interpolated from the existing data\n",
      "WARNING:root:Interpolated the missing lane data as follows: {'other': 2.0, 'secondary': 2.0, 'tertiary': 2.0}\n",
      "WARNING:root:Damage calculations with Huizinga curves are based on Van Ginkel et al. 2021: https://nhess.copernicus.org/articles/21/1011/2021/\n",
      "WARNING:root:All damages represent the former EU-28 (before Brexit), 2015-pricelevel in Euro's.\n",
      "                            To convert to local currency, these need to be:\n",
      "                                multiplied by the ratio (pricelevel_XXXX / pricelevel_2015)\n",
      "                                multiply by the ratio (local_GDP_per_capita / EU-28-2015-GDP_per_capita)          \n",
      "                            EU-28-2015-GDP_per_capita = 39.200 euro\n",
      "                        \n",
      "WARNING:root:These numbers assume that motorways that each driving direction is mapped as a seperate segment such as in OSM!!!\n"
     ]
    },
    {
     "data": {
      "text/plain": [
       "[AnalysisResultWrapper(analysis_result=                                  osmid  oneway   infra_type  reversed  \\\n",
       " u           v           key                                              \n",
       " 567924681   567929942   0      44785078    True     tertiary     False   \n",
       "             1934771035  0     820923407   False     tertiary      True   \n",
       " 567924688   5639948250  0      44794760   False     tertiary     False   \n",
       "             5639948249  0      44794760   False     tertiary      True   \n",
       " 567924689   4724793628  0      44794760   False     tertiary     False   \n",
       " ...                                 ...     ...          ...       ...   \n",
       " 11793125032 11793125033 0    1270107335   False  residential     False   \n",
       "             11793125031 0    1270107335   False  residential      True   \n",
       " 11793125033 4095038521  0      44794760   False     tertiary     False   \n",
       "             5651483641  0      44794760   False     tertiary      True   \n",
       "             11793125032 0    1270107335   False  residential      True   \n",
       " \n",
       "                              length  rfid_c  rfid                       name  \\\n",
       " u           v           key                                                    \n",
       " 567924681   567929942   0      35.0       1     2                        nan   \n",
       "             1934771035  0      70.0       2     1  Ava Mártires da Revolução   \n",
       " 567924688   5639948250  0      12.0       3  3259         Rua Carlos Pereira   \n",
       "             5639948249  0      17.0       4  1088         Rua Carlos Pereira   \n",
       " 567924689   4724793628  0      14.0       5  1087         Rua Carlos Pereira   \n",
       " ...                             ...     ...   ...                        ...   \n",
       " 11793125032 11793125033 0     104.0   10088  4089                        nan   \n",
       "             11793125031 0     100.0   10089  4092                        nan   \n",
       " 11793125033 4095038521  0      11.0   10090  4090         Rua Carlos Pereira   \n",
       "             5651483641  0       1.0   10091  4091         Rua Carlos Pereira   \n",
       "             11793125032 0     104.0   10092  4092                        nan   \n",
       " \n",
       "                             maxspeed  lanes  ... bridge  \\\n",
       " u           v           key                  ...          \n",
       " 567924681   567929942   0        nan    2.0  ...    nan   \n",
       "             1934771035  0         60    2.0  ...    nan   \n",
       " 567924688   5639948250  0         60    2.0  ...    nan   \n",
       "             5639948249  0         60    2.0  ...    nan   \n",
       " 567924689   4724793628  0         60    2.0  ...    nan   \n",
       " ...                              ...    ...  ...    ...   \n",
       " 11793125032 11793125033 0        nan    2.0  ...    nan   \n",
       "             11793125031 0        nan    2.0  ...    nan   \n",
       " 11793125033 4095038521  0         60    2.0  ...    nan   \n",
       "             5651483641  0         60    2.0  ...    nan   \n",
       "             11793125032 0        nan    2.0  ...    nan   \n",
       " \n",
       "                                                                       geometry  \\\n",
       " u           v           key                                                      \n",
       " 567924681   567929942   0    LINESTRING (34.87673 -19.85047, 34.87642 -19.8...   \n",
       "             1934771035  0    LINESTRING (34.87673 -19.85047, 34.87737 -19.8...   \n",
       " 567924688   5639948250  0    LINESTRING (34.89940 -19.84205, 34.89937 -19.8...   \n",
       "             5639948249  0    LINESTRING (34.89940 -19.84205, 34.89943 -19.8...   \n",
       " 567924689   4724793628  0    LINESTRING (34.89778 -19.84420, 34.89767 -19.8...   \n",
       " ...                                                                        ...   \n",
       " 11793125032 11793125033 0    LINESTRING (34.90049 -19.83933, 34.89958 -19.8...   \n",
       "             11793125031 0    LINESTRING (34.90049 -19.83933, 34.90101 -19.8...   \n",
       " 11793125033 4095038521  0    LINESTRING (34.89958 -19.83970, 34.89957 -19.8...   \n",
       "             5651483641  0    LINESTRING (34.89958 -19.83970, 34.89958 -19.8...   \n",
       "             11793125032 0    LINESTRING (34.89958 -19.83970, 34.90049 -19.8...   \n",
       " \n",
       "                              time F_EV1_mi F_EV1_ma  F_EV1_me  F_EV1_fr  \\\n",
       " u           v           key                                               \n",
       " 567924681   567929942   0    None      NaN      NaN       NaN       0.0   \n",
       "             1934771035  0    None      NaN      NaN       NaN       0.0   \n",
       " 567924688   5639948250  0    None      NaN      NaN       NaN       0.0   \n",
       "             5639948249  0    None      NaN      NaN       NaN       0.0   \n",
       " 567924689   4724793628  0    None      NaN      NaN       NaN       0.0   \n",
       " ...                           ...      ...      ...       ...       ...   \n",
       " 11793125032 11793125033 0    None      NaN      NaN       NaN       0.0   \n",
       "             11793125031 0    None      NaN      NaN       NaN       0.0   \n",
       " 11793125033 4095038521  0    None      NaN      NaN       NaN       0.0   \n",
       "             5651483641  0    None      NaN      NaN       NaN       0.0   \n",
       "             11793125032 0    None      NaN      NaN       NaN       0.0   \n",
       " \n",
       "                              road_type  lanes_copy dam_EV1_HZ  \n",
       " u           v           key                                    \n",
       " 567924681   567929942   0     tertiary         2.0        NaN  \n",
       "             1934771035  0     tertiary         2.0        NaN  \n",
       " 567924688   5639948250  0     tertiary         2.0        NaN  \n",
       "             5639948249  0     tertiary         2.0        NaN  \n",
       " 567924689   4724793628  0     tertiary         2.0        NaN  \n",
       " ...                                ...         ...        ...  \n",
       " 11793125032 11793125033 0        other         2.0        NaN  \n",
       "             11793125031 0        other         2.0        NaN  \n",
       " 11793125033 4095038521  0     tertiary         2.0        NaN  \n",
       "             5651483641  0     tertiary         2.0        NaN  \n",
       "             11793125032 0        other         2.0        NaN  \n",
       " \n",
       " [10092 rows x 22 columns], analysis=<ra2ce.analysis.direct.direct_damage.DirectDamage object at 0x000002124A5AB340>)]"
      ]
     },
     "execution_count": 6,
     "metadata": {},
     "output_type": "execute_result"
    }
   ],
   "source": [
    "from pathlib import Path\n",
    "\n",
    "from ra2ce.analysis.analysis_config_data.analysis_config_data_reader import AnalysisConfigDataReader\n",
    "from ra2ce.network.network_config_data.network_config_data_reader import NetworkConfigDataReader\n",
    "from ra2ce.ra2ce_handler import Ra2ceHandler\n",
    "from ra2ce.runners import AnalysisRunnerFactory\n",
    "\n",
    "# Initialize configuration (replace this with your own configuration)\n",
    "_data_dir = Path(\"../data/direct_analysis\")\n",
    "_network_ini = _data_dir.joinpath(\"network.ini\")\n",
    "_network = NetworkConfigDataReader().read(_network_ini)\n",
    "_network.root_path = _data_dir.parent\n",
    "_network.input_path = _data_dir.joinpath(\"input\")\n",
    "_network.static_path = _data_dir.joinpath(\"static\")\n",
    "_network.output_path = _data_dir.joinpath(\"output\")\n",
    "_analysis_ini = _data_dir.joinpath(\"analysis.ini\")\n",
    "_analysis = AnalysisConfigDataReader().read(_analysis_ini)\n",
    "\n",
    "# Initialize handler from configuration\n",
    "_handler = Ra2ceHandler.from_config(_network, _analysis)\n",
    "\n",
    "# Configure handler\n",
    "_handler.configure()\n",
    "\n",
    "# Run analysis\n",
    "_runner = AnalysisRunnerFactory.get_runner(_handler.input_config)\n",
    "_runner.run(_handler.input_config.analysis_config)"
   ]
  }
 ],
 "metadata": {
  "kernelspec": {
   "display_name": "Python 3",
   "language": "python",
   "name": "python3"
  },
  "language_info": {
   "codemirror_mode": {
    "name": "ipython",
    "version": 3
   },
   "file_extension": ".py",
   "mimetype": "text/x-python",
   "name": "python",
   "nbconvert_exporter": "python",
   "pygments_lexer": "ipython3",
   "version": "3.10.13"
  }
 },
 "nbformat": 4,
 "nbformat_minor": 2
}
