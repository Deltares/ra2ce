{
 "cells": [
  {
   "cell_type": "markdown",
   "metadata": {},
   "source": [
    "# Moonshot 5 Hackathon - Drought in the Netherlands\n",
    "Using RA2CE to assess the capacity of the road network between Rotterdam and the Ruhr area."
   ]
  },
  {
   "cell_type": "code",
   "execution_count": 19,
   "metadata": {},
   "outputs": [],
   "source": [
    "from ra2ce.ra2ce_handler import Ra2ceHandler # import the ra2cehandler to run ra2ce analyses\n",
    "from pathlib import Path\n",
    "import networkx as nx\n",
    "import pandas as pd\n",
    "from ra2ce.common.io.readers.graph_pickle_reader import GraphPickleReader\n",
    "from ra2ce.graph.exporters.multi_graph_network_exporter import MultiGraphNetworkExporter\n",
    "\n",
    "_network_ini_name = \"network.ini\" # set the name for the network.ini settings file\n",
    "\n",
    "folder_dir = Path(r\"C:\\Users\\groen_fe\\OneDrive - Stichting Deltares\\1_Projects\\Moonshot_5\\small_graph_od\")\n",
    "\n",
    "network_ini = folder_dir / _network_ini_name\n",
    "assert network_ini.is_file() # check whether the network.ini file exists"
   ]
  },
  {
   "cell_type": "markdown",
   "metadata": {},
   "source": [
    "Download the road network from OSM."
   ]
  },
  {
   "cell_type": "code",
   "execution_count": 20,
   "metadata": {},
   "outputs": [
    {
     "name": "stderr",
     "output_type": "stream",
     "text": [
      "2023-09-20 02:51:22 PM - [ra2ce_logging.py:41] - root - INFO - RA2CE logger initialized.\n",
      "2023-09-20 02:51:22 PM - [ra2ce_logging.py:41] - root - INFO - RA2CE logger initialized.\n",
      "2023-09-20 02:51:22 PM - [network_config_wrapper.py:106] - root - INFO - Existing graph/network found: C:\\Users\\groen_fe\\OneDrive - Stichting Deltares\\1_Projects\\Moonshot_5\\small_graph_od\\static\\output_graph\\base_graph.p.\n",
      "2023-09-20 02:51:22 PM - [network_config_wrapper.py:106] - root - INFO - Existing graph/network found: C:\\Users\\groen_fe\\OneDrive - Stichting Deltares\\1_Projects\\Moonshot_5\\small_graph_od\\static\\output_graph\\base_graph.p.\n",
      "2023-09-20 02:51:22 PM - [network_config_wrapper.py:106] - root - INFO - Existing graph/network found: C:\\Users\\groen_fe\\OneDrive - Stichting Deltares\\1_Projects\\Moonshot_5\\small_graph_od\\static\\output_graph\\base_network.feather.\n",
      "2023-09-20 02:51:22 PM - [network_config_wrapper.py:106] - root - INFO - Existing graph/network found: C:\\Users\\groen_fe\\OneDrive - Stichting Deltares\\1_Projects\\Moonshot_5\\small_graph_od\\static\\output_graph\\base_network.feather.\n",
      "2023-09-20 02:51:22 PM - [networks.py:183] - root - INFO - Apparently, you already did create a network with ra2ce earlier. Ra2ce will use this: C:\\Users\\groen_fe\\OneDrive - Stichting Deltares\\1_Projects\\Moonshot_5\\small_graph_od\\static\\output_graph\\base_graph.p\n",
      "2023-09-20 02:51:22 PM - [networks.py:183] - root - INFO - Apparently, you already did create a network with ra2ce earlier. Ra2ce will use this: C:\\Users\\groen_fe\\OneDrive - Stichting Deltares\\1_Projects\\Moonshot_5\\small_graph_od\\static\\output_graph\\base_graph.p\n",
      "2023-09-20 02:51:23 PM - [origins_destinations.py:314] - root - INFO - Finding vertices closest to Origins and Destinations\n",
      "2023-09-20 02:51:23 PM - [origins_destinations.py:314] - root - INFO - Finding vertices closest to Origins and Destinations\n",
      "Adding Origin-Destination nodes to graph: 12it [00:00, 342.83it/s]\n",
      "2023-09-20 02:51:23 PM - [networks.py:117] - root - INFO - Saved origin_destination_table.feather in C:\\Users\\groen_fe\\OneDrive - Stichting Deltares\\1_Projects\\Moonshot_5\\small_graph_od\\static\\output_graph.\n",
      "2023-09-20 02:51:23 PM - [networks.py:117] - root - INFO - Saved origin_destination_table.feather in C:\\Users\\groen_fe\\OneDrive - Stichting Deltares\\1_Projects\\Moonshot_5\\small_graph_od\\static\\output_graph.\n",
      "2023-09-20 02:51:23 PM - [networks.py:123] - root - INFO - Saved origin_destination_table in C:\\Users\\groen_fe\\OneDrive - Stichting Deltares\\1_Projects\\Moonshot_5\\small_graph_od\\static\\output_graph.\n",
      "2023-09-20 02:51:23 PM - [networks.py:123] - root - INFO - Saved origin_destination_table in C:\\Users\\groen_fe\\OneDrive - Stichting Deltares\\1_Projects\\Moonshot_5\\small_graph_od\\static\\output_graph.\n",
      "2023-09-20 02:51:23 PM - [multi_graph_network_exporter.py:56] - root - INFO - Saved origins_destinations_graph in C:\\Users\\groen_fe\\OneDrive - Stichting Deltares\\1_Projects\\Moonshot_5\\small_graph_od\\static\\output_graph.\n",
      "2023-09-20 02:51:23 PM - [multi_graph_network_exporter.py:56] - root - INFO - Saved origins_destinations_graph in C:\\Users\\groen_fe\\OneDrive - Stichting Deltares\\1_Projects\\Moonshot_5\\small_graph_od\\static\\output_graph.\n",
      "2023-09-20 02:51:23 PM - [networks_utils.py:1210] - root - INFO - Saving nodes as shapefile: C:\\Users\\groen_fe\\OneDrive - Stichting Deltares\\1_Projects\\Moonshot_5\\small_graph_od\\static\\output_graph\\origins_destinations_graph_nodes.gpkg\n",
      "2023-09-20 02:51:23 PM - [networks_utils.py:1210] - root - INFO - Saving nodes as shapefile: C:\\Users\\groen_fe\\OneDrive - Stichting Deltares\\1_Projects\\Moonshot_5\\small_graph_od\\static\\output_graph\\origins_destinations_graph_nodes.gpkg\n",
      "2023-09-20 02:51:23 PM - [networks_utils.py:1211] - root - INFO - Saving edges as shapefile: C:\\Users\\groen_fe\\OneDrive - Stichting Deltares\\1_Projects\\Moonshot_5\\small_graph_od\\static\\output_graph\\origins_destinations_graph_edges.gpkg\n",
      "2023-09-20 02:51:23 PM - [networks_utils.py:1211] - root - INFO - Saving edges as shapefile: C:\\Users\\groen_fe\\OneDrive - Stichting Deltares\\1_Projects\\Moonshot_5\\small_graph_od\\static\\output_graph\\origins_destinations_graph_edges.gpkg\n",
      "2023-09-20 02:51:26 PM - [multi_graph_network_exporter.py:48] - root - INFO - Saved origins_destinations_graph_edges.shp and origins_destinations_graph_nodes.shp in C:\\Users\\groen_fe\\OneDrive - Stichting Deltares\\1_Projects\\Moonshot_5\\small_graph_od\\static\\output_graph.\n",
      "2023-09-20 02:51:26 PM - [multi_graph_network_exporter.py:48] - root - INFO - Saved origins_destinations_graph_edges.shp and origins_destinations_graph_nodes.shp in C:\\Users\\groen_fe\\OneDrive - Stichting Deltares\\1_Projects\\Moonshot_5\\small_graph_od\\static\\output_graph.\n"
     ]
    }
   ],
   "source": [
    "race = Ra2ceHandler(network=network_ini, analysis=None)\n",
    "race.configure()"
   ]
  },
  {
   "cell_type": "markdown",
   "metadata": {},
   "source": [
    "We can inspect the created graph"
   ]
  },
  {
   "cell_type": "code",
   "execution_count": 21,
   "metadata": {},
   "outputs": [],
   "source": [
    "od_graph = folder_dir / \"static\" / \"output_graph\" / \"origins_destinations_graph.p\"\n",
    "graph = GraphPickleReader().read(od_graph)"
   ]
  },
  {
   "cell_type": "markdown",
   "metadata": {},
   "source": [
    "We pick the lowest number of lanes per road segment and assign 1 lane to the road segments without data."
   ]
  },
  {
   "cell_type": "code",
   "execution_count": 22,
   "metadata": {},
   "outputs": [],
   "source": [
    "for e in graph.edges(data=True, keys=True):\n",
    "    if \"lanes\" not in e[-1]:\n",
    "        nr_lanes = 1\n",
    "    else:\n",
    "        nr_lanes = e[-1][\"lanes\"]\n",
    "    if isinstance(nr_lanes, list):\n",
    "        nr_lanes = min([int(x) for x in nr_lanes])\n",
    "    if isinstance(nr_lanes, str):\n",
    "        nr_lanes = int(nr_lanes)\n",
    "    graph[e[0]][e[1]][e[2]][\"lanes_new\"] = nr_lanes\n"
   ]
  },
  {
   "cell_type": "markdown",
   "metadata": {},
   "source": [
    "We translate the number of lanes to capacity."
   ]
  },
  {
   "cell_type": "code",
   "execution_count": 23,
   "metadata": {},
   "outputs": [],
   "source": [
    "capacity = folder_dir / \"road_capacity.csv\"\n",
    "capacity = pd.read_csv(capacity)\n",
    "single_cap_list = capacity[\"E (pc/h/ln)\"].to_list()\n",
    "\n",
    "for e in graph.edges(data=True, keys=True):\n",
    "    if e[-1]['avgspeed'] >= 91:\n",
    "        E = single_cap_list[0]\n",
    "    elif e[-1]['avgspeed'] < 91 and e[-1]['avgspeed'] > 84:\n",
    "        E = single_cap_list[1]\n",
    "    elif e[-1]['avgspeed'] <= 84 and  e[-1]['avgspeed'] > 76:\n",
    "        E = single_cap_list[2]\n",
    "    elif e[-1]['avgspeed'] <= 76:\n",
    "        E = single_cap_list[3]  \n",
    "    graph[e[0]][e[1]][e[2]][\"capacity\"] = E * e[-1][\"lanes_new\"]"
   ]
  },
  {
   "cell_type": "code",
   "execution_count": 24,
   "metadata": {},
   "outputs": [
    {
     "name": "stderr",
     "output_type": "stream",
     "text": [
      "2023-09-20 02:51:33 PM - [networks_utils.py:1210] - root - INFO - Saving nodes as shapefile: C:\\Users\\groen_fe\\OneDrive - Stichting Deltares\\1_Projects\\Moonshot_5\\small_graph_od\\static\\output_graph\\updated_network_nodes.gpkg\n",
      "2023-09-20 02:51:33 PM - [networks_utils.py:1210] - root - INFO - Saving nodes as shapefile: C:\\Users\\groen_fe\\OneDrive - Stichting Deltares\\1_Projects\\Moonshot_5\\small_graph_od\\static\\output_graph\\updated_network_nodes.gpkg\n",
      "2023-09-20 02:51:33 PM - [networks_utils.py:1211] - root - INFO - Saving edges as shapefile: C:\\Users\\groen_fe\\OneDrive - Stichting Deltares\\1_Projects\\Moonshot_5\\small_graph_od\\static\\output_graph\\updated_network_edges.gpkg\n",
      "2023-09-20 02:51:33 PM - [networks_utils.py:1211] - root - INFO - Saving edges as shapefile: C:\\Users\\groen_fe\\OneDrive - Stichting Deltares\\1_Projects\\Moonshot_5\\small_graph_od\\static\\output_graph\\updated_network_edges.gpkg\n",
      "2023-09-20 02:51:35 PM - [multi_graph_network_exporter.py:48] - root - INFO - Saved updated_network_edges.shp and updated_network_nodes.shp in C:\\Users\\groen_fe\\OneDrive - Stichting Deltares\\1_Projects\\Moonshot_5\\small_graph_od\\static\\output_graph.\n",
      "2023-09-20 02:51:35 PM - [multi_graph_network_exporter.py:48] - root - INFO - Saved updated_network_edges.shp and updated_network_nodes.shp in C:\\Users\\groen_fe\\OneDrive - Stichting Deltares\\1_Projects\\Moonshot_5\\small_graph_od\\static\\output_graph.\n",
      "2023-09-20 02:51:35 PM - [multi_graph_network_exporter.py:56] - root - INFO - Saved updated_network in C:\\Users\\groen_fe\\OneDrive - Stichting Deltares\\1_Projects\\Moonshot_5\\small_graph_od\\static\\output_graph.\n",
      "2023-09-20 02:51:35 PM - [multi_graph_network_exporter.py:56] - root - INFO - Saved updated_network in C:\\Users\\groen_fe\\OneDrive - Stichting Deltares\\1_Projects\\Moonshot_5\\small_graph_od\\static\\output_graph.\n"
     ]
    }
   ],
   "source": [
    "exporter = MultiGraphNetworkExporter(basename=\"updated_network\", export_types=[\"shp\", \"pickle\"])\n",
    "# exporter.export_to_shp(output_dir=folder_dir / \"static\" / \"output_graph\", export_data=graph)\n",
    "exporter.export_to_pickle(output_dir=folder_dir / \"static\" / \"output_graph\", export_data=graph)"
   ]
  },
  {
   "cell_type": "markdown",
   "metadata": {},
   "source": [
    "With the network we can start the analysis with looking at a base scenario"
   ]
  },
  {
   "cell_type": "code",
   "execution_count": 25,
   "metadata": {},
   "outputs": [],
   "source": [
    "from shapely.geometry import LineString, MultiLineString\n",
    "import geopandas as gpd"
   ]
  },
  {
   "cell_type": "code",
   "execution_count": 26,
   "metadata": {},
   "outputs": [],
   "source": [
    "origins = gpd.read_file(r\"C:\\Users\\groen_fe\\OneDrive - Stichting Deltares\\1_Projects\\Moonshot_5\\small_graph_od\\static\\network\\origins.gpkg\")\n",
    "destinations = gpd.read_file(r\"C:\\Users\\groen_fe\\OneDrive - Stichting Deltares\\1_Projects\\Moonshot_5\\small_graph_od\\static\\network\\destinations.gpkg\")"
   ]
  },
  {
   "cell_type": "code",
   "execution_count": 27,
   "metadata": {},
   "outputs": [],
   "source": [
    "# Rename the origins and destinations\n",
    "for n in graph.nodes(data=True):\n",
    "    if \"od_id\" in n[-1]:\n",
    "        if \"offloading\" in n[-1][\"od_id\"]:\n",
    "            # the node is an origin\n",
    "            graph.nodes[n[0]][\"od_id\"] = origins.loc[origins[\"identifier\"] == int(n[-1][\"od_id\"].split(\"_\")[-1])][\"name\"].values[0]\n",
    "        elif \"destination\" in n[-1][\"od_id\"]:\n",
    "            # the node is a destination\n",
    "            graph.nodes[n[0]][\"od_id\"] = destinations.loc[destinations[\"identifier\"] == int(n[-1][\"od_id\"].split(\"_\")[-1]), \"name\"].values[0]"
   ]
  },
  {
   "cell_type": "code",
   "execution_count": 39,
   "metadata": {},
   "outputs": [],
   "source": [
    "list_ods = [(n, v[\"od_id\"]) for n, v in graph.nodes(data=True) if \"od_id\" in v]\n",
    "list_destinations = [x for x in list_ods if x[1].startswith(\"DE\")]\n",
    "list_origins = [x for x in list_ods if x[1].startswith(\"NL\")]"
   ]
  },
  {
   "cell_type": "code",
   "execution_count": 32,
   "metadata": {},
   "outputs": [
    {
     "data": {
      "text/plain": [
       "Index(['UNLO_herkomst', 'UNLO_bestemming', 'v38_Vervoerd_gewicht_sum',\n",
       "       'v38_Vervoerd_gewicht_count', 'v30_4_Containers_TEU_S_sum',\n",
       "       'v30_4_Containers_TEU_S_count', 'count_count'],\n",
       "      dtype='object')"
      ]
     },
     "execution_count": 32,
     "metadata": {},
     "output_type": "execute_result"
    }
   ],
   "source": [
    "# Filter the OD matrix\n",
    "full_od_matrix = pd.read_csv(r\"C:\\Users\\groen_fe\\OneDrive - Stichting Deltares\\1_Projects\\Moonshot_5\\full_graph\\od_matrix.csv\")\n",
    "full_od_matrix.columns"
   ]
  },
  {
   "cell_type": "code",
   "execution_count": 35,
   "metadata": {},
   "outputs": [],
   "source": [
    "small_od_matrix = full_od_matrix.loc[full_od_matrix[\"UNLO_bestemming\"].isin(list_ods)]\n",
    "\n",
    "# Save to csv\n",
    "small_od_matrix.to_csv(r\"C:\\Users\\groen_fe\\OneDrive - Stichting Deltares\\1_Projects\\Moonshot_5\\small_graph_od\\od_matrix_small.csv\", index=False)"
   ]
  },
  {
   "cell_type": "code",
   "execution_count": 50,
   "metadata": {},
   "outputs": [
    {
     "data": {
      "text/html": [
       "<div>\n",
       "<style scoped>\n",
       "    .dataframe tbody tr th:only-of-type {\n",
       "        vertical-align: middle;\n",
       "    }\n",
       "\n",
       "    .dataframe tbody tr th {\n",
       "        vertical-align: top;\n",
       "    }\n",
       "\n",
       "    .dataframe thead th {\n",
       "        text-align: right;\n",
       "    }\n",
       "</style>\n",
       "<table border=\"1\" class=\"dataframe\">\n",
       "  <thead>\n",
       "    <tr style=\"text-align: right;\">\n",
       "      <th></th>\n",
       "      <th>UNLO_herkomst</th>\n",
       "      <th>UNLO_bestemming</th>\n",
       "      <th>v38_Vervoerd_gewicht_sum</th>\n",
       "      <th>v38_Vervoerd_gewicht_count</th>\n",
       "      <th>v30_4_Containers_TEU_S_sum</th>\n",
       "      <th>v30_4_Containers_TEU_S_count</th>\n",
       "      <th>count_count</th>\n",
       "    </tr>\n",
       "  </thead>\n",
       "  <tbody>\n",
       "    <tr>\n",
       "      <th>0</th>\n",
       "      <td>NLRTM</td>\n",
       "      <td>DEDUI</td>\n",
       "      <td>6310856574</td>\n",
       "      <td>3759</td>\n",
       "      <td>435200</td>\n",
       "      <td>3871</td>\n",
       "      <td>3871</td>\n",
       "    </tr>\n",
       "    <tr>\n",
       "      <th>3</th>\n",
       "      <td>NLRTM</td>\n",
       "      <td>DENSS</td>\n",
       "      <td>1696645715</td>\n",
       "      <td>1144</td>\n",
       "      <td>46668</td>\n",
       "      <td>1181</td>\n",
       "      <td>1181</td>\n",
       "    </tr>\n",
       "    <tr>\n",
       "      <th>4</th>\n",
       "      <td>NLRTM</td>\n",
       "      <td>DEEMM</td>\n",
       "      <td>1533052320</td>\n",
       "      <td>1236</td>\n",
       "      <td>153311</td>\n",
       "      <td>1253</td>\n",
       "      <td>1253</td>\n",
       "    </tr>\n",
       "    <tr>\n",
       "      <th>8</th>\n",
       "      <td>NLRTM</td>\n",
       "      <td>DEDUS</td>\n",
       "      <td>955337176</td>\n",
       "      <td>621</td>\n",
       "      <td>4674</td>\n",
       "      <td>652</td>\n",
       "      <td>652</td>\n",
       "    </tr>\n",
       "    <tr>\n",
       "      <th>11</th>\n",
       "      <td>NLRTM</td>\n",
       "      <td>DEDMG</td>\n",
       "      <td>719941127</td>\n",
       "      <td>904</td>\n",
       "      <td>538</td>\n",
       "      <td>919</td>\n",
       "      <td>919</td>\n",
       "    </tr>\n",
       "    <tr>\n",
       "      <th>14</th>\n",
       "      <td>NLRTM</td>\n",
       "      <td>DEWES</td>\n",
       "      <td>525349722</td>\n",
       "      <td>327</td>\n",
       "      <td>1441</td>\n",
       "      <td>377</td>\n",
       "      <td>377</td>\n",
       "    </tr>\n",
       "    <tr>\n",
       "      <th>18</th>\n",
       "      <td>NLRTM</td>\n",
       "      <td>DEKRE</td>\n",
       "      <td>233235659</td>\n",
       "      <td>216</td>\n",
       "      <td>2755</td>\n",
       "      <td>222</td>\n",
       "      <td>222</td>\n",
       "    </tr>\n",
       "    <tr>\n",
       "      <th>21</th>\n",
       "      <td>NLRTM</td>\n",
       "      <td>DEESU</td>\n",
       "      <td>182228879</td>\n",
       "      <td>108</td>\n",
       "      <td>12666</td>\n",
       "      <td>110</td>\n",
       "      <td>110</td>\n",
       "    </tr>\n",
       "    <tr>\n",
       "      <th>22</th>\n",
       "      <td>NLRTM</td>\n",
       "      <td>DECGN</td>\n",
       "      <td>164456274</td>\n",
       "      <td>136</td>\n",
       "      <td>9633</td>\n",
       "      <td>147</td>\n",
       "      <td>147</td>\n",
       "    </tr>\n",
       "    <tr>\n",
       "      <th>25</th>\n",
       "      <td>NLRTM</td>\n",
       "      <td>DEVRD</td>\n",
       "      <td>79270901</td>\n",
       "      <td>32</td>\n",
       "      <td>1287</td>\n",
       "      <td>42</td>\n",
       "      <td>42</td>\n",
       "    </tr>\n",
       "  </tbody>\n",
       "</table>\n",
       "</div>"
      ],
      "text/plain": [
       "   UNLO_herkomst UNLO_bestemming  v38_Vervoerd_gewicht_sum  \\\n",
       "0          NLRTM           DEDUI                6310856574   \n",
       "3          NLRTM           DENSS                1696645715   \n",
       "4          NLRTM           DEEMM                1533052320   \n",
       "8          NLRTM           DEDUS                 955337176   \n",
       "11         NLRTM           DEDMG                 719941127   \n",
       "14         NLRTM           DEWES                 525349722   \n",
       "18         NLRTM           DEKRE                 233235659   \n",
       "21         NLRTM           DEESU                 182228879   \n",
       "22         NLRTM           DECGN                 164456274   \n",
       "25         NLRTM           DEVRD                  79270901   \n",
       "\n",
       "    v38_Vervoerd_gewicht_count  v30_4_Containers_TEU_S_sum  \\\n",
       "0                         3759                      435200   \n",
       "3                         1144                       46668   \n",
       "4                         1236                      153311   \n",
       "8                          621                        4674   \n",
       "11                         904                         538   \n",
       "14                         327                        1441   \n",
       "18                         216                        2755   \n",
       "21                         108                       12666   \n",
       "22                         136                        9633   \n",
       "25                          32                        1287   \n",
       "\n",
       "    v30_4_Containers_TEU_S_count  count_count  \n",
       "0                           3871         3871  \n",
       "3                           1181         1181  \n",
       "4                           1253         1253  \n",
       "8                            652          652  \n",
       "11                           919          919  \n",
       "14                           377          377  \n",
       "18                           222          222  \n",
       "21                           110          110  \n",
       "22                           147          147  \n",
       "25                            42           42  "
      ]
     },
     "execution_count": 50,
     "metadata": {},
     "output_type": "execute_result"
    }
   ],
   "source": [
    "small_od_matrix"
   ]
  },
  {
   "cell_type": "code",
   "execution_count": 53,
   "metadata": {},
   "outputs": [],
   "source": [
    "# Add the containers to the origins and destinations\n",
    "for n in graph.nodes(data=True):\n",
    "    if \"od_id\" in n[-1]:\n",
    "        if \"NL\" in n[-1][\"od_id\"]:\n",
    "            # the node is an origin\n",
    "            nr_containers_3yr = small_od_matrix[\"v30_4_Containers_TEU_S_sum\"].sum()\n",
    "            nr_containers_hourly = nr_containers_3yr / 3 / (365 - 52) / 12\n",
    "            graph.nodes[n[0]][\"hourly_containers\"] = nr_containers_hourly\n",
    "        elif \"DE\" in n[-1][\"od_id\"]:\n",
    "            # the node is a destination\n",
    "            nr_containers_3yr = small_od_matrix.loc[small_od_matrix[\"UNLO_bestemming\"] == n[-1][\"od_id\"], \"v30_4_Containers_TEU_S_sum\"].values[0]\n",
    "            nr_containers_hourly = nr_containers_3yr / 3 / (365 - 52) / 12\n",
    "            graph.nodes[n[0]][\"hourly_containers\"] = - nr_containers_hourly"
   ]
  },
  {
   "cell_type": "code",
   "execution_count": 54,
   "metadata": {},
   "outputs": [
    {
     "name": "stderr",
     "output_type": "stream",
     "text": [
      "2023-09-20 04:26:20 PM - [multi_graph_network_exporter.py:56] - root - INFO - Saved network_with_containers in C:\\Users\\groen_fe\\OneDrive - Stichting Deltares\\1_Projects\\Moonshot_5\\small_graph_od\\static\\output_graph.\n",
      "2023-09-20 04:26:20 PM - [multi_graph_network_exporter.py:56] - root - INFO - Saved network_with_containers in C:\\Users\\groen_fe\\OneDrive - Stichting Deltares\\1_Projects\\Moonshot_5\\small_graph_od\\static\\output_graph.\n"
     ]
    }
   ],
   "source": [
    "exporter = MultiGraphNetworkExporter(basename=\"network_with_containers\", export_types=[\"shp\", \"pickle\"])\n",
    "# exporter.export_to_shp(output_dir=folder_dir / \"static\" / \"output_graph\", export_data=graph)\n",
    "exporter.export_to_pickle(output_dir=folder_dir / \"static\" / \"output_graph\", export_data=graph)"
   ]
  },
  {
   "cell_type": "code",
   "execution_count": 43,
   "metadata": {},
   "outputs": [],
   "source": [
    "weighing = \"length\"\n",
    "\n",
    "(\n",
    "    o_node_list,\n",
    "    d_node_list,\n",
    "    origin_list,\n",
    "    destination_list,\n",
    "    opt_path_list,\n",
    "    weighing_list,\n",
    "    match_ids_list,\n",
    "    geometries_list,\n",
    ") = ([], [], [], [], [], [], [], [])\n",
    "for o in list_origins:\n",
    "    for d in list_destinations:\n",
    "        if nx.has_path(graph, o[0], d[0]):\n",
    "            # calculate the length of the preferred route\n",
    "            pref_route = nx.dijkstra_path_length(graph, o[0], d[0], weight=weighing)\n",
    "\n",
    "            # save preferred route nodes\n",
    "            pref_nodes = nx.dijkstra_path(graph, o[0], d[0], weight=weighing)\n",
    "\n",
    "            # found out which edges belong to the preferred path\n",
    "            edgesinpath = list(zip(pref_nodes[0:], pref_nodes[1:]))\n",
    "\n",
    "            pref_edges = []\n",
    "            match_list = []\n",
    "            for u, v in edgesinpath:\n",
    "                # get edge with the lowest weighing if there are multiple edges that connect u and v\n",
    "                _uv_graph = graph[u][v]\n",
    "                edge_key = sorted(\n",
    "                    _uv_graph, key=lambda x, _fgraph=_uv_graph: _fgraph[x][weighing]\n",
    "                )[0]\n",
    "                _uv_graph_edge = _uv_graph[edge_key]\n",
    "                if \"geometry\" in _uv_graph_edge:\n",
    "                    pref_edges.append(_uv_graph_edge[\"geometry\"])\n",
    "                else:\n",
    "                    pref_edges.append(\n",
    "                        LineString(\n",
    "                            [graph.nodes[u][\"geometry\"], graph.nodes[v][\"geometry\"]]\n",
    "                        )\n",
    "                    )\n",
    "                if \"rfid\" in _uv_graph_edge:\n",
    "                    match_list.append(_uv_graph_edge[\"rfid\"])\n",
    "\n",
    "            # compile the road segments into one geometry\n",
    "            pref_edges = MultiLineString(pref_edges)\n",
    "\n",
    "            # save all data to lists (of lists)\n",
    "            o_node_list.append(o[0])\n",
    "            d_node_list.append(d[0])\n",
    "            origin_list.append(o[1])\n",
    "            destination_list.append(d[1])\n",
    "            opt_path_list.append(pref_nodes)\n",
    "            weighing_list.append(pref_route)\n",
    "            match_ids_list.append(match_list)\n",
    "            geometries_list.append(pref_edges)\n",
    "\n",
    "# Geodataframe to save all the optimal routes\n",
    "pref_routes = gpd.GeoDataFrame(\n",
    "    {\n",
    "        \"o_node\": o_node_list,\n",
    "        \"d_node\": d_node_list,\n",
    "        \"origin\": origin_list,\n",
    "        \"destination\": destination_list,\n",
    "        \"opt_path\": opt_path_list,\n",
    "        weighing: weighing_list,\n",
    "        \"match_ids\": match_ids_list,\n",
    "        \"geometry\": geometries_list,\n",
    "    },\n",
    "    geometry=\"geometry\",\n",
    "    crs=\"epsg:4326\",\n",
    ")"
   ]
  },
  {
   "cell_type": "code",
   "execution_count": 47,
   "metadata": {},
   "outputs": [
    {
     "name": "stderr",
     "output_type": "stream",
     "text": [
      "2023-09-20 03:12:02 PM - [analyses_indirect.py:1303] - root - INFO - Results saved to: C:\\Users\\groen_fe\\OneDrive - Stichting Deltares\\1_Projects\\Moonshot_5\\small_graph_od\\output\\optimal_routes.gpkg\n",
      "2023-09-20 03:12:02 PM - [analyses_indirect.py:1303] - root - INFO - Results saved to: C:\\Users\\groen_fe\\OneDrive - Stichting Deltares\\1_Projects\\Moonshot_5\\small_graph_od\\output\\optimal_routes.gpkg\n"
     ]
    }
   ],
   "source": [
    "from ra2ce.analyses.indirect.analyses_indirect import save_gdf\n",
    "save_gdf(pref_routes, r\"C:\\Users\\groen_fe\\OneDrive - Stichting Deltares\\1_Projects\\Moonshot_5\\small_graph_od\\output\\optimal_routes.gpkg\")"
   ]
  },
  {
   "cell_type": "markdown",
   "metadata": {},
   "source": [
    "Add all remaining data to the graph"
   ]
  },
  {
   "cell_type": "code",
   "execution_count": 55,
   "metadata": {},
   "outputs": [],
   "source": [
    "gdf = gpd.read_file(r\"N:\\Deltabox\\Postbox\\Meijer, Lieke\\daniel_added_intensityNLDE\\NLDE_traffic_morn_even_peak_hour_osmjoin.gpkg\")"
   ]
  },
  {
   "cell_type": "code",
   "execution_count": 58,
   "metadata": {},
   "outputs": [
    {
     "data": {
      "text/plain": [
       "Index(['osmid', 'oneway', 'lanes', 'ref', 'highway', 'maxspeed', 'length',\n",
       "       'rfid_c', 'bridge', 'rfid', 'avgspeed', 'time', 'lanes_new', 'capacity',\n",
       "       'tunnel', 'name', 'width', 'access', 'service', 'junction', 'u', 'v',\n",
       "       'key', 'BAANNR', 'WEGNR_V', 'RICHT_V', 'HECT_LTR_V', 'HM_V',\n",
       "       'BAANTYPE_V', 'TRAJECT_V', 'WEGNR_N', 'RICHT_N', 'HECT_LTR_N', 'HM_N',\n",
       "       'BAANTYPE_N', 'TRAJECT_N', 'REGIO', 'AL_OS_WR', 'AL_AS_WR', 'n',\n",
       "       'distance', 'feature_x', 'feature_y', 'nearest_x', 'nearest_y',\n",
       "       'morn_intens_h', 'even_intens_h', 'morn_capac_min_intens',\n",
       "       'even_capac_min_intens', 'geometry'],\n",
       "      dtype='object')"
      ]
     },
     "execution_count": 58,
     "metadata": {},
     "output_type": "execute_result"
    }
   ],
   "source": [
    "gdf.columns"
   ]
  },
  {
   "cell_type": "code",
   "execution_count": 62,
   "metadata": {},
   "outputs": [],
   "source": [
    "gdf[\"osmid\"] = gdf[\"osmid\"].astype(str)\n",
    "for e in graph.edges(data=True, keys=True):\n",
    "    graph[e[0]][e[1]][e[2]][\"morn_intens_h\"] = gdf.loc[gdf[\"osmid\"] == str(e[-1][\"osmid\"]), 'morn_intens_h'].values[0]\n",
    "    graph[e[0]][e[1]][e[2]][\"even_intens_h\"] = gdf.loc[gdf[\"osmid\"] == str(e[-1][\"osmid\"]), 'even_intens_h'].values[0]\n",
    "\n",
    "    graph[e[0]][e[1]][e[2]][\"morn_capac_min_intens\"] = graph[e[0]][e[1]][e[2]][\"capacity\"] - graph[e[0]][e[1]][e[2]][\"morn_intens_h\"]\n",
    "    graph[e[0]][e[1]][e[2]][\"even_capac_min_intens\"] = graph[e[0]][e[1]][e[2]][\"capacity\"] - graph[e[0]][e[1]][e[2]][\"even_intens_h\"]"
   ]
  },
  {
   "cell_type": "code",
   "execution_count": 63,
   "metadata": {},
   "outputs": [
    {
     "data": {
      "text/plain": [
       "{'osmid': [855646545, 1188631868, 957690949],\n",
       " 'oneway': True,\n",
       " 'lanes': '2',\n",
       " 'ref': 'A44',\n",
       " 'highway': 'motorway_link',\n",
       " 'maxspeed': '100',\n",
       " 'length': 264.0,\n",
       " 'rfid_c': [112102, 112108, 112112, 111828, 112892],\n",
       " 'bridge': 'yes',\n",
       " 'geometry': <shapely.geometry.linestring.LineString at 0x1b187cb0640>,\n",
       " 'rfid': 8501,\n",
       " 'avgspeed': 100,\n",
       " 'time': 9.0,\n",
       " 'lanes_new': 2,\n",
       " 'capacity': 4400,\n",
       " 'morn_intens_h': 1319.0,\n",
       " 'even_intens_h': 1319.0,\n",
       " 'morn_capac_min_intens': 3081.0,\n",
       " 'even_capac_min_intens': 3081.0}"
      ]
     },
     "execution_count": 63,
     "metadata": {},
     "output_type": "execute_result"
    }
   ],
   "source": [
    "graph[e[0]][e[1]][e[2]]"
   ]
  },
  {
   "cell_type": "code",
   "execution_count": 64,
   "metadata": {},
   "outputs": [
    {
     "name": "stderr",
     "output_type": "stream",
     "text": [
      "2023-09-20 05:28:33 PM - [networks_utils.py:1210] - root - INFO - Saving nodes as shapefile: C:\\Users\\groen_fe\\OneDrive - Stichting Deltares\\1_Projects\\Moonshot_5\\small_graph_od\\static\\output_graph\\network_with_all_data_nodes.gpkg\n",
      "2023-09-20 05:28:33 PM - [networks_utils.py:1210] - root - INFO - Saving nodes as shapefile: C:\\Users\\groen_fe\\OneDrive - Stichting Deltares\\1_Projects\\Moonshot_5\\small_graph_od\\static\\output_graph\\network_with_all_data_nodes.gpkg\n",
      "2023-09-20 05:28:33 PM - [networks_utils.py:1211] - root - INFO - Saving edges as shapefile: C:\\Users\\groen_fe\\OneDrive - Stichting Deltares\\1_Projects\\Moonshot_5\\small_graph_od\\static\\output_graph\\network_with_all_data_edges.gpkg\n",
      "2023-09-20 05:28:33 PM - [networks_utils.py:1211] - root - INFO - Saving edges as shapefile: C:\\Users\\groen_fe\\OneDrive - Stichting Deltares\\1_Projects\\Moonshot_5\\small_graph_od\\static\\output_graph\\network_with_all_data_edges.gpkg\n",
      "2023-09-20 05:28:39 PM - [multi_graph_network_exporter.py:48] - root - INFO - Saved network_with_all_data_edges.shp and network_with_all_data_nodes.shp in C:\\Users\\groen_fe\\OneDrive - Stichting Deltares\\1_Projects\\Moonshot_5\\small_graph_od\\static\\output_graph.\n",
      "2023-09-20 05:28:39 PM - [multi_graph_network_exporter.py:48] - root - INFO - Saved network_with_all_data_edges.shp and network_with_all_data_nodes.shp in C:\\Users\\groen_fe\\OneDrive - Stichting Deltares\\1_Projects\\Moonshot_5\\small_graph_od\\static\\output_graph.\n",
      "2023-09-20 05:28:39 PM - [multi_graph_network_exporter.py:56] - root - INFO - Saved network_with_all_data in C:\\Users\\groen_fe\\OneDrive - Stichting Deltares\\1_Projects\\Moonshot_5\\small_graph_od\\static\\output_graph.\n",
      "2023-09-20 05:28:39 PM - [multi_graph_network_exporter.py:56] - root - INFO - Saved network_with_all_data in C:\\Users\\groen_fe\\OneDrive - Stichting Deltares\\1_Projects\\Moonshot_5\\small_graph_od\\static\\output_graph.\n"
     ]
    }
   ],
   "source": [
    "exporter = MultiGraphNetworkExporter(basename=\"network_with_all_data\", export_types=[\"shp\", \"pickle\"])\n",
    "exporter.export_to_shp(output_dir=folder_dir / \"static\" / \"output_graph\", export_data=graph)\n",
    "exporter.export_to_pickle(output_dir=folder_dir / \"static\" / \"output_graph\", export_data=graph)"
   ]
  }
 ],
 "metadata": {
  "kernelspec": {
   "display_name": "Python 3 (ipykernel)",
   "language": "python",
   "name": "python3"
  },
  "language_info": {
   "codemirror_mode": {
    "name": "ipython",
    "version": 3
   },
   "file_extension": ".py",
   "mimetype": "text/x-python",
   "name": "python",
   "nbconvert_exporter": "python",
   "pygments_lexer": "ipython3",
   "version": "3.10.12"
  }
 },
 "nbformat": 4,
 "nbformat_minor": 4
}
