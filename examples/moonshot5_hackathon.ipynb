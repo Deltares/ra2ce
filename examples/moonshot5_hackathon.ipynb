{
 "cells": [
  {
   "cell_type": "markdown",
   "metadata": {},
   "source": [
    "# Moonshot 5 Hackathon - Drought in the Netherlands\n",
    "Using RA2CE to assess the capacity of the road network between Rotterdam and the Ruhr area."
   ]
  },
  {
   "cell_type": "code",
   "execution_count": 90,
   "metadata": {},
   "outputs": [],
   "source": [
    "from ra2ce.ra2ce_handler import Ra2ceHandler # import the ra2cehandler to run ra2ce analyses\n",
    "from pathlib import Path\n",
    "import networkx as nx\n",
    "import pandas as pd\n",
    "from ra2ce.common.io.readers.graph_pickle_reader import GraphPickleReader\n",
    "from ra2ce.graph.exporters.multi_graph_network_exporter import MultiGraphNetworkExporter\n",
    "\n",
    "_network_ini_name = \"network.ini\" # set the name for the network.ini settings file\n",
    "\n",
    "folder_dir = Path(r'C:\\Users\\rautenba\\OneDrive - Stichting Deltares\\Moonshot_5\\test_graph_od')\n",
    "\n",
    "network_ini = folder_dir / _network_ini_name\n",
    "assert network_ini.is_file() # check whether the network.ini file exists"
   ]
  },
  {
   "cell_type": "markdown",
   "metadata": {},
   "source": [
    "Download the road network from OSM."
   ]
  },
  {
   "cell_type": "code",
   "execution_count": 91,
   "metadata": {},
   "outputs": [
    {
     "name": "stderr",
     "output_type": "stream",
     "text": [
      "2023-09-20 11:39:43 AM - [ra2ce_logging.py:41] - root - INFO - RA2CE logger initialized.\n",
      "2023-09-20 11:39:43 AM - [ra2ce_logging.py:41] - root - INFO - RA2CE logger initialized.\n",
      "2023-09-20 11:39:43 AM - [ra2ce_logging.py:41] - root - INFO - RA2CE logger initialized.\n",
      "2023-09-20 11:39:43 AM - [ra2ce_logging.py:41] - root - INFO - RA2CE logger initialized.\n",
      "2023-09-20 11:39:43 AM - [ra2ce_logging.py:41] - root - INFO - RA2CE logger initialized.\n",
      "2023-09-20 11:39:43 AM - [ra2ce_logging.py:41] - root - INFO - RA2CE logger initialized.\n",
      "2023-09-20 11:39:43 AM - [network_config_wrapper.py:106] - root - INFO - Existing graph/network found: C:\\Users\\rautenba\\OneDrive - Stichting Deltares\\Moonshot_5\\test_graph_od\\static\\output_graph\\base_graph.p.\n",
      "2023-09-20 11:39:43 AM - [network_config_wrapper.py:106] - root - INFO - Existing graph/network found: C:\\Users\\rautenba\\OneDrive - Stichting Deltares\\Moonshot_5\\test_graph_od\\static\\output_graph\\base_graph.p.\n",
      "2023-09-20 11:39:43 AM - [network_config_wrapper.py:106] - root - INFO - Existing graph/network found: C:\\Users\\rautenba\\OneDrive - Stichting Deltares\\Moonshot_5\\test_graph_od\\static\\output_graph\\base_graph.p.\n",
      "2023-09-20 11:39:43 AM - [network_config_wrapper.py:106] - root - INFO - Existing graph/network found: C:\\Users\\rautenba\\OneDrive - Stichting Deltares\\Moonshot_5\\test_graph_od\\static\\output_graph\\base_graph.p.\n",
      "2023-09-20 11:39:43 AM - [network_config_wrapper.py:106] - root - INFO - Existing graph/network found: C:\\Users\\rautenba\\OneDrive - Stichting Deltares\\Moonshot_5\\test_graph_od\\static\\output_graph\\base_graph.p.\n",
      "2023-09-20 11:39:43 AM - [network_config_wrapper.py:106] - root - INFO - Existing graph/network found: C:\\Users\\rautenba\\OneDrive - Stichting Deltares\\Moonshot_5\\test_graph_od\\static\\output_graph\\base_graph.p.\n",
      "2023-09-20 11:39:43 AM - [network_config_wrapper.py:106] - root - INFO - Existing graph/network found: C:\\Users\\rautenba\\OneDrive - Stichting Deltares\\Moonshot_5\\test_graph_od\\static\\output_graph\\base_network.feather.\n",
      "2023-09-20 11:39:43 AM - [network_config_wrapper.py:106] - root - INFO - Existing graph/network found: C:\\Users\\rautenba\\OneDrive - Stichting Deltares\\Moonshot_5\\test_graph_od\\static\\output_graph\\base_network.feather.\n",
      "2023-09-20 11:39:43 AM - [network_config_wrapper.py:106] - root - INFO - Existing graph/network found: C:\\Users\\rautenba\\OneDrive - Stichting Deltares\\Moonshot_5\\test_graph_od\\static\\output_graph\\base_network.feather.\n",
      "2023-09-20 11:39:43 AM - [network_config_wrapper.py:106] - root - INFO - Existing graph/network found: C:\\Users\\rautenba\\OneDrive - Stichting Deltares\\Moonshot_5\\test_graph_od\\static\\output_graph\\base_network.feather.\n",
      "2023-09-20 11:39:43 AM - [network_config_wrapper.py:106] - root - INFO - Existing graph/network found: C:\\Users\\rautenba\\OneDrive - Stichting Deltares\\Moonshot_5\\test_graph_od\\static\\output_graph\\base_network.feather.\n",
      "2023-09-20 11:39:43 AM - [network_config_wrapper.py:106] - root - INFO - Existing graph/network found: C:\\Users\\rautenba\\OneDrive - Stichting Deltares\\Moonshot_5\\test_graph_od\\static\\output_graph\\base_network.feather.\n",
      "2023-09-20 11:39:43 AM - [network_config_wrapper.py:106] - root - INFO - Existing graph/network found: C:\\Users\\rautenba\\OneDrive - Stichting Deltares\\Moonshot_5\\test_graph_od\\static\\output_graph\\origins_destinations_graph.p.\n",
      "2023-09-20 11:39:43 AM - [network_config_wrapper.py:106] - root - INFO - Existing graph/network found: C:\\Users\\rautenba\\OneDrive - Stichting Deltares\\Moonshot_5\\test_graph_od\\static\\output_graph\\origins_destinations_graph.p.\n",
      "2023-09-20 11:39:43 AM - [network_config_wrapper.py:106] - root - INFO - Existing graph/network found: C:\\Users\\rautenba\\OneDrive - Stichting Deltares\\Moonshot_5\\test_graph_od\\static\\output_graph\\origins_destinations_graph.p.\n",
      "2023-09-20 11:39:43 AM - [network_config_wrapper.py:106] - root - INFO - Existing graph/network found: C:\\Users\\rautenba\\OneDrive - Stichting Deltares\\Moonshot_5\\test_graph_od\\static\\output_graph\\origins_destinations_graph.p.\n",
      "2023-09-20 11:39:43 AM - [network_config_wrapper.py:106] - root - INFO - Existing graph/network found: C:\\Users\\rautenba\\OneDrive - Stichting Deltares\\Moonshot_5\\test_graph_od\\static\\output_graph\\origins_destinations_graph.p.\n",
      "2023-09-20 11:39:43 AM - [network_config_wrapper.py:106] - root - INFO - Existing graph/network found: C:\\Users\\rautenba\\OneDrive - Stichting Deltares\\Moonshot_5\\test_graph_od\\static\\output_graph\\origins_destinations_graph.p.\n",
      "2023-09-20 11:39:43 AM - [networks.py:183] - root - INFO - Apparently, you already did create a network with ra2ce earlier. Ra2ce will use this: C:\\Users\\rautenba\\OneDrive - Stichting Deltares\\Moonshot_5\\test_graph_od\\static\\output_graph\\base_graph.p\n",
      "2023-09-20 11:39:43 AM - [networks.py:183] - root - INFO - Apparently, you already did create a network with ra2ce earlier. Ra2ce will use this: C:\\Users\\rautenba\\OneDrive - Stichting Deltares\\Moonshot_5\\test_graph_od\\static\\output_graph\\base_graph.p\n",
      "2023-09-20 11:39:43 AM - [networks.py:183] - root - INFO - Apparently, you already did create a network with ra2ce earlier. Ra2ce will use this: C:\\Users\\rautenba\\OneDrive - Stichting Deltares\\Moonshot_5\\test_graph_od\\static\\output_graph\\base_graph.p\n",
      "2023-09-20 11:39:43 AM - [networks.py:183] - root - INFO - Apparently, you already did create a network with ra2ce earlier. Ra2ce will use this: C:\\Users\\rautenba\\OneDrive - Stichting Deltares\\Moonshot_5\\test_graph_od\\static\\output_graph\\base_graph.p\n",
      "2023-09-20 11:39:43 AM - [networks.py:183] - root - INFO - Apparently, you already did create a network with ra2ce earlier. Ra2ce will use this: C:\\Users\\rautenba\\OneDrive - Stichting Deltares\\Moonshot_5\\test_graph_od\\static\\output_graph\\base_graph.p\n",
      "2023-09-20 11:39:43 AM - [networks.py:183] - root - INFO - Apparently, you already did create a network with ra2ce earlier. Ra2ce will use this: C:\\Users\\rautenba\\OneDrive - Stichting Deltares\\Moonshot_5\\test_graph_od\\static\\output_graph\\base_graph.p\n"
     ]
    }
   ],
   "source": [
    "race = Ra2ceHandler(network=network_ini, analysis=None)\n",
    "race.configure()"
   ]
  },
  {
   "cell_type": "markdown",
   "metadata": {},
   "source": [
    "We can inspect the created graph"
   ]
  },
  {
   "cell_type": "code",
   "execution_count": 92,
   "metadata": {},
   "outputs": [],
   "source": [
    "od_graph = folder_dir / \"static\" / \"output_graph\" / \"origins_destinations_graph.p\"\n",
    "graph = GraphPickleReader().read(od_graph)"
   ]
  },
  {
   "cell_type": "markdown",
   "metadata": {},
   "source": [
    "We pick the lowest number of lanes per road segment and assign 1 lane to the road segments without data."
   ]
  },
  {
   "cell_type": "code",
   "execution_count": 93,
   "metadata": {},
   "outputs": [],
   "source": [
    "for e in graph.edges(data=True, keys=True):\n",
    "    if \"lanes\" not in e[-1]:\n",
    "        nr_lanes = 1\n",
    "    else:\n",
    "        nr_lanes = e[-1][\"lanes\"]\n",
    "    if isinstance(nr_lanes, list):\n",
    "        nr_lanes = min([int(x) for x in nr_lanes])\n",
    "    if isinstance(nr_lanes, str):\n",
    "        nr_lanes = int(nr_lanes)\n",
    "    graph[e[0]][e[1]][e[2]][\"lanes_new\"] = nr_lanes\n"
   ]
  },
  {
   "cell_type": "markdown",
   "metadata": {},
   "source": [
    "We translate the number of lanes to capacity."
   ]
  },
  {
   "cell_type": "code",
   "execution_count": 101,
   "metadata": {},
   "outputs": [],
   "source": [
    "capacity = folder_dir / \"road_capacity.csv\"\n",
    "capacity = pd.read_csv(capacity)\n",
    "single_cap_list = capacity[\"E (pc/h/ln)\"].to_list()\n",
    "\n",
    "for e in graph.edges(data=True, keys=True):\n",
    "    if e[-1]['avgspeed'] >= 91:\n",
    "        E = single_cap_list[0]\n",
    "    elif e[-1]['avgspeed'] < 91 and e[-1]['avgspeed'] > 84:\n",
    "        E = single_cap_list[1]\n",
    "    elif e[-1]['avgspeed'] <= 84 and  e[-1]['avgspeed'] > 76:\n",
    "        E = single_cap_list[2]\n",
    "    elif e[-1]['avgspeed'] <= 76:\n",
    "        E = single_cap_list[3]   \n",
    "    graph[e[0]][e[1]][e[2]][\"capacity\"] = E * e[-1][\"lanes_new\"]"
   ]
  },
  {
   "cell_type": "code",
   "execution_count": 102,
   "metadata": {},
   "outputs": [
    {
     "name": "stderr",
     "output_type": "stream",
     "text": [
      "2023-09-20 11:58:08 AM - [networks_utils.py:1210] - root - INFO - Saving nodes as shapefile: C:\\Users\\rautenba\\OneDrive - Stichting Deltares\\Moonshot_5\\test_graph_od\\static\\output_graph\\updated_network_nodes.gpkg\n",
      "2023-09-20 11:58:08 AM - [networks_utils.py:1210] - root - INFO - Saving nodes as shapefile: C:\\Users\\rautenba\\OneDrive - Stichting Deltares\\Moonshot_5\\test_graph_od\\static\\output_graph\\updated_network_nodes.gpkg\n",
      "2023-09-20 11:58:08 AM - [networks_utils.py:1210] - root - INFO - Saving nodes as shapefile: C:\\Users\\rautenba\\OneDrive - Stichting Deltares\\Moonshot_5\\test_graph_od\\static\\output_graph\\updated_network_nodes.gpkg\n",
      "2023-09-20 11:58:08 AM - [networks_utils.py:1210] - root - INFO - Saving nodes as shapefile: C:\\Users\\rautenba\\OneDrive - Stichting Deltares\\Moonshot_5\\test_graph_od\\static\\output_graph\\updated_network_nodes.gpkg\n",
      "2023-09-20 11:58:08 AM - [networks_utils.py:1210] - root - INFO - Saving nodes as shapefile: C:\\Users\\rautenba\\OneDrive - Stichting Deltares\\Moonshot_5\\test_graph_od\\static\\output_graph\\updated_network_nodes.gpkg\n",
      "2023-09-20 11:58:08 AM - [networks_utils.py:1210] - root - INFO - Saving nodes as shapefile: C:\\Users\\rautenba\\OneDrive - Stichting Deltares\\Moonshot_5\\test_graph_od\\static\\output_graph\\updated_network_nodes.gpkg\n",
      "2023-09-20 11:58:08 AM - [networks_utils.py:1211] - root - INFO - Saving edges as shapefile: C:\\Users\\rautenba\\OneDrive - Stichting Deltares\\Moonshot_5\\test_graph_od\\static\\output_graph\\updated_network_edges.gpkg\n",
      "2023-09-20 11:58:08 AM - [networks_utils.py:1211] - root - INFO - Saving edges as shapefile: C:\\Users\\rautenba\\OneDrive - Stichting Deltares\\Moonshot_5\\test_graph_od\\static\\output_graph\\updated_network_edges.gpkg\n",
      "2023-09-20 11:58:08 AM - [networks_utils.py:1211] - root - INFO - Saving edges as shapefile: C:\\Users\\rautenba\\OneDrive - Stichting Deltares\\Moonshot_5\\test_graph_od\\static\\output_graph\\updated_network_edges.gpkg\n",
      "2023-09-20 11:58:08 AM - [networks_utils.py:1211] - root - INFO - Saving edges as shapefile: C:\\Users\\rautenba\\OneDrive - Stichting Deltares\\Moonshot_5\\test_graph_od\\static\\output_graph\\updated_network_edges.gpkg\n",
      "2023-09-20 11:58:08 AM - [networks_utils.py:1211] - root - INFO - Saving edges as shapefile: C:\\Users\\rautenba\\OneDrive - Stichting Deltares\\Moonshot_5\\test_graph_od\\static\\output_graph\\updated_network_edges.gpkg\n",
      "2023-09-20 11:58:08 AM - [networks_utils.py:1211] - root - INFO - Saving edges as shapefile: C:\\Users\\rautenba\\OneDrive - Stichting Deltares\\Moonshot_5\\test_graph_od\\static\\output_graph\\updated_network_edges.gpkg\n",
      "2023-09-20 11:58:11 AM - [multi_graph_network_exporter.py:48] - root - INFO - Saved updated_network_edges.shp and updated_network_nodes.shp in C:\\Users\\rautenba\\OneDrive - Stichting Deltares\\Moonshot_5\\test_graph_od\\static\\output_graph.\n",
      "2023-09-20 11:58:11 AM - [multi_graph_network_exporter.py:48] - root - INFO - Saved updated_network_edges.shp and updated_network_nodes.shp in C:\\Users\\rautenba\\OneDrive - Stichting Deltares\\Moonshot_5\\test_graph_od\\static\\output_graph.\n",
      "2023-09-20 11:58:11 AM - [multi_graph_network_exporter.py:48] - root - INFO - Saved updated_network_edges.shp and updated_network_nodes.shp in C:\\Users\\rautenba\\OneDrive - Stichting Deltares\\Moonshot_5\\test_graph_od\\static\\output_graph.\n",
      "2023-09-20 11:58:11 AM - [multi_graph_network_exporter.py:48] - root - INFO - Saved updated_network_edges.shp and updated_network_nodes.shp in C:\\Users\\rautenba\\OneDrive - Stichting Deltares\\Moonshot_5\\test_graph_od\\static\\output_graph.\n",
      "2023-09-20 11:58:11 AM - [multi_graph_network_exporter.py:48] - root - INFO - Saved updated_network_edges.shp and updated_network_nodes.shp in C:\\Users\\rautenba\\OneDrive - Stichting Deltares\\Moonshot_5\\test_graph_od\\static\\output_graph.\n",
      "2023-09-20 11:58:11 AM - [multi_graph_network_exporter.py:48] - root - INFO - Saved updated_network_edges.shp and updated_network_nodes.shp in C:\\Users\\rautenba\\OneDrive - Stichting Deltares\\Moonshot_5\\test_graph_od\\static\\output_graph.\n"
     ]
    }
   ],
   "source": [
    "exporter = MultiGraphNetworkExporter(basename=\"updated_network\", export_types=[\"shp\"])\n",
    "exporter.export_to_shp(output_dir=folder_dir / \"static\" / \"output_graph\", export_data=graph)"
   ]
  }
 ],
 "metadata": {
  "kernelspec": {
   "display_name": "Python 3 (ipykernel)",
   "language": "python",
   "name": "python3"
  },
  "language_info": {
   "codemirror_mode": {
    "name": "ipython",
    "version": 3
   },
   "file_extension": ".py",
   "mimetype": "text/x-python",
   "name": "python",
   "nbconvert_exporter": "python",
   "pygments_lexer": "ipython3",
   "version": "3.10.12"
  }
 },
 "nbformat": 4,
 "nbformat_minor": 4
}
