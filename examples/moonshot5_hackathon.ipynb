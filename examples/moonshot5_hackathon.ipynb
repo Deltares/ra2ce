{
 "cells": [
  {
   "cell_type": "markdown",
   "metadata": {},
   "source": [
    "# Moonshot 5 Hackathon - Drought in the Netherlands\n",
    "Using RA2CE to assess the capacity of the road network between Rotterdam and the Ruhr area."
   ]
  },
  {
   "cell_type": "code",
   "execution_count": 7,
   "metadata": {},
   "outputs": [],
   "source": [
    "from ra2ce.ra2ce_handler import Ra2ceHandler # import the ra2cehandler to run ra2ce analyses\n",
    "from pathlib import Path\n",
    "\n",
    "_network_ini_name = \"network.ini\" # set the name for the network.ini settings file\n",
    "\n",
    "folder_dir = Path(r'C:\\Users\\groen_fe\\OneDrive - Stichting Deltares\\1_Projects\\Moonshot_5')\n",
    "\n",
    "network_ini = folder_dir / _network_ini_name\n",
    "assert network_ini.is_file() # check whether the network.ini file exists"
   ]
  },
  {
   "cell_type": "markdown",
   "metadata": {},
   "source": []
  },
  {
   "cell_type": "code",
   "execution_count": 8,
   "metadata": {},
   "outputs": [
    {
     "name": "stderr",
     "output_type": "stream",
     "text": [
      "2023-09-15 02:19:41 PM - [ra2ce_logging.py:41] - root - INFO - RA2CE logger initialized.\n",
      "2023-09-15 02:19:41 PM - [ra2ce_logging.py:41] - root - INFO - RA2CE logger initialized.\n",
      "2023-09-15 02:19:41 PM - [ra2ce_logging.py:41] - root - INFO - RA2CE logger initialized.\n",
      "2023-09-15 02:19:41 PM - [network_wrapper_factory.py:53] - root - INFO - Start creating a network from the submitted shapefile.\n",
      "2023-09-15 02:19:41 PM - [network_wrapper_factory.py:53] - root - INFO - Start creating a network from the submitted shapefile.\n",
      "2023-09-15 02:19:41 PM - [network_wrapper_factory.py:53] - root - INFO - Start creating a network from the submitted shapefile.\n",
      "2023-09-15 02:19:41 PM - [osm_network_wrapper.py:55] - root - INFO - Start downloading a network from OSM.\n",
      "2023-09-15 02:19:41 PM - [osm_network_wrapper.py:55] - root - INFO - Start downloading a network from OSM.\n",
      "2023-09-15 02:19:41 PM - [osm_network_wrapper.py:55] - root - INFO - Start downloading a network from OSM.\n"
     ]
    }
   ],
   "source": [
    "race = Ra2ceHandler(network=network_ini, analysis=None)\n",
    "race.configure()"
   ]
  },
  {
   "cell_type": "markdown",
   "metadata": {},
   "source": []
  },
  {
   "cell_type": "code",
   "execution_count": null,
   "metadata": {},
   "outputs": [],
   "source": []
  }
 ],
 "metadata": {
  "kernelspec": {
   "display_name": "ra2ce_env",
   "language": "python",
   "name": "python3"
  },
  "language_info": {
   "codemirror_mode": {
    "name": "ipython",
    "version": 3
   },
   "file_extension": ".py",
   "mimetype": "text/x-python",
   "name": "python",
   "nbconvert_exporter": "python",
   "pygments_lexer": "ipython3",
   "version": "3.10.12"
  },
  "orig_nbformat": 4
 },
 "nbformat": 4,
 "nbformat_minor": 2
}
