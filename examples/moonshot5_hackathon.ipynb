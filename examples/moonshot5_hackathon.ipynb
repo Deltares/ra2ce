{
 "cells": [
  {
   "cell_type": "markdown",
   "metadata": {},
   "source": [
    "# Moonshot 5 Hackathon - Drought in the Netherlands\n",
    "Using RA2CE to assess the capacity of the road network between Rotterdam and the Ruhr area."
   ]
  },
  {
   "cell_type": "code",
   "execution_count": 19,
   "metadata": {},
   "outputs": [],
   "source": [
    "from ra2ce.ra2ce_handler import Ra2ceHandler # import the ra2cehandler to run ra2ce analyses\n",
    "from pathlib import Path\n",
    "import networkx as nx\n",
    "import pandas as pd\n",
    "from ra2ce.common.io.readers.graph_pickle_reader import GraphPickleReader\n",
    "from ra2ce.graph.exporters.multi_graph_network_exporter import MultiGraphNetworkExporter\n",
    "\n",
    "_network_ini_name = \"network.ini\" # set the name for the network.ini settings file\n",
    "\n",
    "folder_dir = Path(r\"C:\\Users\\groen_fe\\OneDrive - Stichting Deltares\\1_Projects\\Moonshot_5\\small_graph_od\")\n",
    "\n",
    "network_ini = folder_dir / _network_ini_name\n",
    "assert network_ini.is_file() # check whether the network.ini file exists"
   ]
  },
  {
   "cell_type": "markdown",
   "metadata": {},
   "source": [
    "Download the road network from OSM."
   ]
  },
  {
   "cell_type": "code",
   "execution_count": 20,
   "metadata": {},
   "outputs": [
    {
     "name": "stderr",
     "output_type": "stream",
     "text": [
      "2023-09-20 02:51:22 PM - [ra2ce_logging.py:41] - root - INFO - RA2CE logger initialized.\n",
      "2023-09-20 02:51:22 PM - [ra2ce_logging.py:41] - root - INFO - RA2CE logger initialized.\n",
      "2023-09-20 02:51:22 PM - [network_config_wrapper.py:106] - root - INFO - Existing graph/network found: C:\\Users\\groen_fe\\OneDrive - Stichting Deltares\\1_Projects\\Moonshot_5\\small_graph_od\\static\\output_graph\\base_graph.p.\n",
      "2023-09-20 02:51:22 PM - [network_config_wrapper.py:106] - root - INFO - Existing graph/network found: C:\\Users\\groen_fe\\OneDrive - Stichting Deltares\\1_Projects\\Moonshot_5\\small_graph_od\\static\\output_graph\\base_graph.p.\n",
      "2023-09-20 02:51:22 PM - [network_config_wrapper.py:106] - root - INFO - Existing graph/network found: C:\\Users\\groen_fe\\OneDrive - Stichting Deltares\\1_Projects\\Moonshot_5\\small_graph_od\\static\\output_graph\\base_network.feather.\n",
      "2023-09-20 02:51:22 PM - [network_config_wrapper.py:106] - root - INFO - Existing graph/network found: C:\\Users\\groen_fe\\OneDrive - Stichting Deltares\\1_Projects\\Moonshot_5\\small_graph_od\\static\\output_graph\\base_network.feather.\n",
      "2023-09-20 02:51:22 PM - [networks.py:183] - root - INFO - Apparently, you already did create a network with ra2ce earlier. Ra2ce will use this: C:\\Users\\groen_fe\\OneDrive - Stichting Deltares\\1_Projects\\Moonshot_5\\small_graph_od\\static\\output_graph\\base_graph.p\n",
      "2023-09-20 02:51:22 PM - [networks.py:183] - root - INFO - Apparently, you already did create a network with ra2ce earlier. Ra2ce will use this: C:\\Users\\groen_fe\\OneDrive - Stichting Deltares\\1_Projects\\Moonshot_5\\small_graph_od\\static\\output_graph\\base_graph.p\n",
      "2023-09-20 02:51:23 PM - [origins_destinations.py:314] - root - INFO - Finding vertices closest to Origins and Destinations\n",
      "2023-09-20 02:51:23 PM - [origins_destinations.py:314] - root - INFO - Finding vertices closest to Origins and Destinations\n",
      "Adding Origin-Destination nodes to graph: 12it [00:00, 342.83it/s]\n",
      "2023-09-20 02:51:23 PM - [networks.py:117] - root - INFO - Saved origin_destination_table.feather in C:\\Users\\groen_fe\\OneDrive - Stichting Deltares\\1_Projects\\Moonshot_5\\small_graph_od\\static\\output_graph.\n",
      "2023-09-20 02:51:23 PM - [networks.py:117] - root - INFO - Saved origin_destination_table.feather in C:\\Users\\groen_fe\\OneDrive - Stichting Deltares\\1_Projects\\Moonshot_5\\small_graph_od\\static\\output_graph.\n",
      "2023-09-20 02:51:23 PM - [networks.py:123] - root - INFO - Saved origin_destination_table in C:\\Users\\groen_fe\\OneDrive - Stichting Deltares\\1_Projects\\Moonshot_5\\small_graph_od\\static\\output_graph.\n",
      "2023-09-20 02:51:23 PM - [networks.py:123] - root - INFO - Saved origin_destination_table in C:\\Users\\groen_fe\\OneDrive - Stichting Deltares\\1_Projects\\Moonshot_5\\small_graph_od\\static\\output_graph.\n",
      "2023-09-20 02:51:23 PM - [multi_graph_network_exporter.py:56] - root - INFO - Saved origins_destinations_graph in C:\\Users\\groen_fe\\OneDrive - Stichting Deltares\\1_Projects\\Moonshot_5\\small_graph_od\\static\\output_graph.\n",
      "2023-09-20 02:51:23 PM - [multi_graph_network_exporter.py:56] - root - INFO - Saved origins_destinations_graph in C:\\Users\\groen_fe\\OneDrive - Stichting Deltares\\1_Projects\\Moonshot_5\\small_graph_od\\static\\output_graph.\n",
      "2023-09-20 02:51:23 PM - [networks_utils.py:1210] - root - INFO - Saving nodes as shapefile: C:\\Users\\groen_fe\\OneDrive - Stichting Deltares\\1_Projects\\Moonshot_5\\small_graph_od\\static\\output_graph\\origins_destinations_graph_nodes.gpkg\n",
      "2023-09-20 02:51:23 PM - [networks_utils.py:1210] - root - INFO - Saving nodes as shapefile: C:\\Users\\groen_fe\\OneDrive - Stichting Deltares\\1_Projects\\Moonshot_5\\small_graph_od\\static\\output_graph\\origins_destinations_graph_nodes.gpkg\n",
      "2023-09-20 02:51:23 PM - [networks_utils.py:1211] - root - INFO - Saving edges as shapefile: C:\\Users\\groen_fe\\OneDrive - Stichting Deltares\\1_Projects\\Moonshot_5\\small_graph_od\\static\\output_graph\\origins_destinations_graph_edges.gpkg\n",
      "2023-09-20 02:51:23 PM - [networks_utils.py:1211] - root - INFO - Saving edges as shapefile: C:\\Users\\groen_fe\\OneDrive - Stichting Deltares\\1_Projects\\Moonshot_5\\small_graph_od\\static\\output_graph\\origins_destinations_graph_edges.gpkg\n",
      "2023-09-20 02:51:26 PM - [multi_graph_network_exporter.py:48] - root - INFO - Saved origins_destinations_graph_edges.shp and origins_destinations_graph_nodes.shp in C:\\Users\\groen_fe\\OneDrive - Stichting Deltares\\1_Projects\\Moonshot_5\\small_graph_od\\static\\output_graph.\n",
      "2023-09-20 02:51:26 PM - [multi_graph_network_exporter.py:48] - root - INFO - Saved origins_destinations_graph_edges.shp and origins_destinations_graph_nodes.shp in C:\\Users\\groen_fe\\OneDrive - Stichting Deltares\\1_Projects\\Moonshot_5\\small_graph_od\\static\\output_graph.\n"
     ]
    }
   ],
   "source": [
    "race = Ra2ceHandler(network=network_ini, analysis=None)\n",
    "race.configure()"
   ]
  },
  {
   "cell_type": "markdown",
   "metadata": {},
   "source": [
    "We can inspect the created graph"
   ]
  },
  {
   "cell_type": "code",
   "execution_count": 21,
   "metadata": {},
   "outputs": [],
   "source": [
    "od_graph = folder_dir / \"static\" / \"output_graph\" / \"origins_destinations_graph.p\"\n",
    "graph = GraphPickleReader().read(od_graph)"
   ]
  },
  {
   "cell_type": "markdown",
   "metadata": {},
   "source": [
    "We pick the lowest number of lanes per road segment and assign 1 lane to the road segments without data."
   ]
  },
  {
   "cell_type": "code",
   "execution_count": 22,
   "metadata": {},
   "outputs": [],
   "source": [
    "for e in graph.edges(data=True, keys=True):\n",
    "    if \"lanes\" not in e[-1]:\n",
    "        nr_lanes = 1\n",
    "    else:\n",
    "        nr_lanes = e[-1][\"lanes\"]\n",
    "    if isinstance(nr_lanes, list):\n",
    "        nr_lanes = min([int(x) for x in nr_lanes])\n",
    "    if isinstance(nr_lanes, str):\n",
    "        nr_lanes = int(nr_lanes)\n",
    "    graph[e[0]][e[1]][e[2]][\"lanes_new\"] = nr_lanes\n"
   ]
  },
  {
   "cell_type": "markdown",
   "metadata": {},
   "source": [
    "We translate the number of lanes to capacity."
   ]
  },
  {
   "cell_type": "code",
   "execution_count": 23,
   "metadata": {},
   "outputs": [],
   "source": [
    "capacity = folder_dir / \"road_capacity.csv\"\n",
    "capacity = pd.read_csv(capacity)\n",
    "single_cap_list = capacity[\"E (pc/h/ln)\"].to_list()\n",
    "\n",
    "for e in graph.edges(data=True, keys=True):\n",
    "    if e[-1]['avgspeed'] >= 91:\n",
    "        E = single_cap_list[0]\n",
    "    elif e[-1]['avgspeed'] < 91 and e[-1]['avgspeed'] > 84:\n",
    "        E = single_cap_list[1]\n",
    "    elif e[-1]['avgspeed'] <= 84 and  e[-1]['avgspeed'] > 76:\n",
    "        E = single_cap_list[2]\n",
    "    elif e[-1]['avgspeed'] <= 76:\n",
    "        E = single_cap_list[3]  \n",
    "    graph[e[0]][e[1]][e[2]][\"capacity\"] = E * e[-1][\"lanes_new\"]"
   ]
  },
  {
   "cell_type": "code",
   "execution_count": 24,
   "metadata": {},
   "outputs": [
    {
     "name": "stderr",
     "output_type": "stream",
     "text": [
      "2023-09-20 02:51:33 PM - [networks_utils.py:1210] - root - INFO - Saving nodes as shapefile: C:\\Users\\groen_fe\\OneDrive - Stichting Deltares\\1_Projects\\Moonshot_5\\small_graph_od\\static\\output_graph\\updated_network_nodes.gpkg\n",
      "2023-09-20 02:51:33 PM - [networks_utils.py:1210] - root - INFO - Saving nodes as shapefile: C:\\Users\\groen_fe\\OneDrive - Stichting Deltares\\1_Projects\\Moonshot_5\\small_graph_od\\static\\output_graph\\updated_network_nodes.gpkg\n",
      "2023-09-20 02:51:33 PM - [networks_utils.py:1211] - root - INFO - Saving edges as shapefile: C:\\Users\\groen_fe\\OneDrive - Stichting Deltares\\1_Projects\\Moonshot_5\\small_graph_od\\static\\output_graph\\updated_network_edges.gpkg\n",
      "2023-09-20 02:51:33 PM - [networks_utils.py:1211] - root - INFO - Saving edges as shapefile: C:\\Users\\groen_fe\\OneDrive - Stichting Deltares\\1_Projects\\Moonshot_5\\small_graph_od\\static\\output_graph\\updated_network_edges.gpkg\n",
      "2023-09-20 02:51:35 PM - [multi_graph_network_exporter.py:48] - root - INFO - Saved updated_network_edges.shp and updated_network_nodes.shp in C:\\Users\\groen_fe\\OneDrive - Stichting Deltares\\1_Projects\\Moonshot_5\\small_graph_od\\static\\output_graph.\n",
      "2023-09-20 02:51:35 PM - [multi_graph_network_exporter.py:48] - root - INFO - Saved updated_network_edges.shp and updated_network_nodes.shp in C:\\Users\\groen_fe\\OneDrive - Stichting Deltares\\1_Projects\\Moonshot_5\\small_graph_od\\static\\output_graph.\n",
      "2023-09-20 02:51:35 PM - [multi_graph_network_exporter.py:56] - root - INFO - Saved updated_network in C:\\Users\\groen_fe\\OneDrive - Stichting Deltares\\1_Projects\\Moonshot_5\\small_graph_od\\static\\output_graph.\n",
      "2023-09-20 02:51:35 PM - [multi_graph_network_exporter.py:56] - root - INFO - Saved updated_network in C:\\Users\\groen_fe\\OneDrive - Stichting Deltares\\1_Projects\\Moonshot_5\\small_graph_od\\static\\output_graph.\n"
     ]
    }
   ],
   "source": [
    "exporter = MultiGraphNetworkExporter(basename=\"updated_network\", export_types=[\"shp\", \"pickle\"])\n",
    "exporter.export_to_shp(output_dir=folder_dir / \"static\" / \"output_graph\", export_data=graph)\n",
    "exporter.export_to_pickle(output_dir=folder_dir / \"static\" / \"output_graph\", export_data=graph)"
   ]
  },
  {
   "cell_type": "markdown",
   "metadata": {},
   "source": [
    "With the network we can start the analysis with looking at a base scenario"
   ]
  },
  {
   "cell_type": "code",
   "execution_count": 25,
   "metadata": {},
   "outputs": [],
   "source": [
    "from shapely.geometry import LineString, MultiLineString\n",
    "import geopandas as gpd"
   ]
  },
  {
   "cell_type": "code",
   "execution_count": 26,
   "metadata": {},
   "outputs": [],
   "source": [
    "origins = gpd.read_file(r\"C:\\Users\\groen_fe\\OneDrive - Stichting Deltares\\1_Projects\\Moonshot_5\\small_graph_od\\static\\network\\origins.gpkg\")\n",
    "destinations = gpd.read_file(r\"C:\\Users\\groen_fe\\OneDrive - Stichting Deltares\\1_Projects\\Moonshot_5\\small_graph_od\\static\\network\\destinations.gpkg\")"
   ]
  },
  {
   "cell_type": "code",
   "execution_count": 27,
   "metadata": {},
   "outputs": [],
   "source": [
    "# Rename the origins and destinations\n",
    "for n in graph.nodes(data=True):\n",
    "    if \"od_id\" in n[-1]:\n",
    "        if \"offloading\" in n[-1][\"od_id\"]:\n",
    "            # the node is an origin\n",
    "            graph.nodes[n[0]][\"od_id\"] = origins.loc[origins[\"identifier\"] == int(n[-1][\"od_id\"].split(\"_\")[-1])][\"name\"].values[0]\n",
    "        elif \"destination\" in n[-1][\"od_id\"]:\n",
    "            # the node is a destination\n",
    "            graph.nodes[n[0]][\"od_id\"] = destinations.loc[destinations[\"identifier\"] == int(n[-1][\"od_id\"].split(\"_\")[-1]), \"name\"].values[0]"
   ]
  },
  {
   "cell_type": "code",
   "execution_count": 39,
   "metadata": {},
   "outputs": [],
   "source": [
    "list_ods = [(n, v[\"od_id\"]) for n, v in graph.nodes(data=True) if \"od_id\" in v]\n",
    "list_destinations = [x for x in list_ods if x[1].startswith(\"DE\")]\n",
    "list_origins = [x for x in list_ods if x[1].startswith(\"NL\")]"
   ]
  },
  {
   "cell_type": "code",
   "execution_count": 32,
   "metadata": {},
   "outputs": [
    {
     "data": {
      "text/plain": [
       "Index(['UNLO_herkomst', 'UNLO_bestemming', 'v38_Vervoerd_gewicht_sum',\n",
       "       'v38_Vervoerd_gewicht_count', 'v30_4_Containers_TEU_S_sum',\n",
       "       'v30_4_Containers_TEU_S_count', 'count_count'],\n",
       "      dtype='object')"
      ]
     },
     "execution_count": 32,
     "metadata": {},
     "output_type": "execute_result"
    }
   ],
   "source": [
    "# Filter the OD matrix\n",
    "full_od_matrix = pd.read_csv(r\"C:\\Users\\groen_fe\\OneDrive - Stichting Deltares\\1_Projects\\Moonshot_5\\full_graph\\od_matrix.csv\")\n",
    "full_od_matrix.columns"
   ]
  },
  {
   "cell_type": "code",
   "execution_count": 35,
   "metadata": {},
   "outputs": [],
   "source": [
    "small_od_matrix = full_od_matrix.loc[full_od_matrix[\"UNLO_bestemming\"].isin(list_ods)]\n",
    "\n",
    "# Save to csv\n",
    "small_od_matrix.to_csv(r\"C:\\Users\\groen_fe\\OneDrive - Stichting Deltares\\1_Projects\\Moonshot_5\\small_graph_od\\od_matrix_small.csv\", index=False)"
   ]
  },
  {
   "cell_type": "code",
   "execution_count": 43,
   "metadata": {},
   "outputs": [],
   "source": [
    "weighing = \"length\"\n",
    "\n",
    "(\n",
    "    o_node_list,\n",
    "    d_node_list,\n",
    "    origin_list,\n",
    "    destination_list,\n",
    "    opt_path_list,\n",
    "    weighing_list,\n",
    "    match_ids_list,\n",
    "    geometries_list,\n",
    ") = ([], [], [], [], [], [], [], [])\n",
    "for o in list_origins:\n",
    "    for d in list_destinations:\n",
    "        if nx.has_path(graph, o[0], d[0]):\n",
    "            # calculate the length of the preferred route\n",
    "            pref_route = nx.dijkstra_path_length(graph, o[0], d[0], weight=weighing)\n",
    "\n",
    "            # save preferred route nodes\n",
    "            pref_nodes = nx.dijkstra_path(graph, o[0], d[0], weight=weighing)\n",
    "\n",
    "            # found out which edges belong to the preferred path\n",
    "            edgesinpath = list(zip(pref_nodes[0:], pref_nodes[1:]))\n",
    "\n",
    "            pref_edges = []\n",
    "            match_list = []\n",
    "            for u, v in edgesinpath:\n",
    "                # get edge with the lowest weighing if there are multiple edges that connect u and v\n",
    "                _uv_graph = graph[u][v]\n",
    "                edge_key = sorted(\n",
    "                    _uv_graph, key=lambda x, _fgraph=_uv_graph: _fgraph[x][weighing]\n",
    "                )[0]\n",
    "                _uv_graph_edge = _uv_graph[edge_key]\n",
    "                if \"geometry\" in _uv_graph_edge:\n",
    "                    pref_edges.append(_uv_graph_edge[\"geometry\"])\n",
    "                else:\n",
    "                    pref_edges.append(\n",
    "                        LineString(\n",
    "                            [graph.nodes[u][\"geometry\"], graph.nodes[v][\"geometry\"]]\n",
    "                        )\n",
    "                    )\n",
    "                if \"rfid\" in _uv_graph_edge:\n",
    "                    match_list.append(_uv_graph_edge[\"rfid\"])\n",
    "\n",
    "            # compile the road segments into one geometry\n",
    "            pref_edges = MultiLineString(pref_edges)\n",
    "\n",
    "            # save all data to lists (of lists)\n",
    "            o_node_list.append(o[0])\n",
    "            d_node_list.append(d[0])\n",
    "            origin_list.append(o[1])\n",
    "            destination_list.append(d[1])\n",
    "            opt_path_list.append(pref_nodes)\n",
    "            weighing_list.append(pref_route)\n",
    "            match_ids_list.append(match_list)\n",
    "            geometries_list.append(pref_edges)\n",
    "\n",
    "# Geodataframe to save all the optimal routes\n",
    "pref_routes = gpd.GeoDataFrame(\n",
    "    {\n",
    "        \"o_node\": o_node_list,\n",
    "        \"d_node\": d_node_list,\n",
    "        \"origin\": origin_list,\n",
    "        \"destination\": destination_list,\n",
    "        \"opt_path\": opt_path_list,\n",
    "        weighing: weighing_list,\n",
    "        \"match_ids\": match_ids_list,\n",
    "        \"geometry\": geometries_list,\n",
    "    },\n",
    "    geometry=\"geometry\",\n",
    "    crs=\"epsg:4326\",\n",
    ")"
   ]
  },
  {
   "cell_type": "code",
   "execution_count": 47,
   "metadata": {},
   "outputs": [
    {
     "name": "stderr",
     "output_type": "stream",
     "text": [
      "2023-09-20 03:12:02 PM - [analyses_indirect.py:1303] - root - INFO - Results saved to: C:\\Users\\groen_fe\\OneDrive - Stichting Deltares\\1_Projects\\Moonshot_5\\small_graph_od\\output\\optimal_routes.gpkg\n",
      "2023-09-20 03:12:02 PM - [analyses_indirect.py:1303] - root - INFO - Results saved to: C:\\Users\\groen_fe\\OneDrive - Stichting Deltares\\1_Projects\\Moonshot_5\\small_graph_od\\output\\optimal_routes.gpkg\n"
     ]
    }
   ],
   "source": [
    "from ra2ce.analyses.indirect.analyses_indirect import save_gdf\n",
    "save_gdf(pref_routes, r\"C:\\Users\\groen_fe\\OneDrive - Stichting Deltares\\1_Projects\\Moonshot_5\\small_graph_od\\output\\optimal_routes.gpkg\")"
   ]
  }
 ],
 "metadata": {
  "kernelspec": {
   "display_name": "ra2ce_env",
   "language": "python",
   "name": "python3"
  },
  "language_info": {
   "codemirror_mode": {
    "name": "ipython",
    "version": 3
   },
   "file_extension": ".py",
   "mimetype": "text/x-python",
   "name": "python",
   "nbconvert_exporter": "python",
   "pygments_lexer": "ipython3",
   "version": "3.10.12"
  },
  "orig_nbformat": 4
 },
 "nbformat": 4,
 "nbformat_minor": 2
}
