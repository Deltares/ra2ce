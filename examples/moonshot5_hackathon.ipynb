{
 "cells": [
  {
   "cell_type": "markdown",
   "metadata": {},
   "source": [
    "# Moonshot 5 Hackathon - Drought in the Netherlands\n",
    "Using RA2CE to assess the capacity of the road network between Rotterdam and the Ruhr area."
   ]
  },
  {
   "cell_type": "code",
   "execution_count": 39,
   "metadata": {},
   "outputs": [],
   "source": [
    "from ra2ce.ra2ce_handler import Ra2ceHandler # import the ra2cehandler to run ra2ce analyses\n",
    "from pathlib import Path\n",
    "import networkx as nx\n",
    "import pandas as pd\n",
    "from ra2ce.common.io.readers.graph_pickle_reader import GraphPickleReader\n",
    "from ra2ce.graph.exporters.multi_graph_network_exporter import MultiGraphNetworkExporter\n",
    "\n",
    "_network_ini_name = \"network.ini\" # set the name for the network.ini settings file\n",
    "\n",
    "folder_dir = Path(r'C:\\Users\\groen_fe\\OneDrive - Stichting Deltares\\1_Projects\\Moonshot_5')\n",
    "\n",
    "network_ini = folder_dir / _network_ini_name\n",
    "assert network_ini.is_file() # check whether the network.ini file exists"
   ]
  },
  {
   "cell_type": "markdown",
   "metadata": {},
   "source": [
    "Download the road network from OSM."
   ]
  },
  {
   "cell_type": "code",
   "execution_count": 13,
   "metadata": {},
   "outputs": [
    {
     "name": "stderr",
     "output_type": "stream",
     "text": [
      "2023-09-15 03:46:56 PM - [ra2ce_logging.py:41] - root - INFO - RA2CE logger initialized.\n",
      "2023-09-15 03:46:56 PM - [ra2ce_logging.py:41] - root - INFO - RA2CE logger initialized.\n",
      "2023-09-15 03:46:56 PM - [ra2ce_logging.py:41] - root - INFO - RA2CE logger initialized.\n",
      "2023-09-15 03:46:56 PM - [ra2ce_logging.py:41] - root - INFO - RA2CE logger initialized.\n",
      "2023-09-15 03:46:56 PM - [ra2ce_logging.py:41] - root - INFO - RA2CE logger initialized.\n",
      "2023-09-15 03:46:56 PM - [ra2ce_logging.py:41] - root - INFO - RA2CE logger initialized.\n",
      "2023-09-15 03:46:56 PM - [ra2ce_logging.py:41] - root - INFO - RA2CE logger initialized.\n",
      "2023-09-15 03:46:56 PM - [ra2ce_logging.py:41] - root - INFO - RA2CE logger initialized.\n",
      "2023-09-15 03:46:56 PM - [network_config_wrapper.py:106] - root - INFO - Existing graph/network found: C:\\Users\\groen_fe\\OneDrive - Stichting Deltares\\1_Projects\\Moonshot_5\\static\\output_graph\\base_graph.p.\n",
      "2023-09-15 03:46:56 PM - [network_config_wrapper.py:106] - root - INFO - Existing graph/network found: C:\\Users\\groen_fe\\OneDrive - Stichting Deltares\\1_Projects\\Moonshot_5\\static\\output_graph\\base_graph.p.\n",
      "2023-09-15 03:46:56 PM - [network_config_wrapper.py:106] - root - INFO - Existing graph/network found: C:\\Users\\groen_fe\\OneDrive - Stichting Deltares\\1_Projects\\Moonshot_5\\static\\output_graph\\base_graph.p.\n",
      "2023-09-15 03:46:56 PM - [network_config_wrapper.py:106] - root - INFO - Existing graph/network found: C:\\Users\\groen_fe\\OneDrive - Stichting Deltares\\1_Projects\\Moonshot_5\\static\\output_graph\\base_graph.p.\n",
      "2023-09-15 03:46:56 PM - [network_config_wrapper.py:106] - root - INFO - Existing graph/network found: C:\\Users\\groen_fe\\OneDrive - Stichting Deltares\\1_Projects\\Moonshot_5\\static\\output_graph\\base_graph.p.\n",
      "2023-09-15 03:46:56 PM - [network_config_wrapper.py:106] - root - INFO - Existing graph/network found: C:\\Users\\groen_fe\\OneDrive - Stichting Deltares\\1_Projects\\Moonshot_5\\static\\output_graph\\base_graph.p.\n",
      "2023-09-15 03:46:56 PM - [network_config_wrapper.py:106] - root - INFO - Existing graph/network found: C:\\Users\\groen_fe\\OneDrive - Stichting Deltares\\1_Projects\\Moonshot_5\\static\\output_graph\\base_graph.p.\n",
      "2023-09-15 03:46:56 PM - [network_config_wrapper.py:106] - root - INFO - Existing graph/network found: C:\\Users\\groen_fe\\OneDrive - Stichting Deltares\\1_Projects\\Moonshot_5\\static\\output_graph\\base_graph.p.\n",
      "2023-09-15 03:46:56 PM - [network_config_wrapper.py:106] - root - INFO - Existing graph/network found: C:\\Users\\groen_fe\\OneDrive - Stichting Deltares\\1_Projects\\Moonshot_5\\static\\output_graph\\base_network.feather.\n",
      "2023-09-15 03:46:56 PM - [network_config_wrapper.py:106] - root - INFO - Existing graph/network found: C:\\Users\\groen_fe\\OneDrive - Stichting Deltares\\1_Projects\\Moonshot_5\\static\\output_graph\\base_network.feather.\n",
      "2023-09-15 03:46:56 PM - [network_config_wrapper.py:106] - root - INFO - Existing graph/network found: C:\\Users\\groen_fe\\OneDrive - Stichting Deltares\\1_Projects\\Moonshot_5\\static\\output_graph\\base_network.feather.\n",
      "2023-09-15 03:46:56 PM - [network_config_wrapper.py:106] - root - INFO - Existing graph/network found: C:\\Users\\groen_fe\\OneDrive - Stichting Deltares\\1_Projects\\Moonshot_5\\static\\output_graph\\base_network.feather.\n",
      "2023-09-15 03:46:56 PM - [network_config_wrapper.py:106] - root - INFO - Existing graph/network found: C:\\Users\\groen_fe\\OneDrive - Stichting Deltares\\1_Projects\\Moonshot_5\\static\\output_graph\\base_network.feather.\n",
      "2023-09-15 03:46:56 PM - [network_config_wrapper.py:106] - root - INFO - Existing graph/network found: C:\\Users\\groen_fe\\OneDrive - Stichting Deltares\\1_Projects\\Moonshot_5\\static\\output_graph\\base_network.feather.\n",
      "2023-09-15 03:46:56 PM - [network_config_wrapper.py:106] - root - INFO - Existing graph/network found: C:\\Users\\groen_fe\\OneDrive - Stichting Deltares\\1_Projects\\Moonshot_5\\static\\output_graph\\base_network.feather.\n",
      "2023-09-15 03:46:56 PM - [network_config_wrapper.py:106] - root - INFO - Existing graph/network found: C:\\Users\\groen_fe\\OneDrive - Stichting Deltares\\1_Projects\\Moonshot_5\\static\\output_graph\\base_network.feather.\n",
      "2023-09-15 03:46:56 PM - [networks.py:183] - root - INFO - Apparently, you already did create a network with ra2ce earlier. Ra2ce will use this: C:\\Users\\groen_fe\\OneDrive - Stichting Deltares\\1_Projects\\Moonshot_5\\static\\output_graph\\base_graph.p\n",
      "2023-09-15 03:46:56 PM - [networks.py:183] - root - INFO - Apparently, you already did create a network with ra2ce earlier. Ra2ce will use this: C:\\Users\\groen_fe\\OneDrive - Stichting Deltares\\1_Projects\\Moonshot_5\\static\\output_graph\\base_graph.p\n",
      "2023-09-15 03:46:56 PM - [networks.py:183] - root - INFO - Apparently, you already did create a network with ra2ce earlier. Ra2ce will use this: C:\\Users\\groen_fe\\OneDrive - Stichting Deltares\\1_Projects\\Moonshot_5\\static\\output_graph\\base_graph.p\n",
      "2023-09-15 03:46:56 PM - [networks.py:183] - root - INFO - Apparently, you already did create a network with ra2ce earlier. Ra2ce will use this: C:\\Users\\groen_fe\\OneDrive - Stichting Deltares\\1_Projects\\Moonshot_5\\static\\output_graph\\base_graph.p\n",
      "2023-09-15 03:46:56 PM - [networks.py:183] - root - INFO - Apparently, you already did create a network with ra2ce earlier. Ra2ce will use this: C:\\Users\\groen_fe\\OneDrive - Stichting Deltares\\1_Projects\\Moonshot_5\\static\\output_graph\\base_graph.p\n",
      "2023-09-15 03:46:56 PM - [networks.py:183] - root - INFO - Apparently, you already did create a network with ra2ce earlier. Ra2ce will use this: C:\\Users\\groen_fe\\OneDrive - Stichting Deltares\\1_Projects\\Moonshot_5\\static\\output_graph\\base_graph.p\n",
      "2023-09-15 03:46:56 PM - [networks.py:183] - root - INFO - Apparently, you already did create a network with ra2ce earlier. Ra2ce will use this: C:\\Users\\groen_fe\\OneDrive - Stichting Deltares\\1_Projects\\Moonshot_5\\static\\output_graph\\base_graph.p\n",
      "2023-09-15 03:46:56 PM - [networks.py:183] - root - INFO - Apparently, you already did create a network with ra2ce earlier. Ra2ce will use this: C:\\Users\\groen_fe\\OneDrive - Stichting Deltares\\1_Projects\\Moonshot_5\\static\\output_graph\\base_graph.p\n",
      "2023-09-15 03:46:57 PM - [origins_destinations.py:314] - root - INFO - Finding vertices closest to Origins and Destinations\n",
      "2023-09-15 03:46:57 PM - [origins_destinations.py:314] - root - INFO - Finding vertices closest to Origins and Destinations\n",
      "2023-09-15 03:46:57 PM - [origins_destinations.py:314] - root - INFO - Finding vertices closest to Origins and Destinations\n",
      "2023-09-15 03:46:57 PM - [origins_destinations.py:314] - root - INFO - Finding vertices closest to Origins and Destinations\n",
      "2023-09-15 03:46:57 PM - [origins_destinations.py:314] - root - INFO - Finding vertices closest to Origins and Destinations\n",
      "2023-09-15 03:46:57 PM - [origins_destinations.py:314] - root - INFO - Finding vertices closest to Origins and Destinations\n",
      "2023-09-15 03:46:57 PM - [origins_destinations.py:314] - root - INFO - Finding vertices closest to Origins and Destinations\n",
      "2023-09-15 03:46:57 PM - [origins_destinations.py:314] - root - INFO - Finding vertices closest to Origins and Destinations\n",
      "Adding Origin-Destination nodes to graph: 6it [00:00, 275.77it/s]\n",
      "2023-09-15 03:46:57 PM - [networks.py:117] - root - INFO - Saved origin_destination_table.feather in C:\\Users\\groen_fe\\OneDrive - Stichting Deltares\\1_Projects\\Moonshot_5\\static\\output_graph.\n",
      "2023-09-15 03:46:57 PM - [networks.py:117] - root - INFO - Saved origin_destination_table.feather in C:\\Users\\groen_fe\\OneDrive - Stichting Deltares\\1_Projects\\Moonshot_5\\static\\output_graph.\n",
      "2023-09-15 03:46:57 PM - [networks.py:117] - root - INFO - Saved origin_destination_table.feather in C:\\Users\\groen_fe\\OneDrive - Stichting Deltares\\1_Projects\\Moonshot_5\\static\\output_graph.\n",
      "2023-09-15 03:46:57 PM - [networks.py:117] - root - INFO - Saved origin_destination_table.feather in C:\\Users\\groen_fe\\OneDrive - Stichting Deltares\\1_Projects\\Moonshot_5\\static\\output_graph.\n",
      "2023-09-15 03:46:57 PM - [networks.py:117] - root - INFO - Saved origin_destination_table.feather in C:\\Users\\groen_fe\\OneDrive - Stichting Deltares\\1_Projects\\Moonshot_5\\static\\output_graph.\n",
      "2023-09-15 03:46:57 PM - [networks.py:117] - root - INFO - Saved origin_destination_table.feather in C:\\Users\\groen_fe\\OneDrive - Stichting Deltares\\1_Projects\\Moonshot_5\\static\\output_graph.\n",
      "2023-09-15 03:46:57 PM - [networks.py:117] - root - INFO - Saved origin_destination_table.feather in C:\\Users\\groen_fe\\OneDrive - Stichting Deltares\\1_Projects\\Moonshot_5\\static\\output_graph.\n",
      "2023-09-15 03:46:57 PM - [networks.py:117] - root - INFO - Saved origin_destination_table.feather in C:\\Users\\groen_fe\\OneDrive - Stichting Deltares\\1_Projects\\Moonshot_5\\static\\output_graph.\n",
      "2023-09-15 03:46:57 PM - [networks.py:123] - root - INFO - Saved origin_destination_table in C:\\Users\\groen_fe\\OneDrive - Stichting Deltares\\1_Projects\\Moonshot_5\\static\\output_graph.\n",
      "2023-09-15 03:46:57 PM - [networks.py:123] - root - INFO - Saved origin_destination_table in C:\\Users\\groen_fe\\OneDrive - Stichting Deltares\\1_Projects\\Moonshot_5\\static\\output_graph.\n",
      "2023-09-15 03:46:57 PM - [networks.py:123] - root - INFO - Saved origin_destination_table in C:\\Users\\groen_fe\\OneDrive - Stichting Deltares\\1_Projects\\Moonshot_5\\static\\output_graph.\n",
      "2023-09-15 03:46:57 PM - [networks.py:123] - root - INFO - Saved origin_destination_table in C:\\Users\\groen_fe\\OneDrive - Stichting Deltares\\1_Projects\\Moonshot_5\\static\\output_graph.\n",
      "2023-09-15 03:46:57 PM - [networks.py:123] - root - INFO - Saved origin_destination_table in C:\\Users\\groen_fe\\OneDrive - Stichting Deltares\\1_Projects\\Moonshot_5\\static\\output_graph.\n",
      "2023-09-15 03:46:57 PM - [networks.py:123] - root - INFO - Saved origin_destination_table in C:\\Users\\groen_fe\\OneDrive - Stichting Deltares\\1_Projects\\Moonshot_5\\static\\output_graph.\n",
      "2023-09-15 03:46:57 PM - [networks.py:123] - root - INFO - Saved origin_destination_table in C:\\Users\\groen_fe\\OneDrive - Stichting Deltares\\1_Projects\\Moonshot_5\\static\\output_graph.\n",
      "2023-09-15 03:46:57 PM - [networks.py:123] - root - INFO - Saved origin_destination_table in C:\\Users\\groen_fe\\OneDrive - Stichting Deltares\\1_Projects\\Moonshot_5\\static\\output_graph.\n",
      "2023-09-15 03:46:57 PM - [multi_graph_network_exporter.py:56] - root - INFO - Saved origins_destinations_graph in C:\\Users\\groen_fe\\OneDrive - Stichting Deltares\\1_Projects\\Moonshot_5\\static\\output_graph.\n",
      "2023-09-15 03:46:57 PM - [multi_graph_network_exporter.py:56] - root - INFO - Saved origins_destinations_graph in C:\\Users\\groen_fe\\OneDrive - Stichting Deltares\\1_Projects\\Moonshot_5\\static\\output_graph.\n",
      "2023-09-15 03:46:57 PM - [multi_graph_network_exporter.py:56] - root - INFO - Saved origins_destinations_graph in C:\\Users\\groen_fe\\OneDrive - Stichting Deltares\\1_Projects\\Moonshot_5\\static\\output_graph.\n",
      "2023-09-15 03:46:57 PM - [multi_graph_network_exporter.py:56] - root - INFO - Saved origins_destinations_graph in C:\\Users\\groen_fe\\OneDrive - Stichting Deltares\\1_Projects\\Moonshot_5\\static\\output_graph.\n",
      "2023-09-15 03:46:57 PM - [multi_graph_network_exporter.py:56] - root - INFO - Saved origins_destinations_graph in C:\\Users\\groen_fe\\OneDrive - Stichting Deltares\\1_Projects\\Moonshot_5\\static\\output_graph.\n",
      "2023-09-15 03:46:57 PM - [multi_graph_network_exporter.py:56] - root - INFO - Saved origins_destinations_graph in C:\\Users\\groen_fe\\OneDrive - Stichting Deltares\\1_Projects\\Moonshot_5\\static\\output_graph.\n",
      "2023-09-15 03:46:57 PM - [multi_graph_network_exporter.py:56] - root - INFO - Saved origins_destinations_graph in C:\\Users\\groen_fe\\OneDrive - Stichting Deltares\\1_Projects\\Moonshot_5\\static\\output_graph.\n",
      "2023-09-15 03:46:57 PM - [multi_graph_network_exporter.py:56] - root - INFO - Saved origins_destinations_graph in C:\\Users\\groen_fe\\OneDrive - Stichting Deltares\\1_Projects\\Moonshot_5\\static\\output_graph.\n",
      "2023-09-15 03:46:58 PM - [networks_utils.py:1210] - root - INFO - Saving nodes as shapefile: C:\\Users\\groen_fe\\OneDrive - Stichting Deltares\\1_Projects\\Moonshot_5\\static\\output_graph\\origins_destinations_graph_nodes.gpkg\n",
      "2023-09-15 03:46:58 PM - [networks_utils.py:1210] - root - INFO - Saving nodes as shapefile: C:\\Users\\groen_fe\\OneDrive - Stichting Deltares\\1_Projects\\Moonshot_5\\static\\output_graph\\origins_destinations_graph_nodes.gpkg\n",
      "2023-09-15 03:46:58 PM - [networks_utils.py:1210] - root - INFO - Saving nodes as shapefile: C:\\Users\\groen_fe\\OneDrive - Stichting Deltares\\1_Projects\\Moonshot_5\\static\\output_graph\\origins_destinations_graph_nodes.gpkg\n",
      "2023-09-15 03:46:58 PM - [networks_utils.py:1210] - root - INFO - Saving nodes as shapefile: C:\\Users\\groen_fe\\OneDrive - Stichting Deltares\\1_Projects\\Moonshot_5\\static\\output_graph\\origins_destinations_graph_nodes.gpkg\n",
      "2023-09-15 03:46:58 PM - [networks_utils.py:1210] - root - INFO - Saving nodes as shapefile: C:\\Users\\groen_fe\\OneDrive - Stichting Deltares\\1_Projects\\Moonshot_5\\static\\output_graph\\origins_destinations_graph_nodes.gpkg\n",
      "2023-09-15 03:46:58 PM - [networks_utils.py:1210] - root - INFO - Saving nodes as shapefile: C:\\Users\\groen_fe\\OneDrive - Stichting Deltares\\1_Projects\\Moonshot_5\\static\\output_graph\\origins_destinations_graph_nodes.gpkg\n",
      "2023-09-15 03:46:58 PM - [networks_utils.py:1210] - root - INFO - Saving nodes as shapefile: C:\\Users\\groen_fe\\OneDrive - Stichting Deltares\\1_Projects\\Moonshot_5\\static\\output_graph\\origins_destinations_graph_nodes.gpkg\n",
      "2023-09-15 03:46:58 PM - [networks_utils.py:1210] - root - INFO - Saving nodes as shapefile: C:\\Users\\groen_fe\\OneDrive - Stichting Deltares\\1_Projects\\Moonshot_5\\static\\output_graph\\origins_destinations_graph_nodes.gpkg\n",
      "2023-09-15 03:46:58 PM - [networks_utils.py:1211] - root - INFO - Saving edges as shapefile: C:\\Users\\groen_fe\\OneDrive - Stichting Deltares\\1_Projects\\Moonshot_5\\static\\output_graph\\origins_destinations_graph_edges.gpkg\n",
      "2023-09-15 03:46:58 PM - [networks_utils.py:1211] - root - INFO - Saving edges as shapefile: C:\\Users\\groen_fe\\OneDrive - Stichting Deltares\\1_Projects\\Moonshot_5\\static\\output_graph\\origins_destinations_graph_edges.gpkg\n",
      "2023-09-15 03:46:58 PM - [networks_utils.py:1211] - root - INFO - Saving edges as shapefile: C:\\Users\\groen_fe\\OneDrive - Stichting Deltares\\1_Projects\\Moonshot_5\\static\\output_graph\\origins_destinations_graph_edges.gpkg\n",
      "2023-09-15 03:46:58 PM - [networks_utils.py:1211] - root - INFO - Saving edges as shapefile: C:\\Users\\groen_fe\\OneDrive - Stichting Deltares\\1_Projects\\Moonshot_5\\static\\output_graph\\origins_destinations_graph_edges.gpkg\n",
      "2023-09-15 03:46:58 PM - [networks_utils.py:1211] - root - INFO - Saving edges as shapefile: C:\\Users\\groen_fe\\OneDrive - Stichting Deltares\\1_Projects\\Moonshot_5\\static\\output_graph\\origins_destinations_graph_edges.gpkg\n",
      "2023-09-15 03:46:58 PM - [networks_utils.py:1211] - root - INFO - Saving edges as shapefile: C:\\Users\\groen_fe\\OneDrive - Stichting Deltares\\1_Projects\\Moonshot_5\\static\\output_graph\\origins_destinations_graph_edges.gpkg\n",
      "2023-09-15 03:46:58 PM - [networks_utils.py:1211] - root - INFO - Saving edges as shapefile: C:\\Users\\groen_fe\\OneDrive - Stichting Deltares\\1_Projects\\Moonshot_5\\static\\output_graph\\origins_destinations_graph_edges.gpkg\n",
      "2023-09-15 03:46:58 PM - [networks_utils.py:1211] - root - INFO - Saving edges as shapefile: C:\\Users\\groen_fe\\OneDrive - Stichting Deltares\\1_Projects\\Moonshot_5\\static\\output_graph\\origins_destinations_graph_edges.gpkg\n",
      "2023-09-15 03:46:59 PM - [multi_graph_network_exporter.py:48] - root - INFO - Saved origins_destinations_graph_edges.shp and origins_destinations_graph_nodes.shp in C:\\Users\\groen_fe\\OneDrive - Stichting Deltares\\1_Projects\\Moonshot_5\\static\\output_graph.\n",
      "2023-09-15 03:46:59 PM - [multi_graph_network_exporter.py:48] - root - INFO - Saved origins_destinations_graph_edges.shp and origins_destinations_graph_nodes.shp in C:\\Users\\groen_fe\\OneDrive - Stichting Deltares\\1_Projects\\Moonshot_5\\static\\output_graph.\n",
      "2023-09-15 03:46:59 PM - [multi_graph_network_exporter.py:48] - root - INFO - Saved origins_destinations_graph_edges.shp and origins_destinations_graph_nodes.shp in C:\\Users\\groen_fe\\OneDrive - Stichting Deltares\\1_Projects\\Moonshot_5\\static\\output_graph.\n",
      "2023-09-15 03:46:59 PM - [multi_graph_network_exporter.py:48] - root - INFO - Saved origins_destinations_graph_edges.shp and origins_destinations_graph_nodes.shp in C:\\Users\\groen_fe\\OneDrive - Stichting Deltares\\1_Projects\\Moonshot_5\\static\\output_graph.\n",
      "2023-09-15 03:46:59 PM - [multi_graph_network_exporter.py:48] - root - INFO - Saved origins_destinations_graph_edges.shp and origins_destinations_graph_nodes.shp in C:\\Users\\groen_fe\\OneDrive - Stichting Deltares\\1_Projects\\Moonshot_5\\static\\output_graph.\n",
      "2023-09-15 03:46:59 PM - [multi_graph_network_exporter.py:48] - root - INFO - Saved origins_destinations_graph_edges.shp and origins_destinations_graph_nodes.shp in C:\\Users\\groen_fe\\OneDrive - Stichting Deltares\\1_Projects\\Moonshot_5\\static\\output_graph.\n",
      "2023-09-15 03:46:59 PM - [multi_graph_network_exporter.py:48] - root - INFO - Saved origins_destinations_graph_edges.shp and origins_destinations_graph_nodes.shp in C:\\Users\\groen_fe\\OneDrive - Stichting Deltares\\1_Projects\\Moonshot_5\\static\\output_graph.\n",
      "2023-09-15 03:46:59 PM - [multi_graph_network_exporter.py:48] - root - INFO - Saved origins_destinations_graph_edges.shp and origins_destinations_graph_nodes.shp in C:\\Users\\groen_fe\\OneDrive - Stichting Deltares\\1_Projects\\Moonshot_5\\static\\output_graph.\n"
     ]
    }
   ],
   "source": [
    "race = Ra2ceHandler(network=network_ini, analysis=None)\n",
    "race.configure()"
   ]
  },
  {
   "cell_type": "markdown",
   "metadata": {},
   "source": [
    "We can inspect the created graph"
   ]
  },
  {
   "cell_type": "code",
   "execution_count": 16,
   "metadata": {},
   "outputs": [],
   "source": [
    "od_graph = folder_dir / \"static\" / \"output_graph\" / \"origins_destinations_graph.p\"\n",
    "graph = GraphPickleReader().read(od_graph)"
   ]
  },
  {
   "cell_type": "markdown",
   "metadata": {},
   "source": [
    "We pick the lowest number of lanes per road segment and assign 1 lane to the road segments without data."
   ]
  },
  {
   "cell_type": "code",
   "execution_count": 37,
   "metadata": {},
   "outputs": [],
   "source": [
    "for e in graph.edges(data=True, keys=True):\n",
    "    if \"lanes\" not in e[-1]:\n",
    "        nr_lanes = 1\n",
    "    else:\n",
    "        nr_lanes = e[-1][\"lanes\"]\n",
    "    if isinstance(nr_lanes, list):\n",
    "        nr_lanes = min([int(x) for x in nr_lanes])\n",
    "    if isinstance(nr_lanes, str):\n",
    "        nr_lanes = int(nr_lanes)\n",
    "    graph[e[0]][e[1]][e[2]][\"lanes_new\"] = nr_lanes\n"
   ]
  },
  {
   "cell_type": "markdown",
   "metadata": {},
   "source": [
    "We translate the number of lanes to capacity."
   ]
  },
  {
   "cell_type": "code",
   "execution_count": 45,
   "metadata": {},
   "outputs": [],
   "source": [
    "capacity = folder_dir / \"road_capacity.csv\"\n",
    "capacity = pd.read_csv(capacity)\n",
    "ffs_list = capacity[\"FFS (km/h)\"].to_list()\n",
    "\n",
    "for e in graph.edges(data=True, keys=True):\n",
    "    ffs = min(ffs_list, key=lambda x: abs(x - e[-1][\"lanes_new\"]))\n",
    "    graph[e[0]][e[1]][e[2]][\"capacity\"] = capacity.loc[capacity[\"FFS (km/h)\"] == ffs, \"E (pc/h/ln)\"].values[0] * e[-1][\"lanes_new\"]"
   ]
  },
  {
   "cell_type": "code",
   "execution_count": 46,
   "metadata": {},
   "outputs": [
    {
     "name": "stderr",
     "output_type": "stream",
     "text": [
      "2023-09-15 04:53:44 PM - [networks_utils.py:1210] - root - INFO - Saving nodes as shapefile: C:\\Users\\groen_fe\\OneDrive - Stichting Deltares\\1_Projects\\Moonshot_5\\static\\output_graph\\updated_network_nodes.gpkg\n",
      "2023-09-15 04:53:44 PM - [networks_utils.py:1210] - root - INFO - Saving nodes as shapefile: C:\\Users\\groen_fe\\OneDrive - Stichting Deltares\\1_Projects\\Moonshot_5\\static\\output_graph\\updated_network_nodes.gpkg\n",
      "2023-09-15 04:53:44 PM - [networks_utils.py:1210] - root - INFO - Saving nodes as shapefile: C:\\Users\\groen_fe\\OneDrive - Stichting Deltares\\1_Projects\\Moonshot_5\\static\\output_graph\\updated_network_nodes.gpkg\n",
      "2023-09-15 04:53:44 PM - [networks_utils.py:1210] - root - INFO - Saving nodes as shapefile: C:\\Users\\groen_fe\\OneDrive - Stichting Deltares\\1_Projects\\Moonshot_5\\static\\output_graph\\updated_network_nodes.gpkg\n",
      "2023-09-15 04:53:44 PM - [networks_utils.py:1210] - root - INFO - Saving nodes as shapefile: C:\\Users\\groen_fe\\OneDrive - Stichting Deltares\\1_Projects\\Moonshot_5\\static\\output_graph\\updated_network_nodes.gpkg\n",
      "2023-09-15 04:53:44 PM - [networks_utils.py:1210] - root - INFO - Saving nodes as shapefile: C:\\Users\\groen_fe\\OneDrive - Stichting Deltares\\1_Projects\\Moonshot_5\\static\\output_graph\\updated_network_nodes.gpkg\n",
      "2023-09-15 04:53:44 PM - [networks_utils.py:1210] - root - INFO - Saving nodes as shapefile: C:\\Users\\groen_fe\\OneDrive - Stichting Deltares\\1_Projects\\Moonshot_5\\static\\output_graph\\updated_network_nodes.gpkg\n",
      "2023-09-15 04:53:44 PM - [networks_utils.py:1210] - root - INFO - Saving nodes as shapefile: C:\\Users\\groen_fe\\OneDrive - Stichting Deltares\\1_Projects\\Moonshot_5\\static\\output_graph\\updated_network_nodes.gpkg\n",
      "2023-09-15 04:53:44 PM - [networks_utils.py:1211] - root - INFO - Saving edges as shapefile: C:\\Users\\groen_fe\\OneDrive - Stichting Deltares\\1_Projects\\Moonshot_5\\static\\output_graph\\updated_network_edges.gpkg\n",
      "2023-09-15 04:53:44 PM - [networks_utils.py:1211] - root - INFO - Saving edges as shapefile: C:\\Users\\groen_fe\\OneDrive - Stichting Deltares\\1_Projects\\Moonshot_5\\static\\output_graph\\updated_network_edges.gpkg\n",
      "2023-09-15 04:53:44 PM - [networks_utils.py:1211] - root - INFO - Saving edges as shapefile: C:\\Users\\groen_fe\\OneDrive - Stichting Deltares\\1_Projects\\Moonshot_5\\static\\output_graph\\updated_network_edges.gpkg\n",
      "2023-09-15 04:53:44 PM - [networks_utils.py:1211] - root - INFO - Saving edges as shapefile: C:\\Users\\groen_fe\\OneDrive - Stichting Deltares\\1_Projects\\Moonshot_5\\static\\output_graph\\updated_network_edges.gpkg\n",
      "2023-09-15 04:53:44 PM - [networks_utils.py:1211] - root - INFO - Saving edges as shapefile: C:\\Users\\groen_fe\\OneDrive - Stichting Deltares\\1_Projects\\Moonshot_5\\static\\output_graph\\updated_network_edges.gpkg\n",
      "2023-09-15 04:53:44 PM - [networks_utils.py:1211] - root - INFO - Saving edges as shapefile: C:\\Users\\groen_fe\\OneDrive - Stichting Deltares\\1_Projects\\Moonshot_5\\static\\output_graph\\updated_network_edges.gpkg\n",
      "2023-09-15 04:53:44 PM - [networks_utils.py:1211] - root - INFO - Saving edges as shapefile: C:\\Users\\groen_fe\\OneDrive - Stichting Deltares\\1_Projects\\Moonshot_5\\static\\output_graph\\updated_network_edges.gpkg\n",
      "2023-09-15 04:53:44 PM - [networks_utils.py:1211] - root - INFO - Saving edges as shapefile: C:\\Users\\groen_fe\\OneDrive - Stichting Deltares\\1_Projects\\Moonshot_5\\static\\output_graph\\updated_network_edges.gpkg\n",
      "2023-09-15 04:53:46 PM - [multi_graph_network_exporter.py:48] - root - INFO - Saved updated_network_edges.shp and updated_network_nodes.shp in C:\\Users\\groen_fe\\OneDrive - Stichting Deltares\\1_Projects\\Moonshot_5\\static\\output_graph.\n",
      "2023-09-15 04:53:46 PM - [multi_graph_network_exporter.py:48] - root - INFO - Saved updated_network_edges.shp and updated_network_nodes.shp in C:\\Users\\groen_fe\\OneDrive - Stichting Deltares\\1_Projects\\Moonshot_5\\static\\output_graph.\n",
      "2023-09-15 04:53:46 PM - [multi_graph_network_exporter.py:48] - root - INFO - Saved updated_network_edges.shp and updated_network_nodes.shp in C:\\Users\\groen_fe\\OneDrive - Stichting Deltares\\1_Projects\\Moonshot_5\\static\\output_graph.\n",
      "2023-09-15 04:53:46 PM - [multi_graph_network_exporter.py:48] - root - INFO - Saved updated_network_edges.shp and updated_network_nodes.shp in C:\\Users\\groen_fe\\OneDrive - Stichting Deltares\\1_Projects\\Moonshot_5\\static\\output_graph.\n",
      "2023-09-15 04:53:46 PM - [multi_graph_network_exporter.py:48] - root - INFO - Saved updated_network_edges.shp and updated_network_nodes.shp in C:\\Users\\groen_fe\\OneDrive - Stichting Deltares\\1_Projects\\Moonshot_5\\static\\output_graph.\n",
      "2023-09-15 04:53:46 PM - [multi_graph_network_exporter.py:48] - root - INFO - Saved updated_network_edges.shp and updated_network_nodes.shp in C:\\Users\\groen_fe\\OneDrive - Stichting Deltares\\1_Projects\\Moonshot_5\\static\\output_graph.\n",
      "2023-09-15 04:53:46 PM - [multi_graph_network_exporter.py:48] - root - INFO - Saved updated_network_edges.shp and updated_network_nodes.shp in C:\\Users\\groen_fe\\OneDrive - Stichting Deltares\\1_Projects\\Moonshot_5\\static\\output_graph.\n",
      "2023-09-15 04:53:46 PM - [multi_graph_network_exporter.py:48] - root - INFO - Saved updated_network_edges.shp and updated_network_nodes.shp in C:\\Users\\groen_fe\\OneDrive - Stichting Deltares\\1_Projects\\Moonshot_5\\static\\output_graph.\n"
     ]
    }
   ],
   "source": [
    "exporter = MultiGraphNetworkExporter(basename=\"updated_network\", export_types=[\"shp\"])\n",
    "exporter.export_to_shp(output_dir=folder_dir / \"static\" / \"output_graph\", export_data=graph)"
   ]
  }
 ],
 "metadata": {
  "kernelspec": {
   "display_name": "ra2ce_env",
   "language": "python",
   "name": "python3"
  },
  "language_info": {
   "codemirror_mode": {
    "name": "ipython",
    "version": 3
   },
   "file_extension": ".py",
   "mimetype": "text/x-python",
   "name": "python",
   "nbconvert_exporter": "python",
   "pygments_lexer": "ipython3",
   "version": "3.10.12"
  },
  "orig_nbformat": 4
 },
 "nbformat": 4,
 "nbformat_minor": 2
}
