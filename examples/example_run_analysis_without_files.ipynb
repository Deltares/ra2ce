{
 "cells": [
  {
   "cell_type": "markdown",
   "metadata": {},
   "source": [
    "It is entirely possible to generate a ra2ce analysis (or just a network) without having to generate `.ini` files. However, most of the times we will  only want to modify a few properties of a given `network.ini` or `analysis.ini` file.\n",
    "At the current version `0.8.1` we can solve both options as follows:\n",
    "\n",
    "1. Load the `.ini` files and then modify them at our own choice.\n",
    "2. Fully creating a `Ra2ceHandler` instance based on python objects ( `NetworkConfigData` and `AnalysisConfigData`)."
   ]
  },
  {
   "cell_type": "markdown",
   "metadata": {},
   "source": [
    "## Modify existing configurations from code\n",
    "\n",
    "Given our most common use case, we want to load a network and analysis and potentially modifying some of its properties. This was already accomplished in the \"ra2ce hackathon 2024 Q1\".\n",
    "\n",
    "To achieve it, simply use the regular `Ra2ceHandler` with your desired `ini` files and then access the corresponding `NetworkConfigData` and `AnalysisConfigData` properties. See the example below."
   ]
  },
  {
   "cell_type": "markdown",
   "metadata": {},
   "source": [
    "1. Initialize the Ra2ce handler with valid `.ini` files."
   ]
  },
  {
   "cell_type": "code",
   "execution_count": null,
   "metadata": {},
   "outputs": [],
   "source": [
    "from pathlib import Path\n",
    "\n",
    "from ra2ce.ra2ce_handler import Ra2ceHandler\n",
    "\n",
    "# Define the location of our example test data.\n",
    "_root_dir = Path(\"/data\").joinpath(\"direct_analysis\")\n",
    "assert _root_dir.exists()\n",
    "\n",
    "_network_file = _root_dir.joinpath(\"network.ini\")\n",
    "assert _network_file.exists()\n",
    "\n",
    "_analysis_file = _root_dir.joinpath(\"analysis.ini\")\n",
    "assert _analysis_file.exists()\n",
    "\n",
    "# Initialize handler\n",
    "_handler = Ra2ceHandler(_network_file, _analysis_file)"
   ]
  },
  {
   "cell_type": "markdown",
   "metadata": {},
   "source": [
    "2. In addition, we can verify if the analysis and network are correctly set."
   ]
  },
  {
   "cell_type": "code",
   "execution_count": null,
   "metadata": {},
   "outputs": [],
   "source": [
    "from ra2ce.network.network_config_data.network_config_data import NetworkConfigData\n",
    "from ra2ce.analysis.analysis_config_data.analysis_config_data import AnalysisConfigData\n",
    "\n",
    "assert isinstance(_handler.input_config.network_config.config_data, NetworkConfigData)\n",
    "assert isinstance(_handler.input_config.analysis_config.config_data, AnalysisConfigData)\n"
   ]
  },
  {
   "cell_type": "markdown",
   "metadata": {},
   "source": [
    "3. Configure the network and analyses"
   ]
  },
  {
   "cell_type": "code",
   "execution_count": null,
   "metadata": {},
   "outputs": [],
   "source": [
    "_handler.configure()"
   ]
  },
  {
   "cell_type": "markdown",
   "metadata": {},
   "source": [
    "4. Run the analysis."
   ]
  },
  {
   "cell_type": "code",
   "execution_count": null,
   "metadata": {},
   "outputs": [],
   "source": [
    "_handler.run_analysis()"
   ]
  }
 ],
 "metadata": {
  "language_info": {
   "name": "python"
  }
 },
 "nbformat": 4,
 "nbformat_minor": 2
}
