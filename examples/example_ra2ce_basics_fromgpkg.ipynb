{
    "cells": [
        {
            "attachments": {},
            "cell_type": "markdown",
            "id": "e0bf8629",
            "metadata": {},
            "source": [
                "# RA2CE basics: set up RA2CE and configure a road network from a pre-defined shapefile"
            ]
        },
        {
            "attachments": {},
            "cell_type": "markdown",
            "id": "43bce1c4",
            "metadata": {},
            "source": [
                "This notebook contains examples for the RA2CE tool. This requires the right folder setup, and the correct settings in the configuration files (network.ini and analyses.ini).\n",
                "\n",
                "In this notebook, we will guide you through the basics of RA2CE: configuring a road network based in a pre-defined shapefile \n",
                "\n",
                "First of all, we will import the packages we need to execute this notebook:"
            ]
        },
        {
            "cell_type": "code",
            "execution_count": null,
            "id": "e67d001f",
            "metadata": {},
            "outputs": [],
            "source": [
                "import geopandas as gpd\n",
                "import matplotlib.pyplot as plt\n",
                "from pathlib import Path\n",
                "from ra2ce.ra2ce_handler import Ra2ceHandler # import the ra2cehandler to run ra2ce analyses"
            ]
        },
        {
            "attachments": {},
            "cell_type": "markdown",
            "id": "6611234c",
            "metadata": {},
            "source": [
                "## Folder structure\n",
                "\n",
                "Before starting the examples, it is vital that you familiarize yourself with the RA2CE folder structure. RA2CE requires this folder structure to succesfully perform analyses. You can find the folder structure in the **documentation**.\n",
                "\n",
                "\n",
                "A project folder must contain the subfolders 'output' and 'static'. An 'input' folder is optional for additional data sets but we will not use that in our example. It must also contain the network.ini and/or analyses.ini files. Within the subfolder 'static', RA2CE expects three subfolders: hazard, network, and output_graph. See below an example folder structure of “Project A”. This folder structure must be created by the user before running RA2CE."
            ]
        },
        {
            "attachments": {
                "image.png": {
                    "image/png": "[encoded data removed]"
                }
            },
            "cell_type": "markdown",
            "id": "1c9ba230",
            "metadata": {},
            "source": [
                "![image.png](attachment:image.png)"
            ]
        },
        {
            "attachments": {},
            "cell_type": "markdown",
            "id": "96633b35",
            "metadata": {},
            "source": [
                "## Configuring RA2CE to create a road network from SHP"
            ]
        },
        {
            "attachments": {},
            "cell_type": "markdown",
            "id": "4ad8c1d9",
            "metadata": {},
            "source": [
                "You can input an existing shapefile into RA2CE to create a network from it. Make sure the shapefile is in the WGS84 EPSG:4326 projection. Also ensure that the shapefile is 'clean' and connected."
            ]
        },
        {
            "attachments": {},
            "cell_type": "markdown",
            "id": "0afbb6d2",
            "metadata": {},
            "source": [
                "### Filling the network.ini file\n",
                "Now, we will fill the *network.ini* file with our configurations.\n",
                "\n",
                "Under [project], we simply specify the *project name*. \n",
                "\n",
                "We then move on to the [network] section, where we will first mention the most important settings for this example. First, we specify the **source** of the procedure. In this case, you want to specify ***source = shapefile**. Specify the shapefile's name in the **primary_file** parameter. Make sure you saved the shapefile in your static/network folder. \n",
                "\n",
                "Some other important settings in the [network] section are:\n",
                "- **directed**: Used together with OSM download - False if you want to have an undirected graph and True if you want to have a directed graph.\n",
                "- **primary_file**: Used to specify the shapefile name of the (road) network to do the analysis with, when creating a network from a shapefile.\n",
                "- **diversion_file**: Used to specify a shapefile name of the (road) network to only use for diversion (i.e., no analysis), when creating a network from a shapefile.\n",
                "- **file_id**: The field name in the shapefile/OSM data that holds the unique ID of the data. When this ID attribute is not unique, RA2CE will create a new attribute in the data with the name 'rfid_c' (RA2CE feature ID complex) that contains the unique ID. For more information, the documentation on this is coming soon...\n",
                "- **network_type**: The type of network to download from OSM, in the case of road networks, this must be set to *'drive'*.\n",
                "- **save_gpkg**: True if you want to save the shapefile of the resulting road network in the *output_graph* folder.\n",
                "\n",
                "The other settings [origins_destinations], [hazard], and [cleanup], are not relevant for this example and will be introduced in other examples. However, the parameters need to be in the network.ini file in order for RA2CE to run."
            ]
        },
        {
            "attachments": {},
            "cell_type": "markdown",
            "id": "1cdfa8aa",
            "metadata": {},
            "source": [
                "> [project]<br>\n",
                "name = *insert your project name* <br>\n",
                "<br>\n",
                "[network]<br>\n",
                "directed = False<br>\n",
                "**source = shapefile<br>**\n",
                "**primary_file = base_shapefile.shp**<br>\n",
                "diversion_file = None<br>\n",
                "**file_id = rfid_c**<br>\n",
                "polygon = None<br>\n",
                "network_type = drive<br>\n",
                "road_types = None<br>\n",
                "**save_gpkg = True**<br>\n",
                "<br>\n",
                "*[origins_destinations]<br>\n",
                "origins = None<br>\n",
                "destinations = None<br>\n",
                "origins_names = None<br>\n",
                "destinations_names = None<br>\n",
                "id_name_origin_destination = None<br>\n",
                "origin_count = None<br>\n",
                "origin_out_fraction = None<br>\n",
                "<br>\n",
                "[hazard]<br>\n",
                "hazard_map = None<br>\n",
                "hazard_id = None<br>\n",
                "hazard_field_name = None<br>\n",
                "aggregate_wl = None<br>\n",
                "hazard_crs = None  <br>\n",
                "<br>\n",
                "[cleanup]<br>\n",
                "snapping_threshold = None <br>\n",
                "segmentation_length = None <br>\n",
                "merge_lines = True <br>\n",
                "merge_on_id = False <br>\n",
                "cut_at_intersections = False <br>*"
            ]
        },
        {
            "attachments": {},
            "cell_type": "markdown",
            "id": "70715c43",
            "metadata": {},
            "source": [
                "Now, we tell the program where to find our project folder (by specifying the path to the project folder). Now that we introduced a polygon of a region and provided the right network.ini settings, RA2CE can download from OSM. \n",
                "\n",
                "For this action we only need the network.ini file, no analysis.ini file is needed."
            ]
        },
        {
            "cell_type": "code",
            "execution_count": null,
            "id": "4486021e",
            "metadata": {},
            "outputs": [],
            "source": [
                "# specify the name of the path to the project folder where you created the RA2CE folder setup\n",
                "root_dir = Path(\"data\", \"base_network_gpkg\")\n",
                "assert root_dir.exists()"
            ]
        },
        {
            "cell_type": "code",
            "execution_count": null,
            "id": "7ba7f700",
            "metadata": {},
            "outputs": [],
            "source": [
                "_network_ini_name = \"network.ini\" # set the name for the network.ini settings file\n",
                "network_ini = root_dir / _network_ini_name #let RA2CE find the network.ini\n",
                "assert network_ini.is_file() # check whether the network.ini file exists"
            ]
        },
        {
            "attachments": {},
            "cell_type": "markdown",
            "id": "73d6f950",
            "metadata": {},
            "source": [
                "## Creating the network with RA2CE\n",
                "Initiate the RA2CE model through the Ra2ceHandler and configure (create) the network. Because we do not input the analysis.ini for now, we set that to *None*.\n",
                "\n",
                "*Beware, it may take a while!*"
            ]
        },
        {
            "cell_type": "code",
            "execution_count": null,
            "id": "0b11b371",
            "metadata": {
                "scrolled": true
            },
            "outputs": [],
            "source": [
                "handler = Ra2ceHandler(network=network_ini, analysis=None)\n",
                "handler.configure()"
            ]
        },
        {
            "attachments": {},
            "cell_type": "markdown",
            "id": "9d7c18d6",
            "metadata": {},
            "source": [
                "## Inspecting the resulting network\n",
                "Now, let's inspect the created network. Note: the road network is always saved in the static/output_graph folder.<br> \n",
                "\n",
                "First, we load the right geopackage. There are many geopackages created in the static / output_graph folder if you specify save_gpkg = True in the network.ini. These all represent some properties of the network. Let's inspect some of these.\n",
                "\n",
                "*Notice the different files in the output_graph folder. You can inspect them all and see what their differences are.* "
            ]
        },
        {
            "cell_type": "code",
            "execution_count": null,
            "id": "68fdce82",
            "metadata": {},
            "outputs": [],
            "source": [
                "# Set the path to your output_graph folder to find the network/graph creation:\n",
                "path_output_graph = root_dir / \"static\" / \"output_graph\""
            ]
        },
        {
            "cell_type": "code",
            "execution_count": null,
            "id": "546e31e6",
            "metadata": {},
            "outputs": [],
            "source": [
                "# Now we find and inspect the file 'base_graph_edges.gpkg' which holds the 'edges' of the network. \n",
                "# An edge (or link) of a network (or graph) represents a connection between two nodes (or vertices) of the network. More information on: https://mathinsight.org/definition/network_edge#:~:text=An%20edge%20(or%20link)%20of,in%20the%20first%20figure%20below.\n",
                "base_graph_edges = path_output_graph / \"base_network.gpkg\"\n",
                "edges_gdf = gpd.read_file(base_graph_edges, driver = \"GPKG\")\n",
                "edges_gdf.head()"
            ]
        },
        {
            "cell_type": "code",
            "execution_count": null,
            "id": "330f638d",
            "metadata": {},
            "outputs": [],
            "source": [
                "edges_gdf.explore(tiles=\"CartoDB positron\", popup = True)"
            ]
        },
        {
            "attachments": {},
            "cell_type": "markdown",
            "id": "60a4fd9f",
            "metadata": {},
            "source": [
                "*If you want to get a bit more advanced, use the 'Disconnected Islands' plugin in QGIS to check whether the road network is completely connected. If there are disconnected islands in the road network, this can impact more advanced RA2CE analyses (such as Origin-Destination analyses which are introduced in another example)*."
            ]
        },
        {
            "attachments": {},
            "cell_type": "markdown",
            "id": "09a5874d",
            "metadata": {},
            "source": [
                "Now we find and inspect the file 'base_graph_nodes.gpkg' which holds the 'nodes' of the network. A node is represents the beginning and end point of an edge and can connect to one or multiple edges. Together, the nodes and edges make up the graph/network."
            ]
        },
        {
            "cell_type": "code",
            "execution_count": null,
            "id": "92d10450",
            "metadata": {},
            "outputs": [],
            "source": [
                "base_graph_nodes = path_output_graph / \"base_graph_nodes.gpkg\" #specify where to find the nodes file\n",
                "nodes_gdf = gpd.read_file(base_graph_nodes, driver = \"GPKG\") #read in the nodes file\n",
                "\n",
                "#Plotting nodes and edges together\n",
                "fig, ax = plt.subplots(figsize=(15, 15))  # Set the figsize as desired\n",
                "\n",
                "# Set the edges as the base plot\n",
                "baseplot = edges_gdf.plot(ax=ax, color='grey')\n",
                "nodes_gdf.plot(ax=baseplot, color='blue', markersize=20)\n",
                "plt.show()\n"
            ]
        }
    ],
    "metadata": {
        "kernelspec": {
            "display_name": "ra2ce_env",
            "language": "python",
            "name": "python3"
        },
        "language_info": {
            "codemirror_mode": {
                "name": "ipython",
                "version": 3
            },
            "file_extension": ".py",
            "mimetype": "text/x-python",
            "name": "python",
            "nbconvert_exporter": "python",
            "pygments_lexer": "ipython3",
            "version": "3.10.13"
        }
    },
    "nbformat": 4,
    "nbformat_minor": 5
}
