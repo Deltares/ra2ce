{
 "cells": [
  {
   "cell_type": "markdown",
   "metadata": {},
   "source": [
    "# Convert floodmaps to WGS84"
   ]
  },
  {
   "cell_type": "code",
   "execution_count": null,
   "metadata": {},
   "outputs": [],
   "source": [
    "import os\n",
    "import gc\n",
    "import hydromt\n",
    "import xarray as xr\n",
    "\n",
    "\n",
    "# Input and output folder paths\n",
    "input_folder = r\"p:\\moonshot2-casestudy\\SFINCS\\models\\Quelimane\\floodmaps\"\n",
    "output_folder = r\"p:\\moonshot2-casestudy\\SFINCS\\models\\Quelimane\\floodmaps_wgs84\"\n",
    "\n",
    "# Get a list of all GeoTIFF files in the input folder\n",
    "input_files = [f for f in os.listdir(input_folder) if f.endswith('.tif')]\n",
    "\n",
    "# Iterate over each input GeoTIFF file\n",
    "for input_file in input_files:\n",
    "    # Input and output file paths\n",
    "    input_tiff = os.path.join(input_folder, input_file)\n",
    "    output_tiff = os.path.join(output_folder, input_file)\n",
    "\n",
    "    da = xr.open_dataarray(input_tiff)\n",
    "\n",
    "    da_wgs84 = da.raster.reproject(dst_crs=4326)\n",
    "\n",
    "    da_wgs84.raster.to_raster(\n",
    "        output_tiff,\n",
    "        driver='GTiff', \n",
    "        compress='lzw'\n",
    "        )\n",
    "    \n",
    "    # Clean up\n",
    "    del da, da_wgs84\n",
    "    gc.collect()"
   ]
  }
 ],
 "metadata": {
  "kernelspec": {
   "display_name": "hydromt-sfincs-dev",
   "language": "python",
   "name": "python3"
  },
  "language_info": {
   "codemirror_mode": {
    "name": "ipython",
    "version": 3
   },
   "file_extension": ".py",
   "mimetype": "text/x-python",
   "name": "python",
   "nbconvert_exporter": "python",
   "pygments_lexer": "ipython3",
   "version": "3.11.7"
  }
 },
 "nbformat": 4,
 "nbformat_minor": 2
}
